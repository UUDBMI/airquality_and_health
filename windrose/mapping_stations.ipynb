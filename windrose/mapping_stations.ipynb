{
 "cells": [
  {
   "cell_type": "code",
   "execution_count": null,
   "metadata": {},
   "outputs": [],
   "source": [
    "import mesowest\n",
    "import importlib\n",
    "from datetime import datetime\n",
    "import json\n",
    "import locale\n",
    "import numpy as np\n",
    "import folium\n",
    "\n",
    "\n",
    "from ipywidgets import interact, interactive, fixed, interact_manual\n",
    "import ipywidgets as widgets"
   ]
  },
  {
   "cell_type": "code",
   "execution_count": null,
   "metadata": {},
   "outputs": [],
   "source": [
    "importlib.reload(mesowest)"
   ]
  },
  {
   "cell_type": "code",
   "execution_count": null,
   "metadata": {},
   "outputs": [],
   "source": [
    "# Date range for data we are interested\n",
    "start = datetime(2016, 12, 1)\n",
    "end = datetime(2017, 3, 1)"
   ]
  },
  {
   "cell_type": "code",
   "execution_count": null,
   "metadata": {},
   "outputs": [],
   "source": [
    "# MesoWest station ID.\n",
    "stn = 'MTMET'\n",
    "\n",
    "data, url = mesowest.query(stn, start, end)"
   ]
  },
  {
   "cell_type": "code",
   "execution_count": null,
   "metadata": {},
   "outputs": [],
   "source": [
    "url"
   ]
  },
  {
   "cell_type": "code",
   "execution_count": null,
   "metadata": {},
   "outputs": [],
   "source": [
    "fo = mesowest.urlopen(\"\"\"https://api.synopticlabs.org/v2/stations/metadata?&token=demotoken&state=UT&vars=PM_25_concentration&status=active\"\"\")\n",
    "\n",
    "stations = json.loads(fo.read())\n",
    "fo.close()"
   ]
  },
  {
   "cell_type": "code",
   "execution_count": null,
   "metadata": {},
   "outputs": [],
   "source": [
    "type(stations)"
   ]
  },
  {
   "cell_type": "code",
   "execution_count": null,
   "metadata": {},
   "outputs": [],
   "source": [
    "stations.keys()"
   ]
  },
  {
   "cell_type": "code",
   "execution_count": null,
   "metadata": {},
   "outputs": [],
   "source": [
    "station_data = [(s['STID'],locale.atof(s['LATITUDE']),locale.atof(s['LONGITUDE'])) for s in stations['STATION']]"
   ]
  },
  {
   "cell_type": "code",
   "execution_count": null,
   "metadata": {},
   "outputs": [],
   "source": [
    "for s in stations['STATION']:\n",
    "    if s['STID'] == stn:\n",
    "        print(s[\"MNET_ID\"])\n",
    "        print(s[\"STID\"])\n",
    "        print(s[\"LONGITUDE\"], s[\"LATITUDE\"])\n",
    "        print(\"*\"*42)"
   ]
  },
  {
   "cell_type": "code",
   "execution_count": null,
   "metadata": {},
   "outputs": [],
   "source": [
    "stations['STATION'][0]"
   ]
  },
  {
   "cell_type": "code",
   "execution_count": null,
   "metadata": {
    "scrolled": false
   },
   "outputs": [],
   "source": [
    "\n",
    "map = folium.Map(location=[lat,lon], tiles=\"Stamen Terrain\", zoom_start=6.5)\n",
    "for s in station_data:\n",
    "    folium.Marker([s[1], s[2]],\n",
    "                  popup=s[0],\n",
    "                  icon=folium.Icon(icon='cloud')).add_to(map)\n",
    "map"
   ]
  },
  {
   "cell_type": "markdown",
   "metadata": {},
   "source": [
    "### Valid States\n",
    "\n",
    "CA, AZ, ID, CO, UT"
   ]
  },
  {
   "cell_type": "markdown",
   "metadata": {},
   "source": [
    "#### Why doesn't this work for UT?"
   ]
  },
  {
   "cell_type": "code",
   "execution_count": null,
   "metadata": {
    "scrolled": true
   },
   "outputs": [],
   "source": [
    "state = 'CO'\n",
    "fo = mesowest.urlopen(\"\"\"https://api.synopticlabs.org/v2/stations/metadata?&token=demotoken&state=%s&vars=PM_25_concentration&status=active\"\"\"%state)\n",
    "stations_ca = json.loads(fo.read())\n",
    "fo.close()\n",
    "\n",
    "ca_station_data = [(s['NAME'],locale.atof(s['LATITUDE']),locale.atof(s['LONGITUDE'])) for s in stations_ca['STATION']]\n",
    "lat = np.mean([s[1] for s in ca_station_data])\n",
    "lon = np.mean([s[2] for s in ca_station_data])\n",
    "ca_map = folium.Map(location=[lat,lon], tiles=\"Stamen Terrain\", zoom_start=6.5)\n",
    "for s in ca_station_data:\n",
    "    folium.Marker([s[1], s[2]],\n",
    "                  popup=s[0],\n",
    "                  icon=folium.Icon(icon='cloud')).add_to(ca_map)\n",
    "ca_map"
   ]
  },
  {
   "cell_type": "code",
   "execution_count": null,
   "metadata": {},
   "outputs": [],
   "source": [
    "lat, lon"
   ]
  },
  {
   "cell_type": "code",
   "execution_count": null,
   "metadata": {},
   "outputs": [],
   "source": [
    "ca_station_data"
   ]
  },
  {
   "cell_type": "code",
   "execution_count": null,
   "metadata": {},
   "outputs": [],
   "source": [
    "states = [\"AL\", \"AK\", \"AZ\", \"AR\", \"CA\", \"CO\", \"CT\", \"DC\", \"DE\", \"FL\", \"GA\", \n",
    "          \"HI\", \"ID\", \"IL\", \"IN\", \"IA\", \"KS\", \"KY\", \"LA\", \"ME\", \"MD\", \n",
    "          \"MA\", \"MI\", \"MN\", \"MS\", \"MO\", \"MT\", \"NE\", \"NV\", \"NH\", \"NJ\", \n",
    "          \"NM\", \"NY\", \"NC\", \"ND\", \"OH\", \"OK\", \"OR\", \"PA\", \"RI\", \"SC\", \n",
    "          \"SD\", \"TN\", \"TX\", \"UT\", \"VT\", \"VA\", \"WA\", \"WV\", \"WI\", \"WY\"]"
   ]
  }
 ],
 "metadata": {
  "kernelspec": {
   "display_name": "Python 3",
   "language": "python",
   "name": "python3"
  },
  "language_info": {
   "codemirror_mode": {
    "name": "ipython",
    "version": 3
   },
   "file_extension": ".py",
   "mimetype": "text/x-python",
   "name": "python",
   "nbconvert_exporter": "python",
   "pygments_lexer": "ipython3",
   "version": "3.6.5"
  }
 },
 "nbformat": 4,
 "nbformat_minor": 2
}
