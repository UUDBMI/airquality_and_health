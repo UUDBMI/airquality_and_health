{
 "cells": [
  {
   "cell_type": "markdown",
   "metadata": {
    "nbpresent": {
     "id": "2cda7929-0f14-4ce0-9bcf-4f6f13f94dd4"
    }
   },
   "source": [
    "# Python Windrose with MesoWest Data"
   ]
  },
  {
   "cell_type": "markdown",
   "metadata": {
    "nbpresent": {
     "id": "c93c03ea-513c-4531-aae0-d72b604dcaf7"
    }
   },
   "source": [
    "#### Introduction\n",
    "1. Who are we?\n",
    "    - http://meso1.chpc.utah.edu/mesowest_overview/\n",
    "2. Introduction to api services:\n",
    "    - What are the MesoWest/SynopticLabs api services?\n",
    "        - https://synopticlabs.org/api/\n",
    "    - How do you find out where particulate concentrations are measured in Utah?  \n",
    "        - https://api.synopticlabs.org/v2/stations/latest?&token=demotoken&state=UT&vars=PM_25_concentration\n",
    "        - http://meso2.chpc.utah.edu/aq/\n",
    "3. Learning objectives:\n",
    "    - Evaluate data from different sensor types.\n",
    "    - Use an api service to access data in real time and retrospectively.\n",
    "    - Visualize air quality data relative to wind conditions.\n",
    "\n",
    "We will use Python to view air quality data from the MesoWest API.\n",
    "\n",
    "But first...\n",
    "1. Install the [JSON Viewer](https://chrome.google.com/webstore/detail/json-viewer/aimiinbnnkboelefkjlenlgimcabobli) for your Chrome browser. This will help you look at JSON-formated data in your browser.\n",
    "2. Make sure you have `pm25rose.py` in the current directory. That package makes wind roses, you won't change anything in that file. (The original wind rose code is found [here](https://github.com/scls19fr/windrose))."
   ]
  },
  {
   "cell_type": "markdown",
   "metadata": {
    "nbpresent": {
     "id": "b6102de7-5952-4da0-8222-549af22fda6c"
    }
   },
   "source": [
    "### Import some stuff we'll use"
   ]
  },
  {
   "cell_type": "code",
   "execution_count": null,
   "metadata": {
    "nbpresent": {
     "id": "54c029e1-16fa-4571-8b9a-3096ea466359"
    }
   },
   "outputs": [],
   "source": [
    "%matplotlib inline\n",
    "\n",
    "import matplotlib as mpl\n",
    "import matplotlib.pyplot as plt\n",
    "import matplotlib.cm as cm\n",
    "import numpy as np\n",
    "from datetime import datetime\n",
    "import json\n",
    "from urllib.request import urlopen\n",
    "\n",
    "# Confirm that `pm25rose.py` is in your directory\n",
    "from pm25rose import WindroseAxes"
   ]
  },
  {
   "cell_type": "markdown",
   "metadata": {
    "nbpresent": {
     "id": "13dc3cfd-e97f-4d3b-bca9-b35b6b411755"
    }
   },
   "source": [
    " #### Customize matplotlib \n",
    " It's so much easier to modify matplotlib defaults like this rather than inline with the plot functions.  \n",
    " See more here [http://matplotlib.org/users/customizing.html](http://matplotlib.org/users/customizing.html)"
   ]
  },
  {
   "cell_type": "code",
   "execution_count": null,
   "metadata": {
    "nbpresent": {
     "id": "7f6a78ab-6670-472a-9fb4-12f8d6a6b354"
    }
   },
   "outputs": [],
   "source": [
    "mpl.rcParams['xtick.labelsize'] = 8\n",
    "mpl.rcParams['ytick.labelsize'] = 8\n",
    "mpl.rcParams['axes.labelsize'] = 10\n",
    "mpl.rcParams['legend.fontsize'] = 10\n",
    "mpl.rcParams['figure.figsize'] = [5, 10]\n",
    "mpl.rcParams['grid.linewidth'] = .25\n",
    "mpl.rcParams['savefig.bbox'] = 'tight'"
   ]
  },
  {
   "cell_type": "markdown",
   "metadata": {},
   "source": [
    "### Define a few functions"
   ]
  },
  {
   "cell_type": "markdown",
   "metadata": {},
   "source": [
    "First function will get MesoWest data and return a Python dictionary.\n",
    "\n",
    "Find a list of all available variables:\n",
    "https://synopticlabs.org/api/mesonet/variables/"
   ]
  },
  {
   "cell_type": "code",
   "execution_count": null,
   "metadata": {},
   "outputs": [],
   "source": [
    "default_vars = 'altimeter,pressure,sea_level_pressure,wind_direction,\\\n",
    "wind_speed,air_temp,relative_humidity,dew_point_temperature,wind_gust'\n",
    "\n",
    "def get_mesowest_ts(stationID, start_time, end_time, variables=default_vars):\n",
    "    \"\"\"\n",
    "    Get MesoWest Time Series data:\n",
    "    Makes a time series query from the MesoWest API for a single station.\n",
    "\n",
    "    Input:\n",
    "        stationID  : string of the station ID\n",
    "        start_time : datetime object of the start time in UTC\n",
    "        end_time   : datetime object of the end time in UTC\n",
    "        variables  : a string of variables available through the MesoWest API\n",
    "                     see https://synopticlabs.org/api/mesonet/variables/ for\n",
    "                     a list of variables.\n",
    "    Output:\n",
    "        A dictionary of the data.\n",
    "    \"\"\"\n",
    "\n",
    "    # Hey! You can get your own token! https://synopticlabs.org/api/guides/?getstarted\n",
    "    token = 'demotoken'\n",
    "    \n",
    "    # Convert the start and end time to the string format requried by the API\n",
    "    start = start_time.strftime(\"%Y%m%d%H%M\")\n",
    "    end = end_time.strftime(\"%Y%m%d%H%M\")\n",
    "    tz = 'utc'  # Timezone is hard coded for now. Could allow local time later.\n",
    "\n",
    "    # Build the API request URL\n",
    "    URL = 'http://api.mesowest.net/v2/stations/timeseries?&token=' + token \\\n",
    "        + '&stid=' + stationID \\\n",
    "        + '&start=' + start \\\n",
    "        + '&end=' + end \\\n",
    "        + '&vars=' + variables \\\n",
    "        + '&obtimezone=' + tz \\\n",
    "        + '&output=json'\n",
    "\n",
    "    print (\"Here is the URL you asked for:\", URL)\n",
    "        \n",
    "    # Open URL and read JSON content. Convert JSON string to some python\n",
    "    # readable format.\n",
    "    f = urlopen(URL)\n",
    "    data = f.read()\n",
    "    data = json.loads(data)\n",
    "\n",
    "    # Create a new dictionary to store the data in.\n",
    "    return_this = {}\n",
    "\n",
    "    # Get basic station information\n",
    "    return_this['URL'] = URL\n",
    "    return_this['NAME'] = str(data['STATION'][0]['NAME'])\n",
    "    return_this['STID'] = str(data['STATION'][0]['STID'])\n",
    "    return_this['LAT'] = float(data['STATION'][0]['LATITUDE'])\n",
    "    return_this['LON'] = float(data['STATION'][0]['LONGITUDE'])\n",
    "    return_this['ELEVATION'] = float(data['STATION'][0]['ELEVATION'])\n",
    "                               # Note: Elevation is in feet, NOT METERS!\n",
    "\n",
    "    # Dynamically create keys in the dictionary for each requested variable\n",
    "    for v in data['STATION'][0]['SENSOR_VARIABLES'].keys():\n",
    "        if v == 'date_time':\n",
    "            # Dates: Convert the strings to a python datetime object.\n",
    "            dates = data[\"STATION\"][0][\"OBSERVATIONS\"][\"date_time\"]\n",
    "            DATES = [datetime.strptime(x, '%Y-%m-%dT%H:%M:%SZ') for x in dates]\n",
    "            return_this['DATETIME'] = np.array(DATES)\n",
    "        else:\n",
    "            # v represents all the variables, but each variable may have\n",
    "            # more than one set.\n",
    "            # For now, just return the first set.\n",
    "            key_name = str(v)\n",
    "            set_num = 0\n",
    "\n",
    "            grab_this_set = str(list(data['STATION'][0]['SENSOR_VARIABLES']\\\n",
    "                                [key_name].keys())[set_num]) # This could be problematic. No guarantee of order\n",
    "\n",
    "            # Always grab the first set (either _1 or _1d)\n",
    "            # ! Should make exceptions to this rule for certain stations and certain\n",
    "            # ! variables (a project for another day :p).\n",
    "            if grab_this_set[-1] != '1' and grab_this_set[-1] != 'd':\n",
    "                grab_this_set = grab_this_set[0:-1]+'1'\n",
    "            if grab_this_set[-1] == 'd':\n",
    "                grab_this_set = grab_this_set[0:-2]+'1d'\n",
    "\n",
    "            variable_data = np.array(data['STATION'][0]['OBSERVATIONS']\\\n",
    "                                    [grab_this_set], dtype=np.float)\n",
    "            return_this[key_name] = variable_data\n",
    "\n",
    "    return return_this"
   ]
  },
  {
   "cell_type": "markdown",
   "metadata": {},
   "source": [
    "These two functions set up the windroses axes and legend"
   ]
  },
  {
   "cell_type": "code",
   "execution_count": null,
   "metadata": {
    "nbpresent": {
     "id": "487e1929-cc55-4008-8e5c-0c59c00b9520"
    }
   },
   "outputs": [],
   "source": [
    "# Make Rose\n",
    "#A quick way to create new windrose axes...\n",
    "def new_axes():\n",
    "    fig = plt.figure(facecolor='w', edgecolor='w')\n",
    "    rect = [0.1, 0.1, 0.8, 0.8]\n",
    "    ax = WindroseAxes(fig, rect, facecolor='w')\n",
    "    fig.add_axes(ax)\n",
    "    return ax\n",
    "#...and adjust the legend box\n",
    "def set_legend(ax):\n",
    "    l = ax.legend()\n",
    "    #plt.setp(l.get_texts())\n",
    "    plt.legend(loc='center left', bbox_to_anchor=(1.2, 0.5), prop={'size':10})"
   ]
  },
  {
   "cell_type": "markdown",
   "metadata": {},
   "source": [
    "----------"
   ]
  },
  {
   "cell_type": "markdown",
   "metadata": {},
   "source": [
    "## Ok, lets get some data"
   ]
  },
  {
   "cell_type": "code",
   "execution_count": null,
   "metadata": {
    "nbpresent": {
     "id": "42b63b0e-4510-4028-b86e-8e5f4164c70e"
    }
   },
   "outputs": [],
   "source": [
    "# Date range for data we are interested\n",
    "start = datetime(2016, 12, 1)\n",
    "end = datetime(2017, 3, 1)"
   ]
  },
  {
   "cell_type": "code",
   "execution_count": null,
   "metadata": {
    "nbpresent": {
     "id": "2bd4c016-2d34-485c-92cc-7570243e132d"
    }
   },
   "outputs": [],
   "source": [
    "# MesoWest station ID.\n",
    "stn = 'MTMET'"
   ]
  },
  {
   "cell_type": "markdown",
   "metadata": {},
   "source": [
    "Find other stations with PM 25 concentrations here:  \n",
    "https://api.synopticlabs.org/v2/stations/metadata?&token=demotoken&state=UT&vars=PM_25_concentration&status=active"
   ]
  },
  {
   "cell_type": "code",
   "execution_count": null,
   "metadata": {
    "nbpresent": {
     "id": "00e3e42f-f72b-458a-b6cf-72bd23ac58e8"
    }
   },
   "outputs": [],
   "source": [
    "# Get MesoWest Data\n",
    "air_data = get_mesowest_ts(stn, start, end, variables='wind_direction,PM_25_concentration')"
   ]
  },
  {
   "cell_type": "markdown",
   "metadata": {
    "collapsed": true,
    "nbpresent": {
     "id": "ed11e4ba-53c0-4742-8cc3-c3f78f8b5f5a"
    }
   },
   "source": [
    "### What is the variable `air_data`?"
   ]
  },
  {
   "cell_type": "code",
   "execution_count": null,
   "metadata": {
    "nbpresent": {
     "id": "bbe80eba-ccf3-45f3-83be-8f9dab98fa9f"
    }
   },
   "outputs": [],
   "source": [
    "air_data"
   ]
  },
  {
   "cell_type": "markdown",
   "metadata": {},
   "source": [
    "`air_data` is a dictionary. Each key is associated with a value or object.\n",
    "\n",
    "### What data are in the dictionary?"
   ]
  },
  {
   "cell_type": "code",
   "execution_count": null,
   "metadata": {
    "nbpresent": {
     "id": "f6dbf521-79d9-440a-ac14-39eb16fe14c8"
    }
   },
   "outputs": [],
   "source": [
    "air_data.keys()"
   ]
  },
  {
   "cell_type": "markdown",
   "metadata": {},
   "source": [
    "You can access the values or objects of each key like so..."
   ]
  },
  {
   "cell_type": "code",
   "execution_count": null,
   "metadata": {
    "nbpresent": {
     "id": "7ea6f765-245f-44cb-b1a6-ae15ab6b54bd"
    }
   },
   "outputs": [],
   "source": [
    "print (\"Station Name:\", air_data['NAME'])\n",
    "print (\"Number of Observations:\", len(air_data['DATETIME']))\n",
    "print (\"List of dates:\", air_data['DATETIME'])"
   ]
  },
  {
   "cell_type": "markdown",
   "metadata": {},
   "source": [
    "----------"
   ]
  },
  {
   "cell_type": "markdown",
   "metadata": {},
   "source": [
    "## Visualize the data\n",
    "Each datetime object in `a['DATETIME']` matches PM 2.5 concentrations in `a['PM_25_concentration']` and wind directions in `a['wind_direction']`.\n",
    "#### Plot a time series of PM 2.5 concentration for the time period"
   ]
  },
  {
   "cell_type": "code",
   "execution_count": null,
   "metadata": {},
   "outputs": [],
   "source": [
    "# Create a new figure\n",
    "plt.figure(figsize=[10,5])\n",
    "\n",
    "# Plot data lines\n",
    "plt.plot(air_data['DATETIME'], air_data['PM_25_concentration'],\n",
    "         color='dodgerblue',\n",
    "         label=\"PM 2.5\")\n",
    "plt.axhline(35,\n",
    "            linestyle = '--',\n",
    "            color='r',\n",
    "            label=\"EPA Standard\")\n",
    "\n",
    "# Add labels, etc.\n",
    "plt.legend()\n",
    "plt.ylabel(r'PM 2.5 Concentration ($\\mu$g m$\\mathregular{^{-3}}$)')\n",
    "plt.title('PM 2.5 Concentration at %s (%s)' % (air_data['NAME'], air_data['STID']))\n",
    "plt.xlim([air_data['DATETIME'][0], air_data['DATETIME'][-1]])\n",
    "plt.ylim([0, np.nanmax(air_data['PM_25_concentration']+5)])"
   ]
  },
  {
   "cell_type": "markdown",
   "metadata": {},
   "source": [
    "#### Plot a wind rose, to show how PM 2.5 is related to wind direction\n",
    "`ax.bar()` is a function that makes wind roses. It requires two inputs:  \n",
    "1. An array of wind directions.\n",
    "2. An array of some variable related to wind direction, in this case PM 2.5.\n",
    "\n",
    "The other inputs are not required, but allow us to custimize the figure."
   ]
  },
  {
   "cell_type": "code",
   "execution_count": null,
   "metadata": {
    "nbpresent": {
     "id": "98c3f10f-2ac4-485f-a42b-8e7ff213a1f6"
    }
   },
   "outputs": [],
   "source": [
    "# Make the wind rose\n",
    "ax = new_axes()\n",
    "ax.bar(air_data['wind_direction'], air_data['PM_25_concentration'],\n",
    "       nsector=16,\n",
    "       normed=True,      # displays a normalized wind rose, in percent instead of count.\n",
    "       bins=[0, 12.1, 35.5, 55.5, 150.5],\n",
    "       colors=('green', 'yellow', 'orange', 'red', 'purple'))\n",
    "\n",
    "\n",
    "\n",
    "# Create a legend\n",
    "set_legend(ax)\n",
    "plt.title(\"PM2.5 Rose %s \\n %s - %s\" % (air_data['NAME'], start.strftime('%d %b %Y'), end.strftime('%d %b %Y')))\n",
    "\n",
    "plt.grid(True)\n",
    "\n",
    "# Grid at 5% intervals\n",
    "plt.yticks(np.arange(5, 105, 5))\n",
    "ax.set_yticklabels(['5%', '10%', '15%', '20%', '25%', '30%', '35%', '40%'])\n",
    "\n",
    "# Change the plot range\n",
    "ax.set_rmax(np.max(np.sum(ax._info['table'], axis=0)))\n",
    "#ax.set_rmax(40)"
   ]
  },
  {
   "cell_type": "markdown",
   "metadata": {},
   "source": [
    "#### Questions ???\n",
    "- What does `ncestors` do? (Try increasing or decreasing it)\n",
    "- How can you change the color of each bin? [Find matplotlib named colors here](http://matplotlib.org/examples/color/named_colors.html)\n",
    "- How can you change the color range for each bin?\n",
    "- How can you change the number of bins?\n",
    "- What happens if you uncomment the last line `ax.set_rmax(40)`?\n",
    "\n",
    "Instead of using the `ax.bar()` function, try `ax.contour()`, `ax.contourf()`, `ax.box()`\n",
    "\n",
    "#### What does this data tell us?\n",
    "- Where do winds typically blow from? Why?\n",
    "- Do you know where MTMET station is?\n",
    "    - Can you find the latitude and longitude for MTMET and find it's location in Google maps?\n",
    "- From what direction did MTMET get the highest PM 2.5 pollution?\n",
    "- How does this compare to the same time period last year?"
   ]
  },
  {
   "cell_type": "markdown",
   "metadata": {},
   "source": [
    "--------"
   ]
  },
  {
   "cell_type": "markdown",
   "metadata": {
    "nbpresent": {
     "id": "d72224c5-b36c-484b-a2d4-00f4b0c6fa62"
    }
   },
   "source": [
    "#### What data is used to make this plot? What did the `ax.bar()` function do?"
   ]
  },
  {
   "cell_type": "code",
   "execution_count": null,
   "metadata": {
    "nbpresent": {
     "id": "062f24da-6c4e-4067-8cff-5207c7918319"
    }
   },
   "outputs": [],
   "source": [
    "# Values used to create the plot\n",
    "ax._info[\"table\"]"
   ]
  },
  {
   "cell_type": "markdown",
   "metadata": {},
   "source": [
    "#### Questions ???"
   ]
  },
  {
   "cell_type": "code",
   "execution_count": null,
   "metadata": {
    "nbpresent": {
     "id": "dea562d4-2bcf-41d6-bbf9-605a6083d7d1"
    }
   },
   "outputs": [],
   "source": [
    "print ('Why does it have this shape?', np.shape(ax._info[\"table\"]))\n",
    "print ('Why is the last item all zeros?')"
   ]
  },
  {
   "cell_type": "code",
   "execution_count": null,
   "metadata": {},
   "outputs": [],
   "source": [
    "print ('The total frequency in each direction:', np.sum(ax._info[\"table\"], axis=0))\n",
    "print ('Maximum freqency (what we set rmax to)', np.max(np.sum(ax._info[\"table\"], axis=0)))"
   ]
  },
  {
   "cell_type": "markdown",
   "metadata": {
    "nbpresent": {
     "id": "990d42b8-1dd4-4523-9c6d-5d5b043f8fe0"
    }
   },
   "source": [
    "----------------------"
   ]
  },
  {
   "cell_type": "markdown",
   "metadata": {},
   "source": [
    "## What if we only want a wind rose when PM 2.5 was high?"
   ]
  },
  {
   "cell_type": "code",
   "execution_count": null,
   "metadata": {},
   "outputs": [],
   "source": [
    "# Find where air_data['PM_25_concentration'] is high\n",
    "high_PM_idx = air_data['PM_25_concentration'] > 35.5\n",
    "\n",
    "# Note: You'll get a warning becuase there may be nans in the data"
   ]
  },
  {
   "cell_type": "code",
   "execution_count": null,
   "metadata": {},
   "outputs": [],
   "source": [
    "# What did we just do? This variable contains a True/False for every position\n",
    "high_PM_idx"
   ]
  },
  {
   "cell_type": "code",
   "execution_count": null,
   "metadata": {},
   "outputs": [],
   "source": [
    "# Only get the dates and data when high_PM_idx is true.\n",
    "direction_highPM = air_data['wind_direction'][high_PM_idx]\n",
    "PM25_highPM = air_data['PM_25_concentration'][high_PM_idx]\n",
    "\n",
    "# Create a new figure axis\n",
    "axH = new_axes()\n",
    "axH.bar(direction_highPM, PM25_highPM,\n",
    "            nsector=16,\n",
    "            normed=True,\n",
    "            bins=[0, 12.1, 35.5, 55.5, 150.5],\n",
    "            colors=('green', 'yellow', 'orange', 'red', 'purple'))\n",
    "\n",
    "# Create a legend\n",
    "set_legend(axH)\n",
    "plt.title(\"PM2.5 Rose %s \\n %s - %s\" % (a['NAME'], start.strftime('%d %b %Y'), end.strftime('%d %b %Y')))\n",
    "\n",
    "plt.grid(True)\n",
    "\n",
    "# Grid at 5% intervals\n",
    "plt.yticks(np.arange(5, 105, 5))\n",
    "axH.set_yticklabels(['5%', '10%', '15%', '20%', '25%', '30%', '35%', '40%'])\n",
    "\n",
    "# Change the plot range\n",
    "axH.set_rmax(np.max(np.sum(axH._info['table'], axis=0)))"
   ]
  },
  {
   "cell_type": "markdown",
   "metadata": {
    "collapsed": true
   },
   "source": [
    "---"
   ]
  },
  {
   "cell_type": "markdown",
   "metadata": {
    "nbpresent": {
     "id": "525fb5db-db9a-416b-b081-abf0f1d3760f"
    }
   },
   "source": [
    "### How would you make a wind rose for another variable?\n",
    "First, we need to get another variable from the MesoWest API. Lets try air temperature and wind speed."
   ]
  },
  {
   "cell_type": "code",
   "execution_count": null,
   "metadata": {},
   "outputs": [],
   "source": [
    "a1 = get_mesowest_ts(stn, start, end, variables='wind_direction,air_temp,wind_speed')"
   ]
  },
  {
   "cell_type": "code",
   "execution_count": null,
   "metadata": {},
   "outputs": [],
   "source": [
    "# These are the availalbe keys\n",
    "print (a1.keys())"
   ]
  },
  {
   "cell_type": "code",
   "execution_count": null,
   "metadata": {},
   "outputs": [],
   "source": [
    "# Make a wind rose for air temperature\n",
    "ax1 = new_axes()\n",
    "ax1.bar(a1['wind_direction'], a1['air_temp'],\n",
    "       nsector=16,\n",
    "       normed=True,\n",
    "       bins=range(-10,25,5),\n",
    "       cmap=cm.Spectral_r)    # For a lit of other colormap options type: dir(cm)\n",
    "\n",
    "# Add a legend and title\n",
    "set_legend(ax1)\n",
    "plt.title(\"Temperature Rose %s \\n %s - %s\" % (a1['NAME'], start.strftime('%d %b %Y'), end.strftime('%d %b %Y')))\n",
    "\n",
    "# Add the grid lines\n",
    "plt.grid(True)\n",
    "\n",
    "# Grid at 5% intervals, between 5 and 100\n",
    "plt.yticks(np.arange(5, 105, 5))\n",
    "\n",
    "# Label each grid with a % sign\n",
    "ax1.set_yticklabels(['5%', '10%', '15%', '20%', '25%', '30%', '35%', '40%'])\n",
    "\n",
    "# Change the plot range\n",
    "#ax.set_rmax(25)\n",
    "ax1.set_rmax(np.max(np.sum(ax1._info['table'], axis=0)))"
   ]
  },
  {
   "cell_type": "markdown",
   "metadata": {},
   "source": [
    "#### Question ???\n",
    "- Can you tell where the wind typically blows at night, when it's cold?\n",
    "- Can you make a rose for another time of year? Another station?"
   ]
  },
  {
   "cell_type": "markdown",
   "metadata": {},
   "source": [
    "#### Wind Rose, in m/s"
   ]
  },
  {
   "cell_type": "code",
   "execution_count": null,
   "metadata": {
    "scrolled": true
   },
   "outputs": [],
   "source": [
    "ax2 = new_axes()\n",
    "ax2.bar(a1['wind_direction'], a1['wind_speed'],\n",
    "       nsector=16,\n",
    "       normed=True,\n",
    "       bins=range(0,10))\n",
    "set_legend(ax2)\n",
    "ax2.set_title('Wind Rose: bar')"
   ]
  },
  {
   "cell_type": "code",
   "execution_count": null,
   "metadata": {
    "scrolled": true
   },
   "outputs": [],
   "source": [
    "ax3 = new_axes()\n",
    "ax3.contourf(a1['wind_direction'], a1['wind_speed'],\n",
    "             nsector=180,\n",
    "             normed=True,\n",
    "             bins=range(0,8),\n",
    "             cmap=cm.inferno_r)\n",
    "ax3.set_title('Wind Rose: contourf')\n",
    "set_legend(ax3)"
   ]
  },
  {
   "cell_type": "code",
   "execution_count": null,
   "metadata": {},
   "outputs": [],
   "source": []
  },
  {
   "cell_type": "code",
   "execution_count": null,
   "metadata": {},
   "outputs": [],
   "source": []
  }
 ],
 "metadata": {
  "anaconda-cloud": {},
  "kernelspec": {
   "display_name": "Python 3",
   "language": "python",
   "name": "python3"
  },
  "language_info": {
   "codemirror_mode": {
    "name": "ipython",
    "version": 3
   },
   "file_extension": ".py",
   "mimetype": "text/x-python",
   "name": "python",
   "nbconvert_exporter": "python",
   "pygments_lexer": "ipython3",
   "version": "3.6.5"
  }
 },
 "nbformat": 4,
 "nbformat_minor": 2
}
