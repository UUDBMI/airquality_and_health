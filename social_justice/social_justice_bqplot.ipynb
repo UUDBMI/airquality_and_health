{
 "cells": [
  {
   "cell_type": "markdown",
   "metadata": {},
   "source": [
    "# Air Quality and Social Justice\n",
    "\n",
    "In this notebook we explore the relationship between air quality (pm25 and ozone) and income and elevation. This will allow us to explore questions related to social justice, such as is air pollution exposure equally distributed across different socio-economic groups."
   ]
  },
  {
   "cell_type": "markdown",
   "metadata": {},
   "source": [
    "#### Tell our plotting routines to draw the graphics in our web browser"
   ]
  },
  {
   "cell_type": "code",
   "execution_count": 1,
   "metadata": {},
   "outputs": [],
   "source": [
    "%matplotlib inline"
   ]
  },
  {
   "cell_type": "markdown",
   "metadata": {},
   "source": [
    "### Import packages that we are going to use\n",
    "#### These include\n",
    "\n",
    "* [Pandas](http://pandas.pydata.org/index.html): A package for reading and manipulating tabular data.\n",
    "* [Seaborn](http://seaborn.pydata.org/index.html): Seaborn is a plotting package that provides \"nice\" pre-defined plots for a variety of common graph types.\n",
    "* [statsmodels](http://www.statsmodels.org/stable/): This package provides a number of common statistical functions for analysing data.\n"
   ]
  },
  {
   "cell_type": "code",
   "execution_count": 2,
   "metadata": {},
   "outputs": [],
   "source": [
    "from bqplot import pyplot\n",
    "#from bqplot import topo_load\n",
    "#from bqplot.interacts import panzoom\n",
    "import bqplot as bq\n",
    "\n",
    "import pandas as pd\n",
    "#import seaborn as sns\n",
    "import statsmodels\n",
    "import statsmodels.formula.api as smf\n",
    "import patsy\n",
    "import os\n",
    "#import matplotlib.pyplot as plt"
   ]
  },
  {
   "cell_type": "markdown",
   "metadata": {},
   "source": [
    "#### Tell our program where our data are located"
   ]
  },
  {
   "cell_type": "code",
   "execution_count": 3,
   "metadata": {},
   "outputs": [],
   "source": [
    "DATADIR = \"/home/anniebowles/DATA/AirQuality/\""
   ]
  },
  {
   "cell_type": "code",
   "execution_count": 4,
   "metadata": {},
   "outputs": [
    {
     "data": {
      "text/plain": [
       "['Class_PM25_Data.csv', 'Class_Ozone_Data.csv']"
      ]
     },
     "execution_count": 4,
     "metadata": {},
     "output_type": "execute_result"
    }
   ],
   "source": [
    "os.listdir(DATADIR)"
   ]
  },
  {
   "cell_type": "markdown",
   "metadata": {},
   "source": [
    "### What are these data\n",
    "\n",
    "In our data directory we have two **csv** files. csv stands for **C**omma **S**eparated **V**alues. For different regions in the Salt Lake valley (zip code), we have computed the average\n",
    "\n",
    "1. Income\n",
    "1. Elevation\n",
    "1. pm25 levels for March 8, 2016\n",
    "1. ozone levels at 10:00 am and 3:00 PM from August 2016.\n",
    "\n",
    "These files have been created by Dr. Daniel L. Mendoza at the University of Utah."
   ]
  },
  {
   "cell_type": "markdown",
   "metadata": {},
   "source": [
    "## Use Pandas to read in the data\n",
    "\n",
    "Pandas reads the data into a Pandas **dataframe** which we assing to the variable ``pm25``. Dataframes have two methods for looking at the data ``head()`` and ``tail()``"
   ]
  },
  {
   "cell_type": "code",
   "execution_count": 5,
   "metadata": {},
   "outputs": [
    {
     "data": {
      "text/plain": [
       "(   Block_Group_ID   Income    Elevation  PM25_MAR_8\n",
       " 0    4.903510e+11  43646.0  1307.687012    3.651442\n",
       " 1    4.903510e+11  35775.0  1296.852051    3.840161\n",
       " 2    4.903510e+11  38281.0  1289.720459    3.957534\n",
       " 3    4.903510e+11  64091.0  1301.926758    3.945700\n",
       " 4    4.903510e+11  37083.0  1296.852051    3.648757,\n",
       "     Block_Group_ID   Income    Elevation  PM25_MAR_8\n",
       " 60    4.903510e+11  69188.0  1321.630859    4.409883\n",
       " 61    4.903510e+11  69493.0  1312.114014    3.989309\n",
       " 62    4.903510e+11  92551.0  1557.853394    1.537066\n",
       " 63    4.903510e+11  60817.0  1552.666016    2.252555\n",
       " 64    4.903600e+11      NaN  1275.227905    3.717521)"
      ]
     },
     "execution_count": 5,
     "metadata": {},
     "output_type": "execute_result"
    }
   ],
   "source": [
    "pm25 = pd.read_csv(os.path.join(DATADIR, \"Class_PM25_Data.csv\"))\n",
    "pm25.head(), pm25.tail()"
   ]
  },
  {
   "cell_type": "markdown",
   "metadata": {},
   "source": [
    "#### Notice the ``NaN`` value for Income in our last data row\n",
    "\n",
    "Pandas uses ``NaN`` (Not a number) to represent missing values. That is our data file did not have an income value for the last row. There are a variety of approaches for dealing with missing data, but we are just going to drop that value using the Pandas dataframe ``dropna`` method.\n",
    "\n"
   ]
  },
  {
   "cell_type": "code",
   "execution_count": 6,
   "metadata": {},
   "outputs": [
    {
     "data": {
      "text/html": [
       "<div>\n",
       "<table border=\"1\" class=\"dataframe\">\n",
       "  <thead>\n",
       "    <tr style=\"text-align: right;\">\n",
       "      <th></th>\n",
       "      <th>Block_Group_ID</th>\n",
       "      <th>Income</th>\n",
       "      <th>Elevation</th>\n",
       "      <th>PM25_MAR_8</th>\n",
       "    </tr>\n",
       "  </thead>\n",
       "  <tbody>\n",
       "    <tr>\n",
       "      <th>59</th>\n",
       "      <td>4.903510e+11</td>\n",
       "      <td>35375.0</td>\n",
       "      <td>1305.029541</td>\n",
       "      <td>3.595146</td>\n",
       "    </tr>\n",
       "    <tr>\n",
       "      <th>60</th>\n",
       "      <td>4.903510e+11</td>\n",
       "      <td>69188.0</td>\n",
       "      <td>1321.630859</td>\n",
       "      <td>4.409883</td>\n",
       "    </tr>\n",
       "    <tr>\n",
       "      <th>61</th>\n",
       "      <td>4.903510e+11</td>\n",
       "      <td>69493.0</td>\n",
       "      <td>1312.114014</td>\n",
       "      <td>3.989309</td>\n",
       "    </tr>\n",
       "    <tr>\n",
       "      <th>62</th>\n",
       "      <td>4.903510e+11</td>\n",
       "      <td>92551.0</td>\n",
       "      <td>1557.853394</td>\n",
       "      <td>1.537066</td>\n",
       "    </tr>\n",
       "    <tr>\n",
       "      <th>63</th>\n",
       "      <td>4.903510e+11</td>\n",
       "      <td>60817.0</td>\n",
       "      <td>1552.666016</td>\n",
       "      <td>2.252555</td>\n",
       "    </tr>\n",
       "  </tbody>\n",
       "</table>\n",
       "</div>"
      ],
      "text/plain": [
       "    Block_Group_ID   Income    Elevation  PM25_MAR_8\n",
       "59    4.903510e+11  35375.0  1305.029541    3.595146\n",
       "60    4.903510e+11  69188.0  1321.630859    4.409883\n",
       "61    4.903510e+11  69493.0  1312.114014    3.989309\n",
       "62    4.903510e+11  92551.0  1557.853394    1.537066\n",
       "63    4.903510e+11  60817.0  1552.666016    2.252555"
      ]
     },
     "execution_count": 6,
     "metadata": {},
     "output_type": "execute_result"
    }
   ],
   "source": [
    "pm25 = pm25.dropna()\n",
    "pm25.tail()"
   ]
  },
  {
   "cell_type": "markdown",
   "metadata": {},
   "source": [
    "### Now Let's Repeat this with the Ozone Data"
   ]
  },
  {
   "cell_type": "code",
   "execution_count": 7,
   "metadata": {},
   "outputs": [
    {
     "data": {
      "text/html": [
       "<div>\n",
       "<table border=\"1\" class=\"dataframe\">\n",
       "  <thead>\n",
       "    <tr style=\"text-align: right;\">\n",
       "      <th></th>\n",
       "      <th>Block_Group_ID</th>\n",
       "      <th>Income</th>\n",
       "      <th>Elevation</th>\n",
       "      <th>Ozone_AUG_10</th>\n",
       "      <th>Ozone_AUG_15</th>\n",
       "    </tr>\n",
       "  </thead>\n",
       "  <tbody>\n",
       "    <tr>\n",
       "      <th>60</th>\n",
       "      <td>490351142001</td>\n",
       "      <td>69188.0</td>\n",
       "      <td>1321.630859</td>\n",
       "      <td>30.320732</td>\n",
       "      <td>57.617152</td>\n",
       "    </tr>\n",
       "    <tr>\n",
       "      <th>61</th>\n",
       "      <td>490351142002</td>\n",
       "      <td>69493.0</td>\n",
       "      <td>1312.114014</td>\n",
       "      <td>31.675820</td>\n",
       "      <td>59.208955</td>\n",
       "    </tr>\n",
       "    <tr>\n",
       "      <th>62</th>\n",
       "      <td>490351152091</td>\n",
       "      <td>92551.0</td>\n",
       "      <td>1557.853394</td>\n",
       "      <td>36.326890</td>\n",
       "      <td>58.199097</td>\n",
       "    </tr>\n",
       "    <tr>\n",
       "      <th>63</th>\n",
       "      <td>490351152092</td>\n",
       "      <td>60817.0</td>\n",
       "      <td>1552.666016</td>\n",
       "      <td>36.182543</td>\n",
       "      <td>57.752619</td>\n",
       "    </tr>\n",
       "    <tr>\n",
       "      <th>64</th>\n",
       "      <td>490359800001</td>\n",
       "      <td>NaN</td>\n",
       "      <td>1275.227905</td>\n",
       "      <td>34.025492</td>\n",
       "      <td>56.458415</td>\n",
       "    </tr>\n",
       "  </tbody>\n",
       "</table>\n",
       "</div>"
      ],
      "text/plain": [
       "    Block_Group_ID   Income    Elevation  Ozone_AUG_10  Ozone_AUG_15\n",
       "60    490351142001  69188.0  1321.630859     30.320732     57.617152\n",
       "61    490351142002  69493.0  1312.114014     31.675820     59.208955\n",
       "62    490351152091  92551.0  1557.853394     36.326890     58.199097\n",
       "63    490351152092  60817.0  1552.666016     36.182543     57.752619\n",
       "64    490359800001      NaN  1275.227905     34.025492     56.458415"
      ]
     },
     "execution_count": 7,
     "metadata": {},
     "output_type": "execute_result"
    }
   ],
   "source": [
    "ozone = pd.read_csv(os.path.join(DATADIR, \"Class_Ozone_Data.csv\"))\n",
    "ozone.tail()"
   ]
  },
  {
   "cell_type": "code",
   "execution_count": 8,
   "metadata": {},
   "outputs": [],
   "source": [
    "ozone = ozone.dropna()"
   ]
  },
  {
   "cell_type": "markdown",
   "metadata": {},
   "source": [
    "## Let's plot some of our data\n",
    "\n",
    "In our introduction to Python we plotted using Pandas directly. When we explored the relationship of wind and air pollution, we used [matplotlib]() to plot. In this notebook we are going to explore using [Seaborn](http://seaborn.pydata.org/index.html) to plot data.\n",
    "\n",
    "Our first plot is going to be to look at a [histogram](https://en.wikipedia.org/wiki/Histogram) of our particle measurements.\n",
    "\n",
    "Seaborn has several options for plotting histograms. We are going to use the ``distplot()`` function. \n",
    "\n",
    "* What happens when you change ```kde``` from False to True?"
   ]
  },
  {
   "cell_type": "code",
   "execution_count": 9,
   "metadata": {
    "scrolled": false
   },
   "outputs": [
    {
     "ename": "NameError",
     "evalue": "name 'LinearScale' is not defined",
     "output_type": "error",
     "traceback": [
      "\u001b[0;31m---------------------------------------------------------------------------\u001b[0m",
      "\u001b[0;31mNameError\u001b[0m                                 Traceback (most recent call last)",
      "\u001b[0;32m<ipython-input-9-2ca75758f98c>\u001b[0m in \u001b[0;36m<module>\u001b[0;34m()\u001b[0m\n\u001b[1;32m      1\u001b[0m \u001b[0;31m#static\u001b[0m\u001b[0;34m\u001b[0m\u001b[0;34m\u001b[0m\u001b[0m\n\u001b[0;32m----> 2\u001b[0;31m \u001b[0mscale_x\u001b[0m \u001b[0;34m=\u001b[0m \u001b[0mLinearScale\u001b[0m\u001b[0;34m(\u001b[0m\u001b[0;34m)\u001b[0m\u001b[0;34m\u001b[0m\u001b[0m\n\u001b[0m\u001b[1;32m      3\u001b[0m \u001b[0mscale_y\u001b[0m \u001b[0;34m=\u001b[0m \u001b[0mLinearScale\u001b[0m\u001b[0;34m(\u001b[0m\u001b[0;34m)\u001b[0m\u001b[0;34m\u001b[0m\u001b[0m\n\u001b[1;32m      4\u001b[0m \u001b[0;34m\u001b[0m\u001b[0m\n\u001b[1;32m      5\u001b[0m \u001b[0mhist\u001b[0m \u001b[0;34m=\u001b[0m \u001b[0mHist\u001b[0m\u001b[0;34m(\u001b[0m\u001b[0msample\u001b[0m\u001b[0;34m=\u001b[0m\u001b[0mpm25\u001b[0m\u001b[0;34m[\u001b[0m\u001b[0;34m\"PM25_MAR_8\"\u001b[0m\u001b[0;34m]\u001b[0m\u001b[0;34m,\u001b[0m \u001b[0mscales\u001b[0m\u001b[0;34m=\u001b[0m\u001b[0;34m{\u001b[0m\u001b[0;34m'sample'\u001b[0m\u001b[0;34m:\u001b[0m \u001b[0mscale_x\u001b[0m\u001b[0;34m,\u001b[0m \u001b[0;34m'count'\u001b[0m\u001b[0;34m:\u001b[0m \u001b[0mscale_y\u001b[0m\u001b[0;34m}\u001b[0m\u001b[0;34m)\u001b[0m\u001b[0;34m\u001b[0m\u001b[0m\n",
      "\u001b[0;31mNameError\u001b[0m: name 'LinearScale' is not defined"
     ]
    }
   ],
   "source": [
    "#static\n",
    "scale_x = LinearScale()\n",
    "scale_y = LinearScale()\n",
    "\n",
    "hist = Hist(sample=pm25[\"PM25_MAR_8\"], scales={'sample': scale_x, 'count': scale_y})\n",
    "\n",
    "ax_x = Axis(label='X', scale=scale_x, tick_format='0.2f')\n",
    "ax_y = Axis(label='Y', scale=scale_y, orientation='vertical', grid_lines='solid')\n",
    "Figure(axes=[ax_x, ax_y], marks=[hist])"
   ]
  },
  {
   "cell_type": "code",
   "execution_count": 10,
   "metadata": {},
   "outputs": [
    {
     "ename": "AttributeError",
     "evalue": "module 'bqplot' has no attribute 'pyplot'",
     "output_type": "error",
     "traceback": [
      "\u001b[0;31m---------------------------------------------------------------------------\u001b[0m",
      "\u001b[0;31mAttributeError\u001b[0m                            Traceback (most recent call last)",
      "\u001b[0;32m<ipython-input-10-71bd51d4b6ec>\u001b[0m in \u001b[0;36m<module>\u001b[0;34m()\u001b[0m\n\u001b[1;32m      1\u001b[0m \u001b[0;31m#interactive\u001b[0m\u001b[0;34m\u001b[0m\u001b[0;34m\u001b[0m\u001b[0m\n\u001b[0;32m----> 2\u001b[0;31m \u001b[0mbq\u001b[0m\u001b[0;34m.\u001b[0m\u001b[0mpyplot\u001b[0m\u001b[0;34m.\u001b[0m\u001b[0mfigure\u001b[0m\u001b[0;34m(\u001b[0m\u001b[0;34m)\u001b[0m\u001b[0;34m\u001b[0m\u001b[0m\n\u001b[0m\u001b[1;32m      3\u001b[0m \u001b[0mbq\u001b[0m\u001b[0;34m.\u001b[0m\u001b[0mpyplot\u001b[0m\u001b[0;34m.\u001b[0m\u001b[0mhist\u001b[0m\u001b[0;34m(\u001b[0m\u001b[0mpm25\u001b[0m\u001b[0;34m[\u001b[0m\u001b[0;34m\"PM25_MAR_8\"\u001b[0m\u001b[0;34m]\u001b[0m\u001b[0;34m,\u001b[0m \u001b[0mcolors\u001b[0m\u001b[0;34m=\u001b[0m\u001b[0;34m[\u001b[0m\u001b[0;34m'OrangeRed'\u001b[0m\u001b[0;34m]\u001b[0m\u001b[0;34m)\u001b[0m\u001b[0;34m\u001b[0m\u001b[0m\n\u001b[1;32m      4\u001b[0m \u001b[0mbq\u001b[0m\u001b[0;34m.\u001b[0m\u001b[0mpyplot\u001b[0m\u001b[0;34m.\u001b[0m\u001b[0mxlabel\u001b[0m\u001b[0;34m(\u001b[0m\u001b[0;34m\"PM25\"\u001b[0m\u001b[0;34m)\u001b[0m\u001b[0;34m\u001b[0m\u001b[0m\n\u001b[1;32m      5\u001b[0m \u001b[0mbq\u001b[0m\u001b[0;34m.\u001b[0m\u001b[0mpyplot\u001b[0m\u001b[0;34m.\u001b[0m\u001b[0mylabel\u001b[0m\u001b[0;34m(\u001b[0m\u001b[0;34m\"Proportion\"\u001b[0m\u001b[0;34m)\u001b[0m\u001b[0;34m\u001b[0m\u001b[0m\n",
      "\u001b[0;31mAttributeError\u001b[0m: module 'bqplot' has no attribute 'pyplot'"
     ]
    }
   ],
   "source": [
    "#interactive\n",
    "bq.pyplot.figure()\n",
    "bq.pyplot.hist(pm25[\"PM25_MAR_8\"], colors=['OrangeRed'])\n",
    "bq.pyplot.xlabel(\"PM25\")\n",
    "bq.pyplot.ylabel(\"Proportion\")\n",
    "bq.pyplot.show()"
   ]
  },
  {
   "cell_type": "markdown",
   "metadata": {},
   "source": [
    "``jointplot`` has a number of options that determine what kind of joint plot to generate. The default is \"scatter\" but you can use any of the following:\n",
    "\n",
    "* \"scatter\"\n",
    "* \"reg\"\n",
    "* \"resid\"\n",
    "* \"kde\"\n",
    "* \"hex\"\n",
    "\n",
    "You can also change which color you want to plot."
   ]
  },
  {
   "cell_type": "code",
   "execution_count": null,
   "metadata": {},
   "outputs": [],
   "source": [
    "sns.jointplot(x=\"Income\", y=\"PM25_MAR_8\", data=pm25, kind=\"reg\",\n",
    "             color='purple');"
   ]
  },
  {
   "cell_type": "markdown",
   "metadata": {},
   "source": [
    "### We can see that there is a reasonable linear relationship between polution and income\n",
    "#### Let's quantify this\n",
    "\n",
    "We will use ``statsmodels`` to do [ordinary least squares regression](https://en.wikipedia.org/wiki/Ordinary_least_squares).\n",
    "\n",
    "```Python\n",
    "mod = smf.ols(formula='PM25_MAR_8 ~ Income', data=pm25)\n",
    "```\n",
    "\n",
    "* Use Patsy to specify what our regressions is. This formula is stating a linear relationship between ``PM25_MAR_8`` to ``Income``.\n",
    "\n",
    "```Python\n",
    "'PM25_MAR_8 ~ Income'\n",
    "```\n",
    "```Python\n",
    "data=pm25\n",
    "```\n",
    "\n",
    "* Use the ``pm25`` dataframe\n",
    "* ``mod.fit()`` fits the model to the data\n",
    "* ```print(res.summary())``` provides a detailed report on how well the model fit the data."
   ]
  },
  {
   "cell_type": "code",
   "execution_count": null,
   "metadata": {},
   "outputs": [],
   "source": [
    "mod = smf.ols(formula='PM25_MAR_8 ~ Income', data=pm25)\n",
    "res = mod.fit()\n",
    "res.summary()"
   ]
  },
  {
   "cell_type": "markdown",
   "metadata": {},
   "source": [
    "### This is a lot of information. What are the key points?\n",
    "\n",
    "#### Let's start by looking at our overall model.\n",
    "\n",
    "* **Prob (F-statistic):**           8.48e-10 ($8.48e^{-10}$). \n",
    "    * This is the probability that the linear relationship between our variables is purely due to chance.\n",
    "* **R-squared:**                       0.458\n",
    "    * This is the proportion of the variability in our data that is explained by our model.\n",
    "* **Cond. No.**                     1.22e+05 ($1.22e^{05}$)\n",
    "    * A large condition number indicates numeric problems with our model/data and mean the results are less reliable.\n",
    "\n",
    "#### Now let's look at our ``Income`` variable\n",
    "\n",
    "* **coef**=-3.74e-05 ($-3.74e^{-05}$). This is the slope of the line. The slope is negative, meaning as income **increases** air pollution **decreases.**\n",
    "* **P**=0.000. This is the \"p-value\" and describes the probability that the linear relationship is just random chance.\n"
   ]
  },
  {
   "cell_type": "markdown",
   "metadata": {},
   "source": [
    "## Let's repeat this for the relationship between ``Income`` and ``Elevation``"
   ]
  },
  {
   "cell_type": "code",
   "execution_count": null,
   "metadata": {},
   "outputs": [],
   "source": [
    "sns.jointplot(y=\"Income\", x=\"Elevation\", data=pm25, kind=\"reg\",\n",
    "             color='purple');"
   ]
  },
  {
   "cell_type": "code",
   "execution_count": null,
   "metadata": {},
   "outputs": [],
   "source": [
    "x_sc = LinearScale()\n",
    "y_sc = LinearScale()\n",
    "\n",
    "x_data = pm25[\"Elevation\"]\n",
    "y_data = pm25[\"Income\"]\n",
    "\n",
    "def_tt = Tooltip(fields=['x', 'y'], formats=['', '.2f'])\n",
    "\n",
    "scatter_chart = Scatter(x=x_data, y=y_data, scales= {'x': x_sc, 'y': y_sc}, colors=['dodgerblue'],\n",
    "                        tooltip=def_tt, unhovered_style={'opacity': 0.5})\n",
    "ax_x = Axis(label='Elevation',scale=x_sc)\n",
    "ax_y = Axis(label='Income',scale=y_sc, orientation='vertical', tick_format='0.2f')\n",
    "\n",
    "Figure(marks=[scatter_chart], axes=[ax_x, ax_y])"
   ]
  },
  {
   "cell_type": "code",
   "execution_count": null,
   "metadata": {},
   "outputs": [],
   "source": [
    "sc_x = LinearScale()\n",
    "sc_y = LinearScale()\n",
    "\n",
    "x_data = pm25[\"Elevation\"]\n",
    "y_data = pm25[\"Income\"]\n",
    "\n",
    "scat = Scatter(x=x_data, y=y_data, scales={'x': sc_x, 'y': sc_y}, colors=['orange'],\n",
    "               enable_move=True)\n",
    "lin = Lines(x=[], y=[], scales={'x': sc_x, 'y': sc_y}, line_style='dotted', colors=['orange'])\n",
    "\n",
    "def update_line(change=None):\n",
    "    with lin.hold_sync():\n",
    "        lin.x = [np.min(scat.x), np.max(scat.x)]\n",
    "        lin.y = [np.mean(scat.y), np.mean(scat.y)]\n",
    "\n",
    "update_line()\n",
    "# update line on change of x or y of scatter\n",
    "scat.observe(update_line, names=['x'])\n",
    "scat.observe(update_line, names=['y'])\n",
    "\n",
    "ax_x = Axis(scale=sc_x)\n",
    "ax_y = Axis(scale=sc_y, tick_format='0.2f', orientation='vertical')\n",
    "\n",
    "Figure(marks=[scat, lin], axes=[ax_x, ax_y])"
   ]
  },
  {
   "cell_type": "markdown",
   "metadata": {},
   "source": [
    "### The relationship between ``Income`` and ``Elevation`` is strong\n",
    "### Now let us use ``Elevation`` to predict ``PM25_MAR_8``"
   ]
  },
  {
   "cell_type": "code",
   "execution_count": null,
   "metadata": {},
   "outputs": [],
   "source": [
    "mod = smf.ols(formula='PM25_MAR_8 ~ Elevation', data=pm25)\n",
    "res = mod.fit()\n",
    "res.summary()"
   ]
  },
  {
   "cell_type": "markdown",
   "metadata": {},
   "source": [
    "### Can we build a model that uses *both* ``Elevation`` and ``Income`` to"
   ]
  },
  {
   "cell_type": "code",
   "execution_count": null,
   "metadata": {
    "scrolled": false
   },
   "outputs": [],
   "source": [
    "mod = smf.ols(formula='PM25_MAR_8 ~ Elevation + Income + Elevation:Income', data=pm25)\n",
    "res = mod.fit()\n",
    "res.summary()"
   ]
  },
  {
   "cell_type": "markdown",
   "metadata": {},
   "source": [
    "### What happens when we include both predictors?"
   ]
  },
  {
   "cell_type": "markdown",
   "metadata": {},
   "source": [
    "# Now let's look at Ozone\n",
    "\n",
    "![Ozone](https://upload.wikimedia.org/wikipedia/commons/thumb/2/28/Ozone_cycle.svg/1280px-Ozone_cycle.svg.png)"
   ]
  },
  {
   "cell_type": "markdown",
   "metadata": {},
   "source": [
    "## We have ozone measurements at two times: 10:00 AM and 3:00 PM (15:00)\n",
    "\n",
    "#### How are these measurements different? (use ``distplot()`` to explore the histograms)\n",
    "#### What do you think might account for these differences?"
   ]
  },
  {
   "cell_type": "code",
   "execution_count": null,
   "metadata": {},
   "outputs": [],
   "source": [
    "fig2, ax2 = plt.subplots(1)\n",
    "sns.distplot(ozone[\"Ozone_AUG_10\"], ax=ax2, label=\"10:00\")\n",
    "sns.distplot(ozone[\"Ozone_AUG_15\"], ax=ax2, color='r', label=\"15:00\")\n",
    "ax2.set_xlabel(\"Ozone Density\")\n",
    "ax2.legend()"
   ]
  },
  {
   "cell_type": "markdown",
   "metadata": {},
   "source": [
    "## Ozone vs pm25\n",
    "\n",
    "#### Using the same plotting and statistical functions we used above explore the relationship between ozone and income/elevation\n",
    "#### How does the relationship differ from pm25?"
   ]
  },
  {
   "cell_type": "code",
   "execution_count": null,
   "metadata": {},
   "outputs": [],
   "source": [
    "x_sc = LinearScale()\n",
    "y_sc = LinearScale()\n",
    "\n",
    "x_data = ozone[\"Income\"]\n",
    "y_data = ozone[\"Ozone_AUG_15\"]\n",
    "\n",
    "def_tt = Tooltip(fields=['x', 'y'], formats=['', '.2f'])\n",
    "\n",
    "scatter_chart = Scatter(x=x_data, y=y_data, scales= {'x': x_sc, 'y': y_sc}, colors=['dodgerblue'],\n",
    "                        tooltip=def_tt, unhovered_style={'opacity': 0.5})\n",
    "\n",
    "lin = Lines(x=[], y=[], scales={'x': sc_x, 'y': sc_y}, line_style='dotted', colors=['orange'])\n",
    "\n",
    "ax_x = Axis(label='Income',scale=x_sc)\n",
    "ax_y = Axis(label='Ozone',scale=y_sc, orientation='vertical', tick_format='0.2f')\n",
    "\n",
    "Figure(marks=[scatter_chart, lin], axes=[ax_x, ax_y])"
   ]
  },
  {
   "cell_type": "code",
   "execution_count": null,
   "metadata": {},
   "outputs": [],
   "source": [
    "sns.jointplot(x=\"Income\", y=\"Ozone_AUG_15\", data=ozone, kind=\"reg\",\n",
    "             color='purple');"
   ]
  },
  {
   "cell_type": "code",
   "execution_count": null,
   "metadata": {},
   "outputs": [],
   "source": [
    "mod = smf.ols(formula='Ozone_AUG_15 ~ Elevation', data=ozone)\n",
    "res = mod.fit()\n",
    "res.summary()"
   ]
  },
  {
   "cell_type": "code",
   "execution_count": null,
   "metadata": {},
   "outputs": [],
   "source": [
    "mod = smf.ols(formula='Ozone_AUG_15 ~ Income', data=ozone)\n",
    "res = mod.fit()\n",
    "res.summary()"
   ]
  },
  {
   "cell_type": "code",
   "execution_count": null,
   "metadata": {},
   "outputs": [],
   "source": []
  }
 ],
 "metadata": {
  "anaconda-cloud": {},
  "kernelspec": {
   "display_name": "Python 3",
   "language": "python",
   "name": "python3"
  },
  "language_info": {
   "codemirror_mode": {
    "name": "ipython",
    "version": 3
   },
   "file_extension": ".py",
   "mimetype": "text/x-python",
   "name": "python",
   "nbconvert_exporter": "python",
   "pygments_lexer": "ipython3",
   "version": "3.6.4"
  }
 },
 "nbformat": 4,
 "nbformat_minor": 1
}
