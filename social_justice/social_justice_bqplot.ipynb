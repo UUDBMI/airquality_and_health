{
 "cells": [
  {
   "cell_type": "markdown",
   "metadata": {},
   "source": [
    "# Air Quality and Social Justice\n",
    "\n",
    "In the Salt Lake area, where smog will periodically hide the mountains that surround the city, [air pollution](http://slcair.communication.utah.edu/) is a consistent concern. The smog is a result of the pollution trapped by the unique topographic features of the Wasatch area. In this notebook, we will explore the relationship between air quality (pm25 and ozone) and income and elevation in the Salt Lake valley. This will allow us to explore questions related to social justice such as, \"Is air pollution exposure equally distributed across different socio-economic groups?\""
   ]
  },
  {
   "cell_type": "markdown",
   "metadata": {},
   "source": [
    "#### Tell our plotting routines to draw the graphics in our web browser"
   ]
  },
  {
   "cell_type": "code",
   "execution_count": 3,
   "metadata": {
    "collapsed": true
   },
   "outputs": [],
   "source": [
    "%matplotlib inline"
   ]
  },
  {
   "cell_type": "markdown",
   "metadata": {},
   "source": [
    "### Import packages that we are going to use\n",
    "#### These include\n",
    "\n",
    "* [Pandas](http://pandas.pydata.org/index.html): A package for reading and manipulating tabular data.\n",
    "* [Seaborn](https://seaborn.pydata.org/index.html): Seaborn is a plotting package that provides \"nice\" pre-defined plots for a variety of common graph types.\n",
    "* [Folium](http://python-visualization.github.io/folium/docs-v0.5.0/): Folium is a good package for visualizing data on a map.\n",
    "* [statsmodels](http://www.statsmodels.org/stable/): This package provides a number of common statistical functions for analysing data.\n"
   ]
  },
  {
   "cell_type": "code",
   "execution_count": 4,
   "metadata": {},
   "outputs": [],
   "source": [
    "import pandas as pd\n",
    "import statsmodels\n",
    "import statsmodels.formula.api as smf\n",
    "import patsy\n",
    "import os\n",
    "import matplotlib.pyplot as plt\n",
    "import seaborn as sns\n",
    "import folium\n",
    "from ipywidgets import widgets"
   ]
  },
  {
   "cell_type": "markdown",
   "metadata": {},
   "source": [
    "#### Tell our program where our data are located"
   ]
  },
  {
   "cell_type": "code",
   "execution_count": null,
   "metadata": {
    "collapsed": true
   },
   "outputs": [],
   "source": [
    "DATADIR = \"/home/jovyan/DATA/AirQuality\""
   ]
  },
  {
   "cell_type": "code",
   "execution_count": null,
   "metadata": {},
   "outputs": [],
   "source": [
    "os.listdir(DATADIR)"
   ]
  },
  {
   "cell_type": "markdown",
   "metadata": {},
   "source": [
    "### What are these data\n",
    "\n",
    "In our data directory we have two **csv** files (csv stands for **C**omma **S**eparated **V**alues). For different regions in the Salt Lake valley (zip code), we have computed the average\n",
    "\n",
    "1. Income\n",
    "1. Elevation\n",
    "1. pm25 levels for March 8, 2016\n",
    "1. ozone levels at 10:00 am and 3:00 PM from August 2016.\n",
    "\n",
    "These files have been created by Dr. Daniel L. Mendoza at the University of Utah."
   ]
  },
  {
   "cell_type": "markdown",
   "metadata": {},
   "source": [
    "## Use Pandas to read in the data\n",
    "\n",
    "Pandas reads the data into a Pandas **dataframe** which we assing to the variable ``pm25``. Dataframes have two methods for looking at the data ``head()`` and ``tail()``"
   ]
  },
  {
   "cell_type": "code",
   "execution_count": null,
   "metadata": {
    "collapsed": true
   },
   "outputs": [],
   "source": [
    "#original\n",
    "pm25 = pd.read_csv(os.path.join(DATADIR, \"Class_PM25_Data.csv\"))\n",
    "pm25.head(), pm25.tail()"
   ]
  },
  {
   "cell_type": "code",
   "execution_count": 5,
   "metadata": {},
   "outputs": [
    {
     "data": {
      "text/html": [
       "<div>\n",
       "<style>\n",
       "    .dataframe thead tr:only-child th {\n",
       "        text-align: right;\n",
       "    }\n",
       "\n",
       "    .dataframe thead th {\n",
       "        text-align: left;\n",
       "    }\n",
       "\n",
       "    .dataframe tbody tr th {\n",
       "        vertical-align: top;\n",
       "    }\n",
       "</style>\n",
       "<table border=\"1\" class=\"dataframe\">\n",
       "  <thead>\n",
       "    <tr style=\"text-align: right;\">\n",
       "      <th></th>\n",
       "      <th>Block_Group_ID</th>\n",
       "      <th>Income</th>\n",
       "      <th>Elevation</th>\n",
       "      <th>PM25_MAR_8</th>\n",
       "    </tr>\n",
       "  </thead>\n",
       "  <tbody>\n",
       "    <tr>\n",
       "      <th>60</th>\n",
       "      <td>4.903510e+11</td>\n",
       "      <td>69188.0</td>\n",
       "      <td>1321.630859</td>\n",
       "      <td>4.409883</td>\n",
       "    </tr>\n",
       "    <tr>\n",
       "      <th>61</th>\n",
       "      <td>4.903510e+11</td>\n",
       "      <td>69493.0</td>\n",
       "      <td>1312.114014</td>\n",
       "      <td>3.989309</td>\n",
       "    </tr>\n",
       "    <tr>\n",
       "      <th>62</th>\n",
       "      <td>4.903510e+11</td>\n",
       "      <td>92551.0</td>\n",
       "      <td>1557.853394</td>\n",
       "      <td>1.537066</td>\n",
       "    </tr>\n",
       "    <tr>\n",
       "      <th>63</th>\n",
       "      <td>4.903510e+11</td>\n",
       "      <td>60817.0</td>\n",
       "      <td>1552.666016</td>\n",
       "      <td>2.252555</td>\n",
       "    </tr>\n",
       "    <tr>\n",
       "      <th>64</th>\n",
       "      <td>4.903600e+11</td>\n",
       "      <td>NaN</td>\n",
       "      <td>1275.227905</td>\n",
       "      <td>3.717521</td>\n",
       "    </tr>\n",
       "  </tbody>\n",
       "</table>\n",
       "</div>"
      ],
      "text/plain": [
       "    Block_Group_ID   Income    Elevation  PM25_MAR_8\n",
       "60    4.903510e+11  69188.0  1321.630859    4.409883\n",
       "61    4.903510e+11  69493.0  1312.114014    3.989309\n",
       "62    4.903510e+11  92551.0  1557.853394    1.537066\n",
       "63    4.903510e+11  60817.0  1552.666016    2.252555\n",
       "64    4.903600e+11      NaN  1275.227905    3.717521"
      ]
     },
     "execution_count": 5,
     "metadata": {},
     "output_type": "execute_result"
    }
   ],
   "source": [
    "pm25 = pd.read_csv(\"Class_PM25_Data.csv\")\n",
    "pm25.tail()"
   ]
  },
  {
   "cell_type": "markdown",
   "metadata": {},
   "source": [
    "#### Notice the ``NaN`` value for Income in our last data row\n",
    "\n",
    "Pandas uses ``NaN`` (Not a number) to represent missing values. That is our data file did not have an income value for the last row. There are a variety of approaches for dealing with missing data, but we are just going to drop that value using the Pandas dataframe ``dropna`` method.\n",
    "\n"
   ]
  },
  {
   "cell_type": "code",
   "execution_count": 6,
   "metadata": {},
   "outputs": [
    {
     "data": {
      "text/html": [
       "<div>\n",
       "<style>\n",
       "    .dataframe thead tr:only-child th {\n",
       "        text-align: right;\n",
       "    }\n",
       "\n",
       "    .dataframe thead th {\n",
       "        text-align: left;\n",
       "    }\n",
       "\n",
       "    .dataframe tbody tr th {\n",
       "        vertical-align: top;\n",
       "    }\n",
       "</style>\n",
       "<table border=\"1\" class=\"dataframe\">\n",
       "  <thead>\n",
       "    <tr style=\"text-align: right;\">\n",
       "      <th></th>\n",
       "      <th>Block_Group_ID</th>\n",
       "      <th>Income</th>\n",
       "      <th>Elevation</th>\n",
       "      <th>PM25_MAR_8</th>\n",
       "    </tr>\n",
       "  </thead>\n",
       "  <tbody>\n",
       "    <tr>\n",
       "      <th>59</th>\n",
       "      <td>4.903510e+11</td>\n",
       "      <td>35375.0</td>\n",
       "      <td>1305.029541</td>\n",
       "      <td>3.595146</td>\n",
       "    </tr>\n",
       "    <tr>\n",
       "      <th>60</th>\n",
       "      <td>4.903510e+11</td>\n",
       "      <td>69188.0</td>\n",
       "      <td>1321.630859</td>\n",
       "      <td>4.409883</td>\n",
       "    </tr>\n",
       "    <tr>\n",
       "      <th>61</th>\n",
       "      <td>4.903510e+11</td>\n",
       "      <td>69493.0</td>\n",
       "      <td>1312.114014</td>\n",
       "      <td>3.989309</td>\n",
       "    </tr>\n",
       "    <tr>\n",
       "      <th>62</th>\n",
       "      <td>4.903510e+11</td>\n",
       "      <td>92551.0</td>\n",
       "      <td>1557.853394</td>\n",
       "      <td>1.537066</td>\n",
       "    </tr>\n",
       "    <tr>\n",
       "      <th>63</th>\n",
       "      <td>4.903510e+11</td>\n",
       "      <td>60817.0</td>\n",
       "      <td>1552.666016</td>\n",
       "      <td>2.252555</td>\n",
       "    </tr>\n",
       "  </tbody>\n",
       "</table>\n",
       "</div>"
      ],
      "text/plain": [
       "    Block_Group_ID   Income    Elevation  PM25_MAR_8\n",
       "59    4.903510e+11  35375.0  1305.029541    3.595146\n",
       "60    4.903510e+11  69188.0  1321.630859    4.409883\n",
       "61    4.903510e+11  69493.0  1312.114014    3.989309\n",
       "62    4.903510e+11  92551.0  1557.853394    1.537066\n",
       "63    4.903510e+11  60817.0  1552.666016    2.252555"
      ]
     },
     "execution_count": 6,
     "metadata": {},
     "output_type": "execute_result"
    }
   ],
   "source": [
    "pm25 = pm25.dropna()\n",
    "pm25.tail()"
   ]
  },
  {
   "cell_type": "markdown",
   "metadata": {},
   "source": [
    "### Now let's repeat this with the ozone data"
   ]
  },
  {
   "cell_type": "code",
   "execution_count": null,
   "metadata": {},
   "outputs": [],
   "source": [
    "#original\n",
    "ozone = pd.read_csv(os.path.join(DATADIR, \"Class_Ozone_Data.csv\"))\n",
    "ozone.tail()"
   ]
  },
  {
   "cell_type": "code",
   "execution_count": 7,
   "metadata": {},
   "outputs": [
    {
     "data": {
      "text/html": [
       "<div>\n",
       "<style>\n",
       "    .dataframe thead tr:only-child th {\n",
       "        text-align: right;\n",
       "    }\n",
       "\n",
       "    .dataframe thead th {\n",
       "        text-align: left;\n",
       "    }\n",
       "\n",
       "    .dataframe tbody tr th {\n",
       "        vertical-align: top;\n",
       "    }\n",
       "</style>\n",
       "<table border=\"1\" class=\"dataframe\">\n",
       "  <thead>\n",
       "    <tr style=\"text-align: right;\">\n",
       "      <th></th>\n",
       "      <th>Block_Group_ID</th>\n",
       "      <th>Income</th>\n",
       "      <th>Elevation</th>\n",
       "      <th>Ozone_AUG_10</th>\n",
       "      <th>Ozone_AUG_15</th>\n",
       "    </tr>\n",
       "  </thead>\n",
       "  <tbody>\n",
       "    <tr>\n",
       "      <th>59</th>\n",
       "      <td>490351140001</td>\n",
       "      <td>35375.0</td>\n",
       "      <td>1305.029541</td>\n",
       "      <td>22.561118</td>\n",
       "      <td>48.027862</td>\n",
       "    </tr>\n",
       "    <tr>\n",
       "      <th>60</th>\n",
       "      <td>490351142001</td>\n",
       "      <td>69188.0</td>\n",
       "      <td>1321.630859</td>\n",
       "      <td>30.320732</td>\n",
       "      <td>57.617152</td>\n",
       "    </tr>\n",
       "    <tr>\n",
       "      <th>61</th>\n",
       "      <td>490351142002</td>\n",
       "      <td>69493.0</td>\n",
       "      <td>1312.114014</td>\n",
       "      <td>31.675820</td>\n",
       "      <td>59.208955</td>\n",
       "    </tr>\n",
       "    <tr>\n",
       "      <th>62</th>\n",
       "      <td>490351152091</td>\n",
       "      <td>92551.0</td>\n",
       "      <td>1557.853394</td>\n",
       "      <td>36.326890</td>\n",
       "      <td>58.199097</td>\n",
       "    </tr>\n",
       "    <tr>\n",
       "      <th>63</th>\n",
       "      <td>490351152092</td>\n",
       "      <td>60817.0</td>\n",
       "      <td>1552.666016</td>\n",
       "      <td>36.182543</td>\n",
       "      <td>57.752619</td>\n",
       "    </tr>\n",
       "  </tbody>\n",
       "</table>\n",
       "</div>"
      ],
      "text/plain": [
       "    Block_Group_ID   Income    Elevation  Ozone_AUG_10  Ozone_AUG_15\n",
       "59    490351140001  35375.0  1305.029541     22.561118     48.027862\n",
       "60    490351142001  69188.0  1321.630859     30.320732     57.617152\n",
       "61    490351142002  69493.0  1312.114014     31.675820     59.208955\n",
       "62    490351152091  92551.0  1557.853394     36.326890     58.199097\n",
       "63    490351152092  60817.0  1552.666016     36.182543     57.752619"
      ]
     },
     "execution_count": 7,
     "metadata": {},
     "output_type": "execute_result"
    }
   ],
   "source": [
    "ozone = pd.read_csv(\"Class_Ozone_Data.csv\")\n",
    "ozone = ozone.dropna()\n",
    "ozone.tail()"
   ]
  },
  {
   "cell_type": "markdown",
   "metadata": {},
   "source": [
    "## Exploratory Plots\n",
    "\n",
    "In statistics, it is always a good idea to start by plotting your data to get an idea of what it looks like. This can help you determine which analyses would be useful to perform. Here we are going to be using [Seaborn](http://seaborn.pydata.org/index.html) to do some exploratory visualization.\n",
    "\n",
    "Our first plot is going to be a [histogram](https://en.wikipedia.org/wiki/Histogram) of our particle measurements.\n",
    "\n",
    "Seaborn has several options for plotting histograms. We are going to use the ``distplot()`` function. Note that we set the [kernal density estimate](https://en.wikipedia.org/wiki/Kernel_density_estimation) argument (a smoothing function) to True. What happens when you change it to False?"
   ]
  },
  {
   "cell_type": "code",
   "execution_count": 13,
   "metadata": {
    "scrolled": false
   },
   "outputs": [
    {
     "data": {
      "text/plain": [
       "Text(0.5,1,'Histogram of PM25 for March 8, 2016')"
      ]
     },
     "execution_count": 13,
     "metadata": {},
     "output_type": "execute_result"
    },
    {
     "data": {
      "image/png": "[encoded data removed]",
      "text/plain": [
       "<matplotlib.figure.Figure at 0x1e284b25cc0>"
      ]
     },
     "metadata": {},
     "output_type": "display_data"
    }
   ],
   "source": [
    "fig1, ax1 = plt.subplots(1)\n",
    "sns.distplot(pm25[\"PM25_MAR_8\"], ax=ax1, kde=True)\n",
    "ax1.set_xlabel(\"PM25\")\n",
    "ax1.set_ylabel(\"Proportion\")\n",
    "ax1.set_title(\"Histogram of PM25 for March 8, 2016\")"
   ]
  },
  {
   "cell_type": "markdown",
   "metadata": {},
   "source": [
    "Next we'll use ``jointplot`` to visualize the relationship between income and pollution levels. ``jointplot`` has a number of options that determine what kind of joint plot to generate. The default is \"scatter\", but here we'll use the [regression](https://en.wikipedia.org/wiki/Linear_regression) fit. Notice we also added kde to the marginal histograms with the regression fit. Any of the following types can be plotted using ``jointplot`` by changing the 'kind' argument:\n",
    "\n",
    "* \"scatter\"\n",
    "* \"reg\"\n",
    "* \"resid\"\n",
    "* \"kde\"\n",
    "* \"hex\""
   ]
  },
  {
   "cell_type": "code",
   "execution_count": 11,
   "metadata": {},
   "outputs": [
    {
     "data": {
      "image/png": "[encoded data removed]",
      "text/plain": [
       "<matplotlib.figure.Figure at 0x1e28467c198>"
      ]
     },
     "metadata": {},
     "output_type": "display_data"
    }
   ],
   "source": [
    "sns.jointplot(x=\"Income\", y=\"PM25_MAR_8\", data=pm25, kind=\"reg\",\n",
    "             color='purple');"
   ]
  },
  {
   "cell_type": "markdown",
   "metadata": {},
   "source": [
    "### We can see that there is a reasonable linear relationship between pollution and income\n",
    "\n",
    "\n",
    "#### Let's quantify this relationship\n",
    "\n",
    "We will use ``statsmodels`` to do [ordinary least squares regression](https://en.wikipedia.org/wiki/Ordinary_least_squares).\n",
    "\n",
    "```Python\n",
    "mod = smf.ols(formula='PM25_MAR_8 ~ Income', data=pm25)\n",
    "```\n",
    "\n",
    "* Use Patsy to specify what our regression is. This formula is stating a linear relationship between our dependent variable, ``PM25_MAR_8``, and our independent variable, ``Income``.\n",
    "\n",
    "```Python\n",
    "'PM25_MAR_8 ~ Income'\n",
    "```\n",
    "```Python\n",
    "data=pm25\n",
    "```\n",
    "\n",
    "* Use the ``pm25`` dataset\n",
    "* ``mod.fit()`` fits the model to the data\n",
    "* ```res.summary()``` provides a detailed report on how well the model fit the data."
   ]
  },
  {
   "cell_type": "code",
   "execution_count": 14,
   "metadata": {},
   "outputs": [
    {
     "data": {
      "text/html": [
       "<table class=\"simpletable\">\n",
       "<caption>OLS Regression Results</caption>\n",
       "<tr>\n",
       "  <th>Dep. Variable:</th>       <td>PM25_MAR_8</td>    <th>  R-squared:         </th> <td>   0.458</td>\n",
       "</tr>\n",
       "<tr>\n",
       "  <th>Model:</th>                   <td>OLS</td>       <th>  Adj. R-squared:    </th> <td>   0.449</td>\n",
       "</tr>\n",
       "<tr>\n",
       "  <th>Method:</th>             <td>Least Squares</td>  <th>  F-statistic:       </th> <td>   52.32</td>\n",
       "</tr>\n",
       "<tr>\n",
       "  <th>Date:</th>             <td>Sun, 13 May 2018</td> <th>  Prob (F-statistic):</th> <td>8.48e-10</td>\n",
       "</tr>\n",
       "<tr>\n",
       "  <th>Time:</th>                 <td>14:17:09</td>     <th>  Log-Likelihood:    </th> <td> -77.678</td>\n",
       "</tr>\n",
       "<tr>\n",
       "  <th>No. Observations:</th>      <td>    64</td>      <th>  AIC:               </th> <td>   159.4</td>\n",
       "</tr>\n",
       "<tr>\n",
       "  <th>Df Residuals:</th>          <td>    62</td>      <th>  BIC:               </th> <td>   163.7</td>\n",
       "</tr>\n",
       "<tr>\n",
       "  <th>Df Model:</th>              <td>     1</td>      <th>                     </th>     <td> </td>   \n",
       "</tr>\n",
       "<tr>\n",
       "  <th>Covariance Type:</th>      <td>nonrobust</td>    <th>                     </th>     <td> </td>   \n",
       "</tr>\n",
       "</table>\n",
       "<table class=\"simpletable\">\n",
       "<tr>\n",
       "      <td></td>         <th>coef</th>     <th>std err</th>      <th>t</th>      <th>P>|t|</th>  <th>[0.025</th>    <th>0.975]</th>  \n",
       "</tr>\n",
       "<tr>\n",
       "  <th>Intercept</th> <td>    4.8552</td> <td>    0.256</td> <td>   18.981</td> <td> 0.000</td> <td>    4.344</td> <td>    5.367</td>\n",
       "</tr>\n",
       "<tr>\n",
       "  <th>Income</th>    <td> -3.74e-05</td> <td> 5.17e-06</td> <td>   -7.233</td> <td> 0.000</td> <td>-4.77e-05</td> <td>-2.71e-05</td>\n",
       "</tr>\n",
       "</table>\n",
       "<table class=\"simpletable\">\n",
       "<tr>\n",
       "  <th>Omnibus:</th>       <td> 6.338</td> <th>  Durbin-Watson:     </th> <td>   1.194</td>\n",
       "</tr>\n",
       "<tr>\n",
       "  <th>Prob(Omnibus):</th> <td> 0.042</td> <th>  Jarque-Bera (JB):  </th> <td>   5.446</td>\n",
       "</tr>\n",
       "<tr>\n",
       "  <th>Skew:</th>          <td> 0.624</td> <th>  Prob(JB):          </th> <td>  0.0657</td>\n",
       "</tr>\n",
       "<tr>\n",
       "  <th>Kurtosis:</th>      <td> 3.697</td> <th>  Cond. No.          </th> <td>1.22e+05</td>\n",
       "</tr>\n",
       "</table>"
      ],
      "text/plain": [
       "<class 'statsmodels.iolib.summary.Summary'>\n",
       "\"\"\"\n",
       "                            OLS Regression Results                            \n",
       "==============================================================================\n",
       "Dep. Variable:             PM25_MAR_8   R-squared:                       0.458\n",
       "Model:                            OLS   Adj. R-squared:                  0.449\n",
       "Method:                 Least Squares   F-statistic:                     52.32\n",
       "Date:                Sun, 13 May 2018   Prob (F-statistic):           8.48e-10\n",
       "Time:                        14:17:09   Log-Likelihood:                -77.678\n",
       "No. Observations:                  64   AIC:                             159.4\n",
       "Df Residuals:                      62   BIC:                             163.7\n",
       "Df Model:                           1                                         \n",
       "Covariance Type:            nonrobust                                         \n",
       "==============================================================================\n",
       "                 coef    std err          t      P>|t|      [0.025      0.975]\n",
       "------------------------------------------------------------------------------\n",
       "Intercept      4.8552      0.256     18.981      0.000       4.344       5.367\n",
       "Income      -3.74e-05   5.17e-06     -7.233      0.000   -4.77e-05   -2.71e-05\n",
       "==============================================================================\n",
       "Omnibus:                        6.338   Durbin-Watson:                   1.194\n",
       "Prob(Omnibus):                  0.042   Jarque-Bera (JB):                5.446\n",
       "Skew:                           0.624   Prob(JB):                       0.0657\n",
       "Kurtosis:                       3.697   Cond. No.                     1.22e+05\n",
       "==============================================================================\n",
       "\n",
       "Warnings:\n",
       "[1] Standard Errors assume that the covariance matrix of the errors is correctly specified.\n",
       "[2] The condition number is large, 1.22e+05. This might indicate that there are\n",
       "strong multicollinearity or other numerical problems.\n",
       "\"\"\""
      ]
     },
     "execution_count": 14,
     "metadata": {},
     "output_type": "execute_result"
    }
   ],
   "source": [
    "mod = smf.ols(formula='PM25_MAR_8 ~ Income', data=pm25)\n",
    "res = mod.fit()\n",
    "res.summary()"
   ]
  },
  {
   "cell_type": "markdown",
   "metadata": {},
   "source": [
    "### This is a lot of information. What are the key points?\n",
    "\n",
    "#### Let's start by looking at our overall model.\n",
    "\n",
    "* **Prob (F-statistic):**           8.48e-10 ($8.48e^{-10}$). \n",
    "    * This is the probability that the linear relationship between our variables is purely due to chance. \n",
    "* **R-squared:**                       0.458\n",
    "    * This is the proportion of the variability in our data that is explained by our model, so about half of the variability in the data is explained by income.\n",
    "* **Cond. No.**                     1.22e+05 ($1.22e^{05}$)\n",
    "    * A large condition number indicates numeric problems with our model/data and mean the results are less reliable.\n",
    "\n",
    "#### Now let's look at our ``Income`` variable\n",
    "\n",
    "* **coef**=-3.74e-05 ($-3.74e^{-05}$). This is the slope of the line. The slope is negative, meaning as income **increases**, air pollution **decreases.**\n",
    "* **P**=0.000. This is the \"p-value\" and describes the probability that the linear relationship is just random chance. Since our p-value is less than 0.001, we can accept our hypothesis that income and pollution are related."
   ]
  },
  {
   "cell_type": "markdown",
   "metadata": {},
   "source": [
    "## Let's repeat this for the relationship between ``Income`` and ``Elevation``"
   ]
  },
  {
   "cell_type": "code",
   "execution_count": 15,
   "metadata": {},
   "outputs": [
    {
     "data": {
      "image/png": "[encoded data removed]",
      "text/plain": [
       "<matplotlib.figure.Figure at 0x1e28510fcf8>"
      ]
     },
     "metadata": {},
     "output_type": "display_data"
    }
   ],
   "source": [
    "sns.jointplot(y=\"Income\", x=\"Elevation\", data=pm25, kind=\"reg\",\n",
    "             color='purple');"
   ]
  },
  {
   "cell_type": "markdown",
   "metadata": {},
   "source": [
    "### The relationship between ``Income`` and ``Elevation`` is strong\n",
    "### Now let us use ``Elevation`` to predict ``PM25_MAR_8``"
   ]
  },
  {
   "cell_type": "code",
   "execution_count": 16,
   "metadata": {},
   "outputs": [
    {
     "data": {
      "text/html": [
       "<table class=\"simpletable\">\n",
       "<caption>OLS Regression Results</caption>\n",
       "<tr>\n",
       "  <th>Dep. Variable:</th>       <td>PM25_MAR_8</td>    <th>  R-squared:         </th> <td>   0.451</td>\n",
       "</tr>\n",
       "<tr>\n",
       "  <th>Model:</th>                   <td>OLS</td>       <th>  Adj. R-squared:    </th> <td>   0.442</td>\n",
       "</tr>\n",
       "<tr>\n",
       "  <th>Method:</th>             <td>Least Squares</td>  <th>  F-statistic:       </th> <td>   50.84</td>\n",
       "</tr>\n",
       "<tr>\n",
       "  <th>Date:</th>             <td>Sun, 13 May 2018</td> <th>  Prob (F-statistic):</th> <td>1.28e-09</td>\n",
       "</tr>\n",
       "<tr>\n",
       "  <th>Time:</th>                 <td>14:18:24</td>     <th>  Log-Likelihood:    </th> <td> -78.095</td>\n",
       "</tr>\n",
       "<tr>\n",
       "  <th>No. Observations:</th>      <td>    64</td>      <th>  AIC:               </th> <td>   160.2</td>\n",
       "</tr>\n",
       "<tr>\n",
       "  <th>Df Residuals:</th>          <td>    62</td>      <th>  BIC:               </th> <td>   164.5</td>\n",
       "</tr>\n",
       "<tr>\n",
       "  <th>Df Model:</th>              <td>     1</td>      <th>                     </th>     <td> </td>   \n",
       "</tr>\n",
       "<tr>\n",
       "  <th>Covariance Type:</th>      <td>nonrobust</td>    <th>                     </th>     <td> </td>   \n",
       "</tr>\n",
       "</table>\n",
       "<table class=\"simpletable\">\n",
       "<tr>\n",
       "      <td></td>         <th>coef</th>     <th>std err</th>      <th>t</th>      <th>P>|t|</th>  <th>[0.025</th>    <th>0.975]</th>  \n",
       "</tr>\n",
       "<tr>\n",
       "  <th>Intercept</th> <td>   19.1668</td> <td>    2.247</td> <td>    8.531</td> <td> 0.000</td> <td>   14.675</td> <td>   23.658</td>\n",
       "</tr>\n",
       "<tr>\n",
       "  <th>Elevation</th> <td>   -0.0119</td> <td>    0.002</td> <td>   -7.130</td> <td> 0.000</td> <td>   -0.015</td> <td>   -0.009</td>\n",
       "</tr>\n",
       "</table>\n",
       "<table class=\"simpletable\">\n",
       "<tr>\n",
       "  <th>Omnibus:</th>       <td> 1.175</td> <th>  Durbin-Watson:     </th> <td>   0.842</td>\n",
       "</tr>\n",
       "<tr>\n",
       "  <th>Prob(Omnibus):</th> <td> 0.556</td> <th>  Jarque-Bera (JB):  </th> <td>   0.988</td>\n",
       "</tr>\n",
       "<tr>\n",
       "  <th>Skew:</th>          <td> 0.013</td> <th>  Prob(JB):          </th> <td>   0.610</td>\n",
       "</tr>\n",
       "<tr>\n",
       "  <th>Kurtosis:</th>      <td> 2.392</td> <th>  Cond. No.          </th> <td>2.90e+04</td>\n",
       "</tr>\n",
       "</table>"
      ],
      "text/plain": [
       "<class 'statsmodels.iolib.summary.Summary'>\n",
       "\"\"\"\n",
       "                            OLS Regression Results                            \n",
       "==============================================================================\n",
       "Dep. Variable:             PM25_MAR_8   R-squared:                       0.451\n",
       "Model:                            OLS   Adj. R-squared:                  0.442\n",
       "Method:                 Least Squares   F-statistic:                     50.84\n",
       "Date:                Sun, 13 May 2018   Prob (F-statistic):           1.28e-09\n",
       "Time:                        14:18:24   Log-Likelihood:                -78.095\n",
       "No. Observations:                  64   AIC:                             160.2\n",
       "Df Residuals:                      62   BIC:                             164.5\n",
       "Df Model:                           1                                         \n",
       "Covariance Type:            nonrobust                                         \n",
       "==============================================================================\n",
       "                 coef    std err          t      P>|t|      [0.025      0.975]\n",
       "------------------------------------------------------------------------------\n",
       "Intercept     19.1668      2.247      8.531      0.000      14.675      23.658\n",
       "Elevation     -0.0119      0.002     -7.130      0.000      -0.015      -0.009\n",
       "==============================================================================\n",
       "Omnibus:                        1.175   Durbin-Watson:                   0.842\n",
       "Prob(Omnibus):                  0.556   Jarque-Bera (JB):                0.988\n",
       "Skew:                           0.013   Prob(JB):                        0.610\n",
       "Kurtosis:                       2.392   Cond. No.                     2.90e+04\n",
       "==============================================================================\n",
       "\n",
       "Warnings:\n",
       "[1] Standard Errors assume that the covariance matrix of the errors is correctly specified.\n",
       "[2] The condition number is large, 2.9e+04. This might indicate that there are\n",
       "strong multicollinearity or other numerical problems.\n",
       "\"\"\""
      ]
     },
     "execution_count": 16,
     "metadata": {},
     "output_type": "execute_result"
    }
   ],
   "source": [
    "mod = smf.ols(formula='PM25_MAR_8 ~ Elevation', data=pm25)\n",
    "res = mod.fit()\n",
    "res.summary()"
   ]
  },
  {
   "cell_type": "markdown",
   "metadata": {},
   "source": [
    "### Can we build a model that uses *both* ``Elevation`` and ``Income`` to predict pollution levels?"
   ]
  },
  {
   "cell_type": "code",
   "execution_count": 19,
   "metadata": {
    "scrolled": false
   },
   "outputs": [
    {
     "data": {
      "text/html": [
       "<table class=\"simpletable\">\n",
       "<caption>OLS Regression Results</caption>\n",
       "<tr>\n",
       "  <th>Dep. Variable:</th>       <td>PM25_MAR_8</td>    <th>  R-squared:         </th> <td>   0.580</td>\n",
       "</tr>\n",
       "<tr>\n",
       "  <th>Model:</th>                   <td>OLS</td>       <th>  Adj. R-squared:    </th> <td>   0.559</td>\n",
       "</tr>\n",
       "<tr>\n",
       "  <th>Method:</th>             <td>Least Squares</td>  <th>  F-statistic:       </th> <td>   27.61</td>\n",
       "</tr>\n",
       "<tr>\n",
       "  <th>Date:</th>             <td>Sun, 13 May 2018</td> <th>  Prob (F-statistic):</th> <td>2.42e-11</td>\n",
       "</tr>\n",
       "<tr>\n",
       "  <th>Time:</th>                 <td>14:29:07</td>     <th>  Log-Likelihood:    </th> <td> -69.505</td>\n",
       "</tr>\n",
       "<tr>\n",
       "  <th>No. Observations:</th>      <td>    64</td>      <th>  AIC:               </th> <td>   147.0</td>\n",
       "</tr>\n",
       "<tr>\n",
       "  <th>Df Residuals:</th>          <td>    60</td>      <th>  BIC:               </th> <td>   155.6</td>\n",
       "</tr>\n",
       "<tr>\n",
       "  <th>Df Model:</th>              <td>     3</td>      <th>                     </th>     <td> </td>   \n",
       "</tr>\n",
       "<tr>\n",
       "  <th>Covariance Type:</th>      <td>nonrobust</td>    <th>                     </th>     <td> </td>   \n",
       "</tr>\n",
       "</table>\n",
       "<table class=\"simpletable\">\n",
       "<tr>\n",
       "          <td></td>            <th>coef</th>     <th>std err</th>      <th>t</th>      <th>P>|t|</th>  <th>[0.025</th>    <th>0.975]</th>  \n",
       "</tr>\n",
       "<tr>\n",
       "  <th>Intercept</th>        <td>   22.4080</td> <td>    6.418</td> <td>    3.492</td> <td> 0.001</td> <td>    9.571</td> <td>   35.245</td>\n",
       "</tr>\n",
       "<tr>\n",
       "  <th>Elevation</th>        <td>   -0.0135</td> <td>    0.005</td> <td>   -2.811</td> <td> 0.007</td> <td>   -0.023</td> <td>   -0.004</td>\n",
       "</tr>\n",
       "<tr>\n",
       "  <th>Income</th>           <td>   -0.0002</td> <td>    0.000</td> <td>   -1.624</td> <td> 0.110</td> <td>   -0.000</td> <td> 3.82e-05</td>\n",
       "</tr>\n",
       "<tr>\n",
       "  <th>Elevation:Income</th> <td> 1.034e-07</td> <td> 7.42e-08</td> <td>    1.393</td> <td> 0.169</td> <td> -4.5e-08</td> <td> 2.52e-07</td>\n",
       "</tr>\n",
       "</table>\n",
       "<table class=\"simpletable\">\n",
       "<tr>\n",
       "  <th>Omnibus:</th>       <td> 3.191</td> <th>  Durbin-Watson:     </th> <td>   1.242</td>\n",
       "</tr>\n",
       "<tr>\n",
       "  <th>Prob(Omnibus):</th> <td> 0.203</td> <th>  Jarque-Bera (JB):  </th> <td>   2.305</td>\n",
       "</tr>\n",
       "<tr>\n",
       "  <th>Skew:</th>          <td> 0.386</td> <th>  Prob(JB):          </th> <td>   0.316</td>\n",
       "</tr>\n",
       "<tr>\n",
       "  <th>Kurtosis:</th>      <td> 3.517</td> <th>  Cond. No.          </th> <td>4.74e+09</td>\n",
       "</tr>\n",
       "</table>"
      ],
      "text/plain": [
       "<class 'statsmodels.iolib.summary.Summary'>\n",
       "\"\"\"\n",
       "                            OLS Regression Results                            \n",
       "==============================================================================\n",
       "Dep. Variable:             PM25_MAR_8   R-squared:                       0.580\n",
       "Model:                            OLS   Adj. R-squared:                  0.559\n",
       "Method:                 Least Squares   F-statistic:                     27.61\n",
       "Date:                Sun, 13 May 2018   Prob (F-statistic):           2.42e-11\n",
       "Time:                        14:29:07   Log-Likelihood:                -69.505\n",
       "No. Observations:                  64   AIC:                             147.0\n",
       "Df Residuals:                      60   BIC:                             155.6\n",
       "Df Model:                           3                                         \n",
       "Covariance Type:            nonrobust                                         \n",
       "====================================================================================\n",
       "                       coef    std err          t      P>|t|      [0.025      0.975]\n",
       "------------------------------------------------------------------------------------\n",
       "Intercept           22.4080      6.418      3.492      0.001       9.571      35.245\n",
       "Elevation           -0.0135      0.005     -2.811      0.007      -0.023      -0.004\n",
       "Income              -0.0002      0.000     -1.624      0.110      -0.000    3.82e-05\n",
       "Elevation:Income  1.034e-07   7.42e-08      1.393      0.169    -4.5e-08    2.52e-07\n",
       "==============================================================================\n",
       "Omnibus:                        3.191   Durbin-Watson:                   1.242\n",
       "Prob(Omnibus):                  0.203   Jarque-Bera (JB):                2.305\n",
       "Skew:                           0.386   Prob(JB):                        0.316\n",
       "Kurtosis:                       3.517   Cond. No.                     4.74e+09\n",
       "==============================================================================\n",
       "\n",
       "Warnings:\n",
       "[1] Standard Errors assume that the covariance matrix of the errors is correctly specified.\n",
       "[2] The condition number is large, 4.74e+09. This might indicate that there are\n",
       "strong multicollinearity or other numerical problems.\n",
       "\"\"\""
      ]
     },
     "execution_count": 19,
     "metadata": {},
     "output_type": "execute_result"
    }
   ],
   "source": [
    "mod = smf.ols(formula='PM25_MAR_8 ~ Elevation + Income + Elevation:Income', data=pm25)\n",
    "res = mod.fit()\n",
    "res.summary()"
   ]
  },
  {
   "cell_type": "markdown",
   "metadata": {},
   "source": [
    "### What happens when we include both predictors?"
   ]
  },
  {
   "cell_type": "markdown",
   "metadata": {},
   "source": [
    "# Now let's look at ozone\n",
    "\n",
    "[Ozone](https://www.epa.gov/ozone-pollution) is another cause for concern in air quality. It is created by chemical reactions between oxides of nitrogen (NOx) and volatile organic compounds (VOC) in the presence of sunlight. Emissions from industrial facilities and electric utilities, motor vehicle exhaust, gasoline vapors, and chemical solvents are some of the major sources of NOx and VOC. Ground level ozone can cause breathing problems in sensitive populations and can also be harmful to delicate ecosystems."
   ]
  },
  {
   "cell_type": "markdown",
   "metadata": {},
   "source": [
    "## We have ozone measurements at two times: 10:00 AM and 3:00 PM (15:00)\n",
    "\n",
    "#### How are these measurements different? Let's use ``distplot()`` to visualize the histograms side-by-side.\n",
    "#### What do you think might account for differences between the two time points?"
   ]
  },
  {
   "cell_type": "code",
   "execution_count": 20,
   "metadata": {},
   "outputs": [
    {
     "data": {
      "text/plain": [
       "<matplotlib.legend.Legend at 0x1e2851499e8>"
      ]
     },
     "execution_count": 20,
     "metadata": {},
     "output_type": "execute_result"
    },
    {
     "data": {
      "image/png": "[encoded data removed]",
      "text/plain": [
       "<matplotlib.figure.Figure at 0x1e28517c828>"
      ]
     },
     "metadata": {},
     "output_type": "display_data"
    }
   ],
   "source": [
    "fig2, ax2 = plt.subplots(1)\n",
    "sns.distplot(ozone[\"Ozone_AUG_10\"], ax=ax2, label=\"10:00\")\n",
    "sns.distplot(ozone[\"Ozone_AUG_15\"], ax=ax2, color='r', label=\"15:00\")\n",
    "ax2.set_xlabel(\"Ozone Density\")\n",
    "ax2.legend()"
   ]
  },
  {
   "cell_type": "markdown",
   "metadata": {},
   "source": [
    "## Ozone vs pm25\n",
    "\n",
    "#### Use the same plotting and statistical functions we used above to explore the relationship between ozone and income and elevation"
   ]
  },
  {
   "cell_type": "code",
   "execution_count": 21,
   "metadata": {},
   "outputs": [
    {
     "data": {
      "image/png": "[encoded data removed]",
      "text/plain": [
       "<matplotlib.figure.Figure at 0x1e2852053c8>"
      ]
     },
     "metadata": {},
     "output_type": "display_data"
    }
   ],
   "source": [
    "sns.jointplot(x=\"Income\", y=\"Ozone_AUG_15\", data=ozone, kind=\"reg\",\n",
    "             color='purple');"
   ]
  },
  {
   "cell_type": "markdown",
   "metadata": {},
   "source": [
    "Here it looks like we have the opposite relationship between income and ozone. As income **increases**, ozone exposure **increases**. Why might this be? (Click one of the options.)"
   ]
  },
  {
   "cell_type": "code",
   "execution_count": 17,
   "metadata": {},
   "outputs": [
    {
     "data": {
      "application/vnd.jupyter.widget-view+json": {
       "model_id": "7063984ad7914207afb97cd85b72a0e5",
       "version_major": 2,
       "version_minor": 0
      },
      "text/plain": [
       "A Jupyter Widget"
      ]
     },
     "metadata": {},
     "output_type": "display_data"
    },
    {
     "data": {
      "application/vnd.jupyter.widget-view+json": {
       "model_id": "efc6121932344581be73b3661702c89f",
       "version_major": 2,
       "version_minor": 0
      },
      "text/plain": [
       "A Jupyter Widget"
      ]
     },
     "metadata": {},
     "output_type": "display_data"
    },
    {
     "data": {
      "application/vnd.jupyter.widget-view+json": {
       "model_id": "c2c48702c3c74f72a341d59ccb63363b",
       "version_major": 2,
       "version_minor": 0
      },
      "text/plain": [
       "A Jupyter Widget"
      ]
     },
     "metadata": {},
     "output_type": "display_data"
    },
    {
     "data": {
      "application/vnd.jupyter.widget-view+json": {
       "model_id": "88928ce0dd4543d098bff20c7d6d4bf1",
       "version_major": 2,
       "version_minor": 0
      },
      "text/plain": [
       "A Jupyter Widget"
      ]
     },
     "metadata": {},
     "output_type": "display_data"
    },
    {
     "name": "stdout",
     "output_type": "stream",
     "text": [
      "Please try again.\n",
      "Correct.\n"
     ]
    }
   ],
   "source": [
    "button1 = widgets.Button(description='a. Ozone levels decrease with elevation',layout=widgets.Layout(width='40%', height='40px'))\n",
    "button2 = widgets.Button(description='b. Wealthy people spend more time outdoors',layout=widgets.Layout(width='40%', height='40px'))\n",
    "button3 = widgets.Button(description='c. Ozone levels increase with elevation, as does income',layout=widgets.Layout(width='40%', height='40px'))\n",
    "button4 = widgets.Button(description='d. Too much noise; relationship is not obvious',layout=widgets.Layout(width='40%', height='40px'))\n",
    "display(button1,button2,button3, button4)\n",
    "\n",
    "def on_correct_clicked(b):\n",
    "    print('Correct.')\n",
    "def on_incorrect_clicked(b):\n",
    "    print('Not quite.')\n",
    "    \n",
    "button1.on_click(on_incorrect_clicked)\n",
    "button2.on_click(on_incorrect_clicked)\n",
    "button3.on_click(on_correct_clicked)\n",
    "button4.on_click(on_incorrect_clicked)"
   ]
  },
  {
   "cell_type": "code",
   "execution_count": 22,
   "metadata": {},
   "outputs": [
    {
     "data": {
      "text/html": [
       "<table class=\"simpletable\">\n",
       "<caption>OLS Regression Results</caption>\n",
       "<tr>\n",
       "  <th>Dep. Variable:</th>      <td>Ozone_AUG_15</td>   <th>  R-squared:         </th> <td>   0.124</td>\n",
       "</tr>\n",
       "<tr>\n",
       "  <th>Model:</th>                   <td>OLS</td>       <th>  Adj. R-squared:    </th> <td>   0.110</td>\n",
       "</tr>\n",
       "<tr>\n",
       "  <th>Method:</th>             <td>Least Squares</td>  <th>  F-statistic:       </th> <td>   8.786</td>\n",
       "</tr>\n",
       "<tr>\n",
       "  <th>Date:</th>             <td>Sun, 13 May 2018</td> <th>  Prob (F-statistic):</th>  <td>0.00430</td>\n",
       "</tr>\n",
       "<tr>\n",
       "  <th>Time:</th>                 <td>14:38:35</td>     <th>  Log-Likelihood:    </th> <td> -193.18</td>\n",
       "</tr>\n",
       "<tr>\n",
       "  <th>No. Observations:</th>      <td>    64</td>      <th>  AIC:               </th> <td>   390.4</td>\n",
       "</tr>\n",
       "<tr>\n",
       "  <th>Df Residuals:</th>          <td>    62</td>      <th>  BIC:               </th> <td>   394.7</td>\n",
       "</tr>\n",
       "<tr>\n",
       "  <th>Df Model:</th>              <td>     1</td>      <th>                     </th>     <td> </td>   \n",
       "</tr>\n",
       "<tr>\n",
       "  <th>Covariance Type:</th>      <td>nonrobust</td>    <th>                     </th>     <td> </td>   \n",
       "</tr>\n",
       "</table>\n",
       "<table class=\"simpletable\">\n",
       "<tr>\n",
       "      <td></td>         <th>coef</th>     <th>std err</th>      <th>t</th>      <th>P>|t|</th>  <th>[0.025</th>    <th>0.975]</th>  \n",
       "</tr>\n",
       "<tr>\n",
       "  <th>Intercept</th> <td>   12.3968</td> <td>   13.569</td> <td>    0.914</td> <td> 0.364</td> <td>  -14.728</td> <td>   39.521</td>\n",
       "</tr>\n",
       "<tr>\n",
       "  <th>Elevation</th> <td>    0.0299</td> <td>    0.010</td> <td>    2.964</td> <td> 0.004</td> <td>    0.010</td> <td>    0.050</td>\n",
       "</tr>\n",
       "</table>\n",
       "<table class=\"simpletable\">\n",
       "<tr>\n",
       "  <th>Omnibus:</th>       <td> 5.342</td> <th>  Durbin-Watson:     </th> <td>   0.926</td>\n",
       "</tr>\n",
       "<tr>\n",
       "  <th>Prob(Omnibus):</th> <td> 0.069</td> <th>  Jarque-Bera (JB):  </th> <td>   5.559</td>\n",
       "</tr>\n",
       "<tr>\n",
       "  <th>Skew:</th>          <td> 0.343</td> <th>  Prob(JB):          </th> <td>  0.0621</td>\n",
       "</tr>\n",
       "<tr>\n",
       "  <th>Kurtosis:</th>      <td> 4.271</td> <th>  Cond. No.          </th> <td>2.90e+04</td>\n",
       "</tr>\n",
       "</table>"
      ],
      "text/plain": [
       "<class 'statsmodels.iolib.summary.Summary'>\n",
       "\"\"\"\n",
       "                            OLS Regression Results                            \n",
       "==============================================================================\n",
       "Dep. Variable:           Ozone_AUG_15   R-squared:                       0.124\n",
       "Model:                            OLS   Adj. R-squared:                  0.110\n",
       "Method:                 Least Squares   F-statistic:                     8.786\n",
       "Date:                Sun, 13 May 2018   Prob (F-statistic):            0.00430\n",
       "Time:                        14:38:35   Log-Likelihood:                -193.18\n",
       "No. Observations:                  64   AIC:                             390.4\n",
       "Df Residuals:                      62   BIC:                             394.7\n",
       "Df Model:                           1                                         \n",
       "Covariance Type:            nonrobust                                         \n",
       "==============================================================================\n",
       "                 coef    std err          t      P>|t|      [0.025      0.975]\n",
       "------------------------------------------------------------------------------\n",
       "Intercept     12.3968     13.569      0.914      0.364     -14.728      39.521\n",
       "Elevation      0.0299      0.010      2.964      0.004       0.010       0.050\n",
       "==============================================================================\n",
       "Omnibus:                        5.342   Durbin-Watson:                   0.926\n",
       "Prob(Omnibus):                  0.069   Jarque-Bera (JB):                5.559\n",
       "Skew:                           0.343   Prob(JB):                       0.0621\n",
       "Kurtosis:                       4.271   Cond. No.                     2.90e+04\n",
       "==============================================================================\n",
       "\n",
       "Warnings:\n",
       "[1] Standard Errors assume that the covariance matrix of the errors is correctly specified.\n",
       "[2] The condition number is large, 2.9e+04. This might indicate that there are\n",
       "strong multicollinearity or other numerical problems.\n",
       "\"\"\""
      ]
     },
     "execution_count": 22,
     "metadata": {},
     "output_type": "execute_result"
    }
   ],
   "source": [
    "mod = smf.ols(formula='Ozone_AUG_15 ~ Elevation', data=ozone)\n",
    "res = mod.fit()\n",
    "res.summary()"
   ]
  },
  {
   "cell_type": "code",
   "execution_count": 23,
   "metadata": {},
   "outputs": [
    {
     "data": {
      "text/html": [
       "<table class=\"simpletable\">\n",
       "<caption>OLS Regression Results</caption>\n",
       "<tr>\n",
       "  <th>Dep. Variable:</th>      <td>Ozone_AUG_15</td>   <th>  R-squared:         </th> <td>   0.327</td>\n",
       "</tr>\n",
       "<tr>\n",
       "  <th>Model:</th>                   <td>OLS</td>       <th>  Adj. R-squared:    </th> <td>   0.316</td>\n",
       "</tr>\n",
       "<tr>\n",
       "  <th>Method:</th>             <td>Least Squares</td>  <th>  F-statistic:       </th> <td>   30.06</td>\n",
       "</tr>\n",
       "<tr>\n",
       "  <th>Date:</th>             <td>Sun, 13 May 2018</td> <th>  Prob (F-statistic):</th> <td>8.16e-07</td>\n",
       "</tr>\n",
       "<tr>\n",
       "  <th>Time:</th>                 <td>14:38:35</td>     <th>  Log-Likelihood:    </th> <td> -184.78</td>\n",
       "</tr>\n",
       "<tr>\n",
       "  <th>No. Observations:</th>      <td>    64</td>      <th>  AIC:               </th> <td>   373.6</td>\n",
       "</tr>\n",
       "<tr>\n",
       "  <th>Df Residuals:</th>          <td>    62</td>      <th>  BIC:               </th> <td>   377.9</td>\n",
       "</tr>\n",
       "<tr>\n",
       "  <th>Df Model:</th>              <td>     1</td>      <th>                     </th>     <td> </td>   \n",
       "</tr>\n",
       "<tr>\n",
       "  <th>Covariance Type:</th>      <td>nonrobust</td>    <th>                     </th>     <td> </td>   \n",
       "</tr>\n",
       "</table>\n",
       "<table class=\"simpletable\">\n",
       "<tr>\n",
       "      <td></td>         <th>coef</th>     <th>std err</th>      <th>t</th>      <th>P>|t|</th>  <th>[0.025</th>    <th>0.975]</th>  \n",
       "</tr>\n",
       "<tr>\n",
       "  <th>Intercept</th> <td>   45.7387</td> <td>    1.363</td> <td>   33.548</td> <td> 0.000</td> <td>   43.013</td> <td>   48.464</td>\n",
       "</tr>\n",
       "<tr>\n",
       "  <th>Income</th>    <td>    0.0002</td> <td> 2.76e-05</td> <td>    5.483</td> <td> 0.000</td> <td>  9.6e-05</td> <td>    0.000</td>\n",
       "</tr>\n",
       "</table>\n",
       "<table class=\"simpletable\">\n",
       "<tr>\n",
       "  <th>Omnibus:</th>       <td>27.944</td> <th>  Durbin-Watson:     </th> <td>   1.597</td>\n",
       "</tr>\n",
       "<tr>\n",
       "  <th>Prob(Omnibus):</th> <td> 0.000</td> <th>  Jarque-Bera (JB):  </th> <td>  77.778</td>\n",
       "</tr>\n",
       "<tr>\n",
       "  <th>Skew:</th>          <td> 1.245</td> <th>  Prob(JB):          </th> <td>1.29e-17</td>\n",
       "</tr>\n",
       "<tr>\n",
       "  <th>Kurtosis:</th>      <td> 7.792</td> <th>  Cond. No.          </th> <td>1.22e+05</td>\n",
       "</tr>\n",
       "</table>"
      ],
      "text/plain": [
       "<class 'statsmodels.iolib.summary.Summary'>\n",
       "\"\"\"\n",
       "                            OLS Regression Results                            \n",
       "==============================================================================\n",
       "Dep. Variable:           Ozone_AUG_15   R-squared:                       0.327\n",
       "Model:                            OLS   Adj. R-squared:                  0.316\n",
       "Method:                 Least Squares   F-statistic:                     30.06\n",
       "Date:                Sun, 13 May 2018   Prob (F-statistic):           8.16e-07\n",
       "Time:                        14:38:35   Log-Likelihood:                -184.78\n",
       "No. Observations:                  64   AIC:                             373.6\n",
       "Df Residuals:                      62   BIC:                             377.9\n",
       "Df Model:                           1                                         \n",
       "Covariance Type:            nonrobust                                         \n",
       "==============================================================================\n",
       "                 coef    std err          t      P>|t|      [0.025      0.975]\n",
       "------------------------------------------------------------------------------\n",
       "Intercept     45.7387      1.363     33.548      0.000      43.013      48.464\n",
       "Income         0.0002   2.76e-05      5.483      0.000     9.6e-05       0.000\n",
       "==============================================================================\n",
       "Omnibus:                       27.944   Durbin-Watson:                   1.597\n",
       "Prob(Omnibus):                  0.000   Jarque-Bera (JB):               77.778\n",
       "Skew:                           1.245   Prob(JB):                     1.29e-17\n",
       "Kurtosis:                       7.792   Cond. No.                     1.22e+05\n",
       "==============================================================================\n",
       "\n",
       "Warnings:\n",
       "[1] Standard Errors assume that the covariance matrix of the errors is correctly specified.\n",
       "[2] The condition number is large, 1.22e+05. This might indicate that there are\n",
       "strong multicollinearity or other numerical problems.\n",
       "\"\"\""
      ]
     },
     "execution_count": 23,
     "metadata": {},
     "output_type": "execute_result"
    }
   ],
   "source": [
    "mod = smf.ols(formula='Ozone_AUG_15 ~ Income', data=ozone)\n",
    "res = mod.fit()\n",
    "res.summary()"
   ]
  },
  {
   "cell_type": "code",
   "execution_count": null,
   "metadata": {
    "collapsed": true
   },
   "outputs": [],
   "source": []
  }
 ],
 "metadata": {
  "anaconda-cloud": {},
  "kernelspec": {
   "display_name": "Python 3",
   "language": "python",
   "name": "python3"
  },
  "language_info": {
   "codemirror_mode": {
    "name": "ipython",
    "version": 3
   },
   "file_extension": ".py",
   "mimetype": "text/x-python",
   "name": "python",
   "nbconvert_exporter": "python",
   "pygments_lexer": "ipython3",
   "version": "3.7.3"
  }
 },
 "nbformat": 4,
 "nbformat_minor": 1
}
