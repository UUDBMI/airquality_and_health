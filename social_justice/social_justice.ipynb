{
 "cells": [
  {
   "cell_type": "markdown",
   "metadata": {},
   "source": [
    "# Air Quality and Social Justice\n",
    "\n",
    "In this notebook we explore the relationship between air quality (pm25 and ozone) and income and elevation. This will allow us to explore questions related to social justice, such as is air pollution exposure equally distributed across different socio-economic groups."
   ]
  },
  {
   "cell_type": "markdown",
   "metadata": {},
   "source": [
    "#### Tell our plotting routines to draw the graphics in our web browser"
   ]
  },
  {
   "cell_type": "code",
   "execution_count": null,
   "metadata": {
    "collapsed": false
   },
   "outputs": [],
   "source": [
    "%matplotlib inline"
   ]
  },
  {
   "cell_type": "markdown",
   "metadata": {},
   "source": [
    "### Import packages that we are going to use\n",
    "#### These include\n",
    "\n",
    "* [Pandas](http://pandas.pydata.org/index.html): A package for reading and manipulating tabular data.\n",
    "* [Seaborn](http://seaborn.pydata.org/index.html): Seaborn is a plotting package that provides \"nice\" pre-defined plots for a variety of common graph types.\n",
    "* [statsmodels](http://www.statsmodels.org/stable/): This package provides a number of common statistical functions for analysing data.\n"
   ]
  },
  {
   "cell_type": "code",
   "execution_count": null,
   "metadata": {
    "collapsed": false
   },
   "outputs": [],
   "source": [
    "import pandas as pd\n",
    "import seaborn as sns\n",
    "import statsmodels\n",
    "import statsmodels.formula.api as smf\n",
    "import patsy\n",
    "import os\n",
    "import matplotlib.pyplot as plt"
   ]
  },
  {
   "cell_type": "markdown",
   "metadata": {},
   "source": [
    "#### Tell our program where our data are located"
   ]
  },
  {
   "cell_type": "code",
   "execution_count": null,
   "metadata": {
    "collapsed": true
   },
   "outputs": [],
   "source": [
    "DATADIR = \"/home/jovyan/DATA/AirQuality\""
   ]
  },
  {
   "cell_type": "code",
   "execution_count": null,
   "metadata": {
    "collapsed": false
   },
   "outputs": [],
   "source": [
    "os.listdir(DATADIR)"
   ]
  },
  {
   "cell_type": "markdown",
   "metadata": {},
   "source": [
    "### What are these data\n",
    "\n",
    "In our data directory we have two **csv** files. csv stands for **C**omma **S**eparated **V**alues. For different regions in the Salt Lake valley (zip code), we have computed the average\n",
    "\n",
    "1. Income\n",
    "1. Elevation\n",
    "1. pm25 levels for March 8, 2016\n",
    "1. ozone levels at 10:00 am and 3:00 PM from August 2016.\n",
    "\n",
    "These files have been created by Dr. Daniel L. Mendoza at the University of Utah."
   ]
  },
  {
   "cell_type": "markdown",
   "metadata": {},
   "source": [
    "## Use Pandas to read in the data\n",
    "\n",
    "Pandas reads the data into a Pandas **dataframe** which we assing to the variable ``pm25``. Dataframes have two methods for looking at the data ``head()`` and ``tail()``"
   ]
  },
  {
   "cell_type": "code",
   "execution_count": null,
   "metadata": {
    "collapsed": false
   },
   "outputs": [],
   "source": [
    "pm25 = pd.read_csv(os.path.join(DATADIR, \"Class_PM25_Data.csv\"))\n",
    "pm25.head(), pm25.tail()"
   ]
  },
  {
   "cell_type": "markdown",
   "metadata": {},
   "source": [
    "#### Notice the ``NaN`` value for Income in our last data row\n",
    "\n",
    "Pandas uses ``NaN`` (Not a number) to represent missing values. That is our data file did not have an income value for the last row. There are a variety of approaches for dealing with missing data, but we are just going to drop that value using the Pandas dataframe ``dropna`` method.\n",
    "\n"
   ]
  },
  {
   "cell_type": "code",
   "execution_count": null,
   "metadata": {
    "collapsed": false
   },
   "outputs": [],
   "source": [
    "pm25 = pm25.dropna()\n",
    "pm25.tail()"
   ]
  },
  {
   "cell_type": "markdown",
   "metadata": {},
   "source": [
    "### Now Let's Repeat this with the Ozone Data"
   ]
  },
  {
   "cell_type": "code",
   "execution_count": null,
   "metadata": {
    "collapsed": false
   },
   "outputs": [],
   "source": [
    "ozone = pd.read_csv(os.path.join(DATADIR, \"Class_Ozone_Data.csv\"))\n",
    "ozone.tail()"
   ]
  },
  {
   "cell_type": "code",
   "execution_count": null,
   "metadata": {
    "collapsed": true
   },
   "outputs": [],
   "source": [
    "ozone = ozone.dropna()"
   ]
  },
  {
   "cell_type": "markdown",
   "metadata": {},
   "source": [
    "## Let's plot some of our data\n",
    "\n",
    "In our introduction to Python we plotted using Pandas directly. When we explored the relationship of wind and air pollution, we used [matplotlib]() to plot. In this notebook we are going to explore using [Seaborn](http://seaborn.pydata.org/index.html) to plot data.\n",
    "\n",
    "Our first plot is going to be to look at a [histogram](https://en.wikipedia.org/wiki/Histogram) of our particle measurements.\n",
    "\n",
    "Seaborn has several options for plotting histograms. We are going to use the ``distplot()`` function. \n",
    "\n",
    "* What happens when you change ```kde``` from False to True?"
   ]
  },
  {
   "cell_type": "code",
   "execution_count": null,
   "metadata": {
    "collapsed": false
   },
   "outputs": [],
   "source": [
    "fig1, ax1 = plt.subplots(1)\n",
    "sns.distplot(pm25[\"PM25_MAR_8\"], ax=ax1, kde=True)\n",
    "ax1.set_xlabel(\"PM25\")\n",
    "ax1.set_ylabel(\"Proportion\")\n",
    "ax1.set_title(\"Histogram of PM25 for March 8, 2016\")\n"
   ]
  },
  {
   "cell_type": "markdown",
   "metadata": {},
   "source": [
    "``jointplot`` has a number of options that determine what kind of joint plot to generate. The default is \"scatter\" but you can use any of the following:\n",
    "\n",
    "* \"scatter\"\n",
    "* \"reg\"\n",
    "* \"resid\"\n",
    "* \"kde\"\n",
    "* \"hex\"\n",
    "\n",
    "You can also change which color you want to plot."
   ]
  },
  {
   "cell_type": "code",
   "execution_count": null,
   "metadata": {
    "collapsed": false
   },
   "outputs": [],
   "source": [
    "sns.jointplot(x=\"Income\", y=\"PM25_MAR_8\", data=pm25, kind=\"reg\",\n",
    "             color='purple');"
   ]
  },
  {
   "cell_type": "markdown",
   "metadata": {},
   "source": [
    "### We can see that there is a reasonable linear relationship between polution and income\n",
    "#### Let's quantify this\n",
    "\n",
    "We will use ``statsmodels`` to do [ordinary least squares regression](https://en.wikipedia.org/wiki/Ordinary_least_squares).\n",
    "\n",
    "```Python\n",
    "mod = smf.ols(formula='PM25_MAR_8 ~ Income', data=pm25)\n",
    "```\n",
    "\n",
    "* Use Patsy to specify what our regressions is. This formula is stating a linear relationship between ``PM25_MAR_8`` to ``Income``.\n",
    "\n",
    "```Python\n",
    "'PM25_MAR_8 ~ Income'\n",
    "```\n",
    "```Python\n",
    "data=pm25\n",
    "```\n",
    "\n",
    "* Use the ``pm25`` dataframe\n",
    "* ``mod.fit()`` fits the model to the data\n",
    "* ```print(res.summary())``` provides a detailed report on how well the model fit the data."
   ]
  },
  {
   "cell_type": "code",
   "execution_count": null,
   "metadata": {
    "collapsed": false
   },
   "outputs": [],
   "source": [
    "mod = smf.ols(formula='PM25_MAR_8 ~ Income', data=pm25)\n",
    "res = mod.fit()\n",
    "print(res.summary())"
   ]
  },
  {
   "cell_type": "markdown",
   "metadata": {},
   "source": [
    "### This is a lot of information. What are the key points?\n",
    "\n",
    "#### Let's start by looking at our overall model.\n",
    "\n",
    "* **Prob (F-statistic):**           8.48e-10 ($8.48e^{-10}$). \n",
    "    * This is the probability that the linear relationship between our variables is purely due to chance.\n",
    "* **R-squared:**                       0.458\n",
    "    * This is the proportion of the variability in our data that is explained by our model.\n",
    "* **Cond. No.**                     1.22e+05 ($1.22e^{05}$)\n",
    "    * A large condition number indicates numeric problems with our model/data and mean the results are less reliable.\n",
    "\n",
    "#### Now let's look at our ``Income`` variable\n",
    "\n",
    "* **coef**=-3.74e-05 ($-3.74e^{-05}$). This is the slope of the line. The slope is negative, meaning as income **increases** air pollution **decreases.**\n",
    "* **P**=0.000. This is the \"p-value\" and describes the probability that the linear relationship is just random chance.\n"
   ]
  },
  {
   "cell_type": "markdown",
   "metadata": {},
   "source": [
    "## Let's repeat this for the relationship between ``Income`` and ``Elevation``"
   ]
  },
  {
   "cell_type": "code",
   "execution_count": null,
   "metadata": {
    "collapsed": false
   },
   "outputs": [],
   "source": [
    "sns.jointplot(y=\"Income\", x=\"Elevation\", data=pm25, kind=\"reg\",\n",
    "             color='purple');"
   ]
  },
  {
   "cell_type": "markdown",
   "metadata": {},
   "source": [
    "### The relationship between ``Income`` and ``Elevation`` is strong\n",
    "### Now let us use ``Elevation`` to predict ``PM25_MAR_8``"
   ]
  },
  {
   "cell_type": "code",
   "execution_count": null,
   "metadata": {
    "collapsed": false
   },
   "outputs": [],
   "source": [
    "mod = smf.ols(formula='PM25_MAR_8 ~ Elevation', data=pm25)\n",
    "res = mod.fit()\n",
    "print(res.summary())"
   ]
  },
  {
   "cell_type": "markdown",
   "metadata": {},
   "source": [
    "### Can we build a model that uses *both* ``Elevation`` and ``Income`` to"
   ]
  },
  {
   "cell_type": "code",
   "execution_count": null,
   "metadata": {
    "collapsed": false,
    "scrolled": true
   },
   "outputs": [],
   "source": [
    "mod = smf.ols(formula='PM25_MAR_8 ~ Elevation + Income + Elevation:Income', data=pm25)\n",
    "res = mod.fit()\n",
    "print(res.summary())"
   ]
  },
  {
   "cell_type": "markdown",
   "metadata": {},
   "source": [
    "### What happens when we include both predictors?"
   ]
  },
  {
   "cell_type": "markdown",
   "metadata": {},
   "source": [
    "# Now let's look at Ozone\n",
    "\n",
    "![Ozone](https://upload.wikimedia.org/wikipedia/commons/thumb/2/28/Ozone_cycle.svg/1280px-Ozone_cycle.svg.png)"
   ]
  },
  {
   "cell_type": "markdown",
   "metadata": {},
   "source": [
    "## We have ozone measurements at two times: 10:00 AM and 3:00 PM (15:00)\n",
    "\n",
    "#### How are these measurements different? (use ``distplot()`` to explore the histograms)\n",
    "#### What do you think might account for these differences?"
   ]
  },
  {
   "cell_type": "code",
   "execution_count": null,
   "metadata": {
    "collapsed": false
   },
   "outputs": [],
   "source": [
    "fig2, ax2 = plt.subplots(1)\n",
    "sns.distplot(ozone[\"Ozone_AUG_10\"], ax=ax2, label=\"10:00\")\n",
    "sns.distplot(ozone[\"Ozone_AUG_15\"], ax=ax2, color='r', label=\"15:00\")\n",
    "ax2.set_xlabel(\"Ozone Density\")\n",
    "ax2.legend()"
   ]
  },
  {
   "cell_type": "markdown",
   "metadata": {},
   "source": [
    "## Ozone vs pm25\n",
    "\n",
    "#### Using the same plotting and statistical functions we used above explore the relationship between ozone and income/elevation\n",
    "#### How does the relationship differ from pm25?"
   ]
  },
  {
   "cell_type": "code",
   "execution_count": null,
   "metadata": {
    "collapsed": false
   },
   "outputs": [],
   "source": [
    "sns.jointplot(x=\"Income\", y=\"Ozone_AUG_15\", data=ozone, kind=\"reg\",\n",
    "             color='purple');"
   ]
  },
  {
   "cell_type": "code",
   "execution_count": null,
   "metadata": {
    "collapsed": false
   },
   "outputs": [],
   "source": [
    "mod = smf.ols(formula='Ozone_AUG_15 ~ Elevation', data=ozone)\n",
    "res = mod.fit()\n",
    "print(res.summary())"
   ]
  },
  {
   "cell_type": "code",
   "execution_count": null,
   "metadata": {
    "collapsed": false
   },
   "outputs": [],
   "source": [
    "mod = smf.ols(formula='Ozone_AUG_15 ~ Income', data=ozone)\n",
    "res = mod.fit()\n",
    "print(res.summary())"
   ]
  },
  {
   "cell_type": "code",
   "execution_count": null,
   "metadata": {
    "collapsed": true
   },
   "outputs": [],
   "source": []
  }
 ],
 "metadata": {
  "anaconda-cloud": {},
  "kernelspec": {
   "display_name": "Python [6950]",
   "language": "python",
   "name": "Python [6950]"
  },
  "language_info": {
   "codemirror_mode": {
    "name": "ipython",
    "version": 3
   },
   "file_extension": ".py",
   "mimetype": "text/x-python",
   "name": "python",
   "nbconvert_exporter": "python",
   "pygments_lexer": "ipython3",
   "version": "3.5.3"
  }
 },
 "nbformat": 4,
 "nbformat_minor": 0
}
