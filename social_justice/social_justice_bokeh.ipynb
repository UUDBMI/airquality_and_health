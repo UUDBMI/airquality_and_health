{
 "cells": [
  {
   "cell_type": "markdown",
   "metadata": {},
   "source": [
    "# Air Quality and Social Justice\n",
    "\n",
    "In the Salt Lake area, where smog will periodically hide the mountains that surround the city, [air pollution](http://slcair.communication.utah.edu/) is a consistent concern. The smog is a result of the pollution trapped by the unique topographic features of the Wasatch area. In this notebook, we will explore the relationship between air quality (pm25 and ozone) and income and elevation in the Salt Lake valley. This will allow us to explore questions related to social justice such as, \"Is air pollution exposure equally distributed across different socio-economic groups?\""
   ]
  },
  {
   "cell_type": "markdown",
   "metadata": {},
   "source": [
    "### Import packages that we are going to use\n",
    "#### These include\n",
    "\n",
    "* [Pandas](http://pandas.pydata.org/index.html): A package for reading and manipulating tabular data.\n",
    "* [Bokeh](https://bokeh.pydata.org/en/latest/): Bokeh is a visualization library that provides versatile graphics and interactivity.\n",
    "* [Folium](http://python-visualization.github.io/folium/docs-v0.5.0/): Folium is a good package for visualizing geographic data.\n",
    "* [statsmodels](http://www.statsmodels.org/stable/): This package provides a number of common statistical functions for analysing data.\n"
   ]
  },
  {
   "cell_type": "code",
   "execution_count": 1,
   "metadata": {},
   "outputs": [],
   "source": [
    "import pandas as pd\n",
    "import statsmodels\n",
    "import statsmodels.formula.api as smf\n",
    "import patsy\n",
    "import numpy as np\n",
    "#import os\n",
    "#import folium"
   ]
  },
  {
   "cell_type": "code",
   "execution_count": 2,
   "metadata": {},
   "outputs": [
    {
     "data": {
      "text/html": [
       "\n",
       "    <div class=\"bk-root\">\n",
       "        <a href=\"https://bokeh.pydata.org\" target=\"_blank\" class=\"bk-logo bk-logo-small bk-logo-notebook\"></a>\n",
       "        <span id=\"5e3cc4c0-d790-44bf-9afe-2200212b1b42\">Loading BokehJS ...</span>\n",
       "    </div>"
      ]
     },
     "metadata": {},
     "output_type": "display_data"
    },
    {
     "data": {
      "application/javascript": [
       "\n",
       "(function(root) {\n",
       "  function now() {\n",
       "    return new Date();\n",
       "  }\n",
       "\n",
       "  var force = true;\n",
       "\n",
       "  if (typeof (root._bokeh_onload_callbacks) === \"undefined\" || force === true) {\n",
       "    root._bokeh_onload_callbacks = [];\n",
       "    root._bokeh_is_loading = undefined;\n",
       "  }\n",
       "\n",
       "  var JS_MIME_TYPE = 'application/javascript';\n",
       "  var HTML_MIME_TYPE = 'text/html';\n",
       "  var EXEC_MIME_TYPE = 'application/vnd.bokehjs_exec.v0+json';\n",
       "  var CLASS_NAME = 'output_bokeh rendered_html';\n",
       "\n",
       "  /**\n",
       "   * Render data to the DOM node\n",
       "   */\n",
       "  function render(props, node) {\n",
       "    var script = document.createElement(\"script\");\n",
       "    node.appendChild(script);\n",
       "  }\n",
       "\n",
       "  /**\n",
       "   * Handle when an output is cleared or removed\n",
       "   */\n",
       "  function handleClearOutput(event, handle) {\n",
       "    var cell = handle.cell;\n",
       "\n",
       "    var id = cell.output_area._bokeh_element_id;\n",
       "    var server_id = cell.output_area._bokeh_server_id;\n",
       "    // Clean up Bokeh references\n",
       "    if (id !== undefined) {\n",
       "      Bokeh.index[id].model.document.clear();\n",
       "      delete Bokeh.index[id];\n",
       "    }\n",
       "\n",
       "    if (server_id !== undefined) {\n",
       "      // Clean up Bokeh references\n",
       "      var cmd = \"from bokeh.io.state import curstate; print(curstate().uuid_to_server['\" + server_id + \"'].get_sessions()[0].document.roots[0]._id)\";\n",
       "      cell.notebook.kernel.execute(cmd, {\n",
       "        iopub: {\n",
       "          output: function(msg) {\n",
       "            var element_id = msg.content.text.trim();\n",
       "            Bokeh.index[element_id].model.document.clear();\n",
       "            delete Bokeh.index[element_id];\n",
       "          }\n",
       "        }\n",
       "      });\n",
       "      // Destroy server and session\n",
       "      var cmd = \"import bokeh.io.notebook as ion; ion.destroy_server('\" + server_id + \"')\";\n",
       "      cell.notebook.kernel.execute(cmd);\n",
       "    }\n",
       "  }\n",
       "\n",
       "  /**\n",
       "   * Handle when a new output is added\n",
       "   */\n",
       "  function handleAddOutput(event, handle) {\n",
       "    var output_area = handle.output_area;\n",
       "    var output = handle.output;\n",
       "\n",
       "    // limit handleAddOutput to display_data with EXEC_MIME_TYPE content only\n",
       "    if ((output.output_type != \"display_data\") || (!output.data.hasOwnProperty(EXEC_MIME_TYPE))) {\n",
       "      return\n",
       "    }\n",
       "\n",
       "    var toinsert = output_area.element.find(\".\" + CLASS_NAME.split(' ')[0]);\n",
       "\n",
       "    if (output.metadata[EXEC_MIME_TYPE][\"id\"] !== undefined) {\n",
       "      toinsert[toinsert.length - 1].firstChild.textContent = output.data[JS_MIME_TYPE];\n",
       "      // store reference to embed id on output_area\n",
       "      output_area._bokeh_element_id = output.metadata[EXEC_MIME_TYPE][\"id\"];\n",
       "    }\n",
       "    if (output.metadata[EXEC_MIME_TYPE][\"server_id\"] !== undefined) {\n",
       "      var bk_div = document.createElement(\"div\");\n",
       "      bk_div.innerHTML = output.data[HTML_MIME_TYPE];\n",
       "      var script_attrs = bk_div.children[0].attributes;\n",
       "      for (var i = 0; i < script_attrs.length; i++) {\n",
       "        toinsert[toinsert.length - 1].firstChild.setAttribute(script_attrs[i].name, script_attrs[i].value);\n",
       "      }\n",
       "      // store reference to server id on output_area\n",
       "      output_area._bokeh_server_id = output.metadata[EXEC_MIME_TYPE][\"server_id\"];\n",
       "    }\n",
       "  }\n",
       "\n",
       "  function register_renderer(events, OutputArea) {\n",
       "\n",
       "    function append_mime(data, metadata, element) {\n",
       "      // create a DOM node to render to\n",
       "      var toinsert = this.create_output_subarea(\n",
       "        metadata,\n",
       "        CLASS_NAME,\n",
       "        EXEC_MIME_TYPE\n",
       "      );\n",
       "      this.keyboard_manager.register_events(toinsert);\n",
       "      // Render to node\n",
       "      var props = {data: data, metadata: metadata[EXEC_MIME_TYPE]};\n",
       "      render(props, toinsert[toinsert.length - 1]);\n",
       "      element.append(toinsert);\n",
       "      return toinsert\n",
       "    }\n",
       "\n",
       "    /* Handle when an output is cleared or removed */\n",
       "    events.on('clear_output.CodeCell', handleClearOutput);\n",
       "    events.on('delete.Cell', handleClearOutput);\n",
       "\n",
       "    /* Handle when a new output is added */\n",
       "    events.on('output_added.OutputArea', handleAddOutput);\n",
       "\n",
       "    /**\n",
       "     * Register the mime type and append_mime function with output_area\n",
       "     */\n",
       "    OutputArea.prototype.register_mime_type(EXEC_MIME_TYPE, append_mime, {\n",
       "      /* Is output safe? */\n",
       "      safe: true,\n",
       "      /* Index of renderer in `output_area.display_order` */\n",
       "      index: 0\n",
       "    });\n",
       "  }\n",
       "\n",
       "  // register the mime type if in Jupyter Notebook environment and previously unregistered\n",
       "  if (root.Jupyter !== undefined) {\n",
       "    var events = require('base/js/events');\n",
       "    var OutputArea = require('notebook/js/outputarea').OutputArea;\n",
       "\n",
       "    if (OutputArea.prototype.mime_types().indexOf(EXEC_MIME_TYPE) == -1) {\n",
       "      register_renderer(events, OutputArea);\n",
       "    }\n",
       "  }\n",
       "\n",
       "  \n",
       "  if (typeof (root._bokeh_timeout) === \"undefined\" || force === true) {\n",
       "    root._bokeh_timeout = Date.now() + 5000;\n",
       "    root._bokeh_failed_load = false;\n",
       "  }\n",
       "\n",
       "  var NB_LOAD_WARNING = {'data': {'text/html':\n",
       "     \"<div style='background-color: #fdd'>\\n\"+\n",
       "     \"<p>\\n\"+\n",
       "     \"BokehJS does not appear to have successfully loaded. If loading BokehJS from CDN, this \\n\"+\n",
       "     \"may be due to a slow or bad network connection. Possible fixes:\\n\"+\n",
       "     \"</p>\\n\"+\n",
       "     \"<ul>\\n\"+\n",
       "     \"<li>re-rerun `output_notebook()` to attempt to load from CDN again, or</li>\\n\"+\n",
       "     \"<li>use INLINE resources instead, as so:</li>\\n\"+\n",
       "     \"</ul>\\n\"+\n",
       "     \"<code>\\n\"+\n",
       "     \"from bokeh.resources import INLINE\\n\"+\n",
       "     \"output_notebook(resources=INLINE)\\n\"+\n",
       "     \"</code>\\n\"+\n",
       "     \"</div>\"}};\n",
       "\n",
       "  function display_loaded() {\n",
       "    var el = document.getElementById(\"5e3cc4c0-d790-44bf-9afe-2200212b1b42\");\n",
       "    if (el != null) {\n",
       "      el.textContent = \"BokehJS is loading...\";\n",
       "    }\n",
       "    if (root.Bokeh !== undefined) {\n",
       "      if (el != null) {\n",
       "        el.textContent = \"BokehJS \" + root.Bokeh.version + \" successfully loaded.\";\n",
       "      }\n",
       "    } else if (Date.now() < root._bokeh_timeout) {\n",
       "      setTimeout(display_loaded, 100)\n",
       "    }\n",
       "  }\n",
       "\n",
       "\n",
       "  function run_callbacks() {\n",
       "    try {\n",
       "      root._bokeh_onload_callbacks.forEach(function(callback) { callback() });\n",
       "    }\n",
       "    finally {\n",
       "      delete root._bokeh_onload_callbacks\n",
       "    }\n",
       "    console.info(\"Bokeh: all callbacks have finished\");\n",
       "  }\n",
       "\n",
       "  function load_libs(js_urls, callback) {\n",
       "    root._bokeh_onload_callbacks.push(callback);\n",
       "    if (root._bokeh_is_loading > 0) {\n",
       "      console.log(\"Bokeh: BokehJS is being loaded, scheduling callback at\", now());\n",
       "      return null;\n",
       "    }\n",
       "    if (js_urls == null || js_urls.length === 0) {\n",
       "      run_callbacks();\n",
       "      return null;\n",
       "    }\n",
       "    console.log(\"Bokeh: BokehJS not loaded, scheduling load and callback at\", now());\n",
       "    root._bokeh_is_loading = js_urls.length;\n",
       "    for (var i = 0; i < js_urls.length; i++) {\n",
       "      var url = js_urls[i];\n",
       "      var s = document.createElement('script');\n",
       "      s.src = url;\n",
       "      s.async = false;\n",
       "      s.onreadystatechange = s.onload = function() {\n",
       "        root._bokeh_is_loading--;\n",
       "        if (root._bokeh_is_loading === 0) {\n",
       "          console.log(\"Bokeh: all BokehJS libraries loaded\");\n",
       "          run_callbacks()\n",
       "        }\n",
       "      };\n",
       "      s.onerror = function() {\n",
       "        console.warn(\"failed to load library \" + url);\n",
       "      };\n",
       "      console.log(\"Bokeh: injecting script tag for BokehJS library: \", url);\n",
       "      document.getElementsByTagName(\"head\")[0].appendChild(s);\n",
       "    }\n",
       "  };var element = document.getElementById(\"5e3cc4c0-d790-44bf-9afe-2200212b1b42\");\n",
       "  if (element == null) {\n",
       "    console.log(\"Bokeh: ERROR: autoload.js configured with elementid '5e3cc4c0-d790-44bf-9afe-2200212b1b42' but no matching script tag was found. \")\n",
       "    return false;\n",
       "  }\n",
       "\n",
       "  var js_urls = [\"https://cdn.pydata.org/bokeh/release/bokeh-0.12.16.min.js\", \"https://cdn.pydata.org/bokeh/release/bokeh-widgets-0.12.16.min.js\", \"https://cdn.pydata.org/bokeh/release/bokeh-tables-0.12.16.min.js\", \"https://cdn.pydata.org/bokeh/release/bokeh-gl-0.12.16.min.js\"];\n",
       "\n",
       "  var inline_js = [\n",
       "    function(Bokeh) {\n",
       "      Bokeh.set_log_level(\"info\");\n",
       "    },\n",
       "    \n",
       "    function(Bokeh) {\n",
       "      \n",
       "    },\n",
       "    function(Bokeh) {\n",
       "      console.log(\"Bokeh: injecting CSS: https://cdn.pydata.org/bokeh/release/bokeh-0.12.16.min.css\");\n",
       "      Bokeh.embed.inject_css(\"https://cdn.pydata.org/bokeh/release/bokeh-0.12.16.min.css\");\n",
       "      console.log(\"Bokeh: injecting CSS: https://cdn.pydata.org/bokeh/release/bokeh-widgets-0.12.16.min.css\");\n",
       "      Bokeh.embed.inject_css(\"https://cdn.pydata.org/bokeh/release/bokeh-widgets-0.12.16.min.css\");\n",
       "      console.log(\"Bokeh: injecting CSS: https://cdn.pydata.org/bokeh/release/bokeh-tables-0.12.16.min.css\");\n",
       "      Bokeh.embed.inject_css(\"https://cdn.pydata.org/bokeh/release/bokeh-tables-0.12.16.min.css\");\n",
       "    }\n",
       "  ];\n",
       "\n",
       "  function run_inline_js() {\n",
       "    \n",
       "    if ((root.Bokeh !== undefined) || (force === true)) {\n",
       "      for (var i = 0; i < inline_js.length; i++) {\n",
       "        inline_js[i].call(root, root.Bokeh);\n",
       "      }if (force === true) {\n",
       "        display_loaded();\n",
       "      }} else if (Date.now() < root._bokeh_timeout) {\n",
       "      setTimeout(run_inline_js, 100);\n",
       "    } else if (!root._bokeh_failed_load) {\n",
       "      console.log(\"Bokeh: BokehJS failed to load within specified timeout.\");\n",
       "      root._bokeh_failed_load = true;\n",
       "    } else if (force !== true) {\n",
       "      var cell = $(document.getElementById(\"5e3cc4c0-d790-44bf-9afe-2200212b1b42\")).parents('.cell').data().cell;\n",
       "      cell.output_area.append_execute_result(NB_LOAD_WARNING)\n",
       "    }\n",
       "\n",
       "  }\n",
       "\n",
       "  if (root._bokeh_is_loading === 0) {\n",
       "    console.log(\"Bokeh: BokehJS loaded, going straight to plotting\");\n",
       "    run_inline_js();\n",
       "  } else {\n",
       "    load_libs(js_urls, function() {\n",
       "      console.log(\"Bokeh: BokehJS plotting callback run at\", now());\n",
       "      run_inline_js();\n",
       "    });\n",
       "  }\n",
       "}(window));"
      ],
      "application/vnd.bokehjs_load.v0+json": "\n(function(root) {\n  function now() {\n    return new Date();\n  }\n\n  var force = true;\n\n  if (typeof (root._bokeh_onload_callbacks) === \"undefined\" || force === true) {\n    root._bokeh_onload_callbacks = [];\n    root._bokeh_is_loading = undefined;\n  }\n\n  \n\n  \n  if (typeof (root._bokeh_timeout) === \"undefined\" || force === true) {\n    root._bokeh_timeout = Date.now() + 5000;\n    root._bokeh_failed_load = false;\n  }\n\n  var NB_LOAD_WARNING = {'data': {'text/html':\n     \"<div style='background-color: #fdd'>\\n\"+\n     \"<p>\\n\"+\n     \"BokehJS does not appear to have successfully loaded. If loading BokehJS from CDN, this \\n\"+\n     \"may be due to a slow or bad network connection. Possible fixes:\\n\"+\n     \"</p>\\n\"+\n     \"<ul>\\n\"+\n     \"<li>re-rerun `output_notebook()` to attempt to load from CDN again, or</li>\\n\"+\n     \"<li>use INLINE resources instead, as so:</li>\\n\"+\n     \"</ul>\\n\"+\n     \"<code>\\n\"+\n     \"from bokeh.resources import INLINE\\n\"+\n     \"output_notebook(resources=INLINE)\\n\"+\n     \"</code>\\n\"+\n     \"</div>\"}};\n\n  function display_loaded() {\n    var el = document.getElementById(\"5e3cc4c0-d790-44bf-9afe-2200212b1b42\");\n    if (el != null) {\n      el.textContent = \"BokehJS is loading...\";\n    }\n    if (root.Bokeh !== undefined) {\n      if (el != null) {\n        el.textContent = \"BokehJS \" + root.Bokeh.version + \" successfully loaded.\";\n      }\n    } else if (Date.now() < root._bokeh_timeout) {\n      setTimeout(display_loaded, 100)\n    }\n  }\n\n\n  function run_callbacks() {\n    try {\n      root._bokeh_onload_callbacks.forEach(function(callback) { callback() });\n    }\n    finally {\n      delete root._bokeh_onload_callbacks\n    }\n    console.info(\"Bokeh: all callbacks have finished\");\n  }\n\n  function load_libs(js_urls, callback) {\n    root._bokeh_onload_callbacks.push(callback);\n    if (root._bokeh_is_loading > 0) {\n      console.log(\"Bokeh: BokehJS is being loaded, scheduling callback at\", now());\n      return null;\n    }\n    if (js_urls == null || js_urls.length === 0) {\n      run_callbacks();\n      return null;\n    }\n    console.log(\"Bokeh: BokehJS not loaded, scheduling load and callback at\", now());\n    root._bokeh_is_loading = js_urls.length;\n    for (var i = 0; i < js_urls.length; i++) {\n      var url = js_urls[i];\n      var s = document.createElement('script');\n      s.src = url;\n      s.async = false;\n      s.onreadystatechange = s.onload = function() {\n        root._bokeh_is_loading--;\n        if (root._bokeh_is_loading === 0) {\n          console.log(\"Bokeh: all BokehJS libraries loaded\");\n          run_callbacks()\n        }\n      };\n      s.onerror = function() {\n        console.warn(\"failed to load library \" + url);\n      };\n      console.log(\"Bokeh: injecting script tag for BokehJS library: \", url);\n      document.getElementsByTagName(\"head\")[0].appendChild(s);\n    }\n  };var element = document.getElementById(\"5e3cc4c0-d790-44bf-9afe-2200212b1b42\");\n  if (element == null) {\n    console.log(\"Bokeh: ERROR: autoload.js configured with elementid '5e3cc4c0-d790-44bf-9afe-2200212b1b42' but no matching script tag was found. \")\n    return false;\n  }\n\n  var js_urls = [\"https://cdn.pydata.org/bokeh/release/bokeh-0.12.16.min.js\", \"https://cdn.pydata.org/bokeh/release/bokeh-widgets-0.12.16.min.js\", \"https://cdn.pydata.org/bokeh/release/bokeh-tables-0.12.16.min.js\", \"https://cdn.pydata.org/bokeh/release/bokeh-gl-0.12.16.min.js\"];\n\n  var inline_js = [\n    function(Bokeh) {\n      Bokeh.set_log_level(\"info\");\n    },\n    \n    function(Bokeh) {\n      \n    },\n    function(Bokeh) {\n      console.log(\"Bokeh: injecting CSS: https://cdn.pydata.org/bokeh/release/bokeh-0.12.16.min.css\");\n      Bokeh.embed.inject_css(\"https://cdn.pydata.org/bokeh/release/bokeh-0.12.16.min.css\");\n      console.log(\"Bokeh: injecting CSS: https://cdn.pydata.org/bokeh/release/bokeh-widgets-0.12.16.min.css\");\n      Bokeh.embed.inject_css(\"https://cdn.pydata.org/bokeh/release/bokeh-widgets-0.12.16.min.css\");\n      console.log(\"Bokeh: injecting CSS: https://cdn.pydata.org/bokeh/release/bokeh-tables-0.12.16.min.css\");\n      Bokeh.embed.inject_css(\"https://cdn.pydata.org/bokeh/release/bokeh-tables-0.12.16.min.css\");\n    }\n  ];\n\n  function run_inline_js() {\n    \n    if ((root.Bokeh !== undefined) || (force === true)) {\n      for (var i = 0; i < inline_js.length; i++) {\n        inline_js[i].call(root, root.Bokeh);\n      }if (force === true) {\n        display_loaded();\n      }} else if (Date.now() < root._bokeh_timeout) {\n      setTimeout(run_inline_js, 100);\n    } else if (!root._bokeh_failed_load) {\n      console.log(\"Bokeh: BokehJS failed to load within specified timeout.\");\n      root._bokeh_failed_load = true;\n    } else if (force !== true) {\n      var cell = $(document.getElementById(\"5e3cc4c0-d790-44bf-9afe-2200212b1b42\")).parents('.cell').data().cell;\n      cell.output_area.append_execute_result(NB_LOAD_WARNING)\n    }\n\n  }\n\n  if (root._bokeh_is_loading === 0) {\n    console.log(\"Bokeh: BokehJS loaded, going straight to plotting\");\n    run_inline_js();\n  } else {\n    load_libs(js_urls, function() {\n      console.log(\"Bokeh: BokehJS plotting callback run at\", now());\n      run_inline_js();\n    });\n  }\n}(window));"
     },
     "metadata": {},
     "output_type": "display_data"
    }
   ],
   "source": [
    "from bokeh.io import output_notebook, show\n",
    "from bokeh.plotting import figure\n",
    "from bokeh.models import ColumnDataSource, LinearColorMapper, ColorBar, HoverTool\n",
    "from bokeh.palettes import Viridis256\n",
    "from bokeh.layouts import gridplot\n",
    "output_notebook()"
   ]
  },
  {
   "cell_type": "markdown",
   "metadata": {},
   "source": [
    "### What are these data\n",
    "\n",
    "In our data directory we have two **csv** files (csv stands for **C**omma **S**eparated **V**alues). For different regions in the Salt Lake valley (zip code), we have computed the average\n",
    "\n",
    "1. Income\n",
    "1. Elevation\n",
    "1. pm25 levels for March 8, 2016\n",
    "1. ozone levels at 10:00 am and 3:00 PM from August 2016.\n",
    "\n",
    "These files have been created by Dr. Daniel L. Mendoza at the University of Utah."
   ]
  },
  {
   "cell_type": "markdown",
   "metadata": {},
   "source": [
    "## Use Pandas to read in the data\n",
    "\n",
    "Pandas reads the data into a Pandas **dataframe** which we assigning to the variable ``pm25``. Dataframes have two methods for looking at the data, ``head()`` and ``tail()``, to look at the first and last rows, respectively."
   ]
  },
  {
   "cell_type": "code",
   "execution_count": 4,
   "metadata": {},
   "outputs": [
    {
     "data": {
      "text/html": [
       "<div>\n",
       "<style scoped>\n",
       "    .dataframe tbody tr th:only-of-type {\n",
       "        vertical-align: middle;\n",
       "    }\n",
       "\n",
       "    .dataframe tbody tr th {\n",
       "        vertical-align: top;\n",
       "    }\n",
       "\n",
       "    .dataframe thead th {\n",
       "        text-align: right;\n",
       "    }\n",
       "</style>\n",
       "<table border=\"1\" class=\"dataframe\">\n",
       "  <thead>\n",
       "    <tr style=\"text-align: right;\">\n",
       "      <th></th>\n",
       "      <th>Block_Group_ID</th>\n",
       "      <th>Income</th>\n",
       "      <th>Elevation</th>\n",
       "      <th>PM25_MAR_8</th>\n",
       "    </tr>\n",
       "  </thead>\n",
       "  <tbody>\n",
       "    <tr>\n",
       "      <th>60</th>\n",
       "      <td>4.903510e+11</td>\n",
       "      <td>69188.0</td>\n",
       "      <td>1321.630859</td>\n",
       "      <td>4.409883</td>\n",
       "    </tr>\n",
       "    <tr>\n",
       "      <th>61</th>\n",
       "      <td>4.903510e+11</td>\n",
       "      <td>69493.0</td>\n",
       "      <td>1312.114014</td>\n",
       "      <td>3.989309</td>\n",
       "    </tr>\n",
       "    <tr>\n",
       "      <th>62</th>\n",
       "      <td>4.903510e+11</td>\n",
       "      <td>92551.0</td>\n",
       "      <td>1557.853394</td>\n",
       "      <td>1.537066</td>\n",
       "    </tr>\n",
       "    <tr>\n",
       "      <th>63</th>\n",
       "      <td>4.903510e+11</td>\n",
       "      <td>60817.0</td>\n",
       "      <td>1552.666016</td>\n",
       "      <td>2.252555</td>\n",
       "    </tr>\n",
       "    <tr>\n",
       "      <th>64</th>\n",
       "      <td>4.903600e+11</td>\n",
       "      <td>NaN</td>\n",
       "      <td>1275.227905</td>\n",
       "      <td>3.717521</td>\n",
       "    </tr>\n",
       "  </tbody>\n",
       "</table>\n",
       "</div>"
      ],
      "text/plain": [
       "    Block_Group_ID   Income    Elevation  PM25_MAR_8\n",
       "60    4.903510e+11  69188.0  1321.630859    4.409883\n",
       "61    4.903510e+11  69493.0  1312.114014    3.989309\n",
       "62    4.903510e+11  92551.0  1557.853394    1.537066\n",
       "63    4.903510e+11  60817.0  1552.666016    2.252555\n",
       "64    4.903600e+11      NaN  1275.227905    3.717521"
      ]
     },
     "execution_count": 4,
     "metadata": {},
     "output_type": "execute_result"
    }
   ],
   "source": [
    "pm25 = pd.read_csv(\"Class_PM25_Data.csv\")\n",
    "pm25.tail()"
   ]
  },
  {
   "cell_type": "markdown",
   "metadata": {},
   "source": [
    "#### Notice the ``NaN`` value for Income in our last data row\n",
    "\n",
    "Pandas uses ``NaN`` (Not a number) to represent missing values. That is our data file did not have an income value for the last row. There are a variety of approaches for dealing with missing data, but we are just going to drop that value using the Pandas dataframe ``dropna`` method.\n",
    "\n"
   ]
  },
  {
   "cell_type": "code",
   "execution_count": 5,
   "metadata": {},
   "outputs": [
    {
     "data": {
      "text/html": [
       "<div>\n",
       "<style scoped>\n",
       "    .dataframe tbody tr th:only-of-type {\n",
       "        vertical-align: middle;\n",
       "    }\n",
       "\n",
       "    .dataframe tbody tr th {\n",
       "        vertical-align: top;\n",
       "    }\n",
       "\n",
       "    .dataframe thead th {\n",
       "        text-align: right;\n",
       "    }\n",
       "</style>\n",
       "<table border=\"1\" class=\"dataframe\">\n",
       "  <thead>\n",
       "    <tr style=\"text-align: right;\">\n",
       "      <th></th>\n",
       "      <th>Block_Group_ID</th>\n",
       "      <th>Income</th>\n",
       "      <th>Elevation</th>\n",
       "      <th>PM25_MAR_8</th>\n",
       "    </tr>\n",
       "  </thead>\n",
       "  <tbody>\n",
       "    <tr>\n",
       "      <th>59</th>\n",
       "      <td>4.903510e+11</td>\n",
       "      <td>35375.0</td>\n",
       "      <td>1305.029541</td>\n",
       "      <td>3.595146</td>\n",
       "    </tr>\n",
       "    <tr>\n",
       "      <th>60</th>\n",
       "      <td>4.903510e+11</td>\n",
       "      <td>69188.0</td>\n",
       "      <td>1321.630859</td>\n",
       "      <td>4.409883</td>\n",
       "    </tr>\n",
       "    <tr>\n",
       "      <th>61</th>\n",
       "      <td>4.903510e+11</td>\n",
       "      <td>69493.0</td>\n",
       "      <td>1312.114014</td>\n",
       "      <td>3.989309</td>\n",
       "    </tr>\n",
       "    <tr>\n",
       "      <th>62</th>\n",
       "      <td>4.903510e+11</td>\n",
       "      <td>92551.0</td>\n",
       "      <td>1557.853394</td>\n",
       "      <td>1.537066</td>\n",
       "    </tr>\n",
       "    <tr>\n",
       "      <th>63</th>\n",
       "      <td>4.903510e+11</td>\n",
       "      <td>60817.0</td>\n",
       "      <td>1552.666016</td>\n",
       "      <td>2.252555</td>\n",
       "    </tr>\n",
       "  </tbody>\n",
       "</table>\n",
       "</div>"
      ],
      "text/plain": [
       "    Block_Group_ID   Income    Elevation  PM25_MAR_8\n",
       "59    4.903510e+11  35375.0  1305.029541    3.595146\n",
       "60    4.903510e+11  69188.0  1321.630859    4.409883\n",
       "61    4.903510e+11  69493.0  1312.114014    3.989309\n",
       "62    4.903510e+11  92551.0  1557.853394    1.537066\n",
       "63    4.903510e+11  60817.0  1552.666016    2.252555"
      ]
     },
     "execution_count": 5,
     "metadata": {},
     "output_type": "execute_result"
    }
   ],
   "source": [
    "pm25 = pm25.dropna()\n",
    "pm25.tail()"
   ]
  },
  {
   "cell_type": "markdown",
   "metadata": {},
   "source": [
    "### Now let's repeat this with the ozone data"
   ]
  },
  {
   "cell_type": "code",
   "execution_count": 6,
   "metadata": {},
   "outputs": [
    {
     "data": {
      "text/html": [
       "<div>\n",
       "<style scoped>\n",
       "    .dataframe tbody tr th:only-of-type {\n",
       "        vertical-align: middle;\n",
       "    }\n",
       "\n",
       "    .dataframe tbody tr th {\n",
       "        vertical-align: top;\n",
       "    }\n",
       "\n",
       "    .dataframe thead th {\n",
       "        text-align: right;\n",
       "    }\n",
       "</style>\n",
       "<table border=\"1\" class=\"dataframe\">\n",
       "  <thead>\n",
       "    <tr style=\"text-align: right;\">\n",
       "      <th></th>\n",
       "      <th>Block_Group_ID</th>\n",
       "      <th>Income</th>\n",
       "      <th>Elevation</th>\n",
       "      <th>Ozone_AUG_10</th>\n",
       "      <th>Ozone_AUG_15</th>\n",
       "    </tr>\n",
       "  </thead>\n",
       "  <tbody>\n",
       "    <tr>\n",
       "      <th>59</th>\n",
       "      <td>490351140001</td>\n",
       "      <td>35375.0</td>\n",
       "      <td>1305.029541</td>\n",
       "      <td>22.561118</td>\n",
       "      <td>48.027862</td>\n",
       "    </tr>\n",
       "    <tr>\n",
       "      <th>60</th>\n",
       "      <td>490351142001</td>\n",
       "      <td>69188.0</td>\n",
       "      <td>1321.630859</td>\n",
       "      <td>30.320732</td>\n",
       "      <td>57.617152</td>\n",
       "    </tr>\n",
       "    <tr>\n",
       "      <th>61</th>\n",
       "      <td>490351142002</td>\n",
       "      <td>69493.0</td>\n",
       "      <td>1312.114014</td>\n",
       "      <td>31.675820</td>\n",
       "      <td>59.208955</td>\n",
       "    </tr>\n",
       "    <tr>\n",
       "      <th>62</th>\n",
       "      <td>490351152091</td>\n",
       "      <td>92551.0</td>\n",
       "      <td>1557.853394</td>\n",
       "      <td>36.326890</td>\n",
       "      <td>58.199097</td>\n",
       "    </tr>\n",
       "    <tr>\n",
       "      <th>63</th>\n",
       "      <td>490351152092</td>\n",
       "      <td>60817.0</td>\n",
       "      <td>1552.666016</td>\n",
       "      <td>36.182543</td>\n",
       "      <td>57.752619</td>\n",
       "    </tr>\n",
       "  </tbody>\n",
       "</table>\n",
       "</div>"
      ],
      "text/plain": [
       "    Block_Group_ID   Income    Elevation  Ozone_AUG_10  Ozone_AUG_15\n",
       "59    490351140001  35375.0  1305.029541     22.561118     48.027862\n",
       "60    490351142001  69188.0  1321.630859     30.320732     57.617152\n",
       "61    490351142002  69493.0  1312.114014     31.675820     59.208955\n",
       "62    490351152091  92551.0  1557.853394     36.326890     58.199097\n",
       "63    490351152092  60817.0  1552.666016     36.182543     57.752619"
      ]
     },
     "execution_count": 6,
     "metadata": {},
     "output_type": "execute_result"
    }
   ],
   "source": [
    "ozone = pd.read_csv(\"Class_Ozone_Data.csv\")\n",
    "ozone = ozone.dropna()\n",
    "ozone.tail()"
   ]
  },
  {
   "cell_type": "markdown",
   "metadata": {},
   "source": [
    "## Exploratory Plots\n",
    "\n",
    "In statistics, it is always a good idea to start by plotting your data to get an idea of what it looks like. This can help you determine which analyses would be useful to perform. Here we are going to be using Bokeh to do some exploratory visualization.\n",
    "\n",
    "Our first plot is going to be a scatterplot to visualize the relationships between elevation, income, and PM2.5 exposure. We've used a colorbar to show the differences in elevation. Hover over the points to reveal the exact elevation."
   ]
  },
  {
   "cell_type": "code",
   "execution_count": 7,
   "metadata": {},
   "outputs": [
    {
     "data": {
      "text/html": [
       "\n",
       "<div class=\"bk-root\">\n",
       "    <div class=\"bk-plotdiv\" id=\"ba8a1e9f-26b7-40db-aab4-6174e01c2c68\"></div>\n",
       "</div>"
      ]
     },
     "metadata": {},
     "output_type": "display_data"
    },
    {
     "data": {
      "application/javascript": [
       "(function(root) {\n",
       "  function embed_document(root) {\n",
       "    \n",
       "  var docs_json = {\"0ca6bf93-282f-40ac-be74-362c6509668a\":{\"roots\":{\"references\":[{\"attributes\":{},\"id\":\"925c0fd5-af09-47e6-9b43-6015cf6d3877\",\"type\":\"BasicTicker\"},{\"attributes\":{\"source\":{\"id\":\"050d03d6-b836-4164-aa39-c26c947c0108\",\"type\":\"ColumnDataSource\"}},\"id\":\"16c54dcf-841b-48d6-8775-7615c1db460e\",\"type\":\"CDSView\"},{\"attributes\":{\"plot\":{\"id\":\"d872c142-3b1b-4e2e-99da-1682370745af\",\"subtype\":\"Figure\",\"type\":\"Plot\"},\"ticker\":{\"id\":\"925c0fd5-af09-47e6-9b43-6015cf6d3877\",\"type\":\"BasicTicker\"}},\"id\":\"6e4b34f1-8b2c-4d47-9526-5948e7065ffa\",\"type\":\"Grid\"},{\"attributes\":{\"axis_label\":\"PM2.5 Level\",\"formatter\":{\"id\":\"8aef1288-b597-46d9-aa16-c8903b50fae7\",\"type\":\"BasicTickFormatter\"},\"plot\":{\"id\":\"d872c142-3b1b-4e2e-99da-1682370745af\",\"subtype\":\"Figure\",\"type\":\"Plot\"},\"ticker\":{\"id\":\"d161f8eb-4212-499c-a745-6f3512bf2808\",\"type\":\"BasicTicker\"}},\"id\":\"fea1475b-181e-44cb-a5a1-263d2846a5f7\",\"type\":\"LinearAxis\"},{\"attributes\":{},\"id\":\"d161f8eb-4212-499c-a745-6f3512bf2808\",\"type\":\"BasicTicker\"},{\"attributes\":{\"callback\":null,\"data\":{\"Block_Group_ID\":{\"__ndarray__\":\"AABwnsyKXEIAAHCezIpcQgAAcJ7MilxCAABwnsyKXEIAAHCezIpcQgAAcJ7MilxCAABwnsyKXEIAAHCezIpcQgAAcJ7MilxCAABwnsyKXEIAAHCezIpcQgAAcJ7MilxCAABwnsyKXEIAAHCezIpcQgAAcJ7MilxCAABwnsyKXEIAAHCezIpcQgAAcJ7MilxCAABwnsyKXEIAAHCezIpcQgAAcJ7MilxCAABwnsyKXEIAAHCezIpcQgAAcJ7MilxCAABwnsyKXEIAAHCezIpcQgAAcJ7MilxCAABwnsyKXEIAAHCezIpcQgAAcJ7MilxCAABwnsyKXEIAAHCezIpcQgAAcJ7MilxCAABwnsyKXEIAAHCezIpcQgAAcJ7MilxCAABwnsyKXEIAAHCezIpcQgAAcJ7MilxCAABwnsyKXEIAAHCezIpcQgAAcJ7MilxCAABwnsyKXEIAAHCezIpcQgAAcJ7MilxCAABwnsyKXEIAAHCezIpcQgAAcJ7MilxCAABwnsyKXEIAAHCezIpcQgAAcJ7MilxCAABwnsyKXEIAAHCezIpcQgAAcJ7MilxCAABwnsyKXEIAAHCezIpcQgAAcJ7MilxCAABwnsyKXEIAAHCezIpcQgAAcJ7MilxCAABwnsyKXEIAAHCezIpcQgAAcJ7MilxCAABwnsyKXEI=\",\"dtype\":\"float64\",\"shape\":[64]},\"Elevation\":{\"__ndarray__\":\"1t8SgL9ulEAZrg6AaEOUQG8MAcDhJpRAOpUMALVXlEAZrg6AaEOUQGXEBaBxV5RA51Hxf0eklEDnUfF/R6SUQOdR8X9HpJRAYabtX9kJlkDKiAtAgyGVQGGm7V/ZCZZAHcnlP4RNlUAdyeU/hE2VQB3J5T+ETZVASgfr/8yylEBKB+v/zLKUQEoH6//MspRASgfr/8yylEDW3xKAj3mUQGXEBaBxV5RAZcQFoHFXlEDV0AZgwz+UQMqIC0CTJ5RAMVwdAPFYlEBMFvcfOVCUQFde8j+5OZRA51Hxf1colECM1eb/pS+UQIzV5v+lL5RAI/YJoEg7lEAUkPY/IHSUQHxjCADeTZRAFJD2PxBplEDhJw6gf5GUQAQeGEA4YJRAeEXwv7VelEAXnwJgTOuVQBefAmBM65VAF58CYEzrlUDCTxxAPyCVQPzh57/3jJVAjNXm/wW3lEB2NuSfOTCVQCHn/X8cm5VA7G8JwH/NlkAQdR+AFLmWQCHn/X8sqpZAF58CYEzrlUBp4h3gOTuWQCHn/X8sqpZAaeId4Dk7lkCfWRKgRiWUQC0+BcAoLJRAq7AZ4DI4lECrsBngMjiUQKuwGeAyOJRA4ScOoB9UlEBMFvcfiT2UQJHz/j8eZJRAjNXm/4WmlEAlBRbAdICUQGniHeBpV5hAdCoZAKpCmEA=\",\"dtype\":\"float64\",\"shape\":[64]},\"Income\":{\"__ndarray__\":\"AAAAAMBP5UAAAAAA4HfhQAAAAAAgseJAAAAAAGBL70AAAAAAYBviQAAAAAAA/9RAAAAAAEAY5EAAAAAAgH3gQAAAAADAV+JAAAAAAMBT4EAAAAAAgHjXQAAAAAAABb9AAAAAAAAl3UAAAAAAQGrRQAAAAABgWORAAAAAAACx30AAAAAA4OLgQAAAAAAAvd9AAAAAAMAK2kAAAAAAwK/SQAAAAAAAr99AAAAAAICd3UAAAAAAwD7aQAAAAADAad9AAAAAAAAV10AAAAAAAD/XQAAAAAAAtdlAAAAAAEAw4kAAAAAA4EHgQAAAAAAAF9FAAAAAAACa4EAAAAAAIMHsQAAAAAAg8OpAAAAAACC15EAAAAAAAOHhQAAAAABg7OdAAAAAAIBc4kAAAAAAgG3rQAAAAACwGfFAAAAAABAp8EAAAAAAsIXxQAAAAAAATetAAAAAAEBK7kAAAAAAUNvxQAAAAAAATOZAAAAAABDp9kAAAAAA4Nv0QAAAAABA2/FAAAAAAIAx50AAAAAAwB3zQAAAAACQWPNAAAAAAEBq80AAAAAAIJvkQAAAAADATeNAAAAAAMAT1kAAAAAAgLPlQAAAAADAKutAAAAAAEAW6UAAAAAAAMfXQAAAAADgReFAAAAAAEDk8EAAAAAAUPfwQAAAAABwmPZAAAAAACCy7UA=\",\"dtype\":\"float64\",\"shape\":[64]},\"PM25_MAR_8\":{\"__ndarray__\":\"mNV4Pyc2DUAz+0txprgOQJw9trYHqQ9AzvzNOMuQD0BYaY1spzANQNaWu0gBQxJAYwhjuPhjCUB2aULhUwMOQBkS8J4VRg1AAAAAAACADEDc4ykEop4LQE/i43uV7AtA5wg3Hg7oDUABUBEcof8IQCjHRhul4QpAbTu0YpQMEEDcIOuNgBAPQN8FtO7LYwtAD88DOdeRDUBmnXD9W1IQQJ9TRBFIfQ5A9krkeMG6FUDhWAPT6ukPQJFLw8DYJhNAr4+GB1hdDkBublEIEv8QQMQ9Rfd0mxFA/qncNwM9E0BdrHAX1gsMQElzGlh96A1AWT+EWADqCUBNPjb8gNkDQFv2JrFkaQVApmoqpxcGA0D3Y/gnb2IEQFshPyrkZwZAAAAAAACAA0CpD4JgHoL2P7HYHKMZ/Ps/WzUZnxM89z+kgl0p2Nr5P90Wjf6V4gNAGNVuMN5L+z/rJZ2zy5D5PwmZ2DpApQNAZmZmZmZm9j/YGURDfSEAQHIbd8TNo/U/rLbf/Zge9j/YLeYNTnH0P7mj9XPncvU/D1atloVA9T92zSMAsVEWQEWVsCLimxFADad7hjiOEUAJE9zOEooNQDI8tJeGUAlA/pXN0ANlC0AW86F7PqkCQMttDwPcwgxAnHDaTLijEUDP7dy2GuoPQO6kdJ/Sl/g/iLIQTTsFAkA=\",\"dtype\":\"float64\",\"shape\":[64]},\"index\":[0,1,2,3,4,5,6,7,8,9,10,11,12,13,14,15,16,17,18,19,20,21,22,23,24,25,26,27,28,29,30,31,32,33,34,35,36,37,38,39,40,41,42,43,44,45,46,47,48,49,50,51,52,53,54,55,56,57,58,59,60,61,62,63]},\"selected\":{\"id\":\"e9a403b8-0be4-4e64-8d95-965daef0f597\",\"type\":\"Selection\"},\"selection_policy\":{\"id\":\"957af950-ea59-4ab7-9ccb-495ebd561cd4\",\"type\":\"UnionRenderers\"}},\"id\":\"050d03d6-b836-4164-aa39-c26c947c0108\",\"type\":\"ColumnDataSource\"},{\"attributes\":{\"dimension\":1,\"plot\":{\"id\":\"d872c142-3b1b-4e2e-99da-1682370745af\",\"subtype\":\"Figure\",\"type\":\"Plot\"},\"ticker\":{\"id\":\"d161f8eb-4212-499c-a745-6f3512bf2808\",\"type\":\"BasicTicker\"}},\"id\":\"53792714-12bb-4c16-b2fa-cb7378f47367\",\"type\":\"Grid\"},{\"attributes\":{},\"id\":\"e9a403b8-0be4-4e64-8d95-965daef0f597\",\"type\":\"Selection\"},{\"attributes\":{\"active_drag\":\"auto\",\"active_inspect\":\"auto\",\"active_scroll\":\"auto\",\"active_tap\":\"auto\",\"tools\":[{\"id\":\"c780d71a-d7e3-4991-9c85-b0fc471506b5\",\"type\":\"HoverTool\"},{\"id\":\"f4c3a9c5-c2e3-470b-b041-224c54d022bd\",\"type\":\"PanTool\"},{\"id\":\"b8e603d1-d145-4395-b386-881728ed3059\",\"type\":\"WheelZoomTool\"},{\"id\":\"e276374b-db3f-44ef-8af3-328430015443\",\"type\":\"ResetTool\"}]},\"id\":\"1eb66598-a816-4408-9c70-0f2553ccb70e\",\"type\":\"Toolbar\"},{\"attributes\":{\"callback\":null,\"renderers\":\"auto\",\"tooltips\":[[\"elevation\",\"@Elevation\"]]},\"id\":\"c780d71a-d7e3-4991-9c85-b0fc471506b5\",\"type\":\"HoverTool\"},{\"attributes\":{},\"id\":\"863c20da-a2c2-45b2-9c73-e947f39b9a0f\",\"type\":\"BasicTickFormatter\"},{\"attributes\":{\"callback\":null},\"id\":\"5d3b9e04-1a14-45c3-9b6d-7c95f59a73eb\",\"type\":\"DataRange1d\"},{\"attributes\":{},\"id\":\"f4c3a9c5-c2e3-470b-b041-224c54d022bd\",\"type\":\"PanTool\"},{\"attributes\":{},\"id\":\"3189f205-6516-46c3-ba70-23c435f20c10\",\"type\":\"BasicTickFormatter\"},{\"attributes\":{},\"id\":\"b8e603d1-d145-4395-b386-881728ed3059\",\"type\":\"WheelZoomTool\"},{\"attributes\":{\"below\":[{\"id\":\"050a7780-5ac1-4443-8542-0b29c08613ff\",\"type\":\"LinearAxis\"}],\"left\":[{\"id\":\"fea1475b-181e-44cb-a5a1-263d2846a5f7\",\"type\":\"LinearAxis\"}],\"plot_height\":400,\"plot_width\":900,\"renderers\":[{\"id\":\"050a7780-5ac1-4443-8542-0b29c08613ff\",\"type\":\"LinearAxis\"},{\"id\":\"6e4b34f1-8b2c-4d47-9526-5948e7065ffa\",\"type\":\"Grid\"},{\"id\":\"fea1475b-181e-44cb-a5a1-263d2846a5f7\",\"type\":\"LinearAxis\"},{\"id\":\"53792714-12bb-4c16-b2fa-cb7378f47367\",\"type\":\"Grid\"},{\"id\":\"84932ce1-17e9-4e41-9441-e0570e61644b\",\"type\":\"GlyphRenderer\"},{\"id\":\"d59bb92c-80b6-41ce-840f-462f4db48423\",\"type\":\"ColorBar\"}],\"right\":[{\"id\":\"d59bb92c-80b6-41ce-840f-462f4db48423\",\"type\":\"ColorBar\"}],\"title\":{\"id\":\"5306c6b4-9302-4079-a82f-006a8e16c016\",\"type\":\"Title\"},\"toolbar\":{\"id\":\"1eb66598-a816-4408-9c70-0f2553ccb70e\",\"type\":\"Toolbar\"},\"x_range\":{\"id\":\"5d3b9e04-1a14-45c3-9b6d-7c95f59a73eb\",\"type\":\"DataRange1d\"},\"x_scale\":{\"id\":\"b13cb0ce-223f-4386-8035-a5acc092161a\",\"type\":\"LinearScale\"},\"y_range\":{\"id\":\"1b0c2fb5-9bb0-4a92-9ccd-fa33c4711dfd\",\"type\":\"DataRange1d\"},\"y_scale\":{\"id\":\"eb0ab3be-c72a-4562-9923-268028aeddf9\",\"type\":\"LinearScale\"}},\"id\":\"d872c142-3b1b-4e2e-99da-1682370745af\",\"subtype\":\"Figure\",\"type\":\"Plot\"},{\"attributes\":{\"fill_alpha\":{\"value\":0.6},\"fill_color\":{\"field\":\"Elevation\",\"transform\":{\"id\":\"85e8b8c1-fa94-40df-a2f3-0e4e14c8b077\",\"type\":\"LinearColorMapper\"}},\"line_alpha\":{\"value\":0.6},\"line_color\":{\"field\":\"Elevation\",\"transform\":{\"id\":\"85e8b8c1-fa94-40df-a2f3-0e4e14c8b077\",\"type\":\"LinearColorMapper\"}},\"size\":{\"units\":\"screen\",\"value\":20},\"x\":{\"field\":\"Income\"},\"y\":{\"field\":\"PM25_MAR_8\"}},\"id\":\"fb902c5a-830a-483f-b12a-71bfc869fc63\",\"type\":\"Circle\"},{\"attributes\":{\"data_source\":{\"id\":\"050d03d6-b836-4164-aa39-c26c947c0108\",\"type\":\"ColumnDataSource\"},\"glyph\":{\"id\":\"fb902c5a-830a-483f-b12a-71bfc869fc63\",\"type\":\"Circle\"},\"hover_glyph\":null,\"muted_glyph\":null,\"nonselection_glyph\":{\"id\":\"5358ee5d-6cd8-4fb1-9620-32aaa85608a7\",\"type\":\"Circle\"},\"selection_glyph\":null,\"view\":{\"id\":\"16c54dcf-841b-48d6-8775-7615c1db460e\",\"type\":\"CDSView\"}},\"id\":\"84932ce1-17e9-4e41-9441-e0570e61644b\",\"type\":\"GlyphRenderer\"},{\"attributes\":{},\"id\":\"e276374b-db3f-44ef-8af3-328430015443\",\"type\":\"ResetTool\"},{\"attributes\":{\"plot\":null,\"text\":\"\"},\"id\":\"5306c6b4-9302-4079-a82f-006a8e16c016\",\"type\":\"Title\"},{\"attributes\":{},\"id\":\"8aef1288-b597-46d9-aa16-c8903b50fae7\",\"type\":\"BasicTickFormatter\"},{\"attributes\":{\"high\":1557.853394,\"low\":1289.31897,\"palette\":[\"#440154\",\"#440255\",\"#440357\",\"#450558\",\"#45065A\",\"#45085B\",\"#46095C\",\"#460B5E\",\"#460C5F\",\"#460E61\",\"#470F62\",\"#471163\",\"#471265\",\"#471466\",\"#471567\",\"#471669\",\"#47186A\",\"#48196B\",\"#481A6C\",\"#481C6E\",\"#481D6F\",\"#481E70\",\"#482071\",\"#482172\",\"#482273\",\"#482374\",\"#472575\",\"#472676\",\"#472777\",\"#472878\",\"#472A79\",\"#472B7A\",\"#472C7B\",\"#462D7C\",\"#462F7C\",\"#46307D\",\"#46317E\",\"#45327F\",\"#45347F\",\"#453580\",\"#453681\",\"#443781\",\"#443982\",\"#433A83\",\"#433B83\",\"#433C84\",\"#423D84\",\"#423E85\",\"#424085\",\"#414186\",\"#414286\",\"#404387\",\"#404487\",\"#3F4587\",\"#3F4788\",\"#3E4888\",\"#3E4989\",\"#3D4A89\",\"#3D4B89\",\"#3D4C89\",\"#3C4D8A\",\"#3C4E8A\",\"#3B508A\",\"#3B518A\",\"#3A528B\",\"#3A538B\",\"#39548B\",\"#39558B\",\"#38568B\",\"#38578C\",\"#37588C\",\"#37598C\",\"#365A8C\",\"#365B8C\",\"#355C8C\",\"#355D8C\",\"#345E8D\",\"#345F8D\",\"#33608D\",\"#33618D\",\"#32628D\",\"#32638D\",\"#31648D\",\"#31658D\",\"#31668D\",\"#30678D\",\"#30688D\",\"#2F698D\",\"#2F6A8D\",\"#2E6B8E\",\"#2E6C8E\",\"#2E6D8E\",\"#2D6E8E\",\"#2D6F8E\",\"#2C708E\",\"#2C718E\",\"#2C728E\",\"#2B738E\",\"#2B748E\",\"#2A758E\",\"#2A768E\",\"#2A778E\",\"#29788E\",\"#29798E\",\"#287A8E\",\"#287A8E\",\"#287B8E\",\"#277C8E\",\"#277D8E\",\"#277E8E\",\"#267F8E\",\"#26808E\",\"#26818E\",\"#25828E\",\"#25838D\",\"#24848D\",\"#24858D\",\"#24868D\",\"#23878D\",\"#23888D\",\"#23898D\",\"#22898D\",\"#228A8D\",\"#228B8D\",\"#218C8D\",\"#218D8C\",\"#218E8C\",\"#208F8C\",\"#20908C\",\"#20918C\",\"#1F928C\",\"#1F938B\",\"#1F948B\",\"#1F958B\",\"#1F968B\",\"#1E978A\",\"#1E988A\",\"#1E998A\",\"#1E998A\",\"#1E9A89\",\"#1E9B89\",\"#1E9C89\",\"#1E9D88\",\"#1E9E88\",\"#1E9F88\",\"#1EA087\",\"#1FA187\",\"#1FA286\",\"#1FA386\",\"#20A485\",\"#20A585\",\"#21A685\",\"#21A784\",\"#22A784\",\"#23A883\",\"#23A982\",\"#24AA82\",\"#25AB81\",\"#26AC81\",\"#27AD80\",\"#28AE7F\",\"#29AF7F\",\"#2AB07E\",\"#2BB17D\",\"#2CB17D\",\"#2EB27C\",\"#2FB37B\",\"#30B47A\",\"#32B57A\",\"#33B679\",\"#35B778\",\"#36B877\",\"#38B976\",\"#39B976\",\"#3BBA75\",\"#3DBB74\",\"#3EBC73\",\"#40BD72\",\"#42BE71\",\"#44BE70\",\"#45BF6F\",\"#47C06E\",\"#49C16D\",\"#4BC26C\",\"#4DC26B\",\"#4FC369\",\"#51C468\",\"#53C567\",\"#55C666\",\"#57C665\",\"#59C764\",\"#5BC862\",\"#5EC961\",\"#60C960\",\"#62CA5F\",\"#64CB5D\",\"#67CC5C\",\"#69CC5B\",\"#6BCD59\",\"#6DCE58\",\"#70CE56\",\"#72CF55\",\"#74D054\",\"#77D052\",\"#79D151\",\"#7CD24F\",\"#7ED24E\",\"#81D34C\",\"#83D34B\",\"#86D449\",\"#88D547\",\"#8BD546\",\"#8DD644\",\"#90D643\",\"#92D741\",\"#95D73F\",\"#97D83E\",\"#9AD83C\",\"#9DD93A\",\"#9FD938\",\"#A2DA37\",\"#A5DA35\",\"#A7DB33\",\"#AADB32\",\"#ADDC30\",\"#AFDC2E\",\"#B2DD2C\",\"#B5DD2B\",\"#B7DD29\",\"#BADE27\",\"#BDDE26\",\"#BFDF24\",\"#C2DF22\",\"#C5DF21\",\"#C7E01F\",\"#CAE01E\",\"#CDE01D\",\"#CFE11C\",\"#D2E11B\",\"#D4E11A\",\"#D7E219\",\"#DAE218\",\"#DCE218\",\"#DFE318\",\"#E1E318\",\"#E4E318\",\"#E7E419\",\"#E9E419\",\"#ECE41A\",\"#EEE51B\",\"#F1E51C\",\"#F3E51E\",\"#F6E61F\",\"#F8E621\",\"#FAE622\",\"#FDE724\"]},\"id\":\"85e8b8c1-fa94-40df-a2f3-0e4e14c8b077\",\"type\":\"LinearColorMapper\"},{\"attributes\":{\"fill_alpha\":{\"value\":0.1},\"fill_color\":{\"value\":\"#1f77b4\"},\"line_alpha\":{\"value\":0.1},\"line_color\":{\"value\":\"#1f77b4\"},\"size\":{\"units\":\"screen\",\"value\":20},\"x\":{\"field\":\"Income\"},\"y\":{\"field\":\"PM25_MAR_8\"}},\"id\":\"5358ee5d-6cd8-4fb1-9620-32aaa85608a7\",\"type\":\"Circle\"},{\"attributes\":{\"callback\":null},\"id\":\"1b0c2fb5-9bb0-4a92-9ccd-fa33c4711dfd\",\"type\":\"DataRange1d\"},{\"attributes\":{},\"id\":\"eb0ab3be-c72a-4562-9923-268028aeddf9\",\"type\":\"LinearScale\"},{\"attributes\":{},\"id\":\"957af950-ea59-4ab7-9ccb-495ebd561cd4\",\"type\":\"UnionRenderers\"},{\"attributes\":{},\"id\":\"18d6c2a4-40da-4697-a8bd-7c25710102ae\",\"type\":\"BasicTicker\"},{\"attributes\":{},\"id\":\"b13cb0ce-223f-4386-8035-a5acc092161a\",\"type\":\"LinearScale\"},{\"attributes\":{\"color_mapper\":{\"id\":\"85e8b8c1-fa94-40df-a2f3-0e4e14c8b077\",\"type\":\"LinearColorMapper\"},\"formatter\":{\"id\":\"3189f205-6516-46c3-ba70-23c435f20c10\",\"type\":\"BasicTickFormatter\"},\"label_standoff\":12,\"location\":[0,0],\"plot\":{\"id\":\"d872c142-3b1b-4e2e-99da-1682370745af\",\"subtype\":\"Figure\",\"type\":\"Plot\"},\"ticker\":{\"id\":\"18d6c2a4-40da-4697-a8bd-7c25710102ae\",\"type\":\"BasicTicker\"},\"title\":\"Elevation\"},\"id\":\"d59bb92c-80b6-41ce-840f-462f4db48423\",\"type\":\"ColorBar\"},{\"attributes\":{\"axis_label\":\"Income\",\"formatter\":{\"id\":\"863c20da-a2c2-45b2-9c73-e947f39b9a0f\",\"type\":\"BasicTickFormatter\"},\"plot\":{\"id\":\"d872c142-3b1b-4e2e-99da-1682370745af\",\"subtype\":\"Figure\",\"type\":\"Plot\"},\"ticker\":{\"id\":\"925c0fd5-af09-47e6-9b43-6015cf6d3877\",\"type\":\"BasicTicker\"}},\"id\":\"050a7780-5ac1-4443-8542-0b29c08613ff\",\"type\":\"LinearAxis\"}],\"root_ids\":[\"d872c142-3b1b-4e2e-99da-1682370745af\"]},\"title\":\"Bokeh Application\",\"version\":\"0.12.16\"}};\n",
       "  var render_items = [{\"docid\":\"0ca6bf93-282f-40ac-be74-362c6509668a\",\"elementid\":\"ba8a1e9f-26b7-40db-aab4-6174e01c2c68\",\"modelid\":\"d872c142-3b1b-4e2e-99da-1682370745af\"}];\n",
       "  root.Bokeh.embed.embed_items_notebook(docs_json, render_items);\n",
       "\n",
       "  }\n",
       "  if (root.Bokeh !== undefined) {\n",
       "    embed_document(root);\n",
       "  } else {\n",
       "    var attempts = 0;\n",
       "    var timer = setInterval(function(root) {\n",
       "      if (root.Bokeh !== undefined) {\n",
       "        embed_document(root);\n",
       "        clearInterval(timer);\n",
       "      }\n",
       "      attempts++;\n",
       "      if (attempts > 100) {\n",
       "        console.log(\"Bokeh: ERROR: Unable to run BokehJS code because BokehJS library is missing\")\n",
       "        clearInterval(timer);\n",
       "      }\n",
       "    }, 10, root)\n",
       "  }\n",
       "})(window);"
      ],
      "application/vnd.bokehjs_exec.v0+json": ""
     },
     "metadata": {
      "application/vnd.bokehjs_exec.v0+json": {
       "id": "d872c142-3b1b-4e2e-99da-1682370745af"
      }
     },
     "output_type": "display_data"
    }
   ],
   "source": [
    "bpm25 = ColumnDataSource(pm25)\n",
    "\n",
    "color_mapper = LinearColorMapper(palette=Viridis256, low=pm25.Elevation.min(), high=pm25.Elevation.max())\n",
    "hover = HoverTool(tooltips=[('elevation', '@Elevation')])\n",
    "\n",
    "p1 = figure(tools=[hover,'pan','wheel_zoom','reset'],\n",
    "           plot_width=900, plot_height=400, x_axis_label='Income',\n",
    "           y_axis_label='PM2.5 Level')\n",
    "\n",
    "p1.circle(x='Income', y='PM25_MAR_8', color={'field': 'Elevation', 'transform': color_mapper}, \n",
    "         size=20, alpha=0.6, source=bpm25)\n",
    "\n",
    "color_bar = ColorBar(color_mapper=color_mapper, label_standoff=12, location=(0,0), title='Elevation')\n",
    "p1.add_layout(color_bar, 'right')\n",
    "show(p1)"
   ]
  },
  {
   "cell_type": "markdown",
   "metadata": {},
   "source": [
    "It looks like PM2.5 levels are higher for low incomes and the majority of low elevations. The left side of the chart shows lower incomes and elevations with higher PM2.5 exposure, while the right side has higher incomes and elevations with lower PM2.5 levels. Let's do some regressions to quantify the strength of these relationships."
   ]
  },
  {
   "cell_type": "markdown",
   "metadata": {},
   "source": [
    "We will use ``statsmodels`` to do [ordinary least squares regression](https://en.wikipedia.org/wiki/Ordinary_least_squares).\n",
    "\n",
    "```Python\n",
    "mod = smf.ols(formula='PM25_MAR_8 ~ Income', data=pm25)\n",
    "```\n",
    "\n",
    "* This formula is stating a linear relationship between our dependent variable, ``PM25_MAR_8``, and our independent variable, ``Income``.\n",
    "\n",
    "```Python\n",
    "'PM25_MAR_8 ~ Income'\n",
    "```\n",
    "```Python\n",
    "data=pm25\n",
    "```\n",
    "\n",
    "* Use the ``pm25`` dataset\n",
    "* ``mod.fit()`` fits the model to the data\n",
    "* ```res.summary()``` provides a detailed report on how well the model fit the data."
   ]
  },
  {
   "cell_type": "code",
   "execution_count": 8,
   "metadata": {},
   "outputs": [
    {
     "data": {
      "text/html": [
       "<table class=\"simpletable\">\n",
       "<caption>OLS Regression Results</caption>\n",
       "<tr>\n",
       "  <th>Dep. Variable:</th>       <td>PM25_MAR_8</td>    <th>  R-squared:         </th> <td>   0.458</td>\n",
       "</tr>\n",
       "<tr>\n",
       "  <th>Model:</th>                   <td>OLS</td>       <th>  Adj. R-squared:    </th> <td>   0.449</td>\n",
       "</tr>\n",
       "<tr>\n",
       "  <th>Method:</th>             <td>Least Squares</td>  <th>  F-statistic:       </th> <td>   52.32</td>\n",
       "</tr>\n",
       "<tr>\n",
       "  <th>Date:</th>             <td>Fri, 15 Jun 2018</td> <th>  Prob (F-statistic):</th> <td>8.48e-10</td>\n",
       "</tr>\n",
       "<tr>\n",
       "  <th>Time:</th>                 <td>20:27:35</td>     <th>  Log-Likelihood:    </th> <td> -77.678</td>\n",
       "</tr>\n",
       "<tr>\n",
       "  <th>No. Observations:</th>      <td>    64</td>      <th>  AIC:               </th> <td>   159.4</td>\n",
       "</tr>\n",
       "<tr>\n",
       "  <th>Df Residuals:</th>          <td>    62</td>      <th>  BIC:               </th> <td>   163.7</td>\n",
       "</tr>\n",
       "<tr>\n",
       "  <th>Df Model:</th>              <td>     1</td>      <th>                     </th>     <td> </td>   \n",
       "</tr>\n",
       "<tr>\n",
       "  <th>Covariance Type:</th>      <td>nonrobust</td>    <th>                     </th>     <td> </td>   \n",
       "</tr>\n",
       "</table>\n",
       "<table class=\"simpletable\">\n",
       "<tr>\n",
       "      <td></td>         <th>coef</th>     <th>std err</th>      <th>t</th>      <th>P>|t|</th>  <th>[0.025</th>    <th>0.975]</th>  \n",
       "</tr>\n",
       "<tr>\n",
       "  <th>Intercept</th> <td>    4.8552</td> <td>    0.256</td> <td>   18.981</td> <td> 0.000</td> <td>    4.344</td> <td>    5.367</td>\n",
       "</tr>\n",
       "<tr>\n",
       "  <th>Income</th>    <td> -3.74e-05</td> <td> 5.17e-06</td> <td>   -7.233</td> <td> 0.000</td> <td>-4.77e-05</td> <td>-2.71e-05</td>\n",
       "</tr>\n",
       "</table>\n",
       "<table class=\"simpletable\">\n",
       "<tr>\n",
       "  <th>Omnibus:</th>       <td> 6.338</td> <th>  Durbin-Watson:     </th> <td>   1.194</td>\n",
       "</tr>\n",
       "<tr>\n",
       "  <th>Prob(Omnibus):</th> <td> 0.042</td> <th>  Jarque-Bera (JB):  </th> <td>   5.446</td>\n",
       "</tr>\n",
       "<tr>\n",
       "  <th>Skew:</th>          <td> 0.624</td> <th>  Prob(JB):          </th> <td>  0.0657</td>\n",
       "</tr>\n",
       "<tr>\n",
       "  <th>Kurtosis:</th>      <td> 3.697</td> <th>  Cond. No.          </th> <td>1.22e+05</td>\n",
       "</tr>\n",
       "</table>"
      ],
      "text/plain": [
       "<class 'statsmodels.iolib.summary.Summary'>\n",
       "\"\"\"\n",
       "                            OLS Regression Results                            \n",
       "==============================================================================\n",
       "Dep. Variable:             PM25_MAR_8   R-squared:                       0.458\n",
       "Model:                            OLS   Adj. R-squared:                  0.449\n",
       "Method:                 Least Squares   F-statistic:                     52.32\n",
       "Date:                Fri, 15 Jun 2018   Prob (F-statistic):           8.48e-10\n",
       "Time:                        20:27:35   Log-Likelihood:                -77.678\n",
       "No. Observations:                  64   AIC:                             159.4\n",
       "Df Residuals:                      62   BIC:                             163.7\n",
       "Df Model:                           1                                         \n",
       "Covariance Type:            nonrobust                                         \n",
       "==============================================================================\n",
       "                 coef    std err          t      P>|t|      [0.025      0.975]\n",
       "------------------------------------------------------------------------------\n",
       "Intercept      4.8552      0.256     18.981      0.000       4.344       5.367\n",
       "Income      -3.74e-05   5.17e-06     -7.233      0.000   -4.77e-05   -2.71e-05\n",
       "==============================================================================\n",
       "Omnibus:                        6.338   Durbin-Watson:                   1.194\n",
       "Prob(Omnibus):                  0.042   Jarque-Bera (JB):                5.446\n",
       "Skew:                           0.624   Prob(JB):                       0.0657\n",
       "Kurtosis:                       3.697   Cond. No.                     1.22e+05\n",
       "==============================================================================\n",
       "\n",
       "Warnings:\n",
       "[1] Standard Errors assume that the covariance matrix of the errors is correctly specified.\n",
       "[2] The condition number is large, 1.22e+05. This might indicate that there are\n",
       "strong multicollinearity or other numerical problems.\n",
       "\"\"\""
      ]
     },
     "execution_count": 8,
     "metadata": {},
     "output_type": "execute_result"
    }
   ],
   "source": [
    "mod = smf.ols(formula='PM25_MAR_8 ~ Income', data=pm25)\n",
    "res = mod.fit()\n",
    "res.summary()"
   ]
  },
  {
   "cell_type": "markdown",
   "metadata": {},
   "source": [
    "### This is a lot of information. What are the key points?\n",
    "\n",
    "#### Let's start by looking at our overall model.\n",
    "\n",
    "* **Prob (F-statistic):**           8.48e-10 ($8.48e^{-10}$). \n",
    "    * This is the probability that the linear relationship between our variables is purely due to chance. \n",
    "* **R-squared:**                       0.458\n",
    "    * This is the proportion of the variability in our data that is explained by our model, so about half of the variability in the data is explained by income.\n",
    "* **Cond. No.**                     1.22e+05 ($1.22e^{05}$)\n",
    "    * A large condition number indicates numeric problems with our model/data and mean the results are less reliable.\n",
    "\n",
    "#### Now let's look at our ``Income`` variable\n",
    "\n",
    "* **coef**=-3.74e-05 ($-3.74e^{-05}$). This is the slope of the line. The slope is negative, meaning as income **increases**, air pollution **decreases.**\n",
    "* **P**=0.000. This is the \"p-value\" and describes the probability that the linear relationship is just random chance. Since our p-value is less than 0.001, we can accept our hypothesis that income and pollution are related."
   ]
  },
  {
   "cell_type": "markdown",
   "metadata": {},
   "source": [
    "## Let's repeat this for the relationship between ``Income`` and ``Elevation``"
   ]
  },
  {
   "cell_type": "code",
   "execution_count": 9,
   "metadata": {},
   "outputs": [
    {
     "data": {
      "text/html": [
       "<table class=\"simpletable\">\n",
       "<caption>OLS Regression Results</caption>\n",
       "<tr>\n",
       "  <th>Dep. Variable:</th>         <td>Income</td>      <th>  R-squared:         </th> <td>   0.365</td>\n",
       "</tr>\n",
       "<tr>\n",
       "  <th>Model:</th>                   <td>OLS</td>       <th>  Adj. R-squared:    </th> <td>   0.354</td>\n",
       "</tr>\n",
       "<tr>\n",
       "  <th>Method:</th>             <td>Least Squares</td>  <th>  F-statistic:       </th> <td>   35.58</td>\n",
       "</tr>\n",
       "<tr>\n",
       "  <th>Date:</th>             <td>Fri, 15 Jun 2018</td> <th>  Prob (F-statistic):</th> <td>1.28e-07</td>\n",
       "</tr>\n",
       "<tr>\n",
       "  <th>Time:</th>                 <td>20:27:40</td>     <th>  Log-Likelihood:    </th> <td> -710.14</td>\n",
       "</tr>\n",
       "<tr>\n",
       "  <th>No. Observations:</th>      <td>    64</td>      <th>  AIC:               </th> <td>   1424.</td>\n",
       "</tr>\n",
       "<tr>\n",
       "  <th>Df Residuals:</th>          <td>    62</td>      <th>  BIC:               </th> <td>   1429.</td>\n",
       "</tr>\n",
       "<tr>\n",
       "  <th>Df Model:</th>              <td>     1</td>      <th>                     </th>     <td> </td>   \n",
       "</tr>\n",
       "<tr>\n",
       "  <th>Covariance Type:</th>      <td>nonrobust</td>    <th>                     </th>     <td> </td>   \n",
       "</tr>\n",
       "</table>\n",
       "<table class=\"simpletable\">\n",
       "<tr>\n",
       "      <td></td>         <th>coef</th>     <th>std err</th>      <th>t</th>      <th>P>|t|</th>  <th>[0.025</th>    <th>0.975]</th>  \n",
       "</tr>\n",
       "<tr>\n",
       "  <th>Intercept</th> <td>-2.152e+05</td> <td> 4.37e+04</td> <td>   -4.923</td> <td> 0.000</td> <td>-3.03e+05</td> <td>-1.28e+05</td>\n",
       "</tr>\n",
       "<tr>\n",
       "  <th>Elevation</th> <td>  194.0279</td> <td>   32.529</td> <td>    5.965</td> <td> 0.000</td> <td>  129.003</td> <td>  259.053</td>\n",
       "</tr>\n",
       "</table>\n",
       "<table class=\"simpletable\">\n",
       "<tr>\n",
       "  <th>Omnibus:</th>       <td> 1.675</td> <th>  Durbin-Watson:     </th> <td>   0.978</td>\n",
       "</tr>\n",
       "<tr>\n",
       "  <th>Prob(Omnibus):</th> <td> 0.433</td> <th>  Jarque-Bera (JB):  </th> <td>   1.047</td>\n",
       "</tr>\n",
       "<tr>\n",
       "  <th>Skew:</th>          <td>-0.285</td> <th>  Prob(JB):          </th> <td>   0.592</td>\n",
       "</tr>\n",
       "<tr>\n",
       "  <th>Kurtosis:</th>      <td> 3.262</td> <th>  Cond. No.          </th> <td>2.90e+04</td>\n",
       "</tr>\n",
       "</table>"
      ],
      "text/plain": [
       "<class 'statsmodels.iolib.summary.Summary'>\n",
       "\"\"\"\n",
       "                            OLS Regression Results                            \n",
       "==============================================================================\n",
       "Dep. Variable:                 Income   R-squared:                       0.365\n",
       "Model:                            OLS   Adj. R-squared:                  0.354\n",
       "Method:                 Least Squares   F-statistic:                     35.58\n",
       "Date:                Fri, 15 Jun 2018   Prob (F-statistic):           1.28e-07\n",
       "Time:                        20:27:40   Log-Likelihood:                -710.14\n",
       "No. Observations:                  64   AIC:                             1424.\n",
       "Df Residuals:                      62   BIC:                             1429.\n",
       "Df Model:                           1                                         \n",
       "Covariance Type:            nonrobust                                         \n",
       "==============================================================================\n",
       "                 coef    std err          t      P>|t|      [0.025      0.975]\n",
       "------------------------------------------------------------------------------\n",
       "Intercept  -2.152e+05   4.37e+04     -4.923      0.000   -3.03e+05   -1.28e+05\n",
       "Elevation    194.0279     32.529      5.965      0.000     129.003     259.053\n",
       "==============================================================================\n",
       "Omnibus:                        1.675   Durbin-Watson:                   0.978\n",
       "Prob(Omnibus):                  0.433   Jarque-Bera (JB):                1.047\n",
       "Skew:                          -0.285   Prob(JB):                        0.592\n",
       "Kurtosis:                       3.262   Cond. No.                     2.90e+04\n",
       "==============================================================================\n",
       "\n",
       "Warnings:\n",
       "[1] Standard Errors assume that the covariance matrix of the errors is correctly specified.\n",
       "[2] The condition number is large, 2.9e+04. This might indicate that there are\n",
       "strong multicollinearity or other numerical problems.\n",
       "\"\"\""
      ]
     },
     "execution_count": 9,
     "metadata": {},
     "output_type": "execute_result"
    }
   ],
   "source": [
    "mod = smf.ols(formula='Income ~ Elevation', data=pm25)\n",
    "res = mod.fit()\n",
    "res.summary()"
   ]
  },
  {
   "cell_type": "code",
   "execution_count": 10,
   "metadata": {},
   "outputs": [
    {
     "data": {
      "text/html": [
       "\n",
       "<div class=\"bk-root\">\n",
       "    <div class=\"bk-plotdiv\" id=\"bcbef5af-8728-4ac8-adce-5edb65a52831\"></div>\n",
       "</div>"
      ]
     },
     "metadata": {},
     "output_type": "display_data"
    },
    {
     "data": {
      "application/javascript": [
       "(function(root) {\n",
       "  function embed_document(root) {\n",
       "    \n",
       "  var docs_json = {\"b0a684e4-debe-4a15-abb6-9dd2aa00aaf3\":{\"roots\":{\"references\":[{\"attributes\":{\"plot\":{\"id\":\"dbfec8a6-80c6-453b-bf38-f732e18476c4\",\"subtype\":\"Figure\",\"type\":\"Plot\"},\"ticker\":{\"id\":\"2f42d3af-21de-4134-ad4a-592830cd70c2\",\"type\":\"BasicTicker\"}},\"id\":\"2a32dbf3-dd97-4bcc-81cb-a875f4b6f530\",\"type\":\"Grid\"},{\"attributes\":{\"axis_label\":\"Income\",\"formatter\":{\"id\":\"93de8e8b-6889-4f11-b3f5-719589e790ac\",\"type\":\"BasicTickFormatter\"},\"plot\":{\"id\":\"dbfec8a6-80c6-453b-bf38-f732e18476c4\",\"subtype\":\"Figure\",\"type\":\"Plot\"},\"ticker\":{\"id\":\"2f42d3af-21de-4134-ad4a-592830cd70c2\",\"type\":\"BasicTicker\"}},\"id\":\"d4229100-425c-48a5-b9e7-9e497c23d49b\",\"type\":\"LinearAxis\"},{\"attributes\":{},\"id\":\"2f42d3af-21de-4134-ad4a-592830cd70c2\",\"type\":\"BasicTicker\"},{\"attributes\":{},\"id\":\"93de8e8b-6889-4f11-b3f5-719589e790ac\",\"type\":\"BasicTickFormatter\"},{\"attributes\":{\"axis_label\":\"Elevation\",\"formatter\":{\"id\":\"14ad7b96-7ac9-4238-bbab-0f5bbb316b03\",\"type\":\"BasicTickFormatter\"},\"plot\":{\"id\":\"dbfec8a6-80c6-453b-bf38-f732e18476c4\",\"subtype\":\"Figure\",\"type\":\"Plot\"},\"ticker\":{\"id\":\"416e7a7c-bea5-42f2-8bfb-0778cf2cd495\",\"type\":\"BasicTicker\"}},\"id\":\"d8d8f682-c368-41ad-901a-4cb19eed10b0\",\"type\":\"LinearAxis\"},{\"attributes\":{\"callback\":null,\"data\":{\"Block_Group_ID\":{\"__ndarray__\":\"AABwnsyKXEIAAHCezIpcQgAAcJ7MilxCAABwnsyKXEIAAHCezIpcQgAAcJ7MilxCAABwnsyKXEIAAHCezIpcQgAAcJ7MilxCAABwnsyKXEIAAHCezIpcQgAAcJ7MilxCAABwnsyKXEIAAHCezIpcQgAAcJ7MilxCAABwnsyKXEIAAHCezIpcQgAAcJ7MilxCAABwnsyKXEIAAHCezIpcQgAAcJ7MilxCAABwnsyKXEIAAHCezIpcQgAAcJ7MilxCAABwnsyKXEIAAHCezIpcQgAAcJ7MilxCAABwnsyKXEIAAHCezIpcQgAAcJ7MilxCAABwnsyKXEIAAHCezIpcQgAAcJ7MilxCAABwnsyKXEIAAHCezIpcQgAAcJ7MilxCAABwnsyKXEIAAHCezIpcQgAAcJ7MilxCAABwnsyKXEIAAHCezIpcQgAAcJ7MilxCAABwnsyKXEIAAHCezIpcQgAAcJ7MilxCAABwnsyKXEIAAHCezIpcQgAAcJ7MilxCAABwnsyKXEIAAHCezIpcQgAAcJ7MilxCAABwnsyKXEIAAHCezIpcQgAAcJ7MilxCAABwnsyKXEIAAHCezIpcQgAAcJ7MilxCAABwnsyKXEIAAHCezIpcQgAAcJ7MilxCAABwnsyKXEIAAHCezIpcQgAAcJ7MilxCAABwnsyKXEI=\",\"dtype\":\"float64\",\"shape\":[64]},\"Elevation\":{\"__ndarray__\":\"1t8SgL9ulEAZrg6AaEOUQG8MAcDhJpRAOpUMALVXlEAZrg6AaEOUQGXEBaBxV5RA51Hxf0eklEDnUfF/R6SUQOdR8X9HpJRAYabtX9kJlkDKiAtAgyGVQGGm7V/ZCZZAHcnlP4RNlUAdyeU/hE2VQB3J5T+ETZVASgfr/8yylEBKB+v/zLKUQEoH6//MspRASgfr/8yylEDW3xKAj3mUQGXEBaBxV5RAZcQFoHFXlEDV0AZgwz+UQMqIC0CTJ5RAMVwdAPFYlEBMFvcfOVCUQFde8j+5OZRA51Hxf1colECM1eb/pS+UQIzV5v+lL5RAI/YJoEg7lEAUkPY/IHSUQHxjCADeTZRAFJD2PxBplEDhJw6gf5GUQAQeGEA4YJRAeEXwv7VelEAXnwJgTOuVQBefAmBM65VAF58CYEzrlUDCTxxAPyCVQPzh57/3jJVAjNXm/wW3lEB2NuSfOTCVQCHn/X8cm5VA7G8JwH/NlkAQdR+AFLmWQCHn/X8sqpZAF58CYEzrlUBp4h3gOTuWQCHn/X8sqpZAaeId4Dk7lkCfWRKgRiWUQC0+BcAoLJRAq7AZ4DI4lECrsBngMjiUQKuwGeAyOJRA4ScOoB9UlEBMFvcfiT2UQJHz/j8eZJRAjNXm/4WmlEAlBRbAdICUQGniHeBpV5hAdCoZAKpCmEA=\",\"dtype\":\"float64\",\"shape\":[64]},\"Income\":{\"__ndarray__\":\"AAAAAMBP5UAAAAAA4HfhQAAAAAAgseJAAAAAAGBL70AAAAAAYBviQAAAAAAA/9RAAAAAAEAY5EAAAAAAgH3gQAAAAADAV+JAAAAAAMBT4EAAAAAAgHjXQAAAAAAABb9AAAAAAAAl3UAAAAAAQGrRQAAAAABgWORAAAAAAACx30AAAAAA4OLgQAAAAAAAvd9AAAAAAMAK2kAAAAAAwK/SQAAAAAAAr99AAAAAAICd3UAAAAAAwD7aQAAAAADAad9AAAAAAAAV10AAAAAAAD/XQAAAAAAAtdlAAAAAAEAw4kAAAAAA4EHgQAAAAAAAF9FAAAAAAACa4EAAAAAAIMHsQAAAAAAg8OpAAAAAACC15EAAAAAAAOHhQAAAAABg7OdAAAAAAIBc4kAAAAAAgG3rQAAAAACwGfFAAAAAABAp8EAAAAAAsIXxQAAAAAAATetAAAAAAEBK7kAAAAAAUNvxQAAAAAAATOZAAAAAABDp9kAAAAAA4Nv0QAAAAABA2/FAAAAAAIAx50AAAAAAwB3zQAAAAACQWPNAAAAAAEBq80AAAAAAIJvkQAAAAADATeNAAAAAAMAT1kAAAAAAgLPlQAAAAADAKutAAAAAAEAW6UAAAAAAAMfXQAAAAADgReFAAAAAAEDk8EAAAAAAUPfwQAAAAABwmPZAAAAAACCy7UA=\",\"dtype\":\"float64\",\"shape\":[64]},\"PM25_MAR_8\":{\"__ndarray__\":\"mNV4Pyc2DUAz+0txprgOQJw9trYHqQ9AzvzNOMuQD0BYaY1spzANQNaWu0gBQxJAYwhjuPhjCUB2aULhUwMOQBkS8J4VRg1AAAAAAACADEDc4ykEop4LQE/i43uV7AtA5wg3Hg7oDUABUBEcof8IQCjHRhul4QpAbTu0YpQMEEDcIOuNgBAPQN8FtO7LYwtAD88DOdeRDUBmnXD9W1IQQJ9TRBFIfQ5A9krkeMG6FUDhWAPT6ukPQJFLw8DYJhNAr4+GB1hdDkBublEIEv8QQMQ9Rfd0mxFA/qncNwM9E0BdrHAX1gsMQElzGlh96A1AWT+EWADqCUBNPjb8gNkDQFv2JrFkaQVApmoqpxcGA0D3Y/gnb2IEQFshPyrkZwZAAAAAAACAA0CpD4JgHoL2P7HYHKMZ/Ps/WzUZnxM89z+kgl0p2Nr5P90Wjf6V4gNAGNVuMN5L+z/rJZ2zy5D5PwmZ2DpApQNAZmZmZmZm9j/YGURDfSEAQHIbd8TNo/U/rLbf/Zge9j/YLeYNTnH0P7mj9XPncvU/D1atloVA9T92zSMAsVEWQEWVsCLimxFADad7hjiOEUAJE9zOEooNQDI8tJeGUAlA/pXN0ANlC0AW86F7PqkCQMttDwPcwgxAnHDaTLijEUDP7dy2GuoPQO6kdJ/Sl/g/iLIQTTsFAkA=\",\"dtype\":\"float64\",\"shape\":[64]},\"index\":[0,1,2,3,4,5,6,7,8,9,10,11,12,13,14,15,16,17,18,19,20,21,22,23,24,25,26,27,28,29,30,31,32,33,34,35,36,37,38,39,40,41,42,43,44,45,46,47,48,49,50,51,52,53,54,55,56,57,58,59,60,61,62,63]},\"selected\":{\"id\":\"e9a403b8-0be4-4e64-8d95-965daef0f597\",\"type\":\"Selection\"},\"selection_policy\":{\"id\":\"957af950-ea59-4ab7-9ccb-495ebd561cd4\",\"type\":\"UnionRenderers\"}},\"id\":\"050d03d6-b836-4164-aa39-c26c947c0108\",\"type\":\"ColumnDataSource\"},{\"attributes\":{},\"id\":\"416e7a7c-bea5-42f2-8bfb-0778cf2cd495\",\"type\":\"BasicTicker\"},{\"attributes\":{\"dimension\":1,\"plot\":{\"id\":\"dbfec8a6-80c6-453b-bf38-f732e18476c4\",\"subtype\":\"Figure\",\"type\":\"Plot\"},\"ticker\":{\"id\":\"416e7a7c-bea5-42f2-8bfb-0778cf2cd495\",\"type\":\"BasicTicker\"}},\"id\":\"b5318aa6-c3ab-4127-921f-c86d32ec459b\",\"type\":\"Grid\"},{\"attributes\":{\"callback\":null,\"renderers\":\"auto\",\"tooltips\":[[\"elevation\",\"@Elevation\"],[\"income\",\"@Income\"]]},\"id\":\"4ee55f73-cc66-4483-83b7-0aec492c90f1\",\"type\":\"HoverTool\"},{\"attributes\":{\"plot\":null,\"text\":\"\"},\"id\":\"584667d3-b1f5-49be-a4ba-569b3379650c\",\"type\":\"Title\"},{\"attributes\":{},\"id\":\"e9a403b8-0be4-4e64-8d95-965daef0f597\",\"type\":\"Selection\"},{\"attributes\":{\"bottom_units\":\"screen\",\"fill_alpha\":{\"value\":0.5},\"fill_color\":{\"value\":\"lightgrey\"},\"left_units\":\"screen\",\"level\":\"overlay\",\"line_alpha\":{\"value\":1.0},\"line_color\":{\"value\":\"black\"},\"line_dash\":[4,4],\"line_width\":{\"value\":2},\"plot\":null,\"render_mode\":\"css\",\"right_units\":\"screen\",\"top_units\":\"screen\"},\"id\":\"53821310-31a7-423b-9377-b3565737fb48\",\"type\":\"BoxAnnotation\"},{\"attributes\":{},\"id\":\"7fd8bb7e-c412-4234-8593-e6564e7da48c\",\"type\":\"PanTool\"},{\"attributes\":{},\"id\":\"14ad7b96-7ac9-4238-bbab-0f5bbb316b03\",\"type\":\"BasicTickFormatter\"},{\"attributes\":{},\"id\":\"fc507583-7929-4ef8-bb35-3de6a05da75b\",\"type\":\"WheelZoomTool\"},{\"attributes\":{\"fill_alpha\":{\"value\":0.6},\"fill_color\":{\"value\":\"orange\"},\"line_alpha\":{\"value\":0.6},\"line_color\":{\"value\":\"orange\"},\"size\":{\"units\":\"screen\",\"value\":20},\"x\":{\"field\":\"Income\"},\"y\":{\"field\":\"Elevation\"}},\"id\":\"c4a7e952-0d5d-4c4a-9b13-c1f84485e206\",\"type\":\"Circle\"},{\"attributes\":{\"overlay\":{\"id\":\"53821310-31a7-423b-9377-b3565737fb48\",\"type\":\"BoxAnnotation\"}},\"id\":\"0ab6f67b-1654-48c9-9a2a-487a68a0cb13\",\"type\":\"BoxZoomTool\"},{\"attributes\":{\"below\":[{\"id\":\"d4229100-425c-48a5-b9e7-9e497c23d49b\",\"type\":\"LinearAxis\"}],\"left\":[{\"id\":\"d8d8f682-c368-41ad-901a-4cb19eed10b0\",\"type\":\"LinearAxis\"}],\"plot_height\":400,\"plot_width\":400,\"renderers\":[{\"id\":\"d4229100-425c-48a5-b9e7-9e497c23d49b\",\"type\":\"LinearAxis\"},{\"id\":\"2a32dbf3-dd97-4bcc-81cb-a875f4b6f530\",\"type\":\"Grid\"},{\"id\":\"d8d8f682-c368-41ad-901a-4cb19eed10b0\",\"type\":\"LinearAxis\"},{\"id\":\"b5318aa6-c3ab-4127-921f-c86d32ec459b\",\"type\":\"Grid\"},{\"id\":\"53821310-31a7-423b-9377-b3565737fb48\",\"type\":\"BoxAnnotation\"},{\"id\":\"f9b983d7-9a74-4a7f-8147-aa71d6a2efbe\",\"type\":\"GlyphRenderer\"}],\"title\":{\"id\":\"584667d3-b1f5-49be-a4ba-569b3379650c\",\"type\":\"Title\"},\"toolbar\":{\"id\":\"ca9b8178-7d09-413b-b46b-dac1e27018c7\",\"type\":\"Toolbar\"},\"x_range\":{\"id\":\"af04cf51-295b-4668-af53-8f11916eb396\",\"type\":\"DataRange1d\"},\"x_scale\":{\"id\":\"7687e38e-3516-431c-890f-bd2be882b2bb\",\"type\":\"LinearScale\"},\"y_range\":{\"id\":\"df3e6918-c4f4-4eec-8304-fe393448f152\",\"type\":\"DataRange1d\"},\"y_scale\":{\"id\":\"47ebaadd-6494-478a-9a21-4575e4f494e4\",\"type\":\"LinearScale\"}},\"id\":\"dbfec8a6-80c6-453b-bf38-f732e18476c4\",\"subtype\":\"Figure\",\"type\":\"Plot\"},{\"attributes\":{\"active_drag\":\"auto\",\"active_inspect\":\"auto\",\"active_scroll\":\"auto\",\"active_tap\":\"auto\",\"tools\":[{\"id\":\"4ee55f73-cc66-4483-83b7-0aec492c90f1\",\"type\":\"HoverTool\"},{\"id\":\"7fd8bb7e-c412-4234-8593-e6564e7da48c\",\"type\":\"PanTool\"},{\"id\":\"fc507583-7929-4ef8-bb35-3de6a05da75b\",\"type\":\"WheelZoomTool\"},{\"id\":\"0ab6f67b-1654-48c9-9a2a-487a68a0cb13\",\"type\":\"BoxZoomTool\"},{\"id\":\"3b1c094a-cec0-4e3c-a947-dbdfff95a5d6\",\"type\":\"ResetTool\"}]},\"id\":\"ca9b8178-7d09-413b-b46b-dac1e27018c7\",\"type\":\"Toolbar\"},{\"attributes\":{},\"id\":\"3b1c094a-cec0-4e3c-a947-dbdfff95a5d6\",\"type\":\"ResetTool\"},{\"attributes\":{\"fill_alpha\":{\"value\":0.1},\"fill_color\":{\"value\":\"#1f77b4\"},\"line_alpha\":{\"value\":0.1},\"line_color\":{\"value\":\"#1f77b4\"},\"size\":{\"units\":\"screen\",\"value\":20},\"x\":{\"field\":\"Income\"},\"y\":{\"field\":\"Elevation\"}},\"id\":\"9562f707-8cb7-40cc-9136-053e0fa6c237\",\"type\":\"Circle\"},{\"attributes\":{\"callback\":null},\"id\":\"af04cf51-295b-4668-af53-8f11916eb396\",\"type\":\"DataRange1d\"},{\"attributes\":{\"data_source\":{\"id\":\"050d03d6-b836-4164-aa39-c26c947c0108\",\"type\":\"ColumnDataSource\"},\"glyph\":{\"id\":\"c4a7e952-0d5d-4c4a-9b13-c1f84485e206\",\"type\":\"Circle\"},\"hover_glyph\":null,\"muted_glyph\":null,\"nonselection_glyph\":{\"id\":\"9562f707-8cb7-40cc-9136-053e0fa6c237\",\"type\":\"Circle\"},\"selection_glyph\":null,\"view\":{\"id\":\"0a201407-258a-40e5-8770-c34565ecfa3b\",\"type\":\"CDSView\"}},\"id\":\"f9b983d7-9a74-4a7f-8147-aa71d6a2efbe\",\"type\":\"GlyphRenderer\"},{\"attributes\":{\"callback\":null},\"id\":\"df3e6918-c4f4-4eec-8304-fe393448f152\",\"type\":\"DataRange1d\"},{\"attributes\":{},\"id\":\"957af950-ea59-4ab7-9ccb-495ebd561cd4\",\"type\":\"UnionRenderers\"},{\"attributes\":{\"source\":{\"id\":\"050d03d6-b836-4164-aa39-c26c947c0108\",\"type\":\"ColumnDataSource\"}},\"id\":\"0a201407-258a-40e5-8770-c34565ecfa3b\",\"type\":\"CDSView\"},{\"attributes\":{},\"id\":\"47ebaadd-6494-478a-9a21-4575e4f494e4\",\"type\":\"LinearScale\"},{\"attributes\":{},\"id\":\"7687e38e-3516-431c-890f-bd2be882b2bb\",\"type\":\"LinearScale\"}],\"root_ids\":[\"dbfec8a6-80c6-453b-bf38-f732e18476c4\"]},\"title\":\"Bokeh Application\",\"version\":\"0.12.16\"}};\n",
       "  var render_items = [{\"docid\":\"b0a684e4-debe-4a15-abb6-9dd2aa00aaf3\",\"elementid\":\"bcbef5af-8728-4ac8-adce-5edb65a52831\",\"modelid\":\"dbfec8a6-80c6-453b-bf38-f732e18476c4\"}];\n",
       "  root.Bokeh.embed.embed_items_notebook(docs_json, render_items);\n",
       "\n",
       "  }\n",
       "  if (root.Bokeh !== undefined) {\n",
       "    embed_document(root);\n",
       "  } else {\n",
       "    var attempts = 0;\n",
       "    var timer = setInterval(function(root) {\n",
       "      if (root.Bokeh !== undefined) {\n",
       "        embed_document(root);\n",
       "        clearInterval(timer);\n",
       "      }\n",
       "      attempts++;\n",
       "      if (attempts > 100) {\n",
       "        console.log(\"Bokeh: ERROR: Unable to run BokehJS code because BokehJS library is missing\")\n",
       "        clearInterval(timer);\n",
       "      }\n",
       "    }, 10, root)\n",
       "  }\n",
       "})(window);"
      ],
      "application/vnd.bokehjs_exec.v0+json": ""
     },
     "metadata": {
      "application/vnd.bokehjs_exec.v0+json": {
       "id": "dbfec8a6-80c6-453b-bf38-f732e18476c4"
      }
     },
     "output_type": "display_data"
    }
   ],
   "source": [
    "#add regression line\n",
    "hover = HoverTool(tooltips=[('elevation', '@Elevation'),('income','@Income')])\n",
    "p = figure(tools=[hover,'pan','wheel_zoom','box_zoom','reset'],\n",
    "           plot_width=400, plot_height=400, x_axis_label='Income', y_axis_label='Elevation')\n",
    "p.circle(x='Income', y='Elevation', \n",
    "         size=20, alpha=0.6, color='orange', source=bpm25)\n",
    "\n",
    "show(p)"
   ]
  },
  {
   "cell_type": "markdown",
   "metadata": {},
   "source": [
    "### The relationship between ``Income`` and ``Elevation`` is strong\n",
    "### Let's use ``Elevation`` to predict ``PM25_MAR_8``"
   ]
  },
  {
   "cell_type": "code",
   "execution_count": 11,
   "metadata": {},
   "outputs": [
    {
     "data": {
      "text/html": [
       "<table class=\"simpletable\">\n",
       "<caption>OLS Regression Results</caption>\n",
       "<tr>\n",
       "  <th>Dep. Variable:</th>       <td>PM25_MAR_8</td>    <th>  R-squared:         </th> <td>   0.451</td>\n",
       "</tr>\n",
       "<tr>\n",
       "  <th>Model:</th>                   <td>OLS</td>       <th>  Adj. R-squared:    </th> <td>   0.442</td>\n",
       "</tr>\n",
       "<tr>\n",
       "  <th>Method:</th>             <td>Least Squares</td>  <th>  F-statistic:       </th> <td>   50.84</td>\n",
       "</tr>\n",
       "<tr>\n",
       "  <th>Date:</th>             <td>Fri, 15 Jun 2018</td> <th>  Prob (F-statistic):</th> <td>1.28e-09</td>\n",
       "</tr>\n",
       "<tr>\n",
       "  <th>Time:</th>                 <td>20:28:05</td>     <th>  Log-Likelihood:    </th> <td> -78.095</td>\n",
       "</tr>\n",
       "<tr>\n",
       "  <th>No. Observations:</th>      <td>    64</td>      <th>  AIC:               </th> <td>   160.2</td>\n",
       "</tr>\n",
       "<tr>\n",
       "  <th>Df Residuals:</th>          <td>    62</td>      <th>  BIC:               </th> <td>   164.5</td>\n",
       "</tr>\n",
       "<tr>\n",
       "  <th>Df Model:</th>              <td>     1</td>      <th>                     </th>     <td> </td>   \n",
       "</tr>\n",
       "<tr>\n",
       "  <th>Covariance Type:</th>      <td>nonrobust</td>    <th>                     </th>     <td> </td>   \n",
       "</tr>\n",
       "</table>\n",
       "<table class=\"simpletable\">\n",
       "<tr>\n",
       "      <td></td>         <th>coef</th>     <th>std err</th>      <th>t</th>      <th>P>|t|</th>  <th>[0.025</th>    <th>0.975]</th>  \n",
       "</tr>\n",
       "<tr>\n",
       "  <th>Intercept</th> <td>   19.1668</td> <td>    2.247</td> <td>    8.531</td> <td> 0.000</td> <td>   14.675</td> <td>   23.658</td>\n",
       "</tr>\n",
       "<tr>\n",
       "  <th>Elevation</th> <td>   -0.0119</td> <td>    0.002</td> <td>   -7.130</td> <td> 0.000</td> <td>   -0.015</td> <td>   -0.009</td>\n",
       "</tr>\n",
       "</table>\n",
       "<table class=\"simpletable\">\n",
       "<tr>\n",
       "  <th>Omnibus:</th>       <td> 1.175</td> <th>  Durbin-Watson:     </th> <td>   0.842</td>\n",
       "</tr>\n",
       "<tr>\n",
       "  <th>Prob(Omnibus):</th> <td> 0.556</td> <th>  Jarque-Bera (JB):  </th> <td>   0.988</td>\n",
       "</tr>\n",
       "<tr>\n",
       "  <th>Skew:</th>          <td> 0.013</td> <th>  Prob(JB):          </th> <td>   0.610</td>\n",
       "</tr>\n",
       "<tr>\n",
       "  <th>Kurtosis:</th>      <td> 2.392</td> <th>  Cond. No.          </th> <td>2.90e+04</td>\n",
       "</tr>\n",
       "</table>"
      ],
      "text/plain": [
       "<class 'statsmodels.iolib.summary.Summary'>\n",
       "\"\"\"\n",
       "                            OLS Regression Results                            \n",
       "==============================================================================\n",
       "Dep. Variable:             PM25_MAR_8   R-squared:                       0.451\n",
       "Model:                            OLS   Adj. R-squared:                  0.442\n",
       "Method:                 Least Squares   F-statistic:                     50.84\n",
       "Date:                Fri, 15 Jun 2018   Prob (F-statistic):           1.28e-09\n",
       "Time:                        20:28:05   Log-Likelihood:                -78.095\n",
       "No. Observations:                  64   AIC:                             160.2\n",
       "Df Residuals:                      62   BIC:                             164.5\n",
       "Df Model:                           1                                         \n",
       "Covariance Type:            nonrobust                                         \n",
       "==============================================================================\n",
       "                 coef    std err          t      P>|t|      [0.025      0.975]\n",
       "------------------------------------------------------------------------------\n",
       "Intercept     19.1668      2.247      8.531      0.000      14.675      23.658\n",
       "Elevation     -0.0119      0.002     -7.130      0.000      -0.015      -0.009\n",
       "==============================================================================\n",
       "Omnibus:                        1.175   Durbin-Watson:                   0.842\n",
       "Prob(Omnibus):                  0.556   Jarque-Bera (JB):                0.988\n",
       "Skew:                           0.013   Prob(JB):                        0.610\n",
       "Kurtosis:                       2.392   Cond. No.                     2.90e+04\n",
       "==============================================================================\n",
       "\n",
       "Warnings:\n",
       "[1] Standard Errors assume that the covariance matrix of the errors is correctly specified.\n",
       "[2] The condition number is large, 2.9e+04. This might indicate that there are\n",
       "strong multicollinearity or other numerical problems.\n",
       "\"\"\""
      ]
     },
     "execution_count": 11,
     "metadata": {},
     "output_type": "execute_result"
    }
   ],
   "source": [
    "mod = smf.ols(formula='PM25_MAR_8 ~ Elevation', data=pm25)\n",
    "res = mod.fit()\n",
    "res.summary()"
   ]
  },
  {
   "cell_type": "code",
   "execution_count": 12,
   "metadata": {},
   "outputs": [],
   "source": [
    "from sklearn import linear_model\n",
    "# use sklearn to generate points for regression line"
   ]
  },
  {
   "cell_type": "code",
   "execution_count": 13,
   "metadata": {},
   "outputs": [],
   "source": [
    "#regression between pm2.5 and elevation\n",
    "lm = linear_model.LinearRegression()\n",
    "model = lm.fit(pm25[['PM25_MAR_8']],pm25[['Elevation']])"
   ]
  },
  {
   "cell_type": "code",
   "execution_count": 14,
   "metadata": {},
   "outputs": [],
   "source": [
    "predictions = lm.predict(pm25[['PM25_MAR_8']])\n",
    "# add predicted values to pm25 as new column\n",
    "pm25['predicted_values'] = predictions"
   ]
  },
  {
   "cell_type": "code",
   "execution_count": 15,
   "metadata": {},
   "outputs": [
    {
     "data": {
      "text/html": [
       "\n",
       "<div class=\"bk-root\">\n",
       "    <div class=\"bk-plotdiv\" id=\"32a28f7b-b44f-4d68-809d-a8eae0a7986a\"></div>\n",
       "</div>"
      ]
     },
     "metadata": {},
     "output_type": "display_data"
    },
    {
     "data": {
      "application/javascript": [
       "(function(root) {\n",
       "  function embed_document(root) {\n",
       "    \n",
       "  var docs_json = {\"4492b99a-6c0d-4efc-af44-ef4f89bfcaba\":{\"roots\":{\"references\":[{\"attributes\":{},\"id\":\"3bc06500-47b1-4987-a75c-f347d24ec89b\",\"type\":\"Selection\"},{\"attributes\":{\"dimension\":1,\"plot\":{\"id\":\"04e874b3-565c-43ff-90e3-d61684ebb4b5\",\"subtype\":\"Figure\",\"type\":\"Plot\"},\"ticker\":{\"id\":\"6376a7df-ab84-4179-9588-35f3e1099ea9\",\"type\":\"BasicTicker\"}},\"id\":\"0c4927ab-7b46-457c-b3a3-86b3f658b7e2\",\"type\":\"Grid\"},{\"attributes\":{\"below\":[{\"id\":\"0c4a109a-f171-42b4-9c37-6915c87f1c9f\",\"type\":\"LinearAxis\"}],\"left\":[{\"id\":\"d6bcb24a-9310-457b-b022-5d07283ee3f6\",\"type\":\"LinearAxis\"}],\"plot_height\":400,\"plot_width\":400,\"renderers\":[{\"id\":\"0c4a109a-f171-42b4-9c37-6915c87f1c9f\",\"type\":\"LinearAxis\"},{\"id\":\"5fe14ebc-33af-4354-9543-2c44017e8c68\",\"type\":\"Grid\"},{\"id\":\"d6bcb24a-9310-457b-b022-5d07283ee3f6\",\"type\":\"LinearAxis\"},{\"id\":\"0c4927ab-7b46-457c-b3a3-86b3f658b7e2\",\"type\":\"Grid\"},{\"id\":\"42fc1d2e-8fbe-4476-a126-921e73de9aeb\",\"type\":\"BoxAnnotation\"},{\"id\":\"9a9be60e-6b68-4cd5-9ab3-5fb0f35602d5\",\"type\":\"GlyphRenderer\"},{\"id\":\"0ba7b2c1-7122-42f9-8380-117734a9789e\",\"type\":\"GlyphRenderer\"}],\"title\":{\"id\":\"0bcfd1b7-2f6c-474e-bfb9-5b505d21dde1\",\"type\":\"Title\"},\"toolbar\":{\"id\":\"1c366727-25f6-4dd0-ae07-737eaf9ac628\",\"type\":\"Toolbar\"},\"x_range\":{\"id\":\"e94d6e12-6f1c-4152-9ab8-da95b7dac287\",\"type\":\"DataRange1d\"},\"x_scale\":{\"id\":\"efbd26aa-674b-40d0-a857-e55d54b95734\",\"type\":\"LinearScale\"},\"y_range\":{\"id\":\"8eb737dd-b60c-42f8-b07b-25d1cac7c009\",\"type\":\"DataRange1d\"},\"y_scale\":{\"id\":\"d94454b7-bdb2-459d-8e9d-f55286eeea4a\",\"type\":\"LinearScale\"}},\"id\":\"04e874b3-565c-43ff-90e3-d61684ebb4b5\",\"subtype\":\"Figure\",\"type\":\"Plot\"},{\"attributes\":{},\"id\":\"e2c2868f-9e08-4788-aa39-b5db58135ddd\",\"type\":\"BasicTickFormatter\"},{\"attributes\":{\"callback\":null,\"data\":{\"Block_Group_ID\":{\"__ndarray__\":\"AABwnsyKXEIAAHCezIpcQgAAcJ7MilxCAABwnsyKXEIAAHCezIpcQgAAcJ7MilxCAABwnsyKXEIAAHCezIpcQgAAcJ7MilxCAABwnsyKXEIAAHCezIpcQgAAcJ7MilxCAABwnsyKXEIAAHCezIpcQgAAcJ7MilxCAABwnsyKXEIAAHCezIpcQgAAcJ7MilxCAABwnsyKXEIAAHCezIpcQgAAcJ7MilxCAABwnsyKXEIAAHCezIpcQgAAcJ7MilxCAABwnsyKXEIAAHCezIpcQgAAcJ7MilxCAABwnsyKXEIAAHCezIpcQgAAcJ7MilxCAABwnsyKXEIAAHCezIpcQgAAcJ7MilxCAABwnsyKXEIAAHCezIpcQgAAcJ7MilxCAABwnsyKXEIAAHCezIpcQgAAcJ7MilxCAABwnsyKXEIAAHCezIpcQgAAcJ7MilxCAABwnsyKXEIAAHCezIpcQgAAcJ7MilxCAABwnsyKXEIAAHCezIpcQgAAcJ7MilxCAABwnsyKXEIAAHCezIpcQgAAcJ7MilxCAABwnsyKXEIAAHCezIpcQgAAcJ7MilxCAABwnsyKXEIAAHCezIpcQgAAcJ7MilxCAABwnsyKXEIAAHCezIpcQgAAcJ7MilxCAABwnsyKXEIAAHCezIpcQgAAcJ7MilxCAABwnsyKXEI=\",\"dtype\":\"float64\",\"shape\":[64]},\"Elevation\":{\"__ndarray__\":\"1t8SgL9ulEAZrg6AaEOUQG8MAcDhJpRAOpUMALVXlEAZrg6AaEOUQGXEBaBxV5RA51Hxf0eklEDnUfF/R6SUQOdR8X9HpJRAYabtX9kJlkDKiAtAgyGVQGGm7V/ZCZZAHcnlP4RNlUAdyeU/hE2VQB3J5T+ETZVASgfr/8yylEBKB+v/zLKUQEoH6//MspRASgfr/8yylEDW3xKAj3mUQGXEBaBxV5RAZcQFoHFXlEDV0AZgwz+UQMqIC0CTJ5RAMVwdAPFYlEBMFvcfOVCUQFde8j+5OZRA51Hxf1colECM1eb/pS+UQIzV5v+lL5RAI/YJoEg7lEAUkPY/IHSUQHxjCADeTZRAFJD2PxBplEDhJw6gf5GUQAQeGEA4YJRAeEXwv7VelEAXnwJgTOuVQBefAmBM65VAF58CYEzrlUDCTxxAPyCVQPzh57/3jJVAjNXm/wW3lEB2NuSfOTCVQCHn/X8cm5VA7G8JwH/NlkAQdR+AFLmWQCHn/X8sqpZAF58CYEzrlUBp4h3gOTuWQCHn/X8sqpZAaeId4Dk7lkCfWRKgRiWUQC0+BcAoLJRAq7AZ4DI4lECrsBngMjiUQKuwGeAyOJRA4ScOoB9UlEBMFvcfiT2UQJHz/j8eZJRAjNXm/4WmlEAlBRbAdICUQGniHeBpV5hAdCoZAKpCmEA=\",\"dtype\":\"float64\",\"shape\":[64]},\"Income\":{\"__ndarray__\":\"AAAAAMBP5UAAAAAA4HfhQAAAAAAgseJAAAAAAGBL70AAAAAAYBviQAAAAAAA/9RAAAAAAEAY5EAAAAAAgH3gQAAAAADAV+JAAAAAAMBT4EAAAAAAgHjXQAAAAAAABb9AAAAAAAAl3UAAAAAAQGrRQAAAAABgWORAAAAAAACx30AAAAAA4OLgQAAAAAAAvd9AAAAAAMAK2kAAAAAAwK/SQAAAAAAAr99AAAAAAICd3UAAAAAAwD7aQAAAAADAad9AAAAAAAAV10AAAAAAAD/XQAAAAAAAtdlAAAAAAEAw4kAAAAAA4EHgQAAAAAAAF9FAAAAAAACa4EAAAAAAIMHsQAAAAAAg8OpAAAAAACC15EAAAAAAAOHhQAAAAABg7OdAAAAAAIBc4kAAAAAAgG3rQAAAAACwGfFAAAAAABAp8EAAAAAAsIXxQAAAAAAATetAAAAAAEBK7kAAAAAAUNvxQAAAAAAATOZAAAAAABDp9kAAAAAA4Nv0QAAAAABA2/FAAAAAAIAx50AAAAAAwB3zQAAAAACQWPNAAAAAAEBq80AAAAAAIJvkQAAAAADATeNAAAAAAMAT1kAAAAAAgLPlQAAAAADAKutAAAAAAEAW6UAAAAAAAMfXQAAAAADgReFAAAAAAEDk8EAAAAAAUPfwQAAAAABwmPZAAAAAACCy7UA=\",\"dtype\":\"float64\",\"shape\":[64]},\"PM25_MAR_8\":{\"__ndarray__\":\"mNV4Pyc2DUAz+0txprgOQJw9trYHqQ9AzvzNOMuQD0BYaY1spzANQNaWu0gBQxJAYwhjuPhjCUB2aULhUwMOQBkS8J4VRg1AAAAAAACADEDc4ykEop4LQE/i43uV7AtA5wg3Hg7oDUABUBEcof8IQCjHRhul4QpAbTu0YpQMEEDcIOuNgBAPQN8FtO7LYwtAD88DOdeRDUBmnXD9W1IQQJ9TRBFIfQ5A9krkeMG6FUDhWAPT6ukPQJFLw8DYJhNAr4+GB1hdDkBublEIEv8QQMQ9Rfd0mxFA/qncNwM9E0BdrHAX1gsMQElzGlh96A1AWT+EWADqCUBNPjb8gNkDQFv2JrFkaQVApmoqpxcGA0D3Y/gnb2IEQFshPyrkZwZAAAAAAACAA0CpD4JgHoL2P7HYHKMZ/Ps/WzUZnxM89z+kgl0p2Nr5P90Wjf6V4gNAGNVuMN5L+z/rJZ2zy5D5PwmZ2DpApQNAZmZmZmZm9j/YGURDfSEAQHIbd8TNo/U/rLbf/Zge9j/YLeYNTnH0P7mj9XPncvU/D1atloVA9T92zSMAsVEWQEWVsCLimxFADad7hjiOEUAJE9zOEooNQDI8tJeGUAlA/pXN0ANlC0AW86F7PqkCQMttDwPcwgxAnHDaTLijEUDP7dy2GuoPQO6kdJ/Sl/g/iLIQTTsFAkA=\",\"dtype\":\"float64\",\"shape\":[64]},\"index\":[0,1,2,3,4,5,6,7,8,9,10,11,12,13,14,15,16,17,18,19,20,21,22,23,24,25,26,27,28,29,30,31,32,33,34,35,36,37,38,39,40,41,42,43,44,45,46,47,48,49,50,51,52,53,54,55,56,57,58,59,60,61,62,63],\"predicted_values\":{\"__ndarray__\":\"chKHTfSulEAieY3obZKUQG6goTewgJRA09APInqClECQ6qs0XK+UQCo+xdDNJJRA4JCk3yX3lEDhwpzHz5+UQHVLkE3HrZRALlMF32W8lEBz9aLpB82UQBgoAx9Hx5RAfNmgD9OhlEC3Xju4jf6UQD3l45z62pRATz4BrGl4lEDeP94M8ouUQIOMpI1f0ZRAhFa4+i+olECd9D/dHG6UQESFnpvPlpRA2e9U2MOhk0BalZ9A5nuUQIDXpzksA5RA9/UMCCuZlEBFeaiGnlSUQA2Vkg6JPZRAqGo6oeb/k0C+6CCl+MSUQJ7iJNrKoZRAsTCjikHtlECzLpse1l+VQD2kAbBSQpVA6shBfHBvlUAfghj8ulWVQJuAE0GKL5VA1ez5L3FmlUDhIxLhPAKWQHCL/n+AzpVA23MTJ2D7lUCOBw56n+KVQGX1WIYqX5VAcjwhWQHVlUCNONcBW+WVQPQkWmCxY5VAa7MOvEIDlkDaBNVKGaaVQMCP0BBxCpZAwT1jC+kFlkDKG6+HwBWWQM8fFQQ/DJZARqPr+BoOlkBk0EFZfIuTQM6nUPF4PZRAD9ycN30/lEB5Fm67wqiUQPbBZEeV+JRAy9j7iEjRlECldTa+SnaVQCSogaR2t5RA7fsp0VA8lEDjbMy34nuUQJUGqgeL7pVA4iSmj2WClUA=\",\"dtype\":\"float64\",\"shape\":[64]}},\"selected\":{\"id\":\"3bc06500-47b1-4987-a75c-f347d24ec89b\",\"type\":\"Selection\"},\"selection_policy\":{\"id\":\"a90ab2cb-3308-42ed-b88d-6a9a7f75cfd6\",\"type\":\"UnionRenderers\"}},\"id\":\"8dfcfa75-3bb4-4127-aad9-93d2cd449e0f\",\"type\":\"ColumnDataSource\"},{\"attributes\":{\"line_color\":\"orange\",\"line_width\":2,\"x\":{\"field\":\"predicted_values\"},\"y\":{\"field\":\"PM25_MAR_8\"}},\"id\":\"8faf2dc0-18d1-4300-b6d5-fb1a804f0232\",\"type\":\"Line\"},{\"attributes\":{},\"id\":\"d94454b7-bdb2-459d-8e9d-f55286eeea4a\",\"type\":\"LinearScale\"},{\"attributes\":{\"plot\":null,\"text\":\"\"},\"id\":\"0bcfd1b7-2f6c-474e-bfb9-5b505d21dde1\",\"type\":\"Title\"},{\"attributes\":{},\"id\":\"f3267db8-247f-43a0-93f3-b560d86258e5\",\"type\":\"PanTool\"},{\"attributes\":{\"source\":{\"id\":\"8dfcfa75-3bb4-4127-aad9-93d2cd449e0f\",\"type\":\"ColumnDataSource\"}},\"id\":\"4ad39671-d5a6-4d1f-8f4f-eaafd42377ad\",\"type\":\"CDSView\"},{\"attributes\":{\"active_drag\":\"auto\",\"active_inspect\":\"auto\",\"active_scroll\":\"auto\",\"active_tap\":\"auto\",\"tools\":[{\"id\":\"f3267db8-247f-43a0-93f3-b560d86258e5\",\"type\":\"PanTool\"},{\"id\":\"d15929da-8bca-4fcf-8963-f2e43ea0231c\",\"type\":\"WheelZoomTool\"},{\"id\":\"9886ae38-6259-4355-90c3-c640c43190fe\",\"type\":\"BoxZoomTool\"},{\"id\":\"9fec623c-d696-4748-aff8-8b6fe8c4d6a6\",\"type\":\"ResetTool\"}]},\"id\":\"1c366727-25f6-4dd0-ae07-737eaf9ac628\",\"type\":\"Toolbar\"},{\"attributes\":{},\"id\":\"d15929da-8bca-4fcf-8963-f2e43ea0231c\",\"type\":\"WheelZoomTool\"},{\"attributes\":{\"overlay\":{\"id\":\"42fc1d2e-8fbe-4476-a126-921e73de9aeb\",\"type\":\"BoxAnnotation\"}},\"id\":\"9886ae38-6259-4355-90c3-c640c43190fe\",\"type\":\"BoxZoomTool\"},{\"attributes\":{\"fill_alpha\":{\"value\":0.6},\"fill_color\":{\"value\":\"purple\"},\"line_alpha\":{\"value\":0.6},\"line_color\":{\"value\":\"purple\"},\"size\":{\"units\":\"screen\",\"value\":20},\"x\":{\"field\":\"Elevation\"},\"y\":{\"field\":\"PM25_MAR_8\"}},\"id\":\"c13ea199-63b9-4795-b32e-355c73c3a45b\",\"type\":\"Circle\"},{\"attributes\":{},\"id\":\"9fec623c-d696-4748-aff8-8b6fe8c4d6a6\",\"type\":\"ResetTool\"},{\"attributes\":{},\"id\":\"efbd26aa-674b-40d0-a857-e55d54b95734\",\"type\":\"LinearScale\"},{\"attributes\":{\"bottom_units\":\"screen\",\"fill_alpha\":{\"value\":0.5},\"fill_color\":{\"value\":\"lightgrey\"},\"left_units\":\"screen\",\"level\":\"overlay\",\"line_alpha\":{\"value\":1.0},\"line_color\":{\"value\":\"black\"},\"line_dash\":[4,4],\"line_width\":{\"value\":2},\"plot\":null,\"render_mode\":\"css\",\"right_units\":\"screen\",\"top_units\":\"screen\"},\"id\":\"42fc1d2e-8fbe-4476-a126-921e73de9aeb\",\"type\":\"BoxAnnotation\"},{\"attributes\":{\"fill_alpha\":{\"value\":0.1},\"fill_color\":{\"value\":\"#1f77b4\"},\"line_alpha\":{\"value\":0.1},\"line_color\":{\"value\":\"#1f77b4\"},\"size\":{\"units\":\"screen\",\"value\":20},\"x\":{\"field\":\"Elevation\"},\"y\":{\"field\":\"PM25_MAR_8\"}},\"id\":\"6a3eef7e-9fa3-4620-89bc-f5c4901c1dff\",\"type\":\"Circle\"},{\"attributes\":{\"callback\":null},\"id\":\"8eb737dd-b60c-42f8-b07b-25d1cac7c009\",\"type\":\"DataRange1d\"},{\"attributes\":{\"data_source\":{\"id\":\"8dfcfa75-3bb4-4127-aad9-93d2cd449e0f\",\"type\":\"ColumnDataSource\"},\"glyph\":{\"id\":\"c13ea199-63b9-4795-b32e-355c73c3a45b\",\"type\":\"Circle\"},\"hover_glyph\":null,\"muted_glyph\":null,\"nonselection_glyph\":{\"id\":\"6a3eef7e-9fa3-4620-89bc-f5c4901c1dff\",\"type\":\"Circle\"},\"selection_glyph\":null,\"view\":{\"id\":\"4ad39671-d5a6-4d1f-8f4f-eaafd42377ad\",\"type\":\"CDSView\"}},\"id\":\"9a9be60e-6b68-4cd5-9ab3-5fb0f35602d5\",\"type\":\"GlyphRenderer\"},{\"attributes\":{\"callback\":null},\"id\":\"e94d6e12-6f1c-4152-9ab8-da95b7dac287\",\"type\":\"DataRange1d\"},{\"attributes\":{},\"id\":\"a90ab2cb-3308-42ed-b88d-6a9a7f75cfd6\",\"type\":\"UnionRenderers\"},{\"attributes\":{\"data_source\":{\"id\":\"8dfcfa75-3bb4-4127-aad9-93d2cd449e0f\",\"type\":\"ColumnDataSource\"},\"glyph\":{\"id\":\"8faf2dc0-18d1-4300-b6d5-fb1a804f0232\",\"type\":\"Line\"},\"hover_glyph\":null,\"muted_glyph\":null,\"nonselection_glyph\":{\"id\":\"d4198d49-79d8-4fef-b40b-d5b1c2650baa\",\"type\":\"Line\"},\"selection_glyph\":null,\"view\":{\"id\":\"0d5c4c09-4c86-45c2-b15d-5d67e629bcb0\",\"type\":\"CDSView\"}},\"id\":\"0ba7b2c1-7122-42f9-8380-117734a9789e\",\"type\":\"GlyphRenderer\"},{\"attributes\":{\"plot\":{\"id\":\"04e874b3-565c-43ff-90e3-d61684ebb4b5\",\"subtype\":\"Figure\",\"type\":\"Plot\"},\"ticker\":{\"id\":\"26d60130-5abe-4877-a5c7-386ea008f78c\",\"type\":\"BasicTicker\"}},\"id\":\"5fe14ebc-33af-4354-9543-2c44017e8c68\",\"type\":\"Grid\"},{\"attributes\":{\"line_alpha\":0.1,\"line_color\":\"#1f77b4\",\"line_width\":2,\"x\":{\"field\":\"predicted_values\"},\"y\":{\"field\":\"PM25_MAR_8\"}},\"id\":\"d4198d49-79d8-4fef-b40b-d5b1c2650baa\",\"type\":\"Line\"},{\"attributes\":{\"axis_label\":\"Elevation\",\"formatter\":{\"id\":\"e2c2868f-9e08-4788-aa39-b5db58135ddd\",\"type\":\"BasicTickFormatter\"},\"plot\":{\"id\":\"04e874b3-565c-43ff-90e3-d61684ebb4b5\",\"subtype\":\"Figure\",\"type\":\"Plot\"},\"ticker\":{\"id\":\"26d60130-5abe-4877-a5c7-386ea008f78c\",\"type\":\"BasicTicker\"}},\"id\":\"0c4a109a-f171-42b4-9c37-6915c87f1c9f\",\"type\":\"LinearAxis\"},{\"attributes\":{},\"id\":\"b8982eef-b75a-4e6e-933a-b15441b04550\",\"type\":\"BasicTickFormatter\"},{\"attributes\":{},\"id\":\"26d60130-5abe-4877-a5c7-386ea008f78c\",\"type\":\"BasicTicker\"},{\"attributes\":{\"source\":{\"id\":\"8dfcfa75-3bb4-4127-aad9-93d2cd449e0f\",\"type\":\"ColumnDataSource\"}},\"id\":\"0d5c4c09-4c86-45c2-b15d-5d67e629bcb0\",\"type\":\"CDSView\"},{\"attributes\":{\"axis_label\":\"PM2.5 Level\",\"formatter\":{\"id\":\"b8982eef-b75a-4e6e-933a-b15441b04550\",\"type\":\"BasicTickFormatter\"},\"plot\":{\"id\":\"04e874b3-565c-43ff-90e3-d61684ebb4b5\",\"subtype\":\"Figure\",\"type\":\"Plot\"},\"ticker\":{\"id\":\"6376a7df-ab84-4179-9588-35f3e1099ea9\",\"type\":\"BasicTicker\"}},\"id\":\"d6bcb24a-9310-457b-b022-5d07283ee3f6\",\"type\":\"LinearAxis\"},{\"attributes\":{},\"id\":\"6376a7df-ab84-4179-9588-35f3e1099ea9\",\"type\":\"BasicTicker\"}],\"root_ids\":[\"04e874b3-565c-43ff-90e3-d61684ebb4b5\"]},\"title\":\"Bokeh Application\",\"version\":\"0.12.16\"}};\n",
       "  var render_items = [{\"docid\":\"4492b99a-6c0d-4efc-af44-ef4f89bfcaba\",\"elementid\":\"32a28f7b-b44f-4d68-809d-a8eae0a7986a\",\"modelid\":\"04e874b3-565c-43ff-90e3-d61684ebb4b5\"}];\n",
       "  root.Bokeh.embed.embed_items_notebook(docs_json, render_items);\n",
       "\n",
       "  }\n",
       "  if (root.Bokeh !== undefined) {\n",
       "    embed_document(root);\n",
       "  } else {\n",
       "    var attempts = 0;\n",
       "    var timer = setInterval(function(root) {\n",
       "      if (root.Bokeh !== undefined) {\n",
       "        embed_document(root);\n",
       "        clearInterval(timer);\n",
       "      }\n",
       "      attempts++;\n",
       "      if (attempts > 100) {\n",
       "        console.log(\"Bokeh: ERROR: Unable to run BokehJS code because BokehJS library is missing\")\n",
       "        clearInterval(timer);\n",
       "      }\n",
       "    }, 10, root)\n",
       "  }\n",
       "})(window);"
      ],
      "application/vnd.bokehjs_exec.v0+json": ""
     },
     "metadata": {
      "application/vnd.bokehjs_exec.v0+json": {
       "id": "04e874b3-565c-43ff-90e3-d61684ebb4b5"
      }
     },
     "output_type": "display_data"
    }
   ],
   "source": [
    "bpm25 = ColumnDataSource(pm25)\n",
    "\n",
    "#hover = HoverTool(tooltips=[('elevation', '@Elevation'),('PM2.5','@PM25_MAR_8')])\n",
    "p2 = figure(tools=['pan','wheel_zoom','box_zoom','reset'],plot_width=400, plot_height=400, x_axis_label='Elevation', y_axis_label='PM2.5 Level')\n",
    "p2.circle(x='Elevation', y='PM25_MAR_8', \n",
    "         size=20, alpha=0.6, color='purple', source=bpm25)\n",
    "p2.line(x='predicted_values',y='PM25_MAR_8',line_color='orange',line_width=2, source=bpm25)\n",
    "\n",
    "show(p2)"
   ]
  },
  {
   "cell_type": "markdown",
   "metadata": {},
   "source": [
    "### Can we build a model that uses *both* ``Elevation`` and ``Income`` to predict pollution levels?"
   ]
  },
  {
   "cell_type": "code",
   "execution_count": 24,
   "metadata": {
    "scrolled": false
   },
   "outputs": [
    {
     "data": {
      "text/html": [
       "<table class=\"simpletable\">\n",
       "<caption>OLS Regression Results</caption>\n",
       "<tr>\n",
       "  <th>Dep. Variable:</th>       <td>PM25_MAR_8</td>    <th>  R-squared:         </th> <td>   0.580</td>\n",
       "</tr>\n",
       "<tr>\n",
       "  <th>Model:</th>                   <td>OLS</td>       <th>  Adj. R-squared:    </th> <td>   0.559</td>\n",
       "</tr>\n",
       "<tr>\n",
       "  <th>Method:</th>             <td>Least Squares</td>  <th>  F-statistic:       </th> <td>   27.61</td>\n",
       "</tr>\n",
       "<tr>\n",
       "  <th>Date:</th>             <td>Fri, 08 Jun 2018</td> <th>  Prob (F-statistic):</th> <td>2.42e-11</td>\n",
       "</tr>\n",
       "<tr>\n",
       "  <th>Time:</th>                 <td>15:51:26</td>     <th>  Log-Likelihood:    </th> <td> -69.505</td>\n",
       "</tr>\n",
       "<tr>\n",
       "  <th>No. Observations:</th>      <td>    64</td>      <th>  AIC:               </th> <td>   147.0</td>\n",
       "</tr>\n",
       "<tr>\n",
       "  <th>Df Residuals:</th>          <td>    60</td>      <th>  BIC:               </th> <td>   155.6</td>\n",
       "</tr>\n",
       "<tr>\n",
       "  <th>Df Model:</th>              <td>     3</td>      <th>                     </th>     <td> </td>   \n",
       "</tr>\n",
       "<tr>\n",
       "  <th>Covariance Type:</th>      <td>nonrobust</td>    <th>                     </th>     <td> </td>   \n",
       "</tr>\n",
       "</table>\n",
       "<table class=\"simpletable\">\n",
       "<tr>\n",
       "          <td></td>            <th>coef</th>     <th>std err</th>      <th>t</th>      <th>P>|t|</th>  <th>[0.025</th>    <th>0.975]</th>  \n",
       "</tr>\n",
       "<tr>\n",
       "  <th>Intercept</th>        <td>   22.4080</td> <td>    6.418</td> <td>    3.492</td> <td> 0.001</td> <td>    9.571</td> <td>   35.245</td>\n",
       "</tr>\n",
       "<tr>\n",
       "  <th>Elevation</th>        <td>   -0.0135</td> <td>    0.005</td> <td>   -2.811</td> <td> 0.007</td> <td>   -0.023</td> <td>   -0.004</td>\n",
       "</tr>\n",
       "<tr>\n",
       "  <th>Income</th>           <td>   -0.0002</td> <td>    0.000</td> <td>   -1.624</td> <td> 0.110</td> <td>   -0.000</td> <td> 3.82e-05</td>\n",
       "</tr>\n",
       "<tr>\n",
       "  <th>Elevation:Income</th> <td> 1.034e-07</td> <td> 7.42e-08</td> <td>    1.393</td> <td> 0.169</td> <td> -4.5e-08</td> <td> 2.52e-07</td>\n",
       "</tr>\n",
       "</table>\n",
       "<table class=\"simpletable\">\n",
       "<tr>\n",
       "  <th>Omnibus:</th>       <td> 3.191</td> <th>  Durbin-Watson:     </th> <td>   1.242</td>\n",
       "</tr>\n",
       "<tr>\n",
       "  <th>Prob(Omnibus):</th> <td> 0.203</td> <th>  Jarque-Bera (JB):  </th> <td>   2.305</td>\n",
       "</tr>\n",
       "<tr>\n",
       "  <th>Skew:</th>          <td> 0.386</td> <th>  Prob(JB):          </th> <td>   0.316</td>\n",
       "</tr>\n",
       "<tr>\n",
       "  <th>Kurtosis:</th>      <td> 3.517</td> <th>  Cond. No.          </th> <td>4.74e+09</td>\n",
       "</tr>\n",
       "</table>"
      ],
      "text/plain": [
       "<class 'statsmodels.iolib.summary.Summary'>\n",
       "\"\"\"\n",
       "                            OLS Regression Results                            \n",
       "==============================================================================\n",
       "Dep. Variable:             PM25_MAR_8   R-squared:                       0.580\n",
       "Model:                            OLS   Adj. R-squared:                  0.559\n",
       "Method:                 Least Squares   F-statistic:                     27.61\n",
       "Date:                Fri, 08 Jun 2018   Prob (F-statistic):           2.42e-11\n",
       "Time:                        15:51:26   Log-Likelihood:                -69.505\n",
       "No. Observations:                  64   AIC:                             147.0\n",
       "Df Residuals:                      60   BIC:                             155.6\n",
       "Df Model:                           3                                         \n",
       "Covariance Type:            nonrobust                                         \n",
       "====================================================================================\n",
       "                       coef    std err          t      P>|t|      [0.025      0.975]\n",
       "------------------------------------------------------------------------------------\n",
       "Intercept           22.4080      6.418      3.492      0.001       9.571      35.245\n",
       "Elevation           -0.0135      0.005     -2.811      0.007      -0.023      -0.004\n",
       "Income              -0.0002      0.000     -1.624      0.110      -0.000    3.82e-05\n",
       "Elevation:Income  1.034e-07   7.42e-08      1.393      0.169    -4.5e-08    2.52e-07\n",
       "==============================================================================\n",
       "Omnibus:                        3.191   Durbin-Watson:                   1.242\n",
       "Prob(Omnibus):                  0.203   Jarque-Bera (JB):                2.305\n",
       "Skew:                           0.386   Prob(JB):                        0.316\n",
       "Kurtosis:                       3.517   Cond. No.                     4.74e+09\n",
       "==============================================================================\n",
       "\n",
       "Warnings:\n",
       "[1] Standard Errors assume that the covariance matrix of the errors is correctly specified.\n",
       "[2] The condition number is large, 4.74e+09. This might indicate that there are\n",
       "strong multicollinearity or other numerical problems.\n",
       "\"\"\""
      ]
     },
     "execution_count": 24,
     "metadata": {},
     "output_type": "execute_result"
    }
   ],
   "source": [
    "mod = smf.ols(formula='PM25_MAR_8 ~ Elevation + Income + Elevation:Income', data=pm25)\n",
    "res = mod.fit()\n",
    "res.summary()"
   ]
  },
  {
   "cell_type": "markdown",
   "metadata": {},
   "source": [
    "### What happens when we include both predictors?"
   ]
  },
  {
   "cell_type": "markdown",
   "metadata": {},
   "source": [
    "# Now let's look at ozone\n",
    "\n",
    "[Ozone](https://www.epa.gov/ozone-pollution) is another air quality concern. It is created by chemical reactions between oxides of nitrogen (NOx) and volatile organic compounds (VOC) in the presence of sunlight. Emissions from industrial facilities and electric utilities, vehicle exhaust, gasoline vapors, and chemical solvents are some of the major sources of NOx and VOC. Ground level ozone can cause breathing problems in sensitive populations and may also harm delicate ecosystems."
   ]
  },
  {
   "cell_type": "markdown",
   "metadata": {},
   "source": [
    "### We have ozone measurements at two times: 10:00 AM and 3:00 PM (15:00). Let's start by plotting both together to see how the timepoints differ."
   ]
  },
  {
   "cell_type": "code",
   "execution_count": 16,
   "metadata": {},
   "outputs": [
    {
     "data": {
      "text/html": [
       "\n",
       "<div class=\"bk-root\">\n",
       "    <div class=\"bk-plotdiv\" id=\"3422f989-22f2-466c-95cc-5789ee90ce0d\"></div>\n",
       "</div>"
      ]
     },
     "metadata": {},
     "output_type": "display_data"
    },
    {
     "data": {
      "application/javascript": [
       "(function(root) {\n",
       "  function embed_document(root) {\n",
       "    \n",
       "  var docs_json = {\"e33a9c08-606a-47fd-b0e9-4702ac6dcd9e\":{\"roots\":{\"references\":[{\"attributes\":{\"fill_alpha\":{\"value\":0.1},\"fill_color\":{\"value\":\"#1f77b4\"},\"line_alpha\":{\"value\":0.1},\"line_color\":{\"value\":\"#1f77b4\"},\"size\":{\"units\":\"screen\",\"value\":20},\"x\":{\"field\":\"Elevation\"},\"y\":{\"field\":\"Ozone_AUG_10\"}},\"id\":\"427ce5d6-002a-4791-aa25-df0f1dc5ee0a\",\"type\":\"Circle\"},{\"attributes\":{\"fill_alpha\":{\"value\":0.6},\"fill_color\":{\"value\":\"green\"},\"line_alpha\":{\"value\":0.6},\"line_color\":{\"value\":\"green\"},\"size\":{\"units\":\"screen\",\"value\":20},\"x\":{\"field\":\"Elevation\"},\"y\":{\"field\":\"Ozone_AUG_15\"}},\"id\":\"86204b8e-6aa0-4665-9875-8dabf93dfb40\",\"type\":\"Circle\"},{\"attributes\":{\"active_drag\":\"auto\",\"active_inspect\":\"auto\",\"active_scroll\":\"auto\",\"active_tap\":\"auto\",\"tools\":[{\"id\":\"b988e2a7-5263-4b21-a5e3-8012a0d520f9\",\"type\":\"BoxSelectTool\"},{\"id\":\"8e7e0ef6-e80b-4fb4-9034-14d9fe848c5a\",\"type\":\"LassoSelectTool\"},{\"id\":\"84afd4cb-31b9-4b80-bf6a-3c7b1fc97d66\",\"type\":\"HelpTool\"},{\"id\":\"ffa0aa99-7811-40a0-bfe0-ffa8e45660fe\",\"type\":\"ResetTool\"}]},\"id\":\"fc865bf4-2b43-4483-bfef-6a30033a8cd4\",\"type\":\"Toolbar\"},{\"attributes\":{\"callback\":null},\"id\":\"682f3f49-d696-4148-923a-c16847d45b44\",\"type\":\"DataRange1d\"},{\"attributes\":{\"data_source\":{\"id\":\"2e74dae3-52da-4a6c-8869-fbc23aacc11b\",\"type\":\"ColumnDataSource\"},\"glyph\":{\"id\":\"f1a3ba73-c7c5-47bf-bd6e-51b3d6490247\",\"type\":\"Circle\"},\"hover_glyph\":null,\"muted_glyph\":null,\"nonselection_glyph\":{\"id\":\"427ce5d6-002a-4791-aa25-df0f1dc5ee0a\",\"type\":\"Circle\"},\"selection_glyph\":null,\"view\":{\"id\":\"cf33e6e9-d825-4724-b09e-d634d6d42458\",\"type\":\"CDSView\"}},\"id\":\"203893c7-3f25-484d-a5f6-f868d9109dd1\",\"type\":\"GlyphRenderer\"},{\"attributes\":{\"callback\":null},\"id\":\"a672a577-0061-4c45-bbad-e75678c91889\",\"type\":\"DataRange1d\"},{\"attributes\":{},\"id\":\"58199134-f47d-43e0-9cd5-dbc8256154a4\",\"type\":\"LinearScale\"},{\"attributes\":{},\"id\":\"46cc5ffe-3683-4a76-9dc6-73a30158f750\",\"type\":\"LinearScale\"},{\"attributes\":{\"plot\":{\"id\":\"1fa6ce58-9b65-46ae-a84e-80c50f30288e\",\"subtype\":\"Figure\",\"type\":\"Plot\"},\"ticker\":{\"id\":\"53c0ee1f-c17d-4995-b7a3-525fde769999\",\"type\":\"BasicTicker\"}},\"id\":\"82c3addb-be1c-4a17-b088-bf4cc06d383d\",\"type\":\"Grid\"},{\"attributes\":{\"axis_label\":\"Elevation\",\"formatter\":{\"id\":\"09b576bc-9c93-495b-b4dd-fea6725cedb4\",\"type\":\"BasicTickFormatter\"},\"plot\":{\"id\":\"1fa6ce58-9b65-46ae-a84e-80c50f30288e\",\"subtype\":\"Figure\",\"type\":\"Plot\"},\"ticker\":{\"id\":\"53c0ee1f-c17d-4995-b7a3-525fde769999\",\"type\":\"BasicTicker\"}},\"id\":\"6ec3764a-e8ec-4f34-8e87-a75419511c9d\",\"type\":\"LinearAxis\"},{\"attributes\":{},\"id\":\"53c0ee1f-c17d-4995-b7a3-525fde769999\",\"type\":\"BasicTicker\"},{\"attributes\":{\"formatter\":{\"id\":\"92db4b27-62c8-4812-adbe-d6ebf0b662dd\",\"type\":\"BasicTickFormatter\"},\"plot\":{\"id\":\"1fa6ce58-9b65-46ae-a84e-80c50f30288e\",\"subtype\":\"Figure\",\"type\":\"Plot\"},\"ticker\":{\"id\":\"f1df3906-3a68-42d5-9b72-9f9b42557372\",\"type\":\"BasicTicker\"}},\"id\":\"c4452ca3-d9db-43ef-87c9-93e8716174e7\",\"type\":\"LinearAxis\"},{\"attributes\":{},\"id\":\"f1df3906-3a68-42d5-9b72-9f9b42557372\",\"type\":\"BasicTicker\"},{\"attributes\":{\"dimension\":1,\"plot\":{\"id\":\"1fa6ce58-9b65-46ae-a84e-80c50f30288e\",\"subtype\":\"Figure\",\"type\":\"Plot\"},\"ticker\":{\"id\":\"f1df3906-3a68-42d5-9b72-9f9b42557372\",\"type\":\"BasicTicker\"}},\"id\":\"fe7180fb-babd-4a40-9756-b734311cd4e1\",\"type\":\"Grid\"},{\"attributes\":{\"source\":{\"id\":\"2e74dae3-52da-4a6c-8869-fbc23aacc11b\",\"type\":\"ColumnDataSource\"}},\"id\":\"cf33e6e9-d825-4724-b09e-d634d6d42458\",\"type\":\"CDSView\"},{\"attributes\":{\"children\":[{\"id\":\"f9e61584-d3fc-40f9-a322-a12a46ad4a17\",\"type\":\"Row\"}]},\"id\":\"749ebf83-34c3-469e-9e3d-b344a8f21a15\",\"type\":\"Column\"},{\"attributes\":{\"callback\":null,\"overlay\":{\"id\":\"1f7ddd7a-3f12-4554-b4d2-6cc2182eaf2e\",\"type\":\"BoxAnnotation\"}},\"id\":\"b988e2a7-5263-4b21-a5e3-8012a0d520f9\",\"type\":\"BoxSelectTool\"},{\"attributes\":{\"plot\":null,\"text\":\"\"},\"id\":\"c8dca0cd-c9ca-44b0-8571-6783a281e0bf\",\"type\":\"Title\"},{\"attributes\":{\"callback\":null,\"overlay\":{\"id\":\"1b3f4161-5a47-44b4-977b-643a91e8be7b\",\"type\":\"PolyAnnotation\"}},\"id\":\"8e7e0ef6-e80b-4fb4-9034-14d9fe848c5a\",\"type\":\"LassoSelectTool\"},{\"attributes\":{},\"id\":\"84afd4cb-31b9-4b80-bf6a-3c7b1fc97d66\",\"type\":\"HelpTool\"},{\"attributes\":{},\"id\":\"ffa0aa99-7811-40a0-bfe0-ffa8e45660fe\",\"type\":\"ResetTool\"},{\"attributes\":{\"fill_alpha\":{\"value\":0.1},\"fill_color\":{\"value\":\"#1f77b4\"},\"line_alpha\":{\"value\":0.1},\"line_color\":{\"value\":\"#1f77b4\"},\"size\":{\"units\":\"screen\",\"value\":20},\"x\":{\"field\":\"Elevation\"},\"y\":{\"field\":\"Ozone_AUG_15\"}},\"id\":\"ae93ae74-2bd3-40aa-9af8-2bf6ce8d9dd2\",\"type\":\"Circle\"},{\"attributes\":{\"data_source\":{\"id\":\"2e74dae3-52da-4a6c-8869-fbc23aacc11b\",\"type\":\"ColumnDataSource\"},\"glyph\":{\"id\":\"86204b8e-6aa0-4665-9875-8dabf93dfb40\",\"type\":\"Circle\"},\"hover_glyph\":null,\"muted_glyph\":null,\"nonselection_glyph\":{\"id\":\"ae93ae74-2bd3-40aa-9af8-2bf6ce8d9dd2\",\"type\":\"Circle\"},\"selection_glyph\":null,\"view\":{\"id\":\"83878d94-55e6-4622-8ad0-84aeea870bb9\",\"type\":\"CDSView\"}},\"id\":\"65cd4640-e2c7-4dcd-ba32-8873107f64d2\",\"type\":\"GlyphRenderer\"},{\"attributes\":{\"source\":{\"id\":\"2e74dae3-52da-4a6c-8869-fbc23aacc11b\",\"type\":\"ColumnDataSource\"}},\"id\":\"83878d94-55e6-4622-8ad0-84aeea870bb9\",\"type\":\"CDSView\"},{\"attributes\":{\"children\":[{\"id\":\"202c18e0-d71b-4220-abf1-fd45a09b61a1\",\"subtype\":\"Figure\",\"type\":\"Plot\"},{\"id\":\"1fa6ce58-9b65-46ae-a84e-80c50f30288e\",\"subtype\":\"Figure\",\"type\":\"Plot\"}]},\"id\":\"f9e61584-d3fc-40f9-a322-a12a46ad4a17\",\"type\":\"Row\"},{\"attributes\":{},\"id\":\"329aea9b-04e0-4df1-b8a6-734f07d8b404\",\"type\":\"Selection\"},{\"attributes\":{},\"id\":\"c468769b-4f6a-4c42-906c-6f678efbf2c2\",\"type\":\"BasicTickFormatter\"},{\"attributes\":{},\"id\":\"f539028b-737b-47ac-bd23-1a4056b43673\",\"type\":\"BasicTickFormatter\"},{\"attributes\":{\"tools\":[{\"id\":\"df8a1b20-f2a0-4256-8035-ac3e1db58829\",\"type\":\"BoxSelectTool\"},{\"id\":\"0933c399-2950-4563-a6c2-b5292e368dcb\",\"type\":\"LassoSelectTool\"},{\"id\":\"c3228e4d-1f38-4523-84b6-9aafefed880c\",\"type\":\"HelpTool\"},{\"id\":\"3a239a61-63a6-4f89-973f-97fa787704b4\",\"type\":\"ResetTool\"},{\"id\":\"b988e2a7-5263-4b21-a5e3-8012a0d520f9\",\"type\":\"BoxSelectTool\"},{\"id\":\"8e7e0ef6-e80b-4fb4-9034-14d9fe848c5a\",\"type\":\"LassoSelectTool\"},{\"id\":\"84afd4cb-31b9-4b80-bf6a-3c7b1fc97d66\",\"type\":\"HelpTool\"},{\"id\":\"ffa0aa99-7811-40a0-bfe0-ffa8e45660fe\",\"type\":\"ResetTool\"}]},\"id\":\"bf69286d-a682-487a-8d9b-e504e01503a7\",\"type\":\"ProxyToolbar\"},{\"attributes\":{},\"id\":\"92db4b27-62c8-4812-adbe-d6ebf0b662dd\",\"type\":\"BasicTickFormatter\"},{\"attributes\":{},\"id\":\"1a949f76-7c9e-4634-bace-fe10ad5f8542\",\"type\":\"UnionRenderers\"},{\"attributes\":{\"plot\":null,\"text\":\"\"},\"id\":\"2963a356-7df9-480f-8096-636722cc7688\",\"type\":\"Title\"},{\"attributes\":{},\"id\":\"09b576bc-9c93-495b-b4dd-fea6725cedb4\",\"type\":\"BasicTickFormatter\"},{\"attributes\":{\"toolbar\":{\"id\":\"bf69286d-a682-487a-8d9b-e504e01503a7\",\"type\":\"ProxyToolbar\"},\"toolbar_location\":\"above\"},\"id\":\"4ce021cb-ad77-4d2d-8599-45aab656a1eb\",\"type\":\"ToolbarBox\"},{\"attributes\":{\"children\":[{\"id\":\"4ce021cb-ad77-4d2d-8599-45aab656a1eb\",\"type\":\"ToolbarBox\"},{\"id\":\"749ebf83-34c3-469e-9e3d-b344a8f21a15\",\"type\":\"Column\"}]},\"id\":\"3ee1ec84-811e-4776-9a34-9d8f85b8deab\",\"type\":\"Column\"},{\"attributes\":{\"source\":{\"id\":\"2e74dae3-52da-4a6c-8869-fbc23aacc11b\",\"type\":\"ColumnDataSource\"}},\"id\":\"3e32d213-579c-4a98-855d-670a72d2c3ff\",\"type\":\"CDSView\"},{\"attributes\":{\"callback\":null,\"data\":{\"Block_Group_ID\":[490351001002,490351003061,490351003062,490351006003,490351006004,490351006005,490351008001,490351008002,490351008003,490351014001,490351014002,490351014003,490351015003,490351016001,490351016002,490351017002,490351017003,490351018001,490351019002,490351021001,490351025001,490351026001,490351027021,490351028021,490351029001,490351029002,490351029003,490351115001,490351116001,490351116002,490351121002,490351122013,490351122021,490351122022,490351122023,490351124031,490351124041,490351129161,490351129162,490351129163,490351129171,490351129172,490351129182,490351129202,490351129213,490351130071,490351130201,490351131012,490351131013,490351131014,490351131021,490351131022,490351133051,490351133052,490351133053,490351133071,490351133081,490351133101,490351133102,490351140001,490351142001,490351142002,490351152091,490351152092],\"Elevation\":{\"__ndarray__\":\"1t8SgL9ulEAZrg6AaEOUQG8MAcDhJpRAOpUMALVXlEAZrg6AaEOUQGXEBaBxV5RA51Hxf0eklEDnUfF/R6SUQOdR8X9HpJRAYabtX9kJlkDKiAtAgyGVQGGm7V/ZCZZAHcnlP4RNlUAdyeU/hE2VQB3J5T+ETZVASgfr/8yylEBKB+v/zLKUQEoH6//MspRASgfr/8yylEDW3xKAj3mUQGXEBaBxV5RAZcQFoHFXlEDV0AZgwz+UQMqIC0CTJ5RAMVwdAPFYlEBMFvcfOVCUQFde8j+5OZRA51Hxf1colECM1eb/pS+UQIzV5v+lL5RAI/YJoEg7lEAUkPY/IHSUQHxjCADeTZRAFJD2PxBplEDhJw6gf5GUQAQeGEA4YJRAeEXwv7VelEAXnwJgTOuVQBefAmBM65VAF58CYEzrlUDCTxxAPyCVQPzh57/3jJVAjNXm/wW3lEB2NuSfOTCVQCHn/X8cm5VA7G8JwH/NlkAQdR+AFLmWQCHn/X8sqpZAF58CYEzrlUBp4h3gOTuWQCHn/X8sqpZAaeId4Dk7lkCfWRKgRiWUQC0+BcAoLJRAq7AZ4DI4lECrsBngMjiUQKuwGeAyOJRA4ScOoB9UlEBMFvcfiT2UQJHz/j8eZJRAjNXm/4WmlEAlBRbAdICUQGniHeBpV5hAdCoZAKpCmEA=\",\"dtype\":\"float64\",\"shape\":[64]},\"Income\":{\"__ndarray__\":\"AAAAAMBP5UAAAAAA4HfhQAAAAAAgseJAAAAAAGBL70AAAAAAYBviQAAAAAAA/9RAAAAAAEAY5EAAAAAAgH3gQAAAAADAV+JAAAAAAMBT4EAAAAAAgHjXQAAAAAAABb9AAAAAAAAl3UAAAAAAQGrRQAAAAABgWORAAAAAAACx30AAAAAA4OLgQAAAAAAAvd9AAAAAAMAK2kAAAAAAwK/SQAAAAAAAr99AAAAAAICd3UAAAAAAwD7aQAAAAADAad9AAAAAAAAV10AAAAAAAD/XQAAAAAAAtdlAAAAAAEAw4kAAAAAA4EHgQAAAAAAAF9FAAAAAAACa4EAAAAAAIMHsQAAAAAAg8OpAAAAAACC15EAAAAAAAOHhQAAAAABg7OdAAAAAAIBc4kAAAAAAgG3rQAAAAACwGfFAAAAAABAp8EAAAAAAsIXxQAAAAAAATetAAAAAAEBK7kAAAAAAUNvxQAAAAAAATOZAAAAAABDp9kAAAAAA4Nv0QAAAAABA2/FAAAAAAIAx50AAAAAAwB3zQAAAAACQWPNAAAAAAEBq80AAAAAAIJvkQAAAAADATeNAAAAAAMAT1kAAAAAAgLPlQAAAAADAKutAAAAAAEAW6UAAAAAAAMfXQAAAAADgReFAAAAAAEDk8EAAAAAAUPfwQAAAAABwmPZAAAAAACCy7UA=\",\"dtype\":\"float64\",\"shape\":[64]},\"Ozone_AUG_10\":{\"__ndarray__\":\"c7RPbKqOO0DtA/t1yEg6QGmOauBgrztAHmc/94qZO0A+fT6pes08QPzkKEAUxjpA4qWKmMgLO0Cd1ztQZbY5QBS7z1T83jpA6C7s3d2dOkBynQyvoEg5QDUtDOyMtjlAsqYN4l60NkDIQwDss003QOKQkdwvpDZAVWq0JFmANUB8HWHmdW01QClcj8L1KDVAmPbN/dUZM0CK1kCprPYyQLMxhqTcEjVAYTPABdk0O0Cm43uQr/s6QMjtNCWbxDVASgYlcfsjOUAyCllIhrM5QLln4duJHThAr5z33mNBNkCTNlX3yIo3QLmkMBCADTVAjhsCcIHnOkDvJjJSc4s6QFB4ZAfwiDlAmhYGdkabOUCV7Bollm81QIR0Rs6hsjxA3fD1lCDPNUAotqO0jiJCQHzFx+VH6kFAwJHEu/GUQkCPhtcei2ZCQKhp/jWsikJAxF9RGZj6QEAEEXcv1pdBQBsPlcoExEJAZmZmZmbmOUAcgMtrvodBQOUmzZMpvkJA4X+noA0JQkDXDaFrW/tCQL8z0jncAUNAeAC0e6w4QkBVDD5qH7VAQDBsSR66cEBA8eN5ugRRP0BOYxgDLVs+QLcWXjBV0DtA8ZT+827sO0DPUJrVVONCQNWc1WWljzZAexNkgBtSPkB84xiHAq0/QFwKQIrXKUJAvuh+kF0XQkA=\",\"dtype\":\"float64\",\"shape\":[64]},\"Ozone_AUG_15\":{\"__ndarray__\":\"s1JSca1FSkAmJn9iKl1LQKV3v0QbW0pAb2MWThCJSkAWVTuaVYxLQG4vq6gom0tA1GSEv3gNSkChwPncIiFKQLCh5YqcfUhAAAAAAACwSkC5fSRfaMVHQGh+0tzMnUdAy1nI8f3XRUBp9Zuqd49HQKs3UehI7UZASe4TtAchRkBP29DeKjJGQEKuWOzEbkZAQQRmz687RUCpvcrStZdFQJDthLD990lA15ZL9EPtSkAvIfZ0u0dJQLAoHZPifUdAc93OnWTFR0BQuIkgb5hIQAptMSaadkdAF9H6hAGDRkC10rVATENGQKJqy+vOoUdA8Z8LdoVRSkDtNn9+pV5JQBZ8gfb25klA4pBwzkawSkBqjge2JThLQKJ3zyas4UpAzqzfK77CS0Av7lBedZ5LQGXg48DpoUtAnUgPx2MHTECVWWvFiidNQPKxHmsEGk1A0FKJHVOeS0DHnZClqPNMQNSRbSocz0xA2n1cVVU1TkDgL+ISsk5LQDmGW5nLBU1AcMUP31PpTECzuxfKT5NNQJAvX2bxLU1A5FKNRXA5TEDk4TWWTWhNQDl6Pvt4RE1AT/L6/pNrSkAh+Gv04rlIQB6USXAXVklA16MuITiISECGnv/kEEtRQCG7oPiQA0hAoS9a0/7OTECwo1gLv5pNQFVK8AJ8GU1AUetH1FXgTEA=\",\"dtype\":\"float64\",\"shape\":[64]},\"index\":[0,1,2,3,4,5,6,7,8,9,10,11,12,13,14,15,16,17,18,19,20,21,22,23,24,25,26,27,28,29,30,31,32,33,34,35,36,37,38,39,40,41,42,43,44,45,46,47,48,49,50,51,52,53,54,55,56,57,58,59,60,61,62,63]},\"selected\":{\"id\":\"329aea9b-04e0-4df1-b8a6-734f07d8b404\",\"type\":\"Selection\"},\"selection_policy\":{\"id\":\"1a949f76-7c9e-4634-bace-fe10ad5f8542\",\"type\":\"UnionRenderers\"}},\"id\":\"2e74dae3-52da-4a6c-8869-fbc23aacc11b\",\"type\":\"ColumnDataSource\"},{\"attributes\":{\"fill_alpha\":{\"value\":0.5},\"fill_color\":{\"value\":\"lightgrey\"},\"level\":\"overlay\",\"line_alpha\":{\"value\":1.0},\"line_color\":{\"value\":\"black\"},\"line_dash\":[4,4],\"line_width\":{\"value\":2},\"plot\":null,\"xs_units\":\"screen\",\"ys_units\":\"screen\"},\"id\":\"1b3f4161-5a47-44b4-977b-643a91e8be7b\",\"type\":\"PolyAnnotation\"},{\"attributes\":{\"fill_alpha\":{\"value\":0.1},\"fill_color\":{\"value\":\"#1f77b4\"},\"line_alpha\":{\"value\":0.1},\"line_color\":{\"value\":\"#1f77b4\"},\"size\":{\"units\":\"screen\",\"value\":20},\"x\":{\"field\":\"Income\"},\"y\":{\"field\":\"Ozone_AUG_10\"}},\"id\":\"9f8641a7-40af-4a47-b622-8c7f48fc5819\",\"type\":\"Circle\"},{\"attributes\":{\"bottom_units\":\"screen\",\"fill_alpha\":{\"value\":0.5},\"fill_color\":{\"value\":\"lightgrey\"},\"left_units\":\"screen\",\"level\":\"overlay\",\"line_alpha\":{\"value\":1.0},\"line_color\":{\"value\":\"black\"},\"line_dash\":[4,4],\"line_width\":{\"value\":2},\"plot\":null,\"render_mode\":\"css\",\"right_units\":\"screen\",\"top_units\":\"screen\"},\"id\":\"1f7ddd7a-3f12-4554-b4d2-6cc2182eaf2e\",\"type\":\"BoxAnnotation\"},{\"attributes\":{\"callback\":null},\"id\":\"36a64c48-8683-4417-b060-b133b8d55953\",\"type\":\"DataRange1d\"},{\"attributes\":{},\"id\":\"c668b9f5-fffc-411b-929b-c85876f0264c\",\"type\":\"LinearScale\"},{\"attributes\":{\"callback\":null},\"id\":\"331c998c-3811-4b0a-a5b7-2b6da5d2602f\",\"type\":\"DataRange1d\"},{\"attributes\":{\"active_drag\":\"auto\",\"active_inspect\":\"auto\",\"active_scroll\":\"auto\",\"active_tap\":\"auto\",\"tools\":[{\"id\":\"df8a1b20-f2a0-4256-8035-ac3e1db58829\",\"type\":\"BoxSelectTool\"},{\"id\":\"0933c399-2950-4563-a6c2-b5292e368dcb\",\"type\":\"LassoSelectTool\"},{\"id\":\"c3228e4d-1f38-4523-84b6-9aafefed880c\",\"type\":\"HelpTool\"},{\"id\":\"3a239a61-63a6-4f89-973f-97fa787704b4\",\"type\":\"ResetTool\"}]},\"id\":\"ec51ad04-3915-4d26-abe5-f9c029589f30\",\"type\":\"Toolbar\"},{\"attributes\":{\"below\":[{\"id\":\"29b912d7-4aa7-4a38-9394-aaed5ccc3651\",\"type\":\"LinearAxis\"}],\"left\":[{\"id\":\"c75308bf-1e2c-4367-a5fd-0a4926ef8f17\",\"type\":\"LinearAxis\"}],\"plot_height\":400,\"plot_width\":400,\"renderers\":[{\"id\":\"29b912d7-4aa7-4a38-9394-aaed5ccc3651\",\"type\":\"LinearAxis\"},{\"id\":\"d841c077-e6f7-44d9-a3e2-8ec8e31ee156\",\"type\":\"Grid\"},{\"id\":\"c75308bf-1e2c-4367-a5fd-0a4926ef8f17\",\"type\":\"LinearAxis\"},{\"id\":\"e4e4354b-5c51-4de0-8c7c-3ed019bf8454\",\"type\":\"Grid\"},{\"id\":\"199a20cb-e807-4b57-a6a3-5242f4802059\",\"type\":\"BoxAnnotation\"},{\"id\":\"02899a2b-5afa-49f4-8785-fdae7d4190a8\",\"type\":\"PolyAnnotation\"},{\"id\":\"b07b5d5d-0bd0-48fe-bf51-9d699812b36b\",\"type\":\"GlyphRenderer\"},{\"id\":\"a39f98ec-d6ef-470c-8b2d-ac2e2a14faa3\",\"type\":\"GlyphRenderer\"}],\"title\":{\"id\":\"c8dca0cd-c9ca-44b0-8571-6783a281e0bf\",\"type\":\"Title\"},\"toolbar\":{\"id\":\"ec51ad04-3915-4d26-abe5-f9c029589f30\",\"type\":\"Toolbar\"},\"toolbar_location\":null,\"x_range\":{\"id\":\"36a64c48-8683-4417-b060-b133b8d55953\",\"type\":\"DataRange1d\"},\"x_scale\":{\"id\":\"c668b9f5-fffc-411b-929b-c85876f0264c\",\"type\":\"LinearScale\"},\"y_range\":{\"id\":\"331c998c-3811-4b0a-a5b7-2b6da5d2602f\",\"type\":\"DataRange1d\"},\"y_scale\":{\"id\":\"90cfc787-0f60-49eb-9d49-512cc1d96888\",\"type\":\"LinearScale\"}},\"id\":\"202c18e0-d71b-4220-abf1-fd45a09b61a1\",\"subtype\":\"Figure\",\"type\":\"Plot\"},{\"attributes\":{},\"id\":\"90cfc787-0f60-49eb-9d49-512cc1d96888\",\"type\":\"LinearScale\"},{\"attributes\":{\"plot\":{\"id\":\"202c18e0-d71b-4220-abf1-fd45a09b61a1\",\"subtype\":\"Figure\",\"type\":\"Plot\"},\"ticker\":{\"id\":\"573a92a4-3413-4903-bce7-c965088cdce8\",\"type\":\"BasicTicker\"}},\"id\":\"d841c077-e6f7-44d9-a3e2-8ec8e31ee156\",\"type\":\"Grid\"},{\"attributes\":{\"axis_label\":\"Income\",\"formatter\":{\"id\":\"f539028b-737b-47ac-bd23-1a4056b43673\",\"type\":\"BasicTickFormatter\"},\"plot\":{\"id\":\"202c18e0-d71b-4220-abf1-fd45a09b61a1\",\"subtype\":\"Figure\",\"type\":\"Plot\"},\"ticker\":{\"id\":\"573a92a4-3413-4903-bce7-c965088cdce8\",\"type\":\"BasicTicker\"}},\"id\":\"29b912d7-4aa7-4a38-9394-aaed5ccc3651\",\"type\":\"LinearAxis\"},{\"attributes\":{},\"id\":\"573a92a4-3413-4903-bce7-c965088cdce8\",\"type\":\"BasicTicker\"},{\"attributes\":{\"axis_label\":\"Ozone Level\",\"formatter\":{\"id\":\"c468769b-4f6a-4c42-906c-6f678efbf2c2\",\"type\":\"BasicTickFormatter\"},\"plot\":{\"id\":\"202c18e0-d71b-4220-abf1-fd45a09b61a1\",\"subtype\":\"Figure\",\"type\":\"Plot\"},\"ticker\":{\"id\":\"5d58856d-3d94-40e3-bb3d-15833596aa08\",\"type\":\"BasicTicker\"}},\"id\":\"c75308bf-1e2c-4367-a5fd-0a4926ef8f17\",\"type\":\"LinearAxis\"},{\"attributes\":{},\"id\":\"5d58856d-3d94-40e3-bb3d-15833596aa08\",\"type\":\"BasicTicker\"},{\"attributes\":{\"dimension\":1,\"plot\":{\"id\":\"202c18e0-d71b-4220-abf1-fd45a09b61a1\",\"subtype\":\"Figure\",\"type\":\"Plot\"},\"ticker\":{\"id\":\"5d58856d-3d94-40e3-bb3d-15833596aa08\",\"type\":\"BasicTicker\"}},\"id\":\"e4e4354b-5c51-4de0-8c7c-3ed019bf8454\",\"type\":\"Grid\"},{\"attributes\":{\"fill_alpha\":{\"value\":0.6},\"fill_color\":{\"value\":\"navy\"},\"line_alpha\":{\"value\":0.6},\"line_color\":{\"value\":\"navy\"},\"size\":{\"units\":\"screen\",\"value\":20},\"x\":{\"field\":\"Elevation\"},\"y\":{\"field\":\"Ozone_AUG_10\"}},\"id\":\"f1a3ba73-c7c5-47bf-bd6e-51b3d6490247\",\"type\":\"Circle\"},{\"attributes\":{\"fill_alpha\":{\"value\":0.6},\"fill_color\":{\"value\":\"navy\"},\"line_alpha\":{\"value\":0.6},\"line_color\":{\"value\":\"navy\"},\"size\":{\"units\":\"screen\",\"value\":20},\"x\":{\"field\":\"Income\"},\"y\":{\"field\":\"Ozone_AUG_10\"}},\"id\":\"33d1897f-1d83-4f66-8962-447567216987\",\"type\":\"Circle\"},{\"attributes\":{\"source\":{\"id\":\"2e74dae3-52da-4a6c-8869-fbc23aacc11b\",\"type\":\"ColumnDataSource\"}},\"id\":\"3c6cec9e-6757-4c29-a104-bd07db82569a\",\"type\":\"CDSView\"},{\"attributes\":{\"callback\":null,\"overlay\":{\"id\":\"199a20cb-e807-4b57-a6a3-5242f4802059\",\"type\":\"BoxAnnotation\"}},\"id\":\"df8a1b20-f2a0-4256-8035-ac3e1db58829\",\"type\":\"BoxSelectTool\"},{\"attributes\":{\"below\":[{\"id\":\"6ec3764a-e8ec-4f34-8e87-a75419511c9d\",\"type\":\"LinearAxis\"}],\"left\":[{\"id\":\"c4452ca3-d9db-43ef-87c9-93e8716174e7\",\"type\":\"LinearAxis\"}],\"plot_height\":400,\"plot_width\":400,\"renderers\":[{\"id\":\"6ec3764a-e8ec-4f34-8e87-a75419511c9d\",\"type\":\"LinearAxis\"},{\"id\":\"82c3addb-be1c-4a17-b088-bf4cc06d383d\",\"type\":\"Grid\"},{\"id\":\"c4452ca3-d9db-43ef-87c9-93e8716174e7\",\"type\":\"LinearAxis\"},{\"id\":\"fe7180fb-babd-4a40-9756-b734311cd4e1\",\"type\":\"Grid\"},{\"id\":\"1f7ddd7a-3f12-4554-b4d2-6cc2182eaf2e\",\"type\":\"BoxAnnotation\"},{\"id\":\"1b3f4161-5a47-44b4-977b-643a91e8be7b\",\"type\":\"PolyAnnotation\"},{\"id\":\"203893c7-3f25-484d-a5f6-f868d9109dd1\",\"type\":\"GlyphRenderer\"},{\"id\":\"65cd4640-e2c7-4dcd-ba32-8873107f64d2\",\"type\":\"GlyphRenderer\"}],\"title\":{\"id\":\"2963a356-7df9-480f-8096-636722cc7688\",\"type\":\"Title\"},\"toolbar\":{\"id\":\"fc865bf4-2b43-4483-bfef-6a30033a8cd4\",\"type\":\"Toolbar\"},\"toolbar_location\":null,\"x_range\":{\"id\":\"682f3f49-d696-4148-923a-c16847d45b44\",\"type\":\"DataRange1d\"},\"x_scale\":{\"id\":\"58199134-f47d-43e0-9cd5-dbc8256154a4\",\"type\":\"LinearScale\"},\"y_range\":{\"id\":\"a672a577-0061-4c45-bbad-e75678c91889\",\"type\":\"DataRange1d\"},\"y_scale\":{\"id\":\"46cc5ffe-3683-4a76-9dc6-73a30158f750\",\"type\":\"LinearScale\"}},\"id\":\"1fa6ce58-9b65-46ae-a84e-80c50f30288e\",\"subtype\":\"Figure\",\"type\":\"Plot\"},{\"attributes\":{\"callback\":null,\"overlay\":{\"id\":\"02899a2b-5afa-49f4-8785-fdae7d4190a8\",\"type\":\"PolyAnnotation\"}},\"id\":\"0933c399-2950-4563-a6c2-b5292e368dcb\",\"type\":\"LassoSelectTool\"},{\"attributes\":{},\"id\":\"c3228e4d-1f38-4523-84b6-9aafefed880c\",\"type\":\"HelpTool\"},{\"attributes\":{},\"id\":\"3a239a61-63a6-4f89-973f-97fa787704b4\",\"type\":\"ResetTool\"},{\"attributes\":{\"bottom_units\":\"screen\",\"fill_alpha\":{\"value\":0.5},\"fill_color\":{\"value\":\"lightgrey\"},\"left_units\":\"screen\",\"level\":\"overlay\",\"line_alpha\":{\"value\":1.0},\"line_color\":{\"value\":\"black\"},\"line_dash\":[4,4],\"line_width\":{\"value\":2},\"plot\":null,\"render_mode\":\"css\",\"right_units\":\"screen\",\"top_units\":\"screen\"},\"id\":\"199a20cb-e807-4b57-a6a3-5242f4802059\",\"type\":\"BoxAnnotation\"},{\"attributes\":{\"data_source\":{\"id\":\"2e74dae3-52da-4a6c-8869-fbc23aacc11b\",\"type\":\"ColumnDataSource\"},\"glyph\":{\"id\":\"33d1897f-1d83-4f66-8962-447567216987\",\"type\":\"Circle\"},\"hover_glyph\":null,\"muted_glyph\":null,\"nonselection_glyph\":{\"id\":\"9f8641a7-40af-4a47-b622-8c7f48fc5819\",\"type\":\"Circle\"},\"selection_glyph\":null,\"view\":{\"id\":\"3c6cec9e-6757-4c29-a104-bd07db82569a\",\"type\":\"CDSView\"}},\"id\":\"b07b5d5d-0bd0-48fe-bf51-9d699812b36b\",\"type\":\"GlyphRenderer\"},{\"attributes\":{\"fill_alpha\":{\"value\":0.5},\"fill_color\":{\"value\":\"lightgrey\"},\"level\":\"overlay\",\"line_alpha\":{\"value\":1.0},\"line_color\":{\"value\":\"black\"},\"line_dash\":[4,4],\"line_width\":{\"value\":2},\"plot\":null,\"xs_units\":\"screen\",\"ys_units\":\"screen\"},\"id\":\"02899a2b-5afa-49f4-8785-fdae7d4190a8\",\"type\":\"PolyAnnotation\"},{\"attributes\":{\"fill_alpha\":{\"value\":0.6},\"fill_color\":{\"value\":\"green\"},\"line_alpha\":{\"value\":0.6},\"line_color\":{\"value\":\"green\"},\"size\":{\"units\":\"screen\",\"value\":20},\"x\":{\"field\":\"Income\"},\"y\":{\"field\":\"Ozone_AUG_15\"}},\"id\":\"3be16c7b-913d-494f-a192-f759f4c07eb8\",\"type\":\"Circle\"},{\"attributes\":{\"fill_alpha\":{\"value\":0.1},\"fill_color\":{\"value\":\"#1f77b4\"},\"line_alpha\":{\"value\":0.1},\"line_color\":{\"value\":\"#1f77b4\"},\"size\":{\"units\":\"screen\",\"value\":20},\"x\":{\"field\":\"Income\"},\"y\":{\"field\":\"Ozone_AUG_15\"}},\"id\":\"3eba81c6-648e-4353-b3b6-0daf8e33a10d\",\"type\":\"Circle\"},{\"attributes\":{\"data_source\":{\"id\":\"2e74dae3-52da-4a6c-8869-fbc23aacc11b\",\"type\":\"ColumnDataSource\"},\"glyph\":{\"id\":\"3be16c7b-913d-494f-a192-f759f4c07eb8\",\"type\":\"Circle\"},\"hover_glyph\":null,\"muted_glyph\":null,\"nonselection_glyph\":{\"id\":\"3eba81c6-648e-4353-b3b6-0daf8e33a10d\",\"type\":\"Circle\"},\"selection_glyph\":null,\"view\":{\"id\":\"3e32d213-579c-4a98-855d-670a72d2c3ff\",\"type\":\"CDSView\"}},\"id\":\"a39f98ec-d6ef-470c-8b2d-ac2e2a14faa3\",\"type\":\"GlyphRenderer\"}],\"root_ids\":[\"3ee1ec84-811e-4776-9a34-9d8f85b8deab\"]},\"title\":\"Bokeh Application\",\"version\":\"0.12.16\"}};\n",
       "  var render_items = [{\"docid\":\"e33a9c08-606a-47fd-b0e9-4702ac6dcd9e\",\"elementid\":\"3422f989-22f2-466c-95cc-5789ee90ce0d\",\"modelid\":\"3ee1ec84-811e-4776-9a34-9d8f85b8deab\"}];\n",
       "  root.Bokeh.embed.embed_items_notebook(docs_json, render_items);\n",
       "\n",
       "  }\n",
       "  if (root.Bokeh !== undefined) {\n",
       "    embed_document(root);\n",
       "  } else {\n",
       "    var attempts = 0;\n",
       "    var timer = setInterval(function(root) {\n",
       "      if (root.Bokeh !== undefined) {\n",
       "        embed_document(root);\n",
       "        clearInterval(timer);\n",
       "      }\n",
       "      attempts++;\n",
       "      if (attempts > 100) {\n",
       "        console.log(\"Bokeh: ERROR: Unable to run BokehJS code because BokehJS library is missing\")\n",
       "        clearInterval(timer);\n",
       "      }\n",
       "    }, 10, root)\n",
       "  }\n",
       "})(window);"
      ],
      "application/vnd.bokehjs_exec.v0+json": ""
     },
     "metadata": {
      "application/vnd.bokehjs_exec.v0+json": {
       "id": "3ee1ec84-811e-4776-9a34-9d8f85b8deab"
      }
     },
     "output_type": "display_data"
    }
   ],
   "source": [
    "boz = ColumnDataSource(ozone)\n",
    "\n",
    "TOOLS = \"box_select,lasso_select,help,reset\"\n",
    "\n",
    "left = figure(tools=TOOLS, plot_width=400, plot_height=400, x_axis_label='Income',\n",
    "           y_axis_label='Ozone Level')\n",
    "left.circle(x='Income', y='Ozone_AUG_10', size=20, alpha=0.6, color='navy', source=boz)\n",
    "left.circle(x='Income', y='Ozone_AUG_15', size=20, alpha=0.6, color='green', source=boz)\n",
    "\n",
    "right = figure(tools=TOOLS, plot_width=400, plot_height=400, x_axis_label='Elevation')\n",
    "right.circle(x='Elevation', y='Ozone_AUG_10', size=20, alpha=0.6, color='navy', source=boz)\n",
    "right.circle(x='Elevation', y='Ozone_AUG_15', size=20, alpha=0.6, color='green', source=boz)\n",
    "\n",
    "p = gridplot([[left, right]])\n",
    "\n",
    "show(p)"
   ]
  },
  {
   "cell_type": "markdown",
   "metadata": {},
   "source": [
    "What might account for the difference in ozone levels between the two timepoints? (Click one of the options below.)"
   ]
  },
  {
   "cell_type": "code",
   "execution_count": 36,
   "metadata": {
    "scrolled": false
   },
   "outputs": [
    {
     "data": {
      "application/vnd.jupyter.widget-view+json": {
       "model_id": "69de34ae9c2e43998d40816f8e85fc47",
       "version_major": 2,
       "version_minor": 0
      },
      "text/plain": [
       "Button(description='a. Ozone levels decrease with elevation', layout=Layout(height='40px', width='40%'), style…"
      ]
     },
     "metadata": {},
     "output_type": "display_data"
    },
    {
     "data": {
      "application/vnd.jupyter.widget-view+json": {
       "model_id": "9dcf6ae246bf4001aa982f3537c40703",
       "version_major": 2,
       "version_minor": 0
      },
      "text/plain": [
       "Button(description='b. Wealthy people spend more time outdoors', layout=Layout(height='40px', width='40%'), st…"
      ]
     },
     "metadata": {},
     "output_type": "display_data"
    },
    {
     "data": {
      "application/vnd.jupyter.widget-view+json": {
       "model_id": "23379daeba65403fab0bbc35e4447ff0",
       "version_major": 2,
       "version_minor": 0
      },
      "text/plain": [
       "Button(description='c. Ozone levels increase throughout the day', layout=Layout(height='40px', width='40%'), s…"
      ]
     },
     "metadata": {},
     "output_type": "display_data"
    },
    {
     "data": {
      "application/vnd.jupyter.widget-view+json": {
       "model_id": "9be519880ba94b26982ef1813c113b14",
       "version_major": 2,
       "version_minor": 0
      },
      "text/plain": [
       "Button(description='d. Too much noise; relationship is not obvious', layout=Layout(height='40px', width='40%')…"
      ]
     },
     "metadata": {},
     "output_type": "display_data"
    },
    {
     "name": "stdout",
     "output_type": "stream",
     "text": [
      "Please try again.\n",
      "Please try again.\n",
      "Correct.\n"
     ]
    }
   ],
   "source": [
    "import quiz"
   ]
  },
  {
   "cell_type": "markdown",
   "metadata": {},
   "source": [
    "### Let's use the same statistical functions we used above to explore the relationship between ozone, income, and elevation."
   ]
  },
  {
   "cell_type": "code",
   "execution_count": 26,
   "metadata": {},
   "outputs": [
    {
     "data": {
      "text/html": [
       "<table class=\"simpletable\">\n",
       "<caption>OLS Regression Results</caption>\n",
       "<tr>\n",
       "  <th>Dep. Variable:</th>      <td>Ozone_AUG_10</td>   <th>  R-squared:         </th> <td>   0.430</td>\n",
       "</tr>\n",
       "<tr>\n",
       "  <th>Model:</th>                   <td>OLS</td>       <th>  Adj. R-squared:    </th> <td>   0.421</td>\n",
       "</tr>\n",
       "<tr>\n",
       "  <th>Method:</th>             <td>Least Squares</td>  <th>  F-statistic:       </th> <td>   46.81</td>\n",
       "</tr>\n",
       "<tr>\n",
       "  <th>Date:</th>             <td>Fri, 08 Jun 2018</td> <th>  Prob (F-statistic):</th> <td>4.04e-09</td>\n",
       "</tr>\n",
       "<tr>\n",
       "  <th>Time:</th>                 <td>15:51:38</td>     <th>  Log-Likelihood:    </th> <td> -184.23</td>\n",
       "</tr>\n",
       "<tr>\n",
       "  <th>No. Observations:</th>      <td>    64</td>      <th>  AIC:               </th> <td>   372.5</td>\n",
       "</tr>\n",
       "<tr>\n",
       "  <th>Df Residuals:</th>          <td>    62</td>      <th>  BIC:               </th> <td>   376.8</td>\n",
       "</tr>\n",
       "<tr>\n",
       "  <th>Df Model:</th>              <td>     1</td>      <th>                     </th>     <td> </td>   \n",
       "</tr>\n",
       "<tr>\n",
       "  <th>Covariance Type:</th>      <td>nonrobust</td>    <th>                     </th>     <td> </td>   \n",
       "</tr>\n",
       "</table>\n",
       "<table class=\"simpletable\">\n",
       "<tr>\n",
       "      <td></td>         <th>coef</th>     <th>std err</th>      <th>t</th>      <th>P>|t|</th>  <th>[0.025</th>    <th>0.975]</th>  \n",
       "</tr>\n",
       "<tr>\n",
       "  <th>Intercept</th> <td>   20.0326</td> <td>    1.352</td> <td>   14.819</td> <td> 0.000</td> <td>   17.330</td> <td>   22.735</td>\n",
       "</tr>\n",
       "<tr>\n",
       "  <th>Income</th>    <td>    0.0002</td> <td> 2.73e-05</td> <td>    6.841</td> <td> 0.000</td> <td>    0.000</td> <td>    0.000</td>\n",
       "</tr>\n",
       "</table>\n",
       "<table class=\"simpletable\">\n",
       "<tr>\n",
       "  <th>Omnibus:</th>       <td> 2.472</td> <th>  Durbin-Watson:     </th> <td>   1.552</td>\n",
       "</tr>\n",
       "<tr>\n",
       "  <th>Prob(Omnibus):</th> <td> 0.291</td> <th>  Jarque-Bera (JB):  </th> <td>   1.655</td>\n",
       "</tr>\n",
       "<tr>\n",
       "  <th>Skew:</th>          <td> 0.313</td> <th>  Prob(JB):          </th> <td>   0.437</td>\n",
       "</tr>\n",
       "<tr>\n",
       "  <th>Kurtosis:</th>      <td> 3.478</td> <th>  Cond. No.          </th> <td>1.22e+05</td>\n",
       "</tr>\n",
       "</table>"
      ],
      "text/plain": [
       "<class 'statsmodels.iolib.summary.Summary'>\n",
       "\"\"\"\n",
       "                            OLS Regression Results                            \n",
       "==============================================================================\n",
       "Dep. Variable:           Ozone_AUG_10   R-squared:                       0.430\n",
       "Model:                            OLS   Adj. R-squared:                  0.421\n",
       "Method:                 Least Squares   F-statistic:                     46.81\n",
       "Date:                Fri, 08 Jun 2018   Prob (F-statistic):           4.04e-09\n",
       "Time:                        15:51:38   Log-Likelihood:                -184.23\n",
       "No. Observations:                  64   AIC:                             372.5\n",
       "Df Residuals:                      62   BIC:                             376.8\n",
       "Df Model:                           1                                         \n",
       "Covariance Type:            nonrobust                                         \n",
       "==============================================================================\n",
       "                 coef    std err          t      P>|t|      [0.025      0.975]\n",
       "------------------------------------------------------------------------------\n",
       "Intercept     20.0326      1.352     14.819      0.000      17.330      22.735\n",
       "Income         0.0002   2.73e-05      6.841      0.000       0.000       0.000\n",
       "==============================================================================\n",
       "Omnibus:                        2.472   Durbin-Watson:                   1.552\n",
       "Prob(Omnibus):                  0.291   Jarque-Bera (JB):                1.655\n",
       "Skew:                           0.313   Prob(JB):                        0.437\n",
       "Kurtosis:                       3.478   Cond. No.                     1.22e+05\n",
       "==============================================================================\n",
       "\n",
       "Warnings:\n",
       "[1] Standard Errors assume that the covariance matrix of the errors is correctly specified.\n",
       "[2] The condition number is large, 1.22e+05. This might indicate that there are\n",
       "strong multicollinearity or other numerical problems.\n",
       "\"\"\""
      ]
     },
     "execution_count": 26,
     "metadata": {},
     "output_type": "execute_result"
    }
   ],
   "source": [
    "mod = smf.ols(formula='Ozone_AUG_10 ~ Income', data=ozone)\n",
    "res = mod.fit()\n",
    "res.summary()"
   ]
  },
  {
   "cell_type": "code",
   "execution_count": 67,
   "metadata": {},
   "outputs": [
    {
     "data": {
      "text/html": [
       "\n",
       "<div class=\"bk-root\">\n",
       "    <div class=\"bk-plotdiv\" id=\"98f0538c-a810-4f4d-93ca-b1058dffb9b4\"></div>\n",
       "</div>"
      ]
     },
     "metadata": {},
     "output_type": "display_data"
    },
    {
     "data": {
      "application/javascript": [
       "(function(root) {\n",
       "  function embed_document(root) {\n",
       "    \n",
       "  var docs_json = {\"e0c0b769-b1ee-45e9-b7ae-5e84a07ce219\":{\"roots\":{\"references\":[{\"attributes\":{},\"id\":\"c9f2f81c-213d-4365-9309-daa96f79e454\",\"type\":\"BasicTicker\"},{\"attributes\":{},\"id\":\"c6a0ba7a-8583-4bd9-a938-0b51528ecb2f\",\"type\":\"BasicTicker\"},{\"attributes\":{\"axis_label\":\"Ozone Level\",\"formatter\":{\"id\":\"2a58b7e8-768e-4f11-afee-e6768e99f407\",\"type\":\"BasicTickFormatter\"},\"plot\":{\"id\":\"5dc5c8b6-7a65-400b-8c79-daa79d2fcaf8\",\"subtype\":\"Figure\",\"type\":\"Plot\"},\"ticker\":{\"id\":\"c9f2f81c-213d-4365-9309-daa96f79e454\",\"type\":\"BasicTicker\"}},\"id\":\"6c021efa-e72d-43c5-a277-59bb1e6f8cf9\",\"type\":\"LinearAxis\"},{\"attributes\":{\"plot\":null,\"text\":\"\"},\"id\":\"17bda63d-9c93-4d90-970d-82452e597582\",\"type\":\"Title\"},{\"attributes\":{\"dimension\":1,\"plot\":{\"id\":\"5dc5c8b6-7a65-400b-8c79-daa79d2fcaf8\",\"subtype\":\"Figure\",\"type\":\"Plot\"},\"ticker\":{\"id\":\"c9f2f81c-213d-4365-9309-daa96f79e454\",\"type\":\"BasicTicker\"}},\"id\":\"297dbd62-bbc8-45c0-bd27-18f9e1c6c9dd\",\"type\":\"Grid\"},{\"attributes\":{},\"id\":\"71d2f59e-4f63-43db-8ff7-6e4759b6f531\",\"type\":\"Selection\"},{\"attributes\":{},\"id\":\"846daf2b-01af-45d1-8b8e-cec5cc0d19fd\",\"type\":\"WheelZoomTool\"},{\"attributes\":{},\"id\":\"add5b92e-ab61-4299-af4e-f21db77e04a0\",\"type\":\"UnionRenderers\"},{\"attributes\":{},\"id\":\"3ee470b1-1c01-41cb-8e26-73b7c7f25800\",\"type\":\"ResetTool\"},{\"attributes\":{\"axis_label\":\"Income\",\"formatter\":{\"id\":\"86554890-ade8-4b3b-953f-bee34952551b\",\"type\":\"BasicTickFormatter\"},\"plot\":{\"id\":\"5dc5c8b6-7a65-400b-8c79-daa79d2fcaf8\",\"subtype\":\"Figure\",\"type\":\"Plot\"},\"ticker\":{\"id\":\"c6a0ba7a-8583-4bd9-a938-0b51528ecb2f\",\"type\":\"BasicTicker\"}},\"id\":\"55e323dc-c844-49ba-9278-d86a3dfe912d\",\"type\":\"LinearAxis\"},{\"attributes\":{\"fill_alpha\":{\"value\":0.6},\"fill_color\":{\"value\":\"red\"},\"line_alpha\":{\"value\":0.6},\"line_color\":{\"value\":\"red\"},\"size\":{\"units\":\"screen\",\"value\":20},\"x\":{\"field\":\"Income\"},\"y\":{\"field\":\"Ozone_AUG_10\"}},\"id\":\"81b6cc65-e217-4db0-a656-ad53f4ae0d60\",\"type\":\"Circle\"},{\"attributes\":{\"callback\":null},\"id\":\"b56e0ea0-7098-4886-8d2c-2b54c9a009f2\",\"type\":\"DataRange1d\"},{\"attributes\":{},\"id\":\"2a58b7e8-768e-4f11-afee-e6768e99f407\",\"type\":\"BasicTickFormatter\"},{\"attributes\":{},\"id\":\"86554890-ade8-4b3b-953f-bee34952551b\",\"type\":\"BasicTickFormatter\"},{\"attributes\":{\"callback\":null},\"id\":\"6b6f2e58-b717-4410-a142-dd3f6b1f0368\",\"type\":\"DataRange1d\"},{\"attributes\":{\"data_source\":{\"id\":\"aa0e00ed-250e-4b77-af44-b8a43532c70c\",\"type\":\"ColumnDataSource\"},\"glyph\":{\"id\":\"81b6cc65-e217-4db0-a656-ad53f4ae0d60\",\"type\":\"Circle\"},\"hover_glyph\":null,\"muted_glyph\":null,\"nonselection_glyph\":{\"id\":\"83a67b83-ec2b-49a3-8f03-fef9fc991692\",\"type\":\"Circle\"},\"selection_glyph\":null,\"view\":{\"id\":\"cc6aa32b-e7bf-4890-a6c5-cc6f13234304\",\"type\":\"CDSView\"}},\"id\":\"5eb0fe04-3d40-4808-b91d-8dab0786092b\",\"type\":\"GlyphRenderer\"},{\"attributes\":{\"overlay\":{\"id\":\"95c1abf1-77ed-4365-b48f-e2369c7cce13\",\"type\":\"BoxAnnotation\"}},\"id\":\"b6662116-7d54-4d59-ad61-1352ad81ff64\",\"type\":\"BoxZoomTool\"},{\"attributes\":{\"plot\":{\"id\":\"5dc5c8b6-7a65-400b-8c79-daa79d2fcaf8\",\"subtype\":\"Figure\",\"type\":\"Plot\"},\"ticker\":{\"id\":\"c6a0ba7a-8583-4bd9-a938-0b51528ecb2f\",\"type\":\"BasicTicker\"}},\"id\":\"4af0fd55-019d-40c3-9a20-cc7ea9b37f74\",\"type\":\"Grid\"},{\"attributes\":{\"fill_alpha\":{\"value\":0.1},\"fill_color\":{\"value\":\"#1f77b4\"},\"line_alpha\":{\"value\":0.1},\"line_color\":{\"value\":\"#1f77b4\"},\"size\":{\"units\":\"screen\",\"value\":20},\"x\":{\"field\":\"Income\"},\"y\":{\"field\":\"Ozone_AUG_10\"}},\"id\":\"83a67b83-ec2b-49a3-8f03-fef9fc991692\",\"type\":\"Circle\"},{\"attributes\":{\"callback\":null,\"data\":{\"Block_Group_ID\":[490351001002,490351003061,490351003062,490351006003,490351006004,490351006005,490351008001,490351008002,490351008003,490351014001,490351014002,490351014003,490351015003,490351016001,490351016002,490351017002,490351017003,490351018001,490351019002,490351021001,490351025001,490351026001,490351027021,490351028021,490351029001,490351029002,490351029003,490351115001,490351116001,490351116002,490351121002,490351122013,490351122021,490351122022,490351122023,490351124031,490351124041,490351129161,490351129162,490351129163,490351129171,490351129172,490351129182,490351129202,490351129213,490351130071,490351130201,490351131012,490351131013,490351131014,490351131021,490351131022,490351133051,490351133052,490351133053,490351133071,490351133081,490351133101,490351133102,490351140001,490351142001,490351142002,490351152091,490351152092],\"Elevation\":{\"__ndarray__\":\"1t8SgL9ulEAZrg6AaEOUQG8MAcDhJpRAOpUMALVXlEAZrg6AaEOUQGXEBaBxV5RA51Hxf0eklEDnUfF/R6SUQOdR8X9HpJRAYabtX9kJlkDKiAtAgyGVQGGm7V/ZCZZAHcnlP4RNlUAdyeU/hE2VQB3J5T+ETZVASgfr/8yylEBKB+v/zLKUQEoH6//MspRASgfr/8yylEDW3xKAj3mUQGXEBaBxV5RAZcQFoHFXlEDV0AZgwz+UQMqIC0CTJ5RAMVwdAPFYlEBMFvcfOVCUQFde8j+5OZRA51Hxf1colECM1eb/pS+UQIzV5v+lL5RAI/YJoEg7lEAUkPY/IHSUQHxjCADeTZRAFJD2PxBplEDhJw6gf5GUQAQeGEA4YJRAeEXwv7VelEAXnwJgTOuVQBefAmBM65VAF58CYEzrlUDCTxxAPyCVQPzh57/3jJVAjNXm/wW3lEB2NuSfOTCVQCHn/X8cm5VA7G8JwH/NlkAQdR+AFLmWQCHn/X8sqpZAF58CYEzrlUBp4h3gOTuWQCHn/X8sqpZAaeId4Dk7lkCfWRKgRiWUQC0+BcAoLJRAq7AZ4DI4lECrsBngMjiUQKuwGeAyOJRA4ScOoB9UlEBMFvcfiT2UQJHz/j8eZJRAjNXm/4WmlEAlBRbAdICUQGniHeBpV5hAdCoZAKpCmEA=\",\"dtype\":\"float64\",\"shape\":[64]},\"Income\":{\"__ndarray__\":\"AAAAAMBP5UAAAAAA4HfhQAAAAAAgseJAAAAAAGBL70AAAAAAYBviQAAAAAAA/9RAAAAAAEAY5EAAAAAAgH3gQAAAAADAV+JAAAAAAMBT4EAAAAAAgHjXQAAAAAAABb9AAAAAAAAl3UAAAAAAQGrRQAAAAABgWORAAAAAAACx30AAAAAA4OLgQAAAAAAAvd9AAAAAAMAK2kAAAAAAwK/SQAAAAAAAr99AAAAAAICd3UAAAAAAwD7aQAAAAADAad9AAAAAAAAV10AAAAAAAD/XQAAAAAAAtdlAAAAAAEAw4kAAAAAA4EHgQAAAAAAAF9FAAAAAAACa4EAAAAAAIMHsQAAAAAAg8OpAAAAAACC15EAAAAAAAOHhQAAAAABg7OdAAAAAAIBc4kAAAAAAgG3rQAAAAACwGfFAAAAAABAp8EAAAAAAsIXxQAAAAAAATetAAAAAAEBK7kAAAAAAUNvxQAAAAAAATOZAAAAAABDp9kAAAAAA4Nv0QAAAAABA2/FAAAAAAIAx50AAAAAAwB3zQAAAAACQWPNAAAAAAEBq80AAAAAAIJvkQAAAAADATeNAAAAAAMAT1kAAAAAAgLPlQAAAAADAKutAAAAAAEAW6UAAAAAAAMfXQAAAAADgReFAAAAAAEDk8EAAAAAAUPfwQAAAAABwmPZAAAAAACCy7UA=\",\"dtype\":\"float64\",\"shape\":[64]},\"Ozone_AUG_10\":{\"__ndarray__\":\"c7RPbKqOO0DtA/t1yEg6QGmOauBgrztAHmc/94qZO0A+fT6pes08QPzkKEAUxjpA4qWKmMgLO0Cd1ztQZbY5QBS7z1T83jpA6C7s3d2dOkBynQyvoEg5QDUtDOyMtjlAsqYN4l60NkDIQwDss003QOKQkdwvpDZAVWq0JFmANUB8HWHmdW01QClcj8L1KDVAmPbN/dUZM0CK1kCprPYyQLMxhqTcEjVAYTPABdk0O0Cm43uQr/s6QMjtNCWbxDVASgYlcfsjOUAyCllIhrM5QLln4duJHThAr5z33mNBNkCTNlX3yIo3QLmkMBCADTVAjhsCcIHnOkDvJjJSc4s6QFB4ZAfwiDlAmhYGdkabOUCV7Bollm81QIR0Rs6hsjxA3fD1lCDPNUAotqO0jiJCQHzFx+VH6kFAwJHEu/GUQkCPhtcei2ZCQKhp/jWsikJAxF9RGZj6QEAEEXcv1pdBQBsPlcoExEJAZmZmZmbmOUAcgMtrvodBQOUmzZMpvkJA4X+noA0JQkDXDaFrW/tCQL8z0jncAUNAeAC0e6w4QkBVDD5qH7VAQDBsSR66cEBA8eN5ugRRP0BOYxgDLVs+QLcWXjBV0DtA8ZT+827sO0DPUJrVVONCQNWc1WWljzZAexNkgBtSPkB84xiHAq0/QFwKQIrXKUJAvuh+kF0XQkA=\",\"dtype\":\"float64\",\"shape\":[64]},\"Ozone_AUG_15\":{\"__ndarray__\":\"s1JSca1FSkAmJn9iKl1LQKV3v0QbW0pAb2MWThCJSkAWVTuaVYxLQG4vq6gom0tA1GSEv3gNSkChwPncIiFKQLCh5YqcfUhAAAAAAACwSkC5fSRfaMVHQGh+0tzMnUdAy1nI8f3XRUBp9Zuqd49HQKs3UehI7UZASe4TtAchRkBP29DeKjJGQEKuWOzEbkZAQQRmz687RUCpvcrStZdFQJDthLD990lA15ZL9EPtSkAvIfZ0u0dJQLAoHZPifUdAc93OnWTFR0BQuIkgb5hIQAptMSaadkdAF9H6hAGDRkC10rVATENGQKJqy+vOoUdA8Z8LdoVRSkDtNn9+pV5JQBZ8gfb25klA4pBwzkawSkBqjge2JThLQKJ3zyas4UpAzqzfK77CS0Av7lBedZ5LQGXg48DpoUtAnUgPx2MHTECVWWvFiidNQPKxHmsEGk1A0FKJHVOeS0DHnZClqPNMQNSRbSocz0xA2n1cVVU1TkDgL+ISsk5LQDmGW5nLBU1AcMUP31PpTECzuxfKT5NNQJAvX2bxLU1A5FKNRXA5TEDk4TWWTWhNQDl6Pvt4RE1AT/L6/pNrSkAh+Gv04rlIQB6USXAXVklA16MuITiISECGnv/kEEtRQCG7oPiQA0hAoS9a0/7OTECwo1gLv5pNQFVK8AJ8GU1AUetH1FXgTEA=\",\"dtype\":\"float64\",\"shape\":[64]},\"index\":[0,1,2,3,4,5,6,7,8,9,10,11,12,13,14,15,16,17,18,19,20,21,22,23,24,25,26,27,28,29,30,31,32,33,34,35,36,37,38,39,40,41,42,43,44,45,46,47,48,49,50,51,52,53,54,55,56,57,58,59,60,61,62,63]},\"selected\":{\"id\":\"71d2f59e-4f63-43db-8ff7-6e4759b6f531\",\"type\":\"Selection\"},\"selection_policy\":{\"id\":\"add5b92e-ab61-4299-af4e-f21db77e04a0\",\"type\":\"UnionRenderers\"}},\"id\":\"aa0e00ed-250e-4b77-af44-b8a43532c70c\",\"type\":\"ColumnDataSource\"},{\"attributes\":{\"callback\":null,\"renderers\":\"auto\",\"tooltips\":[[\"income\",\"@Income\"],[\"ozone\",\"@Ozone_AUG_10\"]]},\"id\":\"4ea990b7-2d9a-40e0-a841-0d4cd934950d\",\"type\":\"HoverTool\"},{\"attributes\":{\"below\":[{\"id\":\"55e323dc-c844-49ba-9278-d86a3dfe912d\",\"type\":\"LinearAxis\"}],\"left\":[{\"id\":\"6c021efa-e72d-43c5-a277-59bb1e6f8cf9\",\"type\":\"LinearAxis\"}],\"plot_height\":400,\"plot_width\":400,\"renderers\":[{\"id\":\"55e323dc-c844-49ba-9278-d86a3dfe912d\",\"type\":\"LinearAxis\"},{\"id\":\"4af0fd55-019d-40c3-9a20-cc7ea9b37f74\",\"type\":\"Grid\"},{\"id\":\"6c021efa-e72d-43c5-a277-59bb1e6f8cf9\",\"type\":\"LinearAxis\"},{\"id\":\"297dbd62-bbc8-45c0-bd27-18f9e1c6c9dd\",\"type\":\"Grid\"},{\"id\":\"95c1abf1-77ed-4365-b48f-e2369c7cce13\",\"type\":\"BoxAnnotation\"},{\"id\":\"5eb0fe04-3d40-4808-b91d-8dab0786092b\",\"type\":\"GlyphRenderer\"}],\"title\":{\"id\":\"17bda63d-9c93-4d90-970d-82452e597582\",\"type\":\"Title\"},\"toolbar\":{\"id\":\"3ca9e71e-cffb-4787-a2bd-4492ede92217\",\"type\":\"Toolbar\"},\"x_range\":{\"id\":\"b56e0ea0-7098-4886-8d2c-2b54c9a009f2\",\"type\":\"DataRange1d\"},\"x_scale\":{\"id\":\"a92918f3-7199-4e2c-bb90-e668abe32b35\",\"type\":\"LinearScale\"},\"y_range\":{\"id\":\"6b6f2e58-b717-4410-a142-dd3f6b1f0368\",\"type\":\"DataRange1d\"},\"y_scale\":{\"id\":\"1a8912c0-60c5-421a-b148-459101791263\",\"type\":\"LinearScale\"}},\"id\":\"5dc5c8b6-7a65-400b-8c79-daa79d2fcaf8\",\"subtype\":\"Figure\",\"type\":\"Plot\"},{\"attributes\":{\"source\":{\"id\":\"aa0e00ed-250e-4b77-af44-b8a43532c70c\",\"type\":\"ColumnDataSource\"}},\"id\":\"cc6aa32b-e7bf-4890-a6c5-cc6f13234304\",\"type\":\"CDSView\"},{\"attributes\":{},\"id\":\"a92918f3-7199-4e2c-bb90-e668abe32b35\",\"type\":\"LinearScale\"},{\"attributes\":{\"active_drag\":\"auto\",\"active_inspect\":\"auto\",\"active_scroll\":\"auto\",\"active_tap\":\"auto\",\"tools\":[{\"id\":\"4ea990b7-2d9a-40e0-a841-0d4cd934950d\",\"type\":\"HoverTool\"},{\"id\":\"7f0a7aa8-7ea2-4a81-85d8-e67463ce9d1a\",\"type\":\"PanTool\"},{\"id\":\"846daf2b-01af-45d1-8b8e-cec5cc0d19fd\",\"type\":\"WheelZoomTool\"},{\"id\":\"b6662116-7d54-4d59-ad61-1352ad81ff64\",\"type\":\"BoxZoomTool\"},{\"id\":\"3ee470b1-1c01-41cb-8e26-73b7c7f25800\",\"type\":\"ResetTool\"}]},\"id\":\"3ca9e71e-cffb-4787-a2bd-4492ede92217\",\"type\":\"Toolbar\"},{\"attributes\":{},\"id\":\"7f0a7aa8-7ea2-4a81-85d8-e67463ce9d1a\",\"type\":\"PanTool\"},{\"attributes\":{\"bottom_units\":\"screen\",\"fill_alpha\":{\"value\":0.5},\"fill_color\":{\"value\":\"lightgrey\"},\"left_units\":\"screen\",\"level\":\"overlay\",\"line_alpha\":{\"value\":1.0},\"line_color\":{\"value\":\"black\"},\"line_dash\":[4,4],\"line_width\":{\"value\":2},\"plot\":null,\"render_mode\":\"css\",\"right_units\":\"screen\",\"top_units\":\"screen\"},\"id\":\"95c1abf1-77ed-4365-b48f-e2369c7cce13\",\"type\":\"BoxAnnotation\"},{\"attributes\":{},\"id\":\"1a8912c0-60c5-421a-b148-459101791263\",\"type\":\"LinearScale\"}],\"root_ids\":[\"5dc5c8b6-7a65-400b-8c79-daa79d2fcaf8\"]},\"title\":\"Bokeh Application\",\"version\":\"0.12.16\"}};\n",
       "  var render_items = [{\"docid\":\"e0c0b769-b1ee-45e9-b7ae-5e84a07ce219\",\"elementid\":\"98f0538c-a810-4f4d-93ca-b1058dffb9b4\",\"modelid\":\"5dc5c8b6-7a65-400b-8c79-daa79d2fcaf8\"}];\n",
       "  root.Bokeh.embed.embed_items_notebook(docs_json, render_items);\n",
       "\n",
       "  }\n",
       "  if (root.Bokeh !== undefined) {\n",
       "    embed_document(root);\n",
       "  } else {\n",
       "    var attempts = 0;\n",
       "    var timer = setInterval(function(root) {\n",
       "      if (root.Bokeh !== undefined) {\n",
       "        embed_document(root);\n",
       "        clearInterval(timer);\n",
       "      }\n",
       "      attempts++;\n",
       "      if (attempts > 100) {\n",
       "        console.log(\"Bokeh: ERROR: Unable to run BokehJS code because BokehJS library is missing\")\n",
       "        clearInterval(timer);\n",
       "      }\n",
       "    }, 10, root)\n",
       "  }\n",
       "})(window);"
      ],
      "application/vnd.bokehjs_exec.v0+json": ""
     },
     "metadata": {
      "application/vnd.bokehjs_exec.v0+json": {
       "id": "5dc5c8b6-7a65-400b-8c79-daa79d2fcaf8"
      }
     },
     "output_type": "display_data"
    }
   ],
   "source": [
    "#scatter with regression line\n",
    "hover = HoverTool(tooltips=[('income', '@Income'),('ozone','@Ozone_AUG_10')])\n",
    "p4 = figure(tools=[hover,'pan','wheel_zoom','box_zoom','reset'],plot_width=400, plot_height=400,\n",
    "            x_axis_label='Income', y_axis_label='Ozone Level')\n",
    "p4.circle(x='Income', y='Ozone_AUG_10', \n",
    "         size=20, alpha=0.6, color='red', source=boz)\n",
    "\n",
    "show(p4)"
   ]
  },
  {
   "cell_type": "code",
   "execution_count": 27,
   "metadata": {},
   "outputs": [
    {
     "data": {
      "text/html": [
       "<table class=\"simpletable\">\n",
       "<caption>OLS Regression Results</caption>\n",
       "<tr>\n",
       "  <th>Dep. Variable:</th>      <td>Ozone_AUG_10</td>   <th>  R-squared:         </th> <td>   0.294</td>\n",
       "</tr>\n",
       "<tr>\n",
       "  <th>Model:</th>                   <td>OLS</td>       <th>  Adj. R-squared:    </th> <td>   0.283</td>\n",
       "</tr>\n",
       "<tr>\n",
       "  <th>Method:</th>             <td>Least Squares</td>  <th>  F-statistic:       </th> <td>   25.86</td>\n",
       "</tr>\n",
       "<tr>\n",
       "  <th>Date:</th>             <td>Fri, 08 Jun 2018</td> <th>  Prob (F-statistic):</th> <td>3.64e-06</td>\n",
       "</tr>\n",
       "<tr>\n",
       "  <th>Time:</th>                 <td>15:51:42</td>     <th>  Log-Likelihood:    </th> <td> -191.07</td>\n",
       "</tr>\n",
       "<tr>\n",
       "  <th>No. Observations:</th>      <td>    64</td>      <th>  AIC:               </th> <td>   386.1</td>\n",
       "</tr>\n",
       "<tr>\n",
       "  <th>Df Residuals:</th>          <td>    62</td>      <th>  BIC:               </th> <td>   390.5</td>\n",
       "</tr>\n",
       "<tr>\n",
       "  <th>Df Model:</th>              <td>     1</td>      <th>                     </th>     <td> </td>   \n",
       "</tr>\n",
       "<tr>\n",
       "  <th>Covariance Type:</th>      <td>nonrobust</td>    <th>                     </th>     <td> </td>   \n",
       "</tr>\n",
       "</table>\n",
       "<table class=\"simpletable\">\n",
       "<tr>\n",
       "      <td></td>         <th>coef</th>     <th>std err</th>      <th>t</th>      <th>P>|t|</th>  <th>[0.025</th>    <th>0.975]</th>  \n",
       "</tr>\n",
       "<tr>\n",
       "  <th>Intercept</th> <td>  -38.2037</td> <td>   13.128</td> <td>   -2.910</td> <td> 0.005</td> <td>  -64.447</td> <td>  -11.960</td>\n",
       "</tr>\n",
       "<tr>\n",
       "  <th>Elevation</th> <td>    0.0497</td> <td>    0.010</td> <td>    5.086</td> <td> 0.000</td> <td>    0.030</td> <td>    0.069</td>\n",
       "</tr>\n",
       "</table>\n",
       "<table class=\"simpletable\">\n",
       "<tr>\n",
       "  <th>Omnibus:</th>       <td> 4.418</td> <th>  Durbin-Watson:     </th> <td>   0.834</td>\n",
       "</tr>\n",
       "<tr>\n",
       "  <th>Prob(Omnibus):</th> <td> 0.110</td> <th>  Jarque-Bera (JB):  </th> <td>   2.072</td>\n",
       "</tr>\n",
       "<tr>\n",
       "  <th>Skew:</th>          <td> 0.071</td> <th>  Prob(JB):          </th> <td>   0.355</td>\n",
       "</tr>\n",
       "<tr>\n",
       "  <th>Kurtosis:</th>      <td> 2.130</td> <th>  Cond. No.          </th> <td>2.90e+04</td>\n",
       "</tr>\n",
       "</table>"
      ],
      "text/plain": [
       "<class 'statsmodels.iolib.summary.Summary'>\n",
       "\"\"\"\n",
       "                            OLS Regression Results                            \n",
       "==============================================================================\n",
       "Dep. Variable:           Ozone_AUG_10   R-squared:                       0.294\n",
       "Model:                            OLS   Adj. R-squared:                  0.283\n",
       "Method:                 Least Squares   F-statistic:                     25.86\n",
       "Date:                Fri, 08 Jun 2018   Prob (F-statistic):           3.64e-06\n",
       "Time:                        15:51:42   Log-Likelihood:                -191.07\n",
       "No. Observations:                  64   AIC:                             386.1\n",
       "Df Residuals:                      62   BIC:                             390.5\n",
       "Df Model:                           1                                         \n",
       "Covariance Type:            nonrobust                                         \n",
       "==============================================================================\n",
       "                 coef    std err          t      P>|t|      [0.025      0.975]\n",
       "------------------------------------------------------------------------------\n",
       "Intercept    -38.2037     13.128     -2.910      0.005     -64.447     -11.960\n",
       "Elevation      0.0497      0.010      5.086      0.000       0.030       0.069\n",
       "==============================================================================\n",
       "Omnibus:                        4.418   Durbin-Watson:                   0.834\n",
       "Prob(Omnibus):                  0.110   Jarque-Bera (JB):                2.072\n",
       "Skew:                           0.071   Prob(JB):                        0.355\n",
       "Kurtosis:                       2.130   Cond. No.                     2.90e+04\n",
       "==============================================================================\n",
       "\n",
       "Warnings:\n",
       "[1] Standard Errors assume that the covariance matrix of the errors is correctly specified.\n",
       "[2] The condition number is large, 2.9e+04. This might indicate that there are\n",
       "strong multicollinearity or other numerical problems.\n",
       "\"\"\""
      ]
     },
     "execution_count": 27,
     "metadata": {},
     "output_type": "execute_result"
    }
   ],
   "source": [
    "mod = smf.ols(formula='Ozone_AUG_10 ~ Elevation', data=ozone)\n",
    "res = mod.fit()\n",
    "res.summary()"
   ]
  },
  {
   "cell_type": "code",
   "execution_count": 70,
   "metadata": {},
   "outputs": [
    {
     "data": {
      "text/html": [
       "\n",
       "<div class=\"bk-root\">\n",
       "    <div class=\"bk-plotdiv\" id=\"efd34c70-169a-4661-baf0-566f8607877b\"></div>\n",
       "</div>"
      ]
     },
     "metadata": {},
     "output_type": "display_data"
    },
    {
     "data": {
      "application/javascript": [
       "(function(root) {\n",
       "  function embed_document(root) {\n",
       "    \n",
       "  var docs_json = {\"7400d67f-b8ec-4143-a7f5-82a68778a673\":{\"roots\":{\"references\":[{\"attributes\":{\"plot\":null,\"text\":\"\"},\"id\":\"5f40b8af-6e16-4360-b831-0894e44fe491\",\"type\":\"Title\"},{\"attributes\":{},\"id\":\"0f0e5049-5cb2-46d3-9762-1e353057ad6e\",\"type\":\"BasicTicker\"},{\"attributes\":{\"dimension\":1,\"plot\":{\"id\":\"8458586f-7f9c-4684-bc00-4cc81fedb5d6\",\"subtype\":\"Figure\",\"type\":\"Plot\"},\"ticker\":{\"id\":\"a642e3a6-443a-42b6-9d57-0f36b377b012\",\"type\":\"BasicTicker\"}},\"id\":\"8baf8403-0b03-469a-a5a1-92948e022567\",\"type\":\"Grid\"},{\"attributes\":{\"fill_alpha\":{\"value\":0.6},\"fill_color\":{\"value\":\"#1f77b4\"},\"line_alpha\":{\"value\":0.6},\"line_color\":{\"value\":\"#1f77b4\"},\"size\":{\"units\":\"screen\",\"value\":20},\"x\":{\"field\":\"Elevation\"},\"y\":{\"field\":\"Ozone_AUG_10\"}},\"id\":\"ee299731-1b10-4d2d-9e93-a6cd48dbbcfc\",\"type\":\"Circle\"},{\"attributes\":{\"bottom_units\":\"screen\",\"fill_alpha\":{\"value\":0.5},\"fill_color\":{\"value\":\"lightgrey\"},\"left_units\":\"screen\",\"level\":\"overlay\",\"line_alpha\":{\"value\":1.0},\"line_color\":{\"value\":\"black\"},\"line_dash\":[4,4],\"line_width\":{\"value\":2},\"plot\":null,\"render_mode\":\"css\",\"right_units\":\"screen\",\"top_units\":\"screen\"},\"id\":\"271d6387-d10a-4b42-baf3-cd172e1ed719\",\"type\":\"BoxAnnotation\"},{\"attributes\":{},\"id\":\"71d2f59e-4f63-43db-8ff7-6e4759b6f531\",\"type\":\"Selection\"},{\"attributes\":{},\"id\":\"4a76abe8-dda0-45af-86ec-b67ca20d8cff\",\"type\":\"PanTool\"},{\"attributes\":{},\"id\":\"add5b92e-ab61-4299-af4e-f21db77e04a0\",\"type\":\"UnionRenderers\"},{\"attributes\":{},\"id\":\"03f973e4-4ef1-4f78-9121-a5df7e88c49f\",\"type\":\"LinearScale\"},{\"attributes\":{},\"id\":\"aff83721-317e-4701-89f9-0293bd5aec6b\",\"type\":\"BasicTickFormatter\"},{\"attributes\":{},\"id\":\"0d597087-c862-4571-ab4e-f2b94b3c6edd\",\"type\":\"WheelZoomTool\"},{\"attributes\":{\"below\":[{\"id\":\"cc1eb135-18f7-4d43-85ba-92e5fd835ba0\",\"type\":\"LinearAxis\"}],\"left\":[{\"id\":\"02ebb4ee-53e5-4e54-9bb6-c85902307a38\",\"type\":\"LinearAxis\"}],\"plot_height\":400,\"plot_width\":400,\"renderers\":[{\"id\":\"cc1eb135-18f7-4d43-85ba-92e5fd835ba0\",\"type\":\"LinearAxis\"},{\"id\":\"6303f1a6-69a8-4517-929a-eb3212ea05db\",\"type\":\"Grid\"},{\"id\":\"02ebb4ee-53e5-4e54-9bb6-c85902307a38\",\"type\":\"LinearAxis\"},{\"id\":\"8baf8403-0b03-469a-a5a1-92948e022567\",\"type\":\"Grid\"},{\"id\":\"271d6387-d10a-4b42-baf3-cd172e1ed719\",\"type\":\"BoxAnnotation\"},{\"id\":\"1c49316d-3636-42dd-94ff-fe9586daa948\",\"type\":\"GlyphRenderer\"}],\"title\":{\"id\":\"5f40b8af-6e16-4360-b831-0894e44fe491\",\"type\":\"Title\"},\"toolbar\":{\"id\":\"a4abec9e-4802-440f-ac39-bcee138c17c6\",\"type\":\"Toolbar\"},\"x_range\":{\"id\":\"1efd748d-e703-409b-b7b8-d64bb38e7136\",\"type\":\"DataRange1d\"},\"x_scale\":{\"id\":\"3e23e9e3-40d8-4d3c-8b6d-90d07c60a3b8\",\"type\":\"LinearScale\"},\"y_range\":{\"id\":\"80062681-063f-4515-a47e-3bb74a404456\",\"type\":\"DataRange1d\"},\"y_scale\":{\"id\":\"03f973e4-4ef1-4f78-9121-a5df7e88c49f\",\"type\":\"LinearScale\"}},\"id\":\"8458586f-7f9c-4684-bc00-4cc81fedb5d6\",\"subtype\":\"Figure\",\"type\":\"Plot\"},{\"attributes\":{\"overlay\":{\"id\":\"271d6387-d10a-4b42-baf3-cd172e1ed719\",\"type\":\"BoxAnnotation\"}},\"id\":\"4bb15752-c961-4fd9-857f-853abc61dc79\",\"type\":\"BoxZoomTool\"},{\"attributes\":{\"callback\":null,\"renderers\":\"auto\",\"tooltips\":[[\"elevation\",\"@Elevation\"],[\"ozone\",\"@Ozone_AUG_10\"]]},\"id\":\"650de3db-411b-46fc-b761-c996bbcc3254\",\"type\":\"HoverTool\"},{\"attributes\":{\"active_drag\":\"auto\",\"active_inspect\":\"auto\",\"active_scroll\":\"auto\",\"active_tap\":\"auto\",\"tools\":[{\"id\":\"650de3db-411b-46fc-b761-c996bbcc3254\",\"type\":\"HoverTool\"},{\"id\":\"4a76abe8-dda0-45af-86ec-b67ca20d8cff\",\"type\":\"PanTool\"},{\"id\":\"0d597087-c862-4571-ab4e-f2b94b3c6edd\",\"type\":\"WheelZoomTool\"},{\"id\":\"4bb15752-c961-4fd9-857f-853abc61dc79\",\"type\":\"BoxZoomTool\"},{\"id\":\"71711039-6299-4e27-be4d-db0feb26943a\",\"type\":\"ResetTool\"}]},\"id\":\"a4abec9e-4802-440f-ac39-bcee138c17c6\",\"type\":\"Toolbar\"},{\"attributes\":{},\"id\":\"71711039-6299-4e27-be4d-db0feb26943a\",\"type\":\"ResetTool\"},{\"attributes\":{\"fill_alpha\":{\"value\":0.1},\"fill_color\":{\"value\":\"#1f77b4\"},\"line_alpha\":{\"value\":0.1},\"line_color\":{\"value\":\"#1f77b4\"},\"size\":{\"units\":\"screen\",\"value\":20},\"x\":{\"field\":\"Elevation\"},\"y\":{\"field\":\"Ozone_AUG_10\"}},\"id\":\"3b30d003-e43c-45f3-a6b9-dc27bd422fb9\",\"type\":\"Circle\"},{\"attributes\":{\"callback\":null},\"id\":\"1efd748d-e703-409b-b7b8-d64bb38e7136\",\"type\":\"DataRange1d\"},{\"attributes\":{},\"id\":\"3e23e9e3-40d8-4d3c-8b6d-90d07c60a3b8\",\"type\":\"LinearScale\"},{\"attributes\":{\"data_source\":{\"id\":\"aa0e00ed-250e-4b77-af44-b8a43532c70c\",\"type\":\"ColumnDataSource\"},\"glyph\":{\"id\":\"ee299731-1b10-4d2d-9e93-a6cd48dbbcfc\",\"type\":\"Circle\"},\"hover_glyph\":null,\"muted_glyph\":null,\"nonselection_glyph\":{\"id\":\"3b30d003-e43c-45f3-a6b9-dc27bd422fb9\",\"type\":\"Circle\"},\"selection_glyph\":null,\"view\":{\"id\":\"dce81b26-16a1-4dcd-b17e-4d800c4e2cfe\",\"type\":\"CDSView\"}},\"id\":\"1c49316d-3636-42dd-94ff-fe9586daa948\",\"type\":\"GlyphRenderer\"},{\"attributes\":{\"source\":{\"id\":\"aa0e00ed-250e-4b77-af44-b8a43532c70c\",\"type\":\"ColumnDataSource\"}},\"id\":\"dce81b26-16a1-4dcd-b17e-4d800c4e2cfe\",\"type\":\"CDSView\"},{\"attributes\":{\"axis_label\":\"Ozone Level\",\"formatter\":{\"id\":\"5e8c8af4-179b-4bb9-89d0-3374086b898d\",\"type\":\"BasicTickFormatter\"},\"plot\":{\"id\":\"8458586f-7f9c-4684-bc00-4cc81fedb5d6\",\"subtype\":\"Figure\",\"type\":\"Plot\"},\"ticker\":{\"id\":\"a642e3a6-443a-42b6-9d57-0f36b377b012\",\"type\":\"BasicTicker\"}},\"id\":\"02ebb4ee-53e5-4e54-9bb6-c85902307a38\",\"type\":\"LinearAxis\"},{\"attributes\":{\"axis_label\":\"Elevation\",\"formatter\":{\"id\":\"aff83721-317e-4701-89f9-0293bd5aec6b\",\"type\":\"BasicTickFormatter\"},\"plot\":{\"id\":\"8458586f-7f9c-4684-bc00-4cc81fedb5d6\",\"subtype\":\"Figure\",\"type\":\"Plot\"},\"ticker\":{\"id\":\"0f0e5049-5cb2-46d3-9762-1e353057ad6e\",\"type\":\"BasicTicker\"}},\"id\":\"cc1eb135-18f7-4d43-85ba-92e5fd835ba0\",\"type\":\"LinearAxis\"},{\"attributes\":{\"callback\":null,\"data\":{\"Block_Group_ID\":[490351001002,490351003061,490351003062,490351006003,490351006004,490351006005,490351008001,490351008002,490351008003,490351014001,490351014002,490351014003,490351015003,490351016001,490351016002,490351017002,490351017003,490351018001,490351019002,490351021001,490351025001,490351026001,490351027021,490351028021,490351029001,490351029002,490351029003,490351115001,490351116001,490351116002,490351121002,490351122013,490351122021,490351122022,490351122023,490351124031,490351124041,490351129161,490351129162,490351129163,490351129171,490351129172,490351129182,490351129202,490351129213,490351130071,490351130201,490351131012,490351131013,490351131014,490351131021,490351131022,490351133051,490351133052,490351133053,490351133071,490351133081,490351133101,490351133102,490351140001,490351142001,490351142002,490351152091,490351152092],\"Elevation\":{\"__ndarray__\":\"1t8SgL9ulEAZrg6AaEOUQG8MAcDhJpRAOpUMALVXlEAZrg6AaEOUQGXEBaBxV5RA51Hxf0eklEDnUfF/R6SUQOdR8X9HpJRAYabtX9kJlkDKiAtAgyGVQGGm7V/ZCZZAHcnlP4RNlUAdyeU/hE2VQB3J5T+ETZVASgfr/8yylEBKB+v/zLKUQEoH6//MspRASgfr/8yylEDW3xKAj3mUQGXEBaBxV5RAZcQFoHFXlEDV0AZgwz+UQMqIC0CTJ5RAMVwdAPFYlEBMFvcfOVCUQFde8j+5OZRA51Hxf1colECM1eb/pS+UQIzV5v+lL5RAI/YJoEg7lEAUkPY/IHSUQHxjCADeTZRAFJD2PxBplEDhJw6gf5GUQAQeGEA4YJRAeEXwv7VelEAXnwJgTOuVQBefAmBM65VAF58CYEzrlUDCTxxAPyCVQPzh57/3jJVAjNXm/wW3lEB2NuSfOTCVQCHn/X8cm5VA7G8JwH/NlkAQdR+AFLmWQCHn/X8sqpZAF58CYEzrlUBp4h3gOTuWQCHn/X8sqpZAaeId4Dk7lkCfWRKgRiWUQC0+BcAoLJRAq7AZ4DI4lECrsBngMjiUQKuwGeAyOJRA4ScOoB9UlEBMFvcfiT2UQJHz/j8eZJRAjNXm/4WmlEAlBRbAdICUQGniHeBpV5hAdCoZAKpCmEA=\",\"dtype\":\"float64\",\"shape\":[64]},\"Income\":{\"__ndarray__\":\"AAAAAMBP5UAAAAAA4HfhQAAAAAAgseJAAAAAAGBL70AAAAAAYBviQAAAAAAA/9RAAAAAAEAY5EAAAAAAgH3gQAAAAADAV+JAAAAAAMBT4EAAAAAAgHjXQAAAAAAABb9AAAAAAAAl3UAAAAAAQGrRQAAAAABgWORAAAAAAACx30AAAAAA4OLgQAAAAAAAvd9AAAAAAMAK2kAAAAAAwK/SQAAAAAAAr99AAAAAAICd3UAAAAAAwD7aQAAAAADAad9AAAAAAAAV10AAAAAAAD/XQAAAAAAAtdlAAAAAAEAw4kAAAAAA4EHgQAAAAAAAF9FAAAAAAACa4EAAAAAAIMHsQAAAAAAg8OpAAAAAACC15EAAAAAAAOHhQAAAAABg7OdAAAAAAIBc4kAAAAAAgG3rQAAAAACwGfFAAAAAABAp8EAAAAAAsIXxQAAAAAAATetAAAAAAEBK7kAAAAAAUNvxQAAAAAAATOZAAAAAABDp9kAAAAAA4Nv0QAAAAABA2/FAAAAAAIAx50AAAAAAwB3zQAAAAACQWPNAAAAAAEBq80AAAAAAIJvkQAAAAADATeNAAAAAAMAT1kAAAAAAgLPlQAAAAADAKutAAAAAAEAW6UAAAAAAAMfXQAAAAADgReFAAAAAAEDk8EAAAAAAUPfwQAAAAABwmPZAAAAAACCy7UA=\",\"dtype\":\"float64\",\"shape\":[64]},\"Ozone_AUG_10\":{\"__ndarray__\":\"c7RPbKqOO0DtA/t1yEg6QGmOauBgrztAHmc/94qZO0A+fT6pes08QPzkKEAUxjpA4qWKmMgLO0Cd1ztQZbY5QBS7z1T83jpA6C7s3d2dOkBynQyvoEg5QDUtDOyMtjlAsqYN4l60NkDIQwDss003QOKQkdwvpDZAVWq0JFmANUB8HWHmdW01QClcj8L1KDVAmPbN/dUZM0CK1kCprPYyQLMxhqTcEjVAYTPABdk0O0Cm43uQr/s6QMjtNCWbxDVASgYlcfsjOUAyCllIhrM5QLln4duJHThAr5z33mNBNkCTNlX3yIo3QLmkMBCADTVAjhsCcIHnOkDvJjJSc4s6QFB4ZAfwiDlAmhYGdkabOUCV7Bollm81QIR0Rs6hsjxA3fD1lCDPNUAotqO0jiJCQHzFx+VH6kFAwJHEu/GUQkCPhtcei2ZCQKhp/jWsikJAxF9RGZj6QEAEEXcv1pdBQBsPlcoExEJAZmZmZmbmOUAcgMtrvodBQOUmzZMpvkJA4X+noA0JQkDXDaFrW/tCQL8z0jncAUNAeAC0e6w4QkBVDD5qH7VAQDBsSR66cEBA8eN5ugRRP0BOYxgDLVs+QLcWXjBV0DtA8ZT+827sO0DPUJrVVONCQNWc1WWljzZAexNkgBtSPkB84xiHAq0/QFwKQIrXKUJAvuh+kF0XQkA=\",\"dtype\":\"float64\",\"shape\":[64]},\"Ozone_AUG_15\":{\"__ndarray__\":\"s1JSca1FSkAmJn9iKl1LQKV3v0QbW0pAb2MWThCJSkAWVTuaVYxLQG4vq6gom0tA1GSEv3gNSkChwPncIiFKQLCh5YqcfUhAAAAAAACwSkC5fSRfaMVHQGh+0tzMnUdAy1nI8f3XRUBp9Zuqd49HQKs3UehI7UZASe4TtAchRkBP29DeKjJGQEKuWOzEbkZAQQRmz687RUCpvcrStZdFQJDthLD990lA15ZL9EPtSkAvIfZ0u0dJQLAoHZPifUdAc93OnWTFR0BQuIkgb5hIQAptMSaadkdAF9H6hAGDRkC10rVATENGQKJqy+vOoUdA8Z8LdoVRSkDtNn9+pV5JQBZ8gfb25klA4pBwzkawSkBqjge2JThLQKJ3zyas4UpAzqzfK77CS0Av7lBedZ5LQGXg48DpoUtAnUgPx2MHTECVWWvFiidNQPKxHmsEGk1A0FKJHVOeS0DHnZClqPNMQNSRbSocz0xA2n1cVVU1TkDgL+ISsk5LQDmGW5nLBU1AcMUP31PpTECzuxfKT5NNQJAvX2bxLU1A5FKNRXA5TEDk4TWWTWhNQDl6Pvt4RE1AT/L6/pNrSkAh+Gv04rlIQB6USXAXVklA16MuITiISECGnv/kEEtRQCG7oPiQA0hAoS9a0/7OTECwo1gLv5pNQFVK8AJ8GU1AUetH1FXgTEA=\",\"dtype\":\"float64\",\"shape\":[64]},\"index\":[0,1,2,3,4,5,6,7,8,9,10,11,12,13,14,15,16,17,18,19,20,21,22,23,24,25,26,27,28,29,30,31,32,33,34,35,36,37,38,39,40,41,42,43,44,45,46,47,48,49,50,51,52,53,54,55,56,57,58,59,60,61,62,63]},\"selected\":{\"id\":\"71d2f59e-4f63-43db-8ff7-6e4759b6f531\",\"type\":\"Selection\"},\"selection_policy\":{\"id\":\"add5b92e-ab61-4299-af4e-f21db77e04a0\",\"type\":\"UnionRenderers\"}},\"id\":\"aa0e00ed-250e-4b77-af44-b8a43532c70c\",\"type\":\"ColumnDataSource\"},{\"attributes\":{\"plot\":{\"id\":\"8458586f-7f9c-4684-bc00-4cc81fedb5d6\",\"subtype\":\"Figure\",\"type\":\"Plot\"},\"ticker\":{\"id\":\"0f0e5049-5cb2-46d3-9762-1e353057ad6e\",\"type\":\"BasicTicker\"}},\"id\":\"6303f1a6-69a8-4517-929a-eb3212ea05db\",\"type\":\"Grid\"},{\"attributes\":{},\"id\":\"a642e3a6-443a-42b6-9d57-0f36b377b012\",\"type\":\"BasicTicker\"},{\"attributes\":{},\"id\":\"5e8c8af4-179b-4bb9-89d0-3374086b898d\",\"type\":\"BasicTickFormatter\"},{\"attributes\":{\"callback\":null},\"id\":\"80062681-063f-4515-a47e-3bb74a404456\",\"type\":\"DataRange1d\"}],\"root_ids\":[\"8458586f-7f9c-4684-bc00-4cc81fedb5d6\"]},\"title\":\"Bokeh Application\",\"version\":\"0.12.16\"}};\n",
       "  var render_items = [{\"docid\":\"7400d67f-b8ec-4143-a7f5-82a68778a673\",\"elementid\":\"efd34c70-169a-4661-baf0-566f8607877b\",\"modelid\":\"8458586f-7f9c-4684-bc00-4cc81fedb5d6\"}];\n",
       "  root.Bokeh.embed.embed_items_notebook(docs_json, render_items);\n",
       "\n",
       "  }\n",
       "  if (root.Bokeh !== undefined) {\n",
       "    embed_document(root);\n",
       "  } else {\n",
       "    var attempts = 0;\n",
       "    var timer = setInterval(function(root) {\n",
       "      if (root.Bokeh !== undefined) {\n",
       "        embed_document(root);\n",
       "        clearInterval(timer);\n",
       "      }\n",
       "      attempts++;\n",
       "      if (attempts > 100) {\n",
       "        console.log(\"Bokeh: ERROR: Unable to run BokehJS code because BokehJS library is missing\")\n",
       "        clearInterval(timer);\n",
       "      }\n",
       "    }, 10, root)\n",
       "  }\n",
       "})(window);"
      ],
      "application/vnd.bokehjs_exec.v0+json": ""
     },
     "metadata": {
      "application/vnd.bokehjs_exec.v0+json": {
       "id": "8458586f-7f9c-4684-bc00-4cc81fedb5d6"
      }
     },
     "output_type": "display_data"
    }
   ],
   "source": [
    "#scatter with regression line\n",
    "hover = HoverTool(tooltips=[('elevation', '@Elevation'),('ozone','@Ozone_AUG_10')])\n",
    "p5 = figure(tools=[hover,'pan','wheel_zoom','box_zoom','reset'],plot_width=400, plot_height=400,\n",
    "            x_axis_label='Elevation', y_axis_label='Ozone Level')\n",
    "p5.circle(x='Elevation', y='Ozone_AUG_10', \n",
    "         size=20, alpha=0.6, source=boz)\n",
    "\n",
    "show(p5)"
   ]
  },
  {
   "cell_type": "markdown",
   "metadata": {
    "collapsed": true
   },
   "source": [
    "### Based on these regression summaries, what would you say about the relationship between ozone and income, and ozone and elevation? Are they strong or weak relationships? \n",
    "   Try running the regression using the other timepoint (change *Ozone_AUG_10* to *Ozone_AUG_15*). How do the summaries change?\n",
    "\n",
    "### Coming back to our original question, based on these analyses, do you think the air pollution is equally distributed across different socio-economic groups?"
   ]
  },
  {
   "cell_type": "code",
   "execution_count": null,
   "metadata": {
    "collapsed": true
   },
   "outputs": [],
   "source": []
  }
 ],
 "metadata": {
  "anaconda-cloud": {},
  "kernelspec": {
   "display_name": "Python 3",
   "language": "python",
   "name": "python3"
  },
  "language_info": {
   "codemirror_mode": {
    "name": "ipython",
    "version": 3
   },
   "file_extension": ".py",
   "mimetype": "text/x-python",
   "name": "python",
   "nbconvert_exporter": "python",
   "pygments_lexer": "ipython3",
   "version": "3.6.5"
  }
 },
 "nbformat": 4,
 "nbformat_minor": 1
}
