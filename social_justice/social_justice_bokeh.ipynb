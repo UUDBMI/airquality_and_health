{
 "cells": [
  {
   "cell_type": "markdown",
   "metadata": {},
   "source": [
    "# Air Quality and Social Justice\n",
    "\n",
    "In the Salt Lake area, where smog will periodically hide the mountains that surround the city, [air pollution](http://slcair.communication.utah.edu/) is a consistent concern. The smog is a result of the pollution trapped by the unique topographic features of the Wasatch area. In this notebook, we will explore the relationship between air quality (pm25 and ozone) and income and elevation in the Salt Lake valley. This will allow us to explore questions related to social justice such as, \"Is air pollution exposure equally distributed across different socio-economic groups?\""
   ]
  },
  {
   "cell_type": "markdown",
   "metadata": {},
   "source": [
    "### Import packages that we are going to use\n",
    "#### These include\n",
    "\n",
    "* [Pandas](http://pandas.pydata.org/index.html): A package for reading and manipulating tabular data.\n",
    "* [Bokeh](https://bokeh.pydata.org/en/latest/): Bokeh is a visualization library that provides versatile graphics and interactivity.\n",
    "* [Folium](http://python-visualization.github.io/folium/docs-v0.5.0/): Folium is a good package for visualizing geographic data.\n",
    "* [statsmodels](http://www.statsmodels.org/stable/): This package provides a number of common statistical functions for analysing data.\n"
   ]
  },
  {
   "cell_type": "code",
   "execution_count": 15,
   "metadata": {},
   "outputs": [],
   "source": [
    "import pandas as pd\n",
    "import statsmodels\n",
    "import statsmodels.formula.api as smf\n",
    "import patsy\n",
    "import numpy as np\n",
    "#import os\n",
    "#import folium"
   ]
  },
  {
   "cell_type": "code",
   "execution_count": 16,
   "metadata": {},
   "outputs": [
    {
     "data": {
      "text/html": [
       "\n",
       "    <div class=\"bk-root\">\n",
       "        <a href=\"https://bokeh.pydata.org\" target=\"_blank\" class=\"bk-logo bk-logo-small bk-logo-notebook\"></a>\n",
       "        <span id=\"b77ddb0e-f9b8-46bc-b330-73837ff3ad5b\">Loading BokehJS ...</span>\n",
       "    </div>"
      ]
     },
     "metadata": {},
     "output_type": "display_data"
    },
    {
     "data": {
      "application/javascript": [
       "\n",
       "(function(root) {\n",
       "  function now() {\n",
       "    return new Date();\n",
       "  }\n",
       "\n",
       "  var force = true;\n",
       "\n",
       "  if (typeof (root._bokeh_onload_callbacks) === \"undefined\" || force === true) {\n",
       "    root._bokeh_onload_callbacks = [];\n",
       "    root._bokeh_is_loading = undefined;\n",
       "  }\n",
       "\n",
       "  var JS_MIME_TYPE = 'application/javascript';\n",
       "  var HTML_MIME_TYPE = 'text/html';\n",
       "  var EXEC_MIME_TYPE = 'application/vnd.bokehjs_exec.v0+json';\n",
       "  var CLASS_NAME = 'output_bokeh rendered_html';\n",
       "\n",
       "  /**\n",
       "   * Render data to the DOM node\n",
       "   */\n",
       "  function render(props, node) {\n",
       "    var script = document.createElement(\"script\");\n",
       "    node.appendChild(script);\n",
       "  }\n",
       "\n",
       "  /**\n",
       "   * Handle when an output is cleared or removed\n",
       "   */\n",
       "  function handleClearOutput(event, handle) {\n",
       "    var cell = handle.cell;\n",
       "\n",
       "    var id = cell.output_area._bokeh_element_id;\n",
       "    var server_id = cell.output_area._bokeh_server_id;\n",
       "    // Clean up Bokeh references\n",
       "    if (id !== undefined) {\n",
       "      Bokeh.index[id].model.document.clear();\n",
       "      delete Bokeh.index[id];\n",
       "    }\n",
       "\n",
       "    if (server_id !== undefined) {\n",
       "      // Clean up Bokeh references\n",
       "      var cmd = \"from bokeh.io.state import curstate; print(curstate().uuid_to_server['\" + server_id + \"'].get_sessions()[0].document.roots[0]._id)\";\n",
       "      cell.notebook.kernel.execute(cmd, {\n",
       "        iopub: {\n",
       "          output: function(msg) {\n",
       "            var element_id = msg.content.text.trim();\n",
       "            Bokeh.index[element_id].model.document.clear();\n",
       "            delete Bokeh.index[element_id];\n",
       "          }\n",
       "        }\n",
       "      });\n",
       "      // Destroy server and session\n",
       "      var cmd = \"import bokeh.io.notebook as ion; ion.destroy_server('\" + server_id + \"')\";\n",
       "      cell.notebook.kernel.execute(cmd);\n",
       "    }\n",
       "  }\n",
       "\n",
       "  /**\n",
       "   * Handle when a new output is added\n",
       "   */\n",
       "  function handleAddOutput(event, handle) {\n",
       "    var output_area = handle.output_area;\n",
       "    var output = handle.output;\n",
       "\n",
       "    // limit handleAddOutput to display_data with EXEC_MIME_TYPE content only\n",
       "    if ((output.output_type != \"display_data\") || (!output.data.hasOwnProperty(EXEC_MIME_TYPE))) {\n",
       "      return\n",
       "    }\n",
       "\n",
       "    var toinsert = output_area.element.find(\".\" + CLASS_NAME.split(' ')[0]);\n",
       "\n",
       "    if (output.metadata[EXEC_MIME_TYPE][\"id\"] !== undefined) {\n",
       "      toinsert[toinsert.length - 1].firstChild.textContent = output.data[JS_MIME_TYPE];\n",
       "      // store reference to embed id on output_area\n",
       "      output_area._bokeh_element_id = output.metadata[EXEC_MIME_TYPE][\"id\"];\n",
       "    }\n",
       "    if (output.metadata[EXEC_MIME_TYPE][\"server_id\"] !== undefined) {\n",
       "      var bk_div = document.createElement(\"div\");\n",
       "      bk_div.innerHTML = output.data[HTML_MIME_TYPE];\n",
       "      var script_attrs = bk_div.children[0].attributes;\n",
       "      for (var i = 0; i < script_attrs.length; i++) {\n",
       "        toinsert[toinsert.length - 1].firstChild.setAttribute(script_attrs[i].name, script_attrs[i].value);\n",
       "      }\n",
       "      // store reference to server id on output_area\n",
       "      output_area._bokeh_server_id = output.metadata[EXEC_MIME_TYPE][\"server_id\"];\n",
       "    }\n",
       "  }\n",
       "\n",
       "  function register_renderer(events, OutputArea) {\n",
       "\n",
       "    function append_mime(data, metadata, element) {\n",
       "      // create a DOM node to render to\n",
       "      var toinsert = this.create_output_subarea(\n",
       "        metadata,\n",
       "        CLASS_NAME,\n",
       "        EXEC_MIME_TYPE\n",
       "      );\n",
       "      this.keyboard_manager.register_events(toinsert);\n",
       "      // Render to node\n",
       "      var props = {data: data, metadata: metadata[EXEC_MIME_TYPE]};\n",
       "      render(props, toinsert[toinsert.length - 1]);\n",
       "      element.append(toinsert);\n",
       "      return toinsert\n",
       "    }\n",
       "\n",
       "    /* Handle when an output is cleared or removed */\n",
       "    events.on('clear_output.CodeCell', handleClearOutput);\n",
       "    events.on('delete.Cell', handleClearOutput);\n",
       "\n",
       "    /* Handle when a new output is added */\n",
       "    events.on('output_added.OutputArea', handleAddOutput);\n",
       "\n",
       "    /**\n",
       "     * Register the mime type and append_mime function with output_area\n",
       "     */\n",
       "    OutputArea.prototype.register_mime_type(EXEC_MIME_TYPE, append_mime, {\n",
       "      /* Is output safe? */\n",
       "      safe: true,\n",
       "      /* Index of renderer in `output_area.display_order` */\n",
       "      index: 0\n",
       "    });\n",
       "  }\n",
       "\n",
       "  // register the mime type if in Jupyter Notebook environment and previously unregistered\n",
       "  if (root.Jupyter !== undefined) {\n",
       "    var events = require('base/js/events');\n",
       "    var OutputArea = require('notebook/js/outputarea').OutputArea;\n",
       "\n",
       "    if (OutputArea.prototype.mime_types().indexOf(EXEC_MIME_TYPE) == -1) {\n",
       "      register_renderer(events, OutputArea);\n",
       "    }\n",
       "  }\n",
       "\n",
       "  \n",
       "  if (typeof (root._bokeh_timeout) === \"undefined\" || force === true) {\n",
       "    root._bokeh_timeout = Date.now() + 5000;\n",
       "    root._bokeh_failed_load = false;\n",
       "  }\n",
       "\n",
       "  var NB_LOAD_WARNING = {'data': {'text/html':\n",
       "     \"<div style='background-color: #fdd'>\\n\"+\n",
       "     \"<p>\\n\"+\n",
       "     \"BokehJS does not appear to have successfully loaded. If loading BokehJS from CDN, this \\n\"+\n",
       "     \"may be due to a slow or bad network connection. Possible fixes:\\n\"+\n",
       "     \"</p>\\n\"+\n",
       "     \"<ul>\\n\"+\n",
       "     \"<li>re-rerun `output_notebook()` to attempt to load from CDN again, or</li>\\n\"+\n",
       "     \"<li>use INLINE resources instead, as so:</li>\\n\"+\n",
       "     \"</ul>\\n\"+\n",
       "     \"<code>\\n\"+\n",
       "     \"from bokeh.resources import INLINE\\n\"+\n",
       "     \"output_notebook(resources=INLINE)\\n\"+\n",
       "     \"</code>\\n\"+\n",
       "     \"</div>\"}};\n",
       "\n",
       "  function display_loaded() {\n",
       "    var el = document.getElementById(\"b77ddb0e-f9b8-46bc-b330-73837ff3ad5b\");\n",
       "    if (el != null) {\n",
       "      el.textContent = \"BokehJS is loading...\";\n",
       "    }\n",
       "    if (root.Bokeh !== undefined) {\n",
       "      if (el != null) {\n",
       "        el.textContent = \"BokehJS \" + root.Bokeh.version + \" successfully loaded.\";\n",
       "      }\n",
       "    } else if (Date.now() < root._bokeh_timeout) {\n",
       "      setTimeout(display_loaded, 100)\n",
       "    }\n",
       "  }\n",
       "\n",
       "\n",
       "  function run_callbacks() {\n",
       "    try {\n",
       "      root._bokeh_onload_callbacks.forEach(function(callback) { callback() });\n",
       "    }\n",
       "    finally {\n",
       "      delete root._bokeh_onload_callbacks\n",
       "    }\n",
       "    console.info(\"Bokeh: all callbacks have finished\");\n",
       "  }\n",
       "\n",
       "  function load_libs(js_urls, callback) {\n",
       "    root._bokeh_onload_callbacks.push(callback);\n",
       "    if (root._bokeh_is_loading > 0) {\n",
       "      console.log(\"Bokeh: BokehJS is being loaded, scheduling callback at\", now());\n",
       "      return null;\n",
       "    }\n",
       "    if (js_urls == null || js_urls.length === 0) {\n",
       "      run_callbacks();\n",
       "      return null;\n",
       "    }\n",
       "    console.log(\"Bokeh: BokehJS not loaded, scheduling load and callback at\", now());\n",
       "    root._bokeh_is_loading = js_urls.length;\n",
       "    for (var i = 0; i < js_urls.length; i++) {\n",
       "      var url = js_urls[i];\n",
       "      var s = document.createElement('script');\n",
       "      s.src = url;\n",
       "      s.async = false;\n",
       "      s.onreadystatechange = s.onload = function() {\n",
       "        root._bokeh_is_loading--;\n",
       "        if (root._bokeh_is_loading === 0) {\n",
       "          console.log(\"Bokeh: all BokehJS libraries loaded\");\n",
       "          run_callbacks()\n",
       "        }\n",
       "      };\n",
       "      s.onerror = function() {\n",
       "        console.warn(\"failed to load library \" + url);\n",
       "      };\n",
       "      console.log(\"Bokeh: injecting script tag for BokehJS library: \", url);\n",
       "      document.getElementsByTagName(\"head\")[0].appendChild(s);\n",
       "    }\n",
       "  };var element = document.getElementById(\"b77ddb0e-f9b8-46bc-b330-73837ff3ad5b\");\n",
       "  if (element == null) {\n",
       "    console.log(\"Bokeh: ERROR: autoload.js configured with elementid 'b77ddb0e-f9b8-46bc-b330-73837ff3ad5b' but no matching script tag was found. \")\n",
       "    return false;\n",
       "  }\n",
       "\n",
       "  var js_urls = [\"https://cdn.pydata.org/bokeh/release/bokeh-0.12.16.min.js\", \"https://cdn.pydata.org/bokeh/release/bokeh-widgets-0.12.16.min.js\", \"https://cdn.pydata.org/bokeh/release/bokeh-tables-0.12.16.min.js\", \"https://cdn.pydata.org/bokeh/release/bokeh-gl-0.12.16.min.js\"];\n",
       "\n",
       "  var inline_js = [\n",
       "    function(Bokeh) {\n",
       "      Bokeh.set_log_level(\"info\");\n",
       "    },\n",
       "    \n",
       "    function(Bokeh) {\n",
       "      \n",
       "    },\n",
       "    function(Bokeh) {\n",
       "      console.log(\"Bokeh: injecting CSS: https://cdn.pydata.org/bokeh/release/bokeh-0.12.16.min.css\");\n",
       "      Bokeh.embed.inject_css(\"https://cdn.pydata.org/bokeh/release/bokeh-0.12.16.min.css\");\n",
       "      console.log(\"Bokeh: injecting CSS: https://cdn.pydata.org/bokeh/release/bokeh-widgets-0.12.16.min.css\");\n",
       "      Bokeh.embed.inject_css(\"https://cdn.pydata.org/bokeh/release/bokeh-widgets-0.12.16.min.css\");\n",
       "      console.log(\"Bokeh: injecting CSS: https://cdn.pydata.org/bokeh/release/bokeh-tables-0.12.16.min.css\");\n",
       "      Bokeh.embed.inject_css(\"https://cdn.pydata.org/bokeh/release/bokeh-tables-0.12.16.min.css\");\n",
       "    }\n",
       "  ];\n",
       "\n",
       "  function run_inline_js() {\n",
       "    \n",
       "    if ((root.Bokeh !== undefined) || (force === true)) {\n",
       "      for (var i = 0; i < inline_js.length; i++) {\n",
       "        inline_js[i].call(root, root.Bokeh);\n",
       "      }if (force === true) {\n",
       "        display_loaded();\n",
       "      }} else if (Date.now() < root._bokeh_timeout) {\n",
       "      setTimeout(run_inline_js, 100);\n",
       "    } else if (!root._bokeh_failed_load) {\n",
       "      console.log(\"Bokeh: BokehJS failed to load within specified timeout.\");\n",
       "      root._bokeh_failed_load = true;\n",
       "    } else if (force !== true) {\n",
       "      var cell = $(document.getElementById(\"b77ddb0e-f9b8-46bc-b330-73837ff3ad5b\")).parents('.cell').data().cell;\n",
       "      cell.output_area.append_execute_result(NB_LOAD_WARNING)\n",
       "    }\n",
       "\n",
       "  }\n",
       "\n",
       "  if (root._bokeh_is_loading === 0) {\n",
       "    console.log(\"Bokeh: BokehJS loaded, going straight to plotting\");\n",
       "    run_inline_js();\n",
       "  } else {\n",
       "    load_libs(js_urls, function() {\n",
       "      console.log(\"Bokeh: BokehJS plotting callback run at\", now());\n",
       "      run_inline_js();\n",
       "    });\n",
       "  }\n",
       "}(window));"
      ],
      "application/vnd.bokehjs_load.v0+json": "\n(function(root) {\n  function now() {\n    return new Date();\n  }\n\n  var force = true;\n\n  if (typeof (root._bokeh_onload_callbacks) === \"undefined\" || force === true) {\n    root._bokeh_onload_callbacks = [];\n    root._bokeh_is_loading = undefined;\n  }\n\n  \n\n  \n  if (typeof (root._bokeh_timeout) === \"undefined\" || force === true) {\n    root._bokeh_timeout = Date.now() + 5000;\n    root._bokeh_failed_load = false;\n  }\n\n  var NB_LOAD_WARNING = {'data': {'text/html':\n     \"<div style='background-color: #fdd'>\\n\"+\n     \"<p>\\n\"+\n     \"BokehJS does not appear to have successfully loaded. If loading BokehJS from CDN, this \\n\"+\n     \"may be due to a slow or bad network connection. Possible fixes:\\n\"+\n     \"</p>\\n\"+\n     \"<ul>\\n\"+\n     \"<li>re-rerun `output_notebook()` to attempt to load from CDN again, or</li>\\n\"+\n     \"<li>use INLINE resources instead, as so:</li>\\n\"+\n     \"</ul>\\n\"+\n     \"<code>\\n\"+\n     \"from bokeh.resources import INLINE\\n\"+\n     \"output_notebook(resources=INLINE)\\n\"+\n     \"</code>\\n\"+\n     \"</div>\"}};\n\n  function display_loaded() {\n    var el = document.getElementById(\"b77ddb0e-f9b8-46bc-b330-73837ff3ad5b\");\n    if (el != null) {\n      el.textContent = \"BokehJS is loading...\";\n    }\n    if (root.Bokeh !== undefined) {\n      if (el != null) {\n        el.textContent = \"BokehJS \" + root.Bokeh.version + \" successfully loaded.\";\n      }\n    } else if (Date.now() < root._bokeh_timeout) {\n      setTimeout(display_loaded, 100)\n    }\n  }\n\n\n  function run_callbacks() {\n    try {\n      root._bokeh_onload_callbacks.forEach(function(callback) { callback() });\n    }\n    finally {\n      delete root._bokeh_onload_callbacks\n    }\n    console.info(\"Bokeh: all callbacks have finished\");\n  }\n\n  function load_libs(js_urls, callback) {\n    root._bokeh_onload_callbacks.push(callback);\n    if (root._bokeh_is_loading > 0) {\n      console.log(\"Bokeh: BokehJS is being loaded, scheduling callback at\", now());\n      return null;\n    }\n    if (js_urls == null || js_urls.length === 0) {\n      run_callbacks();\n      return null;\n    }\n    console.log(\"Bokeh: BokehJS not loaded, scheduling load and callback at\", now());\n    root._bokeh_is_loading = js_urls.length;\n    for (var i = 0; i < js_urls.length; i++) {\n      var url = js_urls[i];\n      var s = document.createElement('script');\n      s.src = url;\n      s.async = false;\n      s.onreadystatechange = s.onload = function() {\n        root._bokeh_is_loading--;\n        if (root._bokeh_is_loading === 0) {\n          console.log(\"Bokeh: all BokehJS libraries loaded\");\n          run_callbacks()\n        }\n      };\n      s.onerror = function() {\n        console.warn(\"failed to load library \" + url);\n      };\n      console.log(\"Bokeh: injecting script tag for BokehJS library: \", url);\n      document.getElementsByTagName(\"head\")[0].appendChild(s);\n    }\n  };var element = document.getElementById(\"b77ddb0e-f9b8-46bc-b330-73837ff3ad5b\");\n  if (element == null) {\n    console.log(\"Bokeh: ERROR: autoload.js configured with elementid 'b77ddb0e-f9b8-46bc-b330-73837ff3ad5b' but no matching script tag was found. \")\n    return false;\n  }\n\n  var js_urls = [\"https://cdn.pydata.org/bokeh/release/bokeh-0.12.16.min.js\", \"https://cdn.pydata.org/bokeh/release/bokeh-widgets-0.12.16.min.js\", \"https://cdn.pydata.org/bokeh/release/bokeh-tables-0.12.16.min.js\", \"https://cdn.pydata.org/bokeh/release/bokeh-gl-0.12.16.min.js\"];\n\n  var inline_js = [\n    function(Bokeh) {\n      Bokeh.set_log_level(\"info\");\n    },\n    \n    function(Bokeh) {\n      \n    },\n    function(Bokeh) {\n      console.log(\"Bokeh: injecting CSS: https://cdn.pydata.org/bokeh/release/bokeh-0.12.16.min.css\");\n      Bokeh.embed.inject_css(\"https://cdn.pydata.org/bokeh/release/bokeh-0.12.16.min.css\");\n      console.log(\"Bokeh: injecting CSS: https://cdn.pydata.org/bokeh/release/bokeh-widgets-0.12.16.min.css\");\n      Bokeh.embed.inject_css(\"https://cdn.pydata.org/bokeh/release/bokeh-widgets-0.12.16.min.css\");\n      console.log(\"Bokeh: injecting CSS: https://cdn.pydata.org/bokeh/release/bokeh-tables-0.12.16.min.css\");\n      Bokeh.embed.inject_css(\"https://cdn.pydata.org/bokeh/release/bokeh-tables-0.12.16.min.css\");\n    }\n  ];\n\n  function run_inline_js() {\n    \n    if ((root.Bokeh !== undefined) || (force === true)) {\n      for (var i = 0; i < inline_js.length; i++) {\n        inline_js[i].call(root, root.Bokeh);\n      }if (force === true) {\n        display_loaded();\n      }} else if (Date.now() < root._bokeh_timeout) {\n      setTimeout(run_inline_js, 100);\n    } else if (!root._bokeh_failed_load) {\n      console.log(\"Bokeh: BokehJS failed to load within specified timeout.\");\n      root._bokeh_failed_load = true;\n    } else if (force !== true) {\n      var cell = $(document.getElementById(\"b77ddb0e-f9b8-46bc-b330-73837ff3ad5b\")).parents('.cell').data().cell;\n      cell.output_area.append_execute_result(NB_LOAD_WARNING)\n    }\n\n  }\n\n  if (root._bokeh_is_loading === 0) {\n    console.log(\"Bokeh: BokehJS loaded, going straight to plotting\");\n    run_inline_js();\n  } else {\n    load_libs(js_urls, function() {\n      console.log(\"Bokeh: BokehJS plotting callback run at\", now());\n      run_inline_js();\n    });\n  }\n}(window));"
     },
     "metadata": {},
     "output_type": "display_data"
    }
   ],
   "source": [
    "from bokeh.io import output_notebook, show\n",
    "from bokeh.plotting import figure\n",
    "from bokeh.models import ColumnDataSource, LinearColorMapper, ColorBar, HoverTool\n",
    "from bokeh.palettes import Viridis256\n",
    "from bokeh.layouts import gridplot\n",
    "output_notebook()"
   ]
  },
  {
   "cell_type": "markdown",
   "metadata": {},
   "source": [
    "### What are these data\n",
    "\n",
    "In our data directory we have two **csv** files (csv stands for **C**omma **S**eparated **V**alues). For different regions in the Salt Lake valley (zip code), we have computed the average\n",
    "\n",
    "1. Income\n",
    "1. Elevation\n",
    "1. pm25 levels for March 8, 2016\n",
    "1. ozone levels at 10:00 am and 3:00 PM from August 2016.\n",
    "\n",
    "These files have been created by Dr. Daniel L. Mendoza at the University of Utah."
   ]
  },
  {
   "cell_type": "markdown",
   "metadata": {},
   "source": [
    "## Use Pandas to read in the data\n",
    "\n",
    "Pandas reads the data into a Pandas **dataframe** which we assigning to the variable ``pm25``. Dataframes have two methods for looking at the data, ``head()`` and ``tail()``, to look at the first and last rows, respectively."
   ]
  },
  {
   "cell_type": "code",
   "execution_count": 17,
   "metadata": {},
   "outputs": [
    {
     "data": {
      "text/html": [
       "<div>\n",
       "<style scoped>\n",
       "    .dataframe tbody tr th:only-of-type {\n",
       "        vertical-align: middle;\n",
       "    }\n",
       "\n",
       "    .dataframe tbody tr th {\n",
       "        vertical-align: top;\n",
       "    }\n",
       "\n",
       "    .dataframe thead th {\n",
       "        text-align: right;\n",
       "    }\n",
       "</style>\n",
       "<table border=\"1\" class=\"dataframe\">\n",
       "  <thead>\n",
       "    <tr style=\"text-align: right;\">\n",
       "      <th></th>\n",
       "      <th>Block_Group_ID</th>\n",
       "      <th>Income</th>\n",
       "      <th>Elevation</th>\n",
       "      <th>PM25_MAR_8</th>\n",
       "    </tr>\n",
       "  </thead>\n",
       "  <tbody>\n",
       "    <tr>\n",
       "      <th>60</th>\n",
       "      <td>4.903510e+11</td>\n",
       "      <td>69188.0</td>\n",
       "      <td>1321.630859</td>\n",
       "      <td>4.409883</td>\n",
       "    </tr>\n",
       "    <tr>\n",
       "      <th>61</th>\n",
       "      <td>4.903510e+11</td>\n",
       "      <td>69493.0</td>\n",
       "      <td>1312.114014</td>\n",
       "      <td>3.989309</td>\n",
       "    </tr>\n",
       "    <tr>\n",
       "      <th>62</th>\n",
       "      <td>4.903510e+11</td>\n",
       "      <td>92551.0</td>\n",
       "      <td>1557.853394</td>\n",
       "      <td>1.537066</td>\n",
       "    </tr>\n",
       "    <tr>\n",
       "      <th>63</th>\n",
       "      <td>4.903510e+11</td>\n",
       "      <td>60817.0</td>\n",
       "      <td>1552.666016</td>\n",
       "      <td>2.252555</td>\n",
       "    </tr>\n",
       "    <tr>\n",
       "      <th>64</th>\n",
       "      <td>4.903600e+11</td>\n",
       "      <td>NaN</td>\n",
       "      <td>1275.227905</td>\n",
       "      <td>3.717521</td>\n",
       "    </tr>\n",
       "  </tbody>\n",
       "</table>\n",
       "</div>"
      ],
      "text/plain": [
       "    Block_Group_ID   Income    Elevation  PM25_MAR_8\n",
       "60    4.903510e+11  69188.0  1321.630859    4.409883\n",
       "61    4.903510e+11  69493.0  1312.114014    3.989309\n",
       "62    4.903510e+11  92551.0  1557.853394    1.537066\n",
       "63    4.903510e+11  60817.0  1552.666016    2.252555\n",
       "64    4.903600e+11      NaN  1275.227905    3.717521"
      ]
     },
     "execution_count": 17,
     "metadata": {},
     "output_type": "execute_result"
    }
   ],
   "source": [
    "pm25 = pd.read_csv(\"Class_PM25_Data.csv\")\n",
    "pm25.tail()"
   ]
  },
  {
   "cell_type": "markdown",
   "metadata": {},
   "source": [
    "#### Notice the ``NaN`` value for Income in our last data row\n",
    "\n",
    "Pandas uses ``NaN`` (Not a number) to represent missing values. That is our data file did not have an income value for the last row. There are a variety of approaches for dealing with missing data, but we are just going to drop that value using the Pandas dataframe ``dropna`` method.\n",
    "\n"
   ]
  },
  {
   "cell_type": "code",
   "execution_count": 18,
   "metadata": {},
   "outputs": [
    {
     "data": {
      "text/html": [
       "<div>\n",
       "<style scoped>\n",
       "    .dataframe tbody tr th:only-of-type {\n",
       "        vertical-align: middle;\n",
       "    }\n",
       "\n",
       "    .dataframe tbody tr th {\n",
       "        vertical-align: top;\n",
       "    }\n",
       "\n",
       "    .dataframe thead th {\n",
       "        text-align: right;\n",
       "    }\n",
       "</style>\n",
       "<table border=\"1\" class=\"dataframe\">\n",
       "  <thead>\n",
       "    <tr style=\"text-align: right;\">\n",
       "      <th></th>\n",
       "      <th>Block_Group_ID</th>\n",
       "      <th>Income</th>\n",
       "      <th>Elevation</th>\n",
       "      <th>PM25_MAR_8</th>\n",
       "    </tr>\n",
       "  </thead>\n",
       "  <tbody>\n",
       "    <tr>\n",
       "      <th>59</th>\n",
       "      <td>4.903510e+11</td>\n",
       "      <td>35375.0</td>\n",
       "      <td>1305.029541</td>\n",
       "      <td>3.595146</td>\n",
       "    </tr>\n",
       "    <tr>\n",
       "      <th>60</th>\n",
       "      <td>4.903510e+11</td>\n",
       "      <td>69188.0</td>\n",
       "      <td>1321.630859</td>\n",
       "      <td>4.409883</td>\n",
       "    </tr>\n",
       "    <tr>\n",
       "      <th>61</th>\n",
       "      <td>4.903510e+11</td>\n",
       "      <td>69493.0</td>\n",
       "      <td>1312.114014</td>\n",
       "      <td>3.989309</td>\n",
       "    </tr>\n",
       "    <tr>\n",
       "      <th>62</th>\n",
       "      <td>4.903510e+11</td>\n",
       "      <td>92551.0</td>\n",
       "      <td>1557.853394</td>\n",
       "      <td>1.537066</td>\n",
       "    </tr>\n",
       "    <tr>\n",
       "      <th>63</th>\n",
       "      <td>4.903510e+11</td>\n",
       "      <td>60817.0</td>\n",
       "      <td>1552.666016</td>\n",
       "      <td>2.252555</td>\n",
       "    </tr>\n",
       "  </tbody>\n",
       "</table>\n",
       "</div>"
      ],
      "text/plain": [
       "    Block_Group_ID   Income    Elevation  PM25_MAR_8\n",
       "59    4.903510e+11  35375.0  1305.029541    3.595146\n",
       "60    4.903510e+11  69188.0  1321.630859    4.409883\n",
       "61    4.903510e+11  69493.0  1312.114014    3.989309\n",
       "62    4.903510e+11  92551.0  1557.853394    1.537066\n",
       "63    4.903510e+11  60817.0  1552.666016    2.252555"
      ]
     },
     "execution_count": 18,
     "metadata": {},
     "output_type": "execute_result"
    }
   ],
   "source": [
    "pm25 = pm25.dropna()\n",
    "pm25.tail()"
   ]
  },
  {
   "cell_type": "markdown",
   "metadata": {},
   "source": [
    "### Now let's repeat this with the ozone data"
   ]
  },
  {
   "cell_type": "code",
   "execution_count": 19,
   "metadata": {},
   "outputs": [
    {
     "data": {
      "text/html": [
       "<div>\n",
       "<style scoped>\n",
       "    .dataframe tbody tr th:only-of-type {\n",
       "        vertical-align: middle;\n",
       "    }\n",
       "\n",
       "    .dataframe tbody tr th {\n",
       "        vertical-align: top;\n",
       "    }\n",
       "\n",
       "    .dataframe thead th {\n",
       "        text-align: right;\n",
       "    }\n",
       "</style>\n",
       "<table border=\"1\" class=\"dataframe\">\n",
       "  <thead>\n",
       "    <tr style=\"text-align: right;\">\n",
       "      <th></th>\n",
       "      <th>Block_Group_ID</th>\n",
       "      <th>Income</th>\n",
       "      <th>Elevation</th>\n",
       "      <th>Ozone_AUG_10</th>\n",
       "      <th>Ozone_AUG_15</th>\n",
       "    </tr>\n",
       "  </thead>\n",
       "  <tbody>\n",
       "    <tr>\n",
       "      <th>59</th>\n",
       "      <td>490351140001</td>\n",
       "      <td>35375.0</td>\n",
       "      <td>1305.029541</td>\n",
       "      <td>22.561118</td>\n",
       "      <td>48.027862</td>\n",
       "    </tr>\n",
       "    <tr>\n",
       "      <th>60</th>\n",
       "      <td>490351142001</td>\n",
       "      <td>69188.0</td>\n",
       "      <td>1321.630859</td>\n",
       "      <td>30.320732</td>\n",
       "      <td>57.617152</td>\n",
       "    </tr>\n",
       "    <tr>\n",
       "      <th>61</th>\n",
       "      <td>490351142002</td>\n",
       "      <td>69493.0</td>\n",
       "      <td>1312.114014</td>\n",
       "      <td>31.675820</td>\n",
       "      <td>59.208955</td>\n",
       "    </tr>\n",
       "    <tr>\n",
       "      <th>62</th>\n",
       "      <td>490351152091</td>\n",
       "      <td>92551.0</td>\n",
       "      <td>1557.853394</td>\n",
       "      <td>36.326890</td>\n",
       "      <td>58.199097</td>\n",
       "    </tr>\n",
       "    <tr>\n",
       "      <th>63</th>\n",
       "      <td>490351152092</td>\n",
       "      <td>60817.0</td>\n",
       "      <td>1552.666016</td>\n",
       "      <td>36.182543</td>\n",
       "      <td>57.752619</td>\n",
       "    </tr>\n",
       "  </tbody>\n",
       "</table>\n",
       "</div>"
      ],
      "text/plain": [
       "    Block_Group_ID   Income    Elevation  Ozone_AUG_10  Ozone_AUG_15\n",
       "59    490351140001  35375.0  1305.029541     22.561118     48.027862\n",
       "60    490351142001  69188.0  1321.630859     30.320732     57.617152\n",
       "61    490351142002  69493.0  1312.114014     31.675820     59.208955\n",
       "62    490351152091  92551.0  1557.853394     36.326890     58.199097\n",
       "63    490351152092  60817.0  1552.666016     36.182543     57.752619"
      ]
     },
     "execution_count": 19,
     "metadata": {},
     "output_type": "execute_result"
    }
   ],
   "source": [
    "ozone = pd.read_csv(\"Class_Ozone_Data.csv\")\n",
    "ozone = ozone.dropna()\n",
    "ozone.tail()"
   ]
  },
  {
   "cell_type": "markdown",
   "metadata": {},
   "source": [
    "## Exploratory Plots\n",
    "\n",
    "In statistics, it is always a good idea to start by plotting your data to get an idea of what it looks like. This can help you determine which analyses would be useful to perform. Here we are going to be using Bokeh to do some exploratory visualization.\n",
    "\n",
    "Our first plot is going to be a scatterplot to visualize the relationships between elevation, income, and PM2.5 exposure. We've used a colorbar to show the differences in elevation. Hover over the points to reveal the exact elevation."
   ]
  },
  {
   "cell_type": "code",
   "execution_count": 46,
   "metadata": {},
   "outputs": [
    {
     "data": {
      "text/html": [
       "\n",
       "<div class=\"bk-root\">\n",
       "    <div class=\"bk-plotdiv\" id=\"f87f672f-7e6b-4919-bc97-8e78bf8f5634\"></div>\n",
       "</div>"
      ]
     },
     "metadata": {},
     "output_type": "display_data"
    },
    {
     "data": {
      "application/javascript": [
       "(function(root) {\n",
       "  function embed_document(root) {\n",
       "    \n",
       "  var docs_json = {\"0ed0c23f-9879-42cc-98e5-c736e13bf534\":{\"roots\":{\"references\":[{\"attributes\":{},\"id\":\"52009675-0c5e-457e-8e43-70e8bc880d5b\",\"type\":\"LinearScale\"},{\"attributes\":{},\"id\":\"c41a8bfd-bb45-415f-b317-8fba9fadadc9\",\"type\":\"BasicTickFormatter\"},{\"attributes\":{\"callback\":null},\"id\":\"f8319491-35e4-4feb-ba15-220ce84d84c4\",\"type\":\"DataRange1d\"},{\"attributes\":{\"below\":[{\"id\":\"2085b88d-d55c-453c-8dfa-831cd1c8fdbd\",\"type\":\"LinearAxis\"}],\"left\":[{\"id\":\"4ed7ff7f-d186-4e27-97a2-dbdc3f2beb78\",\"type\":\"LinearAxis\"}],\"plot_height\":400,\"plot_width\":900,\"renderers\":[{\"id\":\"2085b88d-d55c-453c-8dfa-831cd1c8fdbd\",\"type\":\"LinearAxis\"},{\"id\":\"4955ed94-2ee9-4b21-a24a-0cce903118c4\",\"type\":\"Grid\"},{\"id\":\"4ed7ff7f-d186-4e27-97a2-dbdc3f2beb78\",\"type\":\"LinearAxis\"},{\"id\":\"a05f0d88-aaa1-403a-bcfa-c98ab9210138\",\"type\":\"Grid\"},{\"id\":\"61613cdd-9b43-4bab-9dd9-792291d34f82\",\"type\":\"GlyphRenderer\"},{\"id\":\"22376d30-1bc1-48e9-b7e5-de343c1887d1\",\"type\":\"ColorBar\"}],\"right\":[{\"id\":\"22376d30-1bc1-48e9-b7e5-de343c1887d1\",\"type\":\"ColorBar\"}],\"title\":{\"id\":\"f3231697-8b0a-427b-9736-a18634f59600\",\"type\":\"Title\"},\"toolbar\":{\"id\":\"b01c012a-0ad1-4233-83c9-4c8b99383e03\",\"type\":\"Toolbar\"},\"x_range\":{\"id\":\"f8319491-35e4-4feb-ba15-220ce84d84c4\",\"type\":\"DataRange1d\"},\"x_scale\":{\"id\":\"213d65b8-06b4-4ec0-b6d3-dfd4d604f06c\",\"type\":\"LinearScale\"},\"y_range\":{\"id\":\"505f95f9-54ee-44d9-8460-0a036f716766\",\"type\":\"DataRange1d\"},\"y_scale\":{\"id\":\"52009675-0c5e-457e-8e43-70e8bc880d5b\",\"type\":\"LinearScale\"}},\"id\":\"3109ed10-43c1-4749-bbea-625da171321c\",\"subtype\":\"Figure\",\"type\":\"Plot\"},{\"attributes\":{},\"id\":\"5f173bb0-97e7-4df1-9e59-f63e19b627ab\",\"type\":\"Selection\"},{\"attributes\":{\"source\":{\"id\":\"f622debb-95a2-4389-8a2d-2c7b8468d7a2\",\"type\":\"ColumnDataSource\"}},\"id\":\"493ad353-3572-45af-b554-ae3a4de65511\",\"type\":\"CDSView\"},{\"attributes\":{},\"id\":\"c9362b24-3289-4477-8f4f-f63e1b7e2140\",\"type\":\"UnionRenderers\"},{\"attributes\":{},\"id\":\"213d65b8-06b4-4ec0-b6d3-dfd4d604f06c\",\"type\":\"LinearScale\"},{\"attributes\":{\"plot\":{\"id\":\"3109ed10-43c1-4749-bbea-625da171321c\",\"subtype\":\"Figure\",\"type\":\"Plot\"},\"ticker\":{\"id\":\"edf721e8-eb64-4e86-b802-bffd874921f4\",\"type\":\"BasicTicker\"}},\"id\":\"4955ed94-2ee9-4b21-a24a-0cce903118c4\",\"type\":\"Grid\"},{\"attributes\":{\"axis_label\":\"Income\",\"formatter\":{\"id\":\"d83bceec-b4df-4974-8ac8-991061135d6e\",\"type\":\"BasicTickFormatter\"},\"plot\":{\"id\":\"3109ed10-43c1-4749-bbea-625da171321c\",\"subtype\":\"Figure\",\"type\":\"Plot\"},\"ticker\":{\"id\":\"edf721e8-eb64-4e86-b802-bffd874921f4\",\"type\":\"BasicTicker\"}},\"id\":\"2085b88d-d55c-453c-8dfa-831cd1c8fdbd\",\"type\":\"LinearAxis\"},{\"attributes\":{},\"id\":\"edf721e8-eb64-4e86-b802-bffd874921f4\",\"type\":\"BasicTicker\"},{\"attributes\":{\"axis_label\":\"PM2.5 Level\",\"formatter\":{\"id\":\"c41a8bfd-bb45-415f-b317-8fba9fadadc9\",\"type\":\"BasicTickFormatter\"},\"plot\":{\"id\":\"3109ed10-43c1-4749-bbea-625da171321c\",\"subtype\":\"Figure\",\"type\":\"Plot\"},\"ticker\":{\"id\":\"f7a264a0-089b-4dec-a74f-cc641cf5026e\",\"type\":\"BasicTicker\"}},\"id\":\"4ed7ff7f-d186-4e27-97a2-dbdc3f2beb78\",\"type\":\"LinearAxis\"},{\"attributes\":{},\"id\":\"f7a264a0-089b-4dec-a74f-cc641cf5026e\",\"type\":\"BasicTicker\"},{\"attributes\":{},\"id\":\"2e27877b-f294-4f1d-b6ee-9c58f16257da\",\"type\":\"BasicTicker\"},{\"attributes\":{\"dimension\":1,\"plot\":{\"id\":\"3109ed10-43c1-4749-bbea-625da171321c\",\"subtype\":\"Figure\",\"type\":\"Plot\"},\"ticker\":{\"id\":\"f7a264a0-089b-4dec-a74f-cc641cf5026e\",\"type\":\"BasicTicker\"}},\"id\":\"a05f0d88-aaa1-403a-bcfa-c98ab9210138\",\"type\":\"Grid\"},{\"attributes\":{\"active_drag\":\"auto\",\"active_inspect\":\"auto\",\"active_scroll\":\"auto\",\"active_tap\":\"auto\",\"tools\":[{\"id\":\"470c24bb-41ce-4175-8f23-dd8b111b775f\",\"type\":\"HoverTool\"},{\"id\":\"f04f8e69-eece-46a8-99b6-a0e564aebd41\",\"type\":\"PanTool\"},{\"id\":\"9b456404-6ead-40a2-ad7b-6acf7ba50419\",\"type\":\"WheelZoomTool\"}]},\"id\":\"b01c012a-0ad1-4233-83c9-4c8b99383e03\",\"type\":\"Toolbar\"},{\"attributes\":{\"fill_alpha\":{\"value\":0.1},\"fill_color\":{\"value\":\"#1f77b4\"},\"line_alpha\":{\"value\":0.1},\"line_color\":{\"value\":\"#1f77b4\"},\"size\":{\"units\":\"screen\",\"value\":20},\"x\":{\"field\":\"Income\"},\"y\":{\"field\":\"PM25_MAR_8\"}},\"id\":\"56f8c499-78d1-4c19-a72c-04e4739b3066\",\"type\":\"Circle\"},{\"attributes\":{\"callback\":null,\"renderers\":\"auto\",\"tooltips\":[[\"elevation\",\"@Elevation\"]]},\"id\":\"470c24bb-41ce-4175-8f23-dd8b111b775f\",\"type\":\"HoverTool\"},{\"attributes\":{},\"id\":\"f04f8e69-eece-46a8-99b6-a0e564aebd41\",\"type\":\"PanTool\"},{\"attributes\":{\"fill_alpha\":{\"value\":0.6},\"fill_color\":{\"field\":\"Elevation\",\"transform\":{\"id\":\"8ac96ac6-dbc0-4c88-a09c-862ba8a17fb2\",\"type\":\"LinearColorMapper\"}},\"line_alpha\":{\"value\":0.6},\"line_color\":{\"field\":\"Elevation\",\"transform\":{\"id\":\"8ac96ac6-dbc0-4c88-a09c-862ba8a17fb2\",\"type\":\"LinearColorMapper\"}},\"size\":{\"units\":\"screen\",\"value\":20},\"x\":{\"field\":\"Income\"},\"y\":{\"field\":\"PM25_MAR_8\"}},\"id\":\"7d6f4432-4553-45ab-9fb4-4deb62ac7e96\",\"type\":\"Circle\"},{\"attributes\":{\"plot\":null,\"text\":\"\"},\"id\":\"f3231697-8b0a-427b-9736-a18634f59600\",\"type\":\"Title\"},{\"attributes\":{\"high\":1557.853394,\"low\":1289.31897,\"palette\":[\"#440154\",\"#440255\",\"#440357\",\"#450558\",\"#45065A\",\"#45085B\",\"#46095C\",\"#460B5E\",\"#460C5F\",\"#460E61\",\"#470F62\",\"#471163\",\"#471265\",\"#471466\",\"#471567\",\"#471669\",\"#47186A\",\"#48196B\",\"#481A6C\",\"#481C6E\",\"#481D6F\",\"#481E70\",\"#482071\",\"#482172\",\"#482273\",\"#482374\",\"#472575\",\"#472676\",\"#472777\",\"#472878\",\"#472A79\",\"#472B7A\",\"#472C7B\",\"#462D7C\",\"#462F7C\",\"#46307D\",\"#46317E\",\"#45327F\",\"#45347F\",\"#453580\",\"#453681\",\"#443781\",\"#443982\",\"#433A83\",\"#433B83\",\"#433C84\",\"#423D84\",\"#423E85\",\"#424085\",\"#414186\",\"#414286\",\"#404387\",\"#404487\",\"#3F4587\",\"#3F4788\",\"#3E4888\",\"#3E4989\",\"#3D4A89\",\"#3D4B89\",\"#3D4C89\",\"#3C4D8A\",\"#3C4E8A\",\"#3B508A\",\"#3B518A\",\"#3A528B\",\"#3A538B\",\"#39548B\",\"#39558B\",\"#38568B\",\"#38578C\",\"#37588C\",\"#37598C\",\"#365A8C\",\"#365B8C\",\"#355C8C\",\"#355D8C\",\"#345E8D\",\"#345F8D\",\"#33608D\",\"#33618D\",\"#32628D\",\"#32638D\",\"#31648D\",\"#31658D\",\"#31668D\",\"#30678D\",\"#30688D\",\"#2F698D\",\"#2F6A8D\",\"#2E6B8E\",\"#2E6C8E\",\"#2E6D8E\",\"#2D6E8E\",\"#2D6F8E\",\"#2C708E\",\"#2C718E\",\"#2C728E\",\"#2B738E\",\"#2B748E\",\"#2A758E\",\"#2A768E\",\"#2A778E\",\"#29788E\",\"#29798E\",\"#287A8E\",\"#287A8E\",\"#287B8E\",\"#277C8E\",\"#277D8E\",\"#277E8E\",\"#267F8E\",\"#26808E\",\"#26818E\",\"#25828E\",\"#25838D\",\"#24848D\",\"#24858D\",\"#24868D\",\"#23878D\",\"#23888D\",\"#23898D\",\"#22898D\",\"#228A8D\",\"#228B8D\",\"#218C8D\",\"#218D8C\",\"#218E8C\",\"#208F8C\",\"#20908C\",\"#20918C\",\"#1F928C\",\"#1F938B\",\"#1F948B\",\"#1F958B\",\"#1F968B\",\"#1E978A\",\"#1E988A\",\"#1E998A\",\"#1E998A\",\"#1E9A89\",\"#1E9B89\",\"#1E9C89\",\"#1E9D88\",\"#1E9E88\",\"#1E9F88\",\"#1EA087\",\"#1FA187\",\"#1FA286\",\"#1FA386\",\"#20A485\",\"#20A585\",\"#21A685\",\"#21A784\",\"#22A784\",\"#23A883\",\"#23A982\",\"#24AA82\",\"#25AB81\",\"#26AC81\",\"#27AD80\",\"#28AE7F\",\"#29AF7F\",\"#2AB07E\",\"#2BB17D\",\"#2CB17D\",\"#2EB27C\",\"#2FB37B\",\"#30B47A\",\"#32B57A\",\"#33B679\",\"#35B778\",\"#36B877\",\"#38B976\",\"#39B976\",\"#3BBA75\",\"#3DBB74\",\"#3EBC73\",\"#40BD72\",\"#42BE71\",\"#44BE70\",\"#45BF6F\",\"#47C06E\",\"#49C16D\",\"#4BC26C\",\"#4DC26B\",\"#4FC369\",\"#51C468\",\"#53C567\",\"#55C666\",\"#57C665\",\"#59C764\",\"#5BC862\",\"#5EC961\",\"#60C960\",\"#62CA5F\",\"#64CB5D\",\"#67CC5C\",\"#69CC5B\",\"#6BCD59\",\"#6DCE58\",\"#70CE56\",\"#72CF55\",\"#74D054\",\"#77D052\",\"#79D151\",\"#7CD24F\",\"#7ED24E\",\"#81D34C\",\"#83D34B\",\"#86D449\",\"#88D547\",\"#8BD546\",\"#8DD644\",\"#90D643\",\"#92D741\",\"#95D73F\",\"#97D83E\",\"#9AD83C\",\"#9DD93A\",\"#9FD938\",\"#A2DA37\",\"#A5DA35\",\"#A7DB33\",\"#AADB32\",\"#ADDC30\",\"#AFDC2E\",\"#B2DD2C\",\"#B5DD2B\",\"#B7DD29\",\"#BADE27\",\"#BDDE26\",\"#BFDF24\",\"#C2DF22\",\"#C5DF21\",\"#C7E01F\",\"#CAE01E\",\"#CDE01D\",\"#CFE11C\",\"#D2E11B\",\"#D4E11A\",\"#D7E219\",\"#DAE218\",\"#DCE218\",\"#DFE318\",\"#E1E318\",\"#E4E318\",\"#E7E419\",\"#E9E419\",\"#ECE41A\",\"#EEE51B\",\"#F1E51C\",\"#F3E51E\",\"#F6E61F\",\"#F8E621\",\"#FAE622\",\"#FDE724\"]},\"id\":\"8ac96ac6-dbc0-4c88-a09c-862ba8a17fb2\",\"type\":\"LinearColorMapper\"},{\"attributes\":{},\"id\":\"9b456404-6ead-40a2-ad7b-6acf7ba50419\",\"type\":\"WheelZoomTool\"},{\"attributes\":{\"callback\":null,\"data\":{\"Block_Group_ID\":{\"__ndarray__\":\"AABwnsyKXEIAAHCezIpcQgAAcJ7MilxCAABwnsyKXEIAAHCezIpcQgAAcJ7MilxCAABwnsyKXEIAAHCezIpcQgAAcJ7MilxCAABwnsyKXEIAAHCezIpcQgAAcJ7MilxCAABwnsyKXEIAAHCezIpcQgAAcJ7MilxCAABwnsyKXEIAAHCezIpcQgAAcJ7MilxCAABwnsyKXEIAAHCezIpcQgAAcJ7MilxCAABwnsyKXEIAAHCezIpcQgAAcJ7MilxCAABwnsyKXEIAAHCezIpcQgAAcJ7MilxCAABwnsyKXEIAAHCezIpcQgAAcJ7MilxCAABwnsyKXEIAAHCezIpcQgAAcJ7MilxCAABwnsyKXEIAAHCezIpcQgAAcJ7MilxCAABwnsyKXEIAAHCezIpcQgAAcJ7MilxCAABwnsyKXEIAAHCezIpcQgAAcJ7MilxCAABwnsyKXEIAAHCezIpcQgAAcJ7MilxCAABwnsyKXEIAAHCezIpcQgAAcJ7MilxCAABwnsyKXEIAAHCezIpcQgAAcJ7MilxCAABwnsyKXEIAAHCezIpcQgAAcJ7MilxCAABwnsyKXEIAAHCezIpcQgAAcJ7MilxCAABwnsyKXEIAAHCezIpcQgAAcJ7MilxCAABwnsyKXEIAAHCezIpcQgAAcJ7MilxCAABwnsyKXEI=\",\"dtype\":\"float64\",\"shape\":[64]},\"Elevation\":{\"__ndarray__\":\"1t8SgL9ulEAZrg6AaEOUQG8MAcDhJpRAOpUMALVXlEAZrg6AaEOUQGXEBaBxV5RA51Hxf0eklEDnUfF/R6SUQOdR8X9HpJRAYabtX9kJlkDKiAtAgyGVQGGm7V/ZCZZAHcnlP4RNlUAdyeU/hE2VQB3J5T+ETZVASgfr/8yylEBKB+v/zLKUQEoH6//MspRASgfr/8yylEDW3xKAj3mUQGXEBaBxV5RAZcQFoHFXlEDV0AZgwz+UQMqIC0CTJ5RAMVwdAPFYlEBMFvcfOVCUQFde8j+5OZRA51Hxf1colECM1eb/pS+UQIzV5v+lL5RAI/YJoEg7lEAUkPY/IHSUQHxjCADeTZRAFJD2PxBplEDhJw6gf5GUQAQeGEA4YJRAeEXwv7VelEAXnwJgTOuVQBefAmBM65VAF58CYEzrlUDCTxxAPyCVQPzh57/3jJVAjNXm/wW3lEB2NuSfOTCVQCHn/X8cm5VA7G8JwH/NlkAQdR+AFLmWQCHn/X8sqpZAF58CYEzrlUBp4h3gOTuWQCHn/X8sqpZAaeId4Dk7lkCfWRKgRiWUQC0+BcAoLJRAq7AZ4DI4lECrsBngMjiUQKuwGeAyOJRA4ScOoB9UlEBMFvcfiT2UQJHz/j8eZJRAjNXm/4WmlEAlBRbAdICUQGniHeBpV5hAdCoZAKpCmEA=\",\"dtype\":\"float64\",\"shape\":[64]},\"Income\":{\"__ndarray__\":\"AAAAAMBP5UAAAAAA4HfhQAAAAAAgseJAAAAAAGBL70AAAAAAYBviQAAAAAAA/9RAAAAAAEAY5EAAAAAAgH3gQAAAAADAV+JAAAAAAMBT4EAAAAAAgHjXQAAAAAAABb9AAAAAAAAl3UAAAAAAQGrRQAAAAABgWORAAAAAAACx30AAAAAA4OLgQAAAAAAAvd9AAAAAAMAK2kAAAAAAwK/SQAAAAAAAr99AAAAAAICd3UAAAAAAwD7aQAAAAADAad9AAAAAAAAV10AAAAAAAD/XQAAAAAAAtdlAAAAAAEAw4kAAAAAA4EHgQAAAAAAAF9FAAAAAAACa4EAAAAAAIMHsQAAAAAAg8OpAAAAAACC15EAAAAAAAOHhQAAAAABg7OdAAAAAAIBc4kAAAAAAgG3rQAAAAACwGfFAAAAAABAp8EAAAAAAsIXxQAAAAAAATetAAAAAAEBK7kAAAAAAUNvxQAAAAAAATOZAAAAAABDp9kAAAAAA4Nv0QAAAAABA2/FAAAAAAIAx50AAAAAAwB3zQAAAAACQWPNAAAAAAEBq80AAAAAAIJvkQAAAAADATeNAAAAAAMAT1kAAAAAAgLPlQAAAAADAKutAAAAAAEAW6UAAAAAAAMfXQAAAAADgReFAAAAAAEDk8EAAAAAAUPfwQAAAAABwmPZAAAAAACCy7UA=\",\"dtype\":\"float64\",\"shape\":[64]},\"PM25_MAR_8\":{\"__ndarray__\":\"mNV4Pyc2DUAz+0txprgOQJw9trYHqQ9AzvzNOMuQD0BYaY1spzANQNaWu0gBQxJAYwhjuPhjCUB2aULhUwMOQBkS8J4VRg1AAAAAAACADEDc4ykEop4LQE/i43uV7AtA5wg3Hg7oDUABUBEcof8IQCjHRhul4QpAbTu0YpQMEEDcIOuNgBAPQN8FtO7LYwtAD88DOdeRDUBmnXD9W1IQQJ9TRBFIfQ5A9krkeMG6FUDhWAPT6ukPQJFLw8DYJhNAr4+GB1hdDkBublEIEv8QQMQ9Rfd0mxFA/qncNwM9E0BdrHAX1gsMQElzGlh96A1AWT+EWADqCUBNPjb8gNkDQFv2JrFkaQVApmoqpxcGA0D3Y/gnb2IEQFshPyrkZwZAAAAAAACAA0CpD4JgHoL2P7HYHKMZ/Ps/WzUZnxM89z+kgl0p2Nr5P90Wjf6V4gNAGNVuMN5L+z/rJZ2zy5D5PwmZ2DpApQNAZmZmZmZm9j/YGURDfSEAQHIbd8TNo/U/rLbf/Zge9j/YLeYNTnH0P7mj9XPncvU/D1atloVA9T92zSMAsVEWQEWVsCLimxFADad7hjiOEUAJE9zOEooNQDI8tJeGUAlA/pXN0ANlC0AW86F7PqkCQMttDwPcwgxAnHDaTLijEUDP7dy2GuoPQO6kdJ/Sl/g/iLIQTTsFAkA=\",\"dtype\":\"float64\",\"shape\":[64]},\"index\":[0,1,2,3,4,5,6,7,8,9,10,11,12,13,14,15,16,17,18,19,20,21,22,23,24,25,26,27,28,29,30,31,32,33,34,35,36,37,38,39,40,41,42,43,44,45,46,47,48,49,50,51,52,53,54,55,56,57,58,59,60,61,62,63]},\"selected\":{\"id\":\"5f173bb0-97e7-4df1-9e59-f63e19b627ab\",\"type\":\"Selection\"},\"selection_policy\":{\"id\":\"c9362b24-3289-4477-8f4f-f63e1b7e2140\",\"type\":\"UnionRenderers\"}},\"id\":\"f622debb-95a2-4389-8a2d-2c7b8468d7a2\",\"type\":\"ColumnDataSource\"},{\"attributes\":{\"data_source\":{\"id\":\"f622debb-95a2-4389-8a2d-2c7b8468d7a2\",\"type\":\"ColumnDataSource\"},\"glyph\":{\"id\":\"7d6f4432-4553-45ab-9fb4-4deb62ac7e96\",\"type\":\"Circle\"},\"hover_glyph\":null,\"muted_glyph\":null,\"nonselection_glyph\":{\"id\":\"56f8c499-78d1-4c19-a72c-04e4739b3066\",\"type\":\"Circle\"},\"selection_glyph\":null,\"view\":{\"id\":\"493ad353-3572-45af-b554-ae3a4de65511\",\"type\":\"CDSView\"}},\"id\":\"61613cdd-9b43-4bab-9dd9-792291d34f82\",\"type\":\"GlyphRenderer\"},{\"attributes\":{\"callback\":null},\"id\":\"505f95f9-54ee-44d9-8460-0a036f716766\",\"type\":\"DataRange1d\"},{\"attributes\":{},\"id\":\"976bed33-6d6b-41fd-8cdc-701b2a6aadc1\",\"type\":\"BasicTickFormatter\"},{\"attributes\":{\"color_mapper\":{\"id\":\"8ac96ac6-dbc0-4c88-a09c-862ba8a17fb2\",\"type\":\"LinearColorMapper\"},\"formatter\":{\"id\":\"976bed33-6d6b-41fd-8cdc-701b2a6aadc1\",\"type\":\"BasicTickFormatter\"},\"label_standoff\":12,\"location\":[0,0],\"plot\":{\"id\":\"3109ed10-43c1-4749-bbea-625da171321c\",\"subtype\":\"Figure\",\"type\":\"Plot\"},\"ticker\":{\"id\":\"2e27877b-f294-4f1d-b6ee-9c58f16257da\",\"type\":\"BasicTicker\"},\"title\":\"Elevation\"},\"id\":\"22376d30-1bc1-48e9-b7e5-de343c1887d1\",\"type\":\"ColorBar\"},{\"attributes\":{},\"id\":\"d83bceec-b4df-4974-8ac8-991061135d6e\",\"type\":\"BasicTickFormatter\"}],\"root_ids\":[\"3109ed10-43c1-4749-bbea-625da171321c\"]},\"title\":\"Bokeh Application\",\"version\":\"0.12.16\"}};\n",
       "  var render_items = [{\"docid\":\"0ed0c23f-9879-42cc-98e5-c736e13bf534\",\"elementid\":\"f87f672f-7e6b-4919-bc97-8e78bf8f5634\",\"modelid\":\"3109ed10-43c1-4749-bbea-625da171321c\"}];\n",
       "  root.Bokeh.embed.embed_items_notebook(docs_json, render_items);\n",
       "\n",
       "  }\n",
       "  if (root.Bokeh !== undefined) {\n",
       "    embed_document(root);\n",
       "  } else {\n",
       "    var attempts = 0;\n",
       "    var timer = setInterval(function(root) {\n",
       "      if (root.Bokeh !== undefined) {\n",
       "        embed_document(root);\n",
       "        clearInterval(timer);\n",
       "      }\n",
       "      attempts++;\n",
       "      if (attempts > 100) {\n",
       "        console.log(\"Bokeh: ERROR: Unable to run BokehJS code because BokehJS library is missing\")\n",
       "        clearInterval(timer);\n",
       "      }\n",
       "    }, 10, root)\n",
       "  }\n",
       "})(window);"
      ],
      "application/vnd.bokehjs_exec.v0+json": ""
     },
     "metadata": {
      "application/vnd.bokehjs_exec.v0+json": {
       "id": "3109ed10-43c1-4749-bbea-625da171321c"
      }
     },
     "output_type": "display_data"
    }
   ],
   "source": [
    "bpm25 = ColumnDataSource(pm25)\n",
    "\n",
    "color_mapper = LinearColorMapper(palette=Viridis256, low=pm25.Elevation.min(), high=pm25.Elevation.max())\n",
    "hover = HoverTool(tooltips=[('elevation', '@Elevation')])\n",
    "\n",
    "p1 = figure(tools=[hover,'pan','wheel_zoom'],\n",
    "           plot_width=900, plot_height=400, x_axis_label='Income',\n",
    "           y_axis_label='PM2.5 Level')\n",
    "\n",
    "p1.circle(x='Income', y='PM25_MAR_8', color={'field': 'Elevation', 'transform': color_mapper}, \n",
    "         size=20, alpha=0.6, source=bpm25)\n",
    "\n",
    "color_bar = ColorBar(color_mapper=color_mapper, label_standoff=12, location=(0,0), title='Elevation')\n",
    "p1.add_layout(color_bar, 'right')\n",
    "show(p1)"
   ]
  },
  {
   "cell_type": "markdown",
   "metadata": {},
   "source": [
    "It looks like PM2.5 levels are higher for low incomes and the majority of low elevations. The left side of the chart shows lower incomes and elevations with higher PM2.5 exposure, while the right side has higher incomes and elevations with lower PM2.5 levels. Let's do some regressions to quantify the strength of these relationships."
   ]
  },
  {
   "cell_type": "markdown",
   "metadata": {},
   "source": [
    "We will use ``statsmodels`` to do [ordinary least squares regression](https://en.wikipedia.org/wiki/Ordinary_least_squares).\n",
    "\n",
    "```Python\n",
    "mod = smf.ols(formula='PM25_MAR_8 ~ Income', data=pm25)\n",
    "```\n",
    "\n",
    "* This formula is stating a linear relationship between our dependent variable, ``PM25_MAR_8``, and our independent variable, ``Income``.\n",
    "\n",
    "```Python\n",
    "'PM25_MAR_8 ~ Income'\n",
    "```\n",
    "```Python\n",
    "data=pm25\n",
    "```\n",
    "\n",
    "* Use the ``pm25`` dataset\n",
    "* ``mod.fit()`` fits the model to the data\n",
    "* ```res.summary()``` provides a detailed report on how well the model fit the data."
   ]
  },
  {
   "cell_type": "code",
   "execution_count": 21,
   "metadata": {},
   "outputs": [
    {
     "data": {
      "text/html": [
       "<table class=\"simpletable\">\n",
       "<caption>OLS Regression Results</caption>\n",
       "<tr>\n",
       "  <th>Dep. Variable:</th>       <td>PM25_MAR_8</td>    <th>  R-squared:         </th> <td>   0.458</td>\n",
       "</tr>\n",
       "<tr>\n",
       "  <th>Model:</th>                   <td>OLS</td>       <th>  Adj. R-squared:    </th> <td>   0.449</td>\n",
       "</tr>\n",
       "<tr>\n",
       "  <th>Method:</th>             <td>Least Squares</td>  <th>  F-statistic:       </th> <td>   52.32</td>\n",
       "</tr>\n",
       "<tr>\n",
       "  <th>Date:</th>             <td>Fri, 08 Jun 2018</td> <th>  Prob (F-statistic):</th> <td>8.48e-10</td>\n",
       "</tr>\n",
       "<tr>\n",
       "  <th>Time:</th>                 <td>15:51:12</td>     <th>  Log-Likelihood:    </th> <td> -77.678</td>\n",
       "</tr>\n",
       "<tr>\n",
       "  <th>No. Observations:</th>      <td>    64</td>      <th>  AIC:               </th> <td>   159.4</td>\n",
       "</tr>\n",
       "<tr>\n",
       "  <th>Df Residuals:</th>          <td>    62</td>      <th>  BIC:               </th> <td>   163.7</td>\n",
       "</tr>\n",
       "<tr>\n",
       "  <th>Df Model:</th>              <td>     1</td>      <th>                     </th>     <td> </td>   \n",
       "</tr>\n",
       "<tr>\n",
       "  <th>Covariance Type:</th>      <td>nonrobust</td>    <th>                     </th>     <td> </td>   \n",
       "</tr>\n",
       "</table>\n",
       "<table class=\"simpletable\">\n",
       "<tr>\n",
       "      <td></td>         <th>coef</th>     <th>std err</th>      <th>t</th>      <th>P>|t|</th>  <th>[0.025</th>    <th>0.975]</th>  \n",
       "</tr>\n",
       "<tr>\n",
       "  <th>Intercept</th> <td>    4.8552</td> <td>    0.256</td> <td>   18.981</td> <td> 0.000</td> <td>    4.344</td> <td>    5.367</td>\n",
       "</tr>\n",
       "<tr>\n",
       "  <th>Income</th>    <td> -3.74e-05</td> <td> 5.17e-06</td> <td>   -7.233</td> <td> 0.000</td> <td>-4.77e-05</td> <td>-2.71e-05</td>\n",
       "</tr>\n",
       "</table>\n",
       "<table class=\"simpletable\">\n",
       "<tr>\n",
       "  <th>Omnibus:</th>       <td> 6.338</td> <th>  Durbin-Watson:     </th> <td>   1.194</td>\n",
       "</tr>\n",
       "<tr>\n",
       "  <th>Prob(Omnibus):</th> <td> 0.042</td> <th>  Jarque-Bera (JB):  </th> <td>   5.446</td>\n",
       "</tr>\n",
       "<tr>\n",
       "  <th>Skew:</th>          <td> 0.624</td> <th>  Prob(JB):          </th> <td>  0.0657</td>\n",
       "</tr>\n",
       "<tr>\n",
       "  <th>Kurtosis:</th>      <td> 3.697</td> <th>  Cond. No.          </th> <td>1.22e+05</td>\n",
       "</tr>\n",
       "</table>"
      ],
      "text/plain": [
       "<class 'statsmodels.iolib.summary.Summary'>\n",
       "\"\"\"\n",
       "                            OLS Regression Results                            \n",
       "==============================================================================\n",
       "Dep. Variable:             PM25_MAR_8   R-squared:                       0.458\n",
       "Model:                            OLS   Adj. R-squared:                  0.449\n",
       "Method:                 Least Squares   F-statistic:                     52.32\n",
       "Date:                Fri, 08 Jun 2018   Prob (F-statistic):           8.48e-10\n",
       "Time:                        15:51:12   Log-Likelihood:                -77.678\n",
       "No. Observations:                  64   AIC:                             159.4\n",
       "Df Residuals:                      62   BIC:                             163.7\n",
       "Df Model:                           1                                         \n",
       "Covariance Type:            nonrobust                                         \n",
       "==============================================================================\n",
       "                 coef    std err          t      P>|t|      [0.025      0.975]\n",
       "------------------------------------------------------------------------------\n",
       "Intercept      4.8552      0.256     18.981      0.000       4.344       5.367\n",
       "Income      -3.74e-05   5.17e-06     -7.233      0.000   -4.77e-05   -2.71e-05\n",
       "==============================================================================\n",
       "Omnibus:                        6.338   Durbin-Watson:                   1.194\n",
       "Prob(Omnibus):                  0.042   Jarque-Bera (JB):                5.446\n",
       "Skew:                           0.624   Prob(JB):                       0.0657\n",
       "Kurtosis:                       3.697   Cond. No.                     1.22e+05\n",
       "==============================================================================\n",
       "\n",
       "Warnings:\n",
       "[1] Standard Errors assume that the covariance matrix of the errors is correctly specified.\n",
       "[2] The condition number is large, 1.22e+05. This might indicate that there are\n",
       "strong multicollinearity or other numerical problems.\n",
       "\"\"\""
      ]
     },
     "execution_count": 21,
     "metadata": {},
     "output_type": "execute_result"
    }
   ],
   "source": [
    "mod = smf.ols(formula='PM25_MAR_8 ~ Income', data=pm25)\n",
    "res = mod.fit()\n",
    "res.summary()"
   ]
  },
  {
   "cell_type": "markdown",
   "metadata": {},
   "source": [
    "### This is a lot of information. What are the key points?\n",
    "\n",
    "#### Let's start by looking at our overall model.\n",
    "\n",
    "* **Prob (F-statistic):**           8.48e-10 ($8.48e^{-10}$). \n",
    "    * This is the probability that the linear relationship between our variables is purely due to chance. \n",
    "* **R-squared:**                       0.458\n",
    "    * This is the proportion of the variability in our data that is explained by our model, so about half of the variability in the data is explained by income.\n",
    "* **Cond. No.**                     1.22e+05 ($1.22e^{05}$)\n",
    "    * A large condition number indicates numeric problems with our model/data and mean the results are less reliable.\n",
    "\n",
    "#### Now let's look at our ``Income`` variable\n",
    "\n",
    "* **coef**=-3.74e-05 ($-3.74e^{-05}$). This is the slope of the line. The slope is negative, meaning as income **increases**, air pollution **decreases.**\n",
    "* **P**=0.000. This is the \"p-value\" and describes the probability that the linear relationship is just random chance. Since our p-value is less than 0.001, we can accept our hypothesis that income and pollution are related."
   ]
  },
  {
   "cell_type": "markdown",
   "metadata": {},
   "source": [
    "## Let's repeat this for the relationship between ``Income`` and ``Elevation``"
   ]
  },
  {
   "cell_type": "code",
   "execution_count": 22,
   "metadata": {},
   "outputs": [
    {
     "data": {
      "text/html": [
       "<table class=\"simpletable\">\n",
       "<caption>OLS Regression Results</caption>\n",
       "<tr>\n",
       "  <th>Dep. Variable:</th>         <td>Income</td>      <th>  R-squared:         </th> <td>   0.365</td>\n",
       "</tr>\n",
       "<tr>\n",
       "  <th>Model:</th>                   <td>OLS</td>       <th>  Adj. R-squared:    </th> <td>   0.354</td>\n",
       "</tr>\n",
       "<tr>\n",
       "  <th>Method:</th>             <td>Least Squares</td>  <th>  F-statistic:       </th> <td>   35.58</td>\n",
       "</tr>\n",
       "<tr>\n",
       "  <th>Date:</th>             <td>Fri, 08 Jun 2018</td> <th>  Prob (F-statistic):</th> <td>1.28e-07</td>\n",
       "</tr>\n",
       "<tr>\n",
       "  <th>Time:</th>                 <td>15:51:16</td>     <th>  Log-Likelihood:    </th> <td> -710.14</td>\n",
       "</tr>\n",
       "<tr>\n",
       "  <th>No. Observations:</th>      <td>    64</td>      <th>  AIC:               </th> <td>   1424.</td>\n",
       "</tr>\n",
       "<tr>\n",
       "  <th>Df Residuals:</th>          <td>    62</td>      <th>  BIC:               </th> <td>   1429.</td>\n",
       "</tr>\n",
       "<tr>\n",
       "  <th>Df Model:</th>              <td>     1</td>      <th>                     </th>     <td> </td>   \n",
       "</tr>\n",
       "<tr>\n",
       "  <th>Covariance Type:</th>      <td>nonrobust</td>    <th>                     </th>     <td> </td>   \n",
       "</tr>\n",
       "</table>\n",
       "<table class=\"simpletable\">\n",
       "<tr>\n",
       "      <td></td>         <th>coef</th>     <th>std err</th>      <th>t</th>      <th>P>|t|</th>  <th>[0.025</th>    <th>0.975]</th>  \n",
       "</tr>\n",
       "<tr>\n",
       "  <th>Intercept</th> <td>-2.152e+05</td> <td> 4.37e+04</td> <td>   -4.923</td> <td> 0.000</td> <td>-3.03e+05</td> <td>-1.28e+05</td>\n",
       "</tr>\n",
       "<tr>\n",
       "  <th>Elevation</th> <td>  194.0279</td> <td>   32.529</td> <td>    5.965</td> <td> 0.000</td> <td>  129.003</td> <td>  259.053</td>\n",
       "</tr>\n",
       "</table>\n",
       "<table class=\"simpletable\">\n",
       "<tr>\n",
       "  <th>Omnibus:</th>       <td> 1.675</td> <th>  Durbin-Watson:     </th> <td>   0.978</td>\n",
       "</tr>\n",
       "<tr>\n",
       "  <th>Prob(Omnibus):</th> <td> 0.433</td> <th>  Jarque-Bera (JB):  </th> <td>   1.047</td>\n",
       "</tr>\n",
       "<tr>\n",
       "  <th>Skew:</th>          <td>-0.285</td> <th>  Prob(JB):          </th> <td>   0.592</td>\n",
       "</tr>\n",
       "<tr>\n",
       "  <th>Kurtosis:</th>      <td> 3.262</td> <th>  Cond. No.          </th> <td>2.90e+04</td>\n",
       "</tr>\n",
       "</table>"
      ],
      "text/plain": [
       "<class 'statsmodels.iolib.summary.Summary'>\n",
       "\"\"\"\n",
       "                            OLS Regression Results                            \n",
       "==============================================================================\n",
       "Dep. Variable:                 Income   R-squared:                       0.365\n",
       "Model:                            OLS   Adj. R-squared:                  0.354\n",
       "Method:                 Least Squares   F-statistic:                     35.58\n",
       "Date:                Fri, 08 Jun 2018   Prob (F-statistic):           1.28e-07\n",
       "Time:                        15:51:16   Log-Likelihood:                -710.14\n",
       "No. Observations:                  64   AIC:                             1424.\n",
       "Df Residuals:                      62   BIC:                             1429.\n",
       "Df Model:                           1                                         \n",
       "Covariance Type:            nonrobust                                         \n",
       "==============================================================================\n",
       "                 coef    std err          t      P>|t|      [0.025      0.975]\n",
       "------------------------------------------------------------------------------\n",
       "Intercept  -2.152e+05   4.37e+04     -4.923      0.000   -3.03e+05   -1.28e+05\n",
       "Elevation    194.0279     32.529      5.965      0.000     129.003     259.053\n",
       "==============================================================================\n",
       "Omnibus:                        1.675   Durbin-Watson:                   0.978\n",
       "Prob(Omnibus):                  0.433   Jarque-Bera (JB):                1.047\n",
       "Skew:                          -0.285   Prob(JB):                        0.592\n",
       "Kurtosis:                       3.262   Cond. No.                     2.90e+04\n",
       "==============================================================================\n",
       "\n",
       "Warnings:\n",
       "[1] Standard Errors assume that the covariance matrix of the errors is correctly specified.\n",
       "[2] The condition number is large, 2.9e+04. This might indicate that there are\n",
       "strong multicollinearity or other numerical problems.\n",
       "\"\"\""
      ]
     },
     "execution_count": 22,
     "metadata": {},
     "output_type": "execute_result"
    }
   ],
   "source": [
    "mod = smf.ols(formula='Income ~ Elevation', data=pm25)\n",
    "res = mod.fit()\n",
    "res.summary()"
   ]
  },
  {
   "cell_type": "code",
   "execution_count": 39,
   "metadata": {},
   "outputs": [
    {
     "data": {
      "text/html": [
       "\n",
       "<div class=\"bk-root\">\n",
       "    <div class=\"bk-plotdiv\" id=\"fb41d3df-f887-48c2-b4eb-07ee7ca2e92c\"></div>\n",
       "</div>"
      ]
     },
     "metadata": {},
     "output_type": "display_data"
    },
    {
     "data": {
      "application/javascript": [
       "(function(root) {\n",
       "  function embed_document(root) {\n",
       "    \n",
       "  var docs_json = {\"f3bfd1f2-d51c-418e-b282-1c4c4065b0ac\":{\"roots\":{\"references\":[{\"attributes\":{\"below\":[{\"id\":\"ccf3303c-6ec4-45ee-b385-12e33dfa717a\",\"type\":\"LinearAxis\"}],\"left\":[{\"id\":\"26b25278-e945-4f6f-a601-1924da5557c7\",\"type\":\"LinearAxis\"}],\"plot_height\":400,\"plot_width\":400,\"renderers\":[{\"id\":\"ccf3303c-6ec4-45ee-b385-12e33dfa717a\",\"type\":\"LinearAxis\"},{\"id\":\"b85190d9-fcc8-46a8-84b6-322e60c67c1a\",\"type\":\"Grid\"},{\"id\":\"26b25278-e945-4f6f-a601-1924da5557c7\",\"type\":\"LinearAxis\"},{\"id\":\"25eb6895-ae66-49d4-ad1c-d88dea177d4e\",\"type\":\"Grid\"},{\"id\":\"4516ae03-0c1a-456b-9664-865abcac3dce\",\"type\":\"BoxAnnotation\"},{\"id\":\"e5966863-1db8-47ff-afe9-55d24d64e15a\",\"type\":\"GlyphRenderer\"}],\"title\":{\"id\":\"ec1a89a3-5c3f-43bf-892d-c05190b36690\",\"type\":\"Title\"},\"toolbar\":{\"id\":\"96a4615f-c8d4-443b-b8ed-af259ca2bf1a\",\"type\":\"Toolbar\"},\"x_range\":{\"id\":\"6bcb7894-281e-4b43-b444-8021219ad49d\",\"type\":\"DataRange1d\"},\"x_scale\":{\"id\":\"aec8b84d-6921-4643-bf73-3d2b6c06625c\",\"type\":\"LinearScale\"},\"y_range\":{\"id\":\"713a62b9-ae7f-4c5c-a01b-e11926734383\",\"type\":\"DataRange1d\"},\"y_scale\":{\"id\":\"505b2567-75e6-42be-83ad-77bfd17a66ac\",\"type\":\"LinearScale\"}},\"id\":\"96107398-166c-4c6c-b54a-a77dee590838\",\"subtype\":\"Figure\",\"type\":\"Plot\"},{\"attributes\":{\"plot\":{\"id\":\"96107398-166c-4c6c-b54a-a77dee590838\",\"subtype\":\"Figure\",\"type\":\"Plot\"},\"ticker\":{\"id\":\"6012dd52-a0e7-4158-af7a-d24ea34e71dc\",\"type\":\"BasicTicker\"}},\"id\":\"b85190d9-fcc8-46a8-84b6-322e60c67c1a\",\"type\":\"Grid\"},{\"attributes\":{\"callback\":null},\"id\":\"6bcb7894-281e-4b43-b444-8021219ad49d\",\"type\":\"DataRange1d\"},{\"attributes\":{},\"id\":\"5c986e38-fc87-4f67-87bf-ba99c5a8ff5d\",\"type\":\"BasicTickFormatter\"},{\"attributes\":{\"data_source\":{\"id\":\"c768ed11-e0db-4d09-8543-cfababef0e7e\",\"type\":\"ColumnDataSource\"},\"glyph\":{\"id\":\"b090d440-c878-4057-9b0f-dde425af3f3f\",\"type\":\"Circle\"},\"hover_glyph\":null,\"muted_glyph\":null,\"nonselection_glyph\":{\"id\":\"ab0dc38e-2388-43e0-b3a3-914c44c0b936\",\"type\":\"Circle\"},\"selection_glyph\":null,\"view\":{\"id\":\"b11ad6a8-5db8-4003-9a3a-7906a828f7cb\",\"type\":\"CDSView\"}},\"id\":\"e5966863-1db8-47ff-afe9-55d24d64e15a\",\"type\":\"GlyphRenderer\"},{\"attributes\":{},\"id\":\"6012dd52-a0e7-4158-af7a-d24ea34e71dc\",\"type\":\"BasicTicker\"},{\"attributes\":{\"axis_label\":\"Elevation\",\"formatter\":{\"id\":\"e6f73cb0-2574-413d-9358-3d21352f3ffb\",\"type\":\"BasicTickFormatter\"},\"plot\":{\"id\":\"96107398-166c-4c6c-b54a-a77dee590838\",\"subtype\":\"Figure\",\"type\":\"Plot\"},\"ticker\":{\"id\":\"1361168b-8490-4460-a52e-665bf6f8134f\",\"type\":\"BasicTicker\"}},\"id\":\"26b25278-e945-4f6f-a601-1924da5557c7\",\"type\":\"LinearAxis\"},{\"attributes\":{},\"id\":\"1361168b-8490-4460-a52e-665bf6f8134f\",\"type\":\"BasicTicker\"},{\"attributes\":{},\"id\":\"01041b3e-412c-4261-8edf-5b7e1bea52a5\",\"type\":\"Selection\"},{\"attributes\":{\"dimension\":1,\"plot\":{\"id\":\"96107398-166c-4c6c-b54a-a77dee590838\",\"subtype\":\"Figure\",\"type\":\"Plot\"},\"ticker\":{\"id\":\"1361168b-8490-4460-a52e-665bf6f8134f\",\"type\":\"BasicTicker\"}},\"id\":\"25eb6895-ae66-49d4-ad1c-d88dea177d4e\",\"type\":\"Grid\"},{\"attributes\":{\"source\":{\"id\":\"c768ed11-e0db-4d09-8543-cfababef0e7e\",\"type\":\"ColumnDataSource\"}},\"id\":\"b11ad6a8-5db8-4003-9a3a-7906a828f7cb\",\"type\":\"CDSView\"},{\"attributes\":{\"fill_alpha\":{\"value\":0.1},\"fill_color\":{\"value\":\"#1f77b4\"},\"line_alpha\":{\"value\":0.1},\"line_color\":{\"value\":\"#1f77b4\"},\"size\":{\"units\":\"screen\",\"value\":20},\"x\":{\"field\":\"Income\"},\"y\":{\"field\":\"Elevation\"}},\"id\":\"ab0dc38e-2388-43e0-b3a3-914c44c0b936\",\"type\":\"Circle\"},{\"attributes\":{\"plot\":null,\"text\":\"\"},\"id\":\"ec1a89a3-5c3f-43bf-892d-c05190b36690\",\"type\":\"Title\"},{\"attributes\":{\"axis_label\":\"Income\",\"formatter\":{\"id\":\"5c986e38-fc87-4f67-87bf-ba99c5a8ff5d\",\"type\":\"BasicTickFormatter\"},\"plot\":{\"id\":\"96107398-166c-4c6c-b54a-a77dee590838\",\"subtype\":\"Figure\",\"type\":\"Plot\"},\"ticker\":{\"id\":\"6012dd52-a0e7-4158-af7a-d24ea34e71dc\",\"type\":\"BasicTicker\"}},\"id\":\"ccf3303c-6ec4-45ee-b385-12e33dfa717a\",\"type\":\"LinearAxis\"},{\"attributes\":{\"fill_alpha\":{\"value\":0.6},\"fill_color\":{\"value\":\"orange\"},\"line_alpha\":{\"value\":0.6},\"line_color\":{\"value\":\"orange\"},\"size\":{\"units\":\"screen\",\"value\":20},\"x\":{\"field\":\"Income\"},\"y\":{\"field\":\"Elevation\"}},\"id\":\"b090d440-c878-4057-9b0f-dde425af3f3f\",\"type\":\"Circle\"},{\"attributes\":{\"callback\":null,\"data\":{\"Block_Group_ID\":{\"__ndarray__\":\"AABwnsyKXEIAAHCezIpcQgAAcJ7MilxCAABwnsyKXEIAAHCezIpcQgAAcJ7MilxCAABwnsyKXEIAAHCezIpcQgAAcJ7MilxCAABwnsyKXEIAAHCezIpcQgAAcJ7MilxCAABwnsyKXEIAAHCezIpcQgAAcJ7MilxCAABwnsyKXEIAAHCezIpcQgAAcJ7MilxCAABwnsyKXEIAAHCezIpcQgAAcJ7MilxCAABwnsyKXEIAAHCezIpcQgAAcJ7MilxCAABwnsyKXEIAAHCezIpcQgAAcJ7MilxCAABwnsyKXEIAAHCezIpcQgAAcJ7MilxCAABwnsyKXEIAAHCezIpcQgAAcJ7MilxCAABwnsyKXEIAAHCezIpcQgAAcJ7MilxCAABwnsyKXEIAAHCezIpcQgAAcJ7MilxCAABwnsyKXEIAAHCezIpcQgAAcJ7MilxCAABwnsyKXEIAAHCezIpcQgAAcJ7MilxCAABwnsyKXEIAAHCezIpcQgAAcJ7MilxCAABwnsyKXEIAAHCezIpcQgAAcJ7MilxCAABwnsyKXEIAAHCezIpcQgAAcJ7MilxCAABwnsyKXEIAAHCezIpcQgAAcJ7MilxCAABwnsyKXEIAAHCezIpcQgAAcJ7MilxCAABwnsyKXEIAAHCezIpcQgAAcJ7MilxCAABwnsyKXEI=\",\"dtype\":\"float64\",\"shape\":[64]},\"Elevation\":{\"__ndarray__\":\"1t8SgL9ulEAZrg6AaEOUQG8MAcDhJpRAOpUMALVXlEAZrg6AaEOUQGXEBaBxV5RA51Hxf0eklEDnUfF/R6SUQOdR8X9HpJRAYabtX9kJlkDKiAtAgyGVQGGm7V/ZCZZAHcnlP4RNlUAdyeU/hE2VQB3J5T+ETZVASgfr/8yylEBKB+v/zLKUQEoH6//MspRASgfr/8yylEDW3xKAj3mUQGXEBaBxV5RAZcQFoHFXlEDV0AZgwz+UQMqIC0CTJ5RAMVwdAPFYlEBMFvcfOVCUQFde8j+5OZRA51Hxf1colECM1eb/pS+UQIzV5v+lL5RAI/YJoEg7lEAUkPY/IHSUQHxjCADeTZRAFJD2PxBplEDhJw6gf5GUQAQeGEA4YJRAeEXwv7VelEAXnwJgTOuVQBefAmBM65VAF58CYEzrlUDCTxxAPyCVQPzh57/3jJVAjNXm/wW3lEB2NuSfOTCVQCHn/X8cm5VA7G8JwH/NlkAQdR+AFLmWQCHn/X8sqpZAF58CYEzrlUBp4h3gOTuWQCHn/X8sqpZAaeId4Dk7lkCfWRKgRiWUQC0+BcAoLJRAq7AZ4DI4lECrsBngMjiUQKuwGeAyOJRA4ScOoB9UlEBMFvcfiT2UQJHz/j8eZJRAjNXm/4WmlEAlBRbAdICUQGniHeBpV5hAdCoZAKpCmEA=\",\"dtype\":\"float64\",\"shape\":[64]},\"Income\":{\"__ndarray__\":\"AAAAAMBP5UAAAAAA4HfhQAAAAAAgseJAAAAAAGBL70AAAAAAYBviQAAAAAAA/9RAAAAAAEAY5EAAAAAAgH3gQAAAAADAV+JAAAAAAMBT4EAAAAAAgHjXQAAAAAAABb9AAAAAAAAl3UAAAAAAQGrRQAAAAABgWORAAAAAAACx30AAAAAA4OLgQAAAAAAAvd9AAAAAAMAK2kAAAAAAwK/SQAAAAAAAr99AAAAAAICd3UAAAAAAwD7aQAAAAADAad9AAAAAAAAV10AAAAAAAD/XQAAAAAAAtdlAAAAAAEAw4kAAAAAA4EHgQAAAAAAAF9FAAAAAAACa4EAAAAAAIMHsQAAAAAAg8OpAAAAAACC15EAAAAAAAOHhQAAAAABg7OdAAAAAAIBc4kAAAAAAgG3rQAAAAACwGfFAAAAAABAp8EAAAAAAsIXxQAAAAAAATetAAAAAAEBK7kAAAAAAUNvxQAAAAAAATOZAAAAAABDp9kAAAAAA4Nv0QAAAAABA2/FAAAAAAIAx50AAAAAAwB3zQAAAAACQWPNAAAAAAEBq80AAAAAAIJvkQAAAAADATeNAAAAAAMAT1kAAAAAAgLPlQAAAAADAKutAAAAAAEAW6UAAAAAAAMfXQAAAAADgReFAAAAAAEDk8EAAAAAAUPfwQAAAAABwmPZAAAAAACCy7UA=\",\"dtype\":\"float64\",\"shape\":[64]},\"PM25_MAR_8\":{\"__ndarray__\":\"mNV4Pyc2DUAz+0txprgOQJw9trYHqQ9AzvzNOMuQD0BYaY1spzANQNaWu0gBQxJAYwhjuPhjCUB2aULhUwMOQBkS8J4VRg1AAAAAAACADEDc4ykEop4LQE/i43uV7AtA5wg3Hg7oDUABUBEcof8IQCjHRhul4QpAbTu0YpQMEEDcIOuNgBAPQN8FtO7LYwtAD88DOdeRDUBmnXD9W1IQQJ9TRBFIfQ5A9krkeMG6FUDhWAPT6ukPQJFLw8DYJhNAr4+GB1hdDkBublEIEv8QQMQ9Rfd0mxFA/qncNwM9E0BdrHAX1gsMQElzGlh96A1AWT+EWADqCUBNPjb8gNkDQFv2JrFkaQVApmoqpxcGA0D3Y/gnb2IEQFshPyrkZwZAAAAAAACAA0CpD4JgHoL2P7HYHKMZ/Ps/WzUZnxM89z+kgl0p2Nr5P90Wjf6V4gNAGNVuMN5L+z/rJZ2zy5D5PwmZ2DpApQNAZmZmZmZm9j/YGURDfSEAQHIbd8TNo/U/rLbf/Zge9j/YLeYNTnH0P7mj9XPncvU/D1atloVA9T92zSMAsVEWQEWVsCLimxFADad7hjiOEUAJE9zOEooNQDI8tJeGUAlA/pXN0ANlC0AW86F7PqkCQMttDwPcwgxAnHDaTLijEUDP7dy2GuoPQO6kdJ/Sl/g/iLIQTTsFAkA=\",\"dtype\":\"float64\",\"shape\":[64]},\"index\":[0,1,2,3,4,5,6,7,8,9,10,11,12,13,14,15,16,17,18,19,20,21,22,23,24,25,26,27,28,29,30,31,32,33,34,35,36,37,38,39,40,41,42,43,44,45,46,47,48,49,50,51,52,53,54,55,56,57,58,59,60,61,62,63]},\"selected\":{\"id\":\"01041b3e-412c-4261-8edf-5b7e1bea52a5\",\"type\":\"Selection\"},\"selection_policy\":{\"id\":\"1e992893-0593-47da-911a-020aeb965820\",\"type\":\"UnionRenderers\"}},\"id\":\"c768ed11-e0db-4d09-8543-cfababef0e7e\",\"type\":\"ColumnDataSource\"},{\"attributes\":{\"bottom_units\":\"screen\",\"fill_alpha\":{\"value\":0.5},\"fill_color\":{\"value\":\"lightgrey\"},\"left_units\":\"screen\",\"level\":\"overlay\",\"line_alpha\":{\"value\":1.0},\"line_color\":{\"value\":\"black\"},\"line_dash\":[4,4],\"line_width\":{\"value\":2},\"plot\":null,\"render_mode\":\"css\",\"right_units\":\"screen\",\"top_units\":\"screen\"},\"id\":\"4516ae03-0c1a-456b-9664-865abcac3dce\",\"type\":\"BoxAnnotation\"},{\"attributes\":{},\"id\":\"505b2567-75e6-42be-83ad-77bfd17a66ac\",\"type\":\"LinearScale\"},{\"attributes\":{},\"id\":\"1e992893-0593-47da-911a-020aeb965820\",\"type\":\"UnionRenderers\"},{\"attributes\":{},\"id\":\"c377dba3-ce25-4bd7-a48b-f48a6eefa6b1\",\"type\":\"PanTool\"},{\"attributes\":{},\"id\":\"e6f73cb0-2574-413d-9358-3d21352f3ffb\",\"type\":\"BasicTickFormatter\"},{\"attributes\":{},\"id\":\"a8828338-1542-4d69-a054-162a379d3664\",\"type\":\"WheelZoomTool\"},{\"attributes\":{\"overlay\":{\"id\":\"4516ae03-0c1a-456b-9664-865abcac3dce\",\"type\":\"BoxAnnotation\"}},\"id\":\"500995f2-b9de-436a-b29b-9bf4026a7019\",\"type\":\"BoxZoomTool\"},{\"attributes\":{},\"id\":\"aec8b84d-6921-4643-bf73-3d2b6c06625c\",\"type\":\"LinearScale\"},{\"attributes\":{},\"id\":\"1ce213d7-d05b-4561-904a-891e68f14e65\",\"type\":\"SaveTool\"},{\"attributes\":{\"active_drag\":\"auto\",\"active_inspect\":\"auto\",\"active_scroll\":\"auto\",\"active_tap\":\"auto\",\"tools\":[{\"id\":\"c377dba3-ce25-4bd7-a48b-f48a6eefa6b1\",\"type\":\"PanTool\"},{\"id\":\"a8828338-1542-4d69-a054-162a379d3664\",\"type\":\"WheelZoomTool\"},{\"id\":\"500995f2-b9de-436a-b29b-9bf4026a7019\",\"type\":\"BoxZoomTool\"},{\"id\":\"1ce213d7-d05b-4561-904a-891e68f14e65\",\"type\":\"SaveTool\"},{\"id\":\"695d958c-6668-4b90-8e43-dfce16992c35\",\"type\":\"ResetTool\"},{\"id\":\"078565d4-5bff-4bb7-8c7d-238a0cf06266\",\"type\":\"HelpTool\"}]},\"id\":\"96a4615f-c8d4-443b-b8ed-af259ca2bf1a\",\"type\":\"Toolbar\"},{\"attributes\":{},\"id\":\"695d958c-6668-4b90-8e43-dfce16992c35\",\"type\":\"ResetTool\"},{\"attributes\":{},\"id\":\"078565d4-5bff-4bb7-8c7d-238a0cf06266\",\"type\":\"HelpTool\"},{\"attributes\":{\"callback\":null},\"id\":\"713a62b9-ae7f-4c5c-a01b-e11926734383\",\"type\":\"DataRange1d\"}],\"root_ids\":[\"96107398-166c-4c6c-b54a-a77dee590838\"]},\"title\":\"Bokeh Application\",\"version\":\"0.12.16\"}};\n",
       "  var render_items = [{\"docid\":\"f3bfd1f2-d51c-418e-b282-1c4c4065b0ac\",\"elementid\":\"fb41d3df-f887-48c2-b4eb-07ee7ca2e92c\",\"modelid\":\"96107398-166c-4c6c-b54a-a77dee590838\"}];\n",
       "  root.Bokeh.embed.embed_items_notebook(docs_json, render_items);\n",
       "\n",
       "  }\n",
       "  if (root.Bokeh !== undefined) {\n",
       "    embed_document(root);\n",
       "  } else {\n",
       "    var attempts = 0;\n",
       "    var timer = setInterval(function(root) {\n",
       "      if (root.Bokeh !== undefined) {\n",
       "        embed_document(root);\n",
       "        clearInterval(timer);\n",
       "      }\n",
       "      attempts++;\n",
       "      if (attempts > 100) {\n",
       "        console.log(\"Bokeh: ERROR: Unable to run BokehJS code because BokehJS library is missing\")\n",
       "        clearInterval(timer);\n",
       "      }\n",
       "    }, 10, root)\n",
       "  }\n",
       "})(window);"
      ],
      "application/vnd.bokehjs_exec.v0+json": ""
     },
     "metadata": {
      "application/vnd.bokehjs_exec.v0+json": {
       "id": "96107398-166c-4c6c-b54a-a77dee590838"
      }
     },
     "output_type": "display_data"
    }
   ],
   "source": [
    "#add regression line\n",
    "p = figure(plot_width=400, plot_height=400, x_axis_label='Income', y_axis_label='Elevation')\n",
    "p.circle(x='Income', y='Elevation', \n",
    "         size=20, alpha=0.6, color='orange', source=bpm25)\n",
    "\n",
    "show(p)"
   ]
  },
  {
   "cell_type": "markdown",
   "metadata": {},
   "source": [
    "### The relationship between ``Income`` and ``Elevation`` is strong\n",
    "### Let's use ``Elevation`` to predict ``PM25_MAR_8``"
   ]
  },
  {
   "cell_type": "code",
   "execution_count": 23,
   "metadata": {},
   "outputs": [
    {
     "data": {
      "text/html": [
       "<table class=\"simpletable\">\n",
       "<caption>OLS Regression Results</caption>\n",
       "<tr>\n",
       "  <th>Dep. Variable:</th>       <td>PM25_MAR_8</td>    <th>  R-squared:         </th> <td>   0.451</td>\n",
       "</tr>\n",
       "<tr>\n",
       "  <th>Model:</th>                   <td>OLS</td>       <th>  Adj. R-squared:    </th> <td>   0.442</td>\n",
       "</tr>\n",
       "<tr>\n",
       "  <th>Method:</th>             <td>Least Squares</td>  <th>  F-statistic:       </th> <td>   50.84</td>\n",
       "</tr>\n",
       "<tr>\n",
       "  <th>Date:</th>             <td>Fri, 08 Jun 2018</td> <th>  Prob (F-statistic):</th> <td>1.28e-09</td>\n",
       "</tr>\n",
       "<tr>\n",
       "  <th>Time:</th>                 <td>15:51:22</td>     <th>  Log-Likelihood:    </th> <td> -78.095</td>\n",
       "</tr>\n",
       "<tr>\n",
       "  <th>No. Observations:</th>      <td>    64</td>      <th>  AIC:               </th> <td>   160.2</td>\n",
       "</tr>\n",
       "<tr>\n",
       "  <th>Df Residuals:</th>          <td>    62</td>      <th>  BIC:               </th> <td>   164.5</td>\n",
       "</tr>\n",
       "<tr>\n",
       "  <th>Df Model:</th>              <td>     1</td>      <th>                     </th>     <td> </td>   \n",
       "</tr>\n",
       "<tr>\n",
       "  <th>Covariance Type:</th>      <td>nonrobust</td>    <th>                     </th>     <td> </td>   \n",
       "</tr>\n",
       "</table>\n",
       "<table class=\"simpletable\">\n",
       "<tr>\n",
       "      <td></td>         <th>coef</th>     <th>std err</th>      <th>t</th>      <th>P>|t|</th>  <th>[0.025</th>    <th>0.975]</th>  \n",
       "</tr>\n",
       "<tr>\n",
       "  <th>Intercept</th> <td>   19.1668</td> <td>    2.247</td> <td>    8.531</td> <td> 0.000</td> <td>   14.675</td> <td>   23.658</td>\n",
       "</tr>\n",
       "<tr>\n",
       "  <th>Elevation</th> <td>   -0.0119</td> <td>    0.002</td> <td>   -7.130</td> <td> 0.000</td> <td>   -0.015</td> <td>   -0.009</td>\n",
       "</tr>\n",
       "</table>\n",
       "<table class=\"simpletable\">\n",
       "<tr>\n",
       "  <th>Omnibus:</th>       <td> 1.175</td> <th>  Durbin-Watson:     </th> <td>   0.842</td>\n",
       "</tr>\n",
       "<tr>\n",
       "  <th>Prob(Omnibus):</th> <td> 0.556</td> <th>  Jarque-Bera (JB):  </th> <td>   0.988</td>\n",
       "</tr>\n",
       "<tr>\n",
       "  <th>Skew:</th>          <td> 0.013</td> <th>  Prob(JB):          </th> <td>   0.610</td>\n",
       "</tr>\n",
       "<tr>\n",
       "  <th>Kurtosis:</th>      <td> 2.392</td> <th>  Cond. No.          </th> <td>2.90e+04</td>\n",
       "</tr>\n",
       "</table>"
      ],
      "text/plain": [
       "<class 'statsmodels.iolib.summary.Summary'>\n",
       "\"\"\"\n",
       "                            OLS Regression Results                            \n",
       "==============================================================================\n",
       "Dep. Variable:             PM25_MAR_8   R-squared:                       0.451\n",
       "Model:                            OLS   Adj. R-squared:                  0.442\n",
       "Method:                 Least Squares   F-statistic:                     50.84\n",
       "Date:                Fri, 08 Jun 2018   Prob (F-statistic):           1.28e-09\n",
       "Time:                        15:51:22   Log-Likelihood:                -78.095\n",
       "No. Observations:                  64   AIC:                             160.2\n",
       "Df Residuals:                      62   BIC:                             164.5\n",
       "Df Model:                           1                                         \n",
       "Covariance Type:            nonrobust                                         \n",
       "==============================================================================\n",
       "                 coef    std err          t      P>|t|      [0.025      0.975]\n",
       "------------------------------------------------------------------------------\n",
       "Intercept     19.1668      2.247      8.531      0.000      14.675      23.658\n",
       "Elevation     -0.0119      0.002     -7.130      0.000      -0.015      -0.009\n",
       "==============================================================================\n",
       "Omnibus:                        1.175   Durbin-Watson:                   0.842\n",
       "Prob(Omnibus):                  0.556   Jarque-Bera (JB):                0.988\n",
       "Skew:                           0.013   Prob(JB):                        0.610\n",
       "Kurtosis:                       2.392   Cond. No.                     2.90e+04\n",
       "==============================================================================\n",
       "\n",
       "Warnings:\n",
       "[1] Standard Errors assume that the covariance matrix of the errors is correctly specified.\n",
       "[2] The condition number is large, 2.9e+04. This might indicate that there are\n",
       "strong multicollinearity or other numerical problems.\n",
       "\"\"\""
      ]
     },
     "execution_count": 23,
     "metadata": {},
     "output_type": "execute_result"
    }
   ],
   "source": [
    "mod = smf.ols(formula='PM25_MAR_8 ~ Elevation', data=pm25)\n",
    "res = mod.fit()\n",
    "res.summary()"
   ]
  },
  {
   "cell_type": "code",
   "execution_count": 38,
   "metadata": {},
   "outputs": [
    {
     "data": {
      "text/html": [
       "\n",
       "<div class=\"bk-root\">\n",
       "    <div class=\"bk-plotdiv\" id=\"feac2dc1-fd9b-44f1-9805-5e1bbffd6e60\"></div>\n",
       "</div>"
      ]
     },
     "metadata": {},
     "output_type": "display_data"
    },
    {
     "data": {
      "application/javascript": [
       "(function(root) {\n",
       "  function embed_document(root) {\n",
       "    \n",
       "  var docs_json = {\"3073b86e-f91b-462d-9149-be5f9c433ed5\":{\"roots\":{\"references\":[{\"attributes\":{},\"id\":\"2083e9f3-23e2-47b6-8ea6-ca35ec5429b1\",\"type\":\"BasicTickFormatter\"},{\"attributes\":{\"plot\":null,\"text\":\"\"},\"id\":\"5abf4881-707e-4cb9-a514-1ef4db0c945e\",\"type\":\"Title\"},{\"attributes\":{},\"id\":\"ad251654-f798-476d-97c1-37220c414895\",\"type\":\"PanTool\"},{\"attributes\":{\"callback\":null},\"id\":\"ccd6781d-4cf2-468a-938c-f6ee613139cf\",\"type\":\"DataRange1d\"},{\"attributes\":{\"fill_alpha\":{\"value\":0.6},\"fill_color\":{\"value\":\"purple\"},\"line_alpha\":{\"value\":0.6},\"line_color\":{\"value\":\"purple\"},\"size\":{\"units\":\"screen\",\"value\":20},\"x\":{\"field\":\"Elevation\"},\"y\":{\"field\":\"PM25_MAR_8\"}},\"id\":\"eeed89a7-34d1-4318-bc5b-07fd3aeddd7e\",\"type\":\"Circle\"},{\"attributes\":{\"active_drag\":\"auto\",\"active_inspect\":\"auto\",\"active_scroll\":\"auto\",\"active_tap\":\"auto\",\"tools\":[{\"id\":\"ad251654-f798-476d-97c1-37220c414895\",\"type\":\"PanTool\"},{\"id\":\"1bc155d6-03d9-4826-a1e1-808f9864a67b\",\"type\":\"WheelZoomTool\"},{\"id\":\"66f8eb5a-f2ac-4518-ab7e-60128165b8b3\",\"type\":\"BoxZoomTool\"},{\"id\":\"3a0e4b07-86b3-4820-bfb6-018b00bd096b\",\"type\":\"SaveTool\"},{\"id\":\"3edc654f-b90d-4677-b1eb-9872ff90acd9\",\"type\":\"ResetTool\"},{\"id\":\"b5cd6753-5807-4543-9669-7a0a676dd169\",\"type\":\"HelpTool\"}]},\"id\":\"fb6b2a43-939c-4601-9276-e2ba2e7a11ba\",\"type\":\"Toolbar\"},{\"attributes\":{},\"id\":\"21f68886-4b5b-4563-97cb-effca51c1c43\",\"type\":\"BasicTicker\"},{\"attributes\":{},\"id\":\"01041b3e-412c-4261-8edf-5b7e1bea52a5\",\"type\":\"Selection\"},{\"attributes\":{\"plot\":{\"id\":\"0a5c17dc-5a77-4113-ae5b-8b79684961b8\",\"subtype\":\"Figure\",\"type\":\"Plot\"},\"ticker\":{\"id\":\"21f68886-4b5b-4563-97cb-effca51c1c43\",\"type\":\"BasicTicker\"}},\"id\":\"2552a538-d3a2-485b-a425-52213a34672f\",\"type\":\"Grid\"},{\"attributes\":{\"below\":[{\"id\":\"12ce130e-5c12-4a92-83c3-6f2441789826\",\"type\":\"LinearAxis\"}],\"left\":[{\"id\":\"5f43f0ae-2dd9-48d9-9c5d-fede6969adb2\",\"type\":\"LinearAxis\"}],\"plot_height\":400,\"plot_width\":400,\"renderers\":[{\"id\":\"12ce130e-5c12-4a92-83c3-6f2441789826\",\"type\":\"LinearAxis\"},{\"id\":\"2552a538-d3a2-485b-a425-52213a34672f\",\"type\":\"Grid\"},{\"id\":\"5f43f0ae-2dd9-48d9-9c5d-fede6969adb2\",\"type\":\"LinearAxis\"},{\"id\":\"13df4572-fda0-437a-89f4-2c3ce407e918\",\"type\":\"Grid\"},{\"id\":\"9cd43d55-fa38-4428-9449-d47be2c97a7b\",\"type\":\"BoxAnnotation\"},{\"id\":\"d48b5d58-67e8-455f-a95c-211e62b8d54a\",\"type\":\"GlyphRenderer\"}],\"title\":{\"id\":\"5abf4881-707e-4cb9-a514-1ef4db0c945e\",\"type\":\"Title\"},\"toolbar\":{\"id\":\"fb6b2a43-939c-4601-9276-e2ba2e7a11ba\",\"type\":\"Toolbar\"},\"x_range\":{\"id\":\"2ed34019-022e-4145-b393-c8acdeaa3980\",\"type\":\"DataRange1d\"},\"x_scale\":{\"id\":\"4cc522d6-abfb-4227-87aa-8d5104e42f5c\",\"type\":\"LinearScale\"},\"y_range\":{\"id\":\"ccd6781d-4cf2-468a-938c-f6ee613139cf\",\"type\":\"DataRange1d\"},\"y_scale\":{\"id\":\"99ac4619-a914-4d78-9d86-c5dda17fc3e2\",\"type\":\"LinearScale\"}},\"id\":\"0a5c17dc-5a77-4113-ae5b-8b79684961b8\",\"subtype\":\"Figure\",\"type\":\"Plot\"},{\"attributes\":{\"axis_label\":\"PM2.5 Level\",\"formatter\":{\"id\":\"2083e9f3-23e2-47b6-8ea6-ca35ec5429b1\",\"type\":\"BasicTickFormatter\"},\"plot\":{\"id\":\"0a5c17dc-5a77-4113-ae5b-8b79684961b8\",\"subtype\":\"Figure\",\"type\":\"Plot\"},\"ticker\":{\"id\":\"841ab5f0-f39c-4e4e-b6f3-4b44c55aaa58\",\"type\":\"BasicTicker\"}},\"id\":\"5f43f0ae-2dd9-48d9-9c5d-fede6969adb2\",\"type\":\"LinearAxis\"},{\"attributes\":{},\"id\":\"1bc155d6-03d9-4826-a1e1-808f9864a67b\",\"type\":\"WheelZoomTool\"},{\"attributes\":{\"source\":{\"id\":\"c768ed11-e0db-4d09-8543-cfababef0e7e\",\"type\":\"ColumnDataSource\"}},\"id\":\"771b3be3-828c-4ccc-8ee9-c2a6afba4ff0\",\"type\":\"CDSView\"},{\"attributes\":{},\"id\":\"4cc522d6-abfb-4227-87aa-8d5104e42f5c\",\"type\":\"LinearScale\"},{\"attributes\":{\"fill_alpha\":{\"value\":0.1},\"fill_color\":{\"value\":\"#1f77b4\"},\"line_alpha\":{\"value\":0.1},\"line_color\":{\"value\":\"#1f77b4\"},\"size\":{\"units\":\"screen\",\"value\":20},\"x\":{\"field\":\"Elevation\"},\"y\":{\"field\":\"PM25_MAR_8\"}},\"id\":\"b2b9546f-55dd-4fe2-90ad-45ef8f25dbc6\",\"type\":\"Circle\"},{\"attributes\":{\"callback\":null,\"data\":{\"Block_Group_ID\":{\"__ndarray__\":\"AABwnsyKXEIAAHCezIpcQgAAcJ7MilxCAABwnsyKXEIAAHCezIpcQgAAcJ7MilxCAABwnsyKXEIAAHCezIpcQgAAcJ7MilxCAABwnsyKXEIAAHCezIpcQgAAcJ7MilxCAABwnsyKXEIAAHCezIpcQgAAcJ7MilxCAABwnsyKXEIAAHCezIpcQgAAcJ7MilxCAABwnsyKXEIAAHCezIpcQgAAcJ7MilxCAABwnsyKXEIAAHCezIpcQgAAcJ7MilxCAABwnsyKXEIAAHCezIpcQgAAcJ7MilxCAABwnsyKXEIAAHCezIpcQgAAcJ7MilxCAABwnsyKXEIAAHCezIpcQgAAcJ7MilxCAABwnsyKXEIAAHCezIpcQgAAcJ7MilxCAABwnsyKXEIAAHCezIpcQgAAcJ7MilxCAABwnsyKXEIAAHCezIpcQgAAcJ7MilxCAABwnsyKXEIAAHCezIpcQgAAcJ7MilxCAABwnsyKXEIAAHCezIpcQgAAcJ7MilxCAABwnsyKXEIAAHCezIpcQgAAcJ7MilxCAABwnsyKXEIAAHCezIpcQgAAcJ7MilxCAABwnsyKXEIAAHCezIpcQgAAcJ7MilxCAABwnsyKXEIAAHCezIpcQgAAcJ7MilxCAABwnsyKXEIAAHCezIpcQgAAcJ7MilxCAABwnsyKXEI=\",\"dtype\":\"float64\",\"shape\":[64]},\"Elevation\":{\"__ndarray__\":\"1t8SgL9ulEAZrg6AaEOUQG8MAcDhJpRAOpUMALVXlEAZrg6AaEOUQGXEBaBxV5RA51Hxf0eklEDnUfF/R6SUQOdR8X9HpJRAYabtX9kJlkDKiAtAgyGVQGGm7V/ZCZZAHcnlP4RNlUAdyeU/hE2VQB3J5T+ETZVASgfr/8yylEBKB+v/zLKUQEoH6//MspRASgfr/8yylEDW3xKAj3mUQGXEBaBxV5RAZcQFoHFXlEDV0AZgwz+UQMqIC0CTJ5RAMVwdAPFYlEBMFvcfOVCUQFde8j+5OZRA51Hxf1colECM1eb/pS+UQIzV5v+lL5RAI/YJoEg7lEAUkPY/IHSUQHxjCADeTZRAFJD2PxBplEDhJw6gf5GUQAQeGEA4YJRAeEXwv7VelEAXnwJgTOuVQBefAmBM65VAF58CYEzrlUDCTxxAPyCVQPzh57/3jJVAjNXm/wW3lEB2NuSfOTCVQCHn/X8cm5VA7G8JwH/NlkAQdR+AFLmWQCHn/X8sqpZAF58CYEzrlUBp4h3gOTuWQCHn/X8sqpZAaeId4Dk7lkCfWRKgRiWUQC0+BcAoLJRAq7AZ4DI4lECrsBngMjiUQKuwGeAyOJRA4ScOoB9UlEBMFvcfiT2UQJHz/j8eZJRAjNXm/4WmlEAlBRbAdICUQGniHeBpV5hAdCoZAKpCmEA=\",\"dtype\":\"float64\",\"shape\":[64]},\"Income\":{\"__ndarray__\":\"AAAAAMBP5UAAAAAA4HfhQAAAAAAgseJAAAAAAGBL70AAAAAAYBviQAAAAAAA/9RAAAAAAEAY5EAAAAAAgH3gQAAAAADAV+JAAAAAAMBT4EAAAAAAgHjXQAAAAAAABb9AAAAAAAAl3UAAAAAAQGrRQAAAAABgWORAAAAAAACx30AAAAAA4OLgQAAAAAAAvd9AAAAAAMAK2kAAAAAAwK/SQAAAAAAAr99AAAAAAICd3UAAAAAAwD7aQAAAAADAad9AAAAAAAAV10AAAAAAAD/XQAAAAAAAtdlAAAAAAEAw4kAAAAAA4EHgQAAAAAAAF9FAAAAAAACa4EAAAAAAIMHsQAAAAAAg8OpAAAAAACC15EAAAAAAAOHhQAAAAABg7OdAAAAAAIBc4kAAAAAAgG3rQAAAAACwGfFAAAAAABAp8EAAAAAAsIXxQAAAAAAATetAAAAAAEBK7kAAAAAAUNvxQAAAAAAATOZAAAAAABDp9kAAAAAA4Nv0QAAAAABA2/FAAAAAAIAx50AAAAAAwB3zQAAAAACQWPNAAAAAAEBq80AAAAAAIJvkQAAAAADATeNAAAAAAMAT1kAAAAAAgLPlQAAAAADAKutAAAAAAEAW6UAAAAAAAMfXQAAAAADgReFAAAAAAEDk8EAAAAAAUPfwQAAAAABwmPZAAAAAACCy7UA=\",\"dtype\":\"float64\",\"shape\":[64]},\"PM25_MAR_8\":{\"__ndarray__\":\"mNV4Pyc2DUAz+0txprgOQJw9trYHqQ9AzvzNOMuQD0BYaY1spzANQNaWu0gBQxJAYwhjuPhjCUB2aULhUwMOQBkS8J4VRg1AAAAAAACADEDc4ykEop4LQE/i43uV7AtA5wg3Hg7oDUABUBEcof8IQCjHRhul4QpAbTu0YpQMEEDcIOuNgBAPQN8FtO7LYwtAD88DOdeRDUBmnXD9W1IQQJ9TRBFIfQ5A9krkeMG6FUDhWAPT6ukPQJFLw8DYJhNAr4+GB1hdDkBublEIEv8QQMQ9Rfd0mxFA/qncNwM9E0BdrHAX1gsMQElzGlh96A1AWT+EWADqCUBNPjb8gNkDQFv2JrFkaQVApmoqpxcGA0D3Y/gnb2IEQFshPyrkZwZAAAAAAACAA0CpD4JgHoL2P7HYHKMZ/Ps/WzUZnxM89z+kgl0p2Nr5P90Wjf6V4gNAGNVuMN5L+z/rJZ2zy5D5PwmZ2DpApQNAZmZmZmZm9j/YGURDfSEAQHIbd8TNo/U/rLbf/Zge9j/YLeYNTnH0P7mj9XPncvU/D1atloVA9T92zSMAsVEWQEWVsCLimxFADad7hjiOEUAJE9zOEooNQDI8tJeGUAlA/pXN0ANlC0AW86F7PqkCQMttDwPcwgxAnHDaTLijEUDP7dy2GuoPQO6kdJ/Sl/g/iLIQTTsFAkA=\",\"dtype\":\"float64\",\"shape\":[64]},\"index\":[0,1,2,3,4,5,6,7,8,9,10,11,12,13,14,15,16,17,18,19,20,21,22,23,24,25,26,27,28,29,30,31,32,33,34,35,36,37,38,39,40,41,42,43,44,45,46,47,48,49,50,51,52,53,54,55,56,57,58,59,60,61,62,63]},\"selected\":{\"id\":\"01041b3e-412c-4261-8edf-5b7e1bea52a5\",\"type\":\"Selection\"},\"selection_policy\":{\"id\":\"1e992893-0593-47da-911a-020aeb965820\",\"type\":\"UnionRenderers\"}},\"id\":\"c768ed11-e0db-4d09-8543-cfababef0e7e\",\"type\":\"ColumnDataSource\"},{\"attributes\":{},\"id\":\"99ac4619-a914-4d78-9d86-c5dda17fc3e2\",\"type\":\"LinearScale\"},{\"attributes\":{},\"id\":\"1e992893-0593-47da-911a-020aeb965820\",\"type\":\"UnionRenderers\"},{\"attributes\":{},\"id\":\"841ab5f0-f39c-4e4e-b6f3-4b44c55aaa58\",\"type\":\"BasicTicker\"},{\"attributes\":{\"overlay\":{\"id\":\"9cd43d55-fa38-4428-9449-d47be2c97a7b\",\"type\":\"BoxAnnotation\"}},\"id\":\"66f8eb5a-f2ac-4518-ab7e-60128165b8b3\",\"type\":\"BoxZoomTool\"},{\"attributes\":{\"dimension\":1,\"plot\":{\"id\":\"0a5c17dc-5a77-4113-ae5b-8b79684961b8\",\"subtype\":\"Figure\",\"type\":\"Plot\"},\"ticker\":{\"id\":\"841ab5f0-f39c-4e4e-b6f3-4b44c55aaa58\",\"type\":\"BasicTicker\"}},\"id\":\"13df4572-fda0-437a-89f4-2c3ce407e918\",\"type\":\"Grid\"},{\"attributes\":{},\"id\":\"2cbc54d4-34b7-49da-8b64-bff20d471a89\",\"type\":\"BasicTickFormatter\"},{\"attributes\":{\"bottom_units\":\"screen\",\"fill_alpha\":{\"value\":0.5},\"fill_color\":{\"value\":\"lightgrey\"},\"left_units\":\"screen\",\"level\":\"overlay\",\"line_alpha\":{\"value\":1.0},\"line_color\":{\"value\":\"black\"},\"line_dash\":[4,4],\"line_width\":{\"value\":2},\"plot\":null,\"render_mode\":\"css\",\"right_units\":\"screen\",\"top_units\":\"screen\"},\"id\":\"9cd43d55-fa38-4428-9449-d47be2c97a7b\",\"type\":\"BoxAnnotation\"},{\"attributes\":{\"data_source\":{\"id\":\"c768ed11-e0db-4d09-8543-cfababef0e7e\",\"type\":\"ColumnDataSource\"},\"glyph\":{\"id\":\"eeed89a7-34d1-4318-bc5b-07fd3aeddd7e\",\"type\":\"Circle\"},\"hover_glyph\":null,\"muted_glyph\":null,\"nonselection_glyph\":{\"id\":\"b2b9546f-55dd-4fe2-90ad-45ef8f25dbc6\",\"type\":\"Circle\"},\"selection_glyph\":null,\"view\":{\"id\":\"771b3be3-828c-4ccc-8ee9-c2a6afba4ff0\",\"type\":\"CDSView\"}},\"id\":\"d48b5d58-67e8-455f-a95c-211e62b8d54a\",\"type\":\"GlyphRenderer\"},{\"attributes\":{},\"id\":\"3edc654f-b90d-4677-b1eb-9872ff90acd9\",\"type\":\"ResetTool\"},{\"attributes\":{\"axis_label\":\"Elevation\",\"formatter\":{\"id\":\"2cbc54d4-34b7-49da-8b64-bff20d471a89\",\"type\":\"BasicTickFormatter\"},\"plot\":{\"id\":\"0a5c17dc-5a77-4113-ae5b-8b79684961b8\",\"subtype\":\"Figure\",\"type\":\"Plot\"},\"ticker\":{\"id\":\"21f68886-4b5b-4563-97cb-effca51c1c43\",\"type\":\"BasicTicker\"}},\"id\":\"12ce130e-5c12-4a92-83c3-6f2441789826\",\"type\":\"LinearAxis\"},{\"attributes\":{},\"id\":\"b5cd6753-5807-4543-9669-7a0a676dd169\",\"type\":\"HelpTool\"},{\"attributes\":{\"callback\":null},\"id\":\"2ed34019-022e-4145-b393-c8acdeaa3980\",\"type\":\"DataRange1d\"},{\"attributes\":{},\"id\":\"3a0e4b07-86b3-4820-bfb6-018b00bd096b\",\"type\":\"SaveTool\"}],\"root_ids\":[\"0a5c17dc-5a77-4113-ae5b-8b79684961b8\"]},\"title\":\"Bokeh Application\",\"version\":\"0.12.16\"}};\n",
       "  var render_items = [{\"docid\":\"3073b86e-f91b-462d-9149-be5f9c433ed5\",\"elementid\":\"feac2dc1-fd9b-44f1-9805-5e1bbffd6e60\",\"modelid\":\"0a5c17dc-5a77-4113-ae5b-8b79684961b8\"}];\n",
       "  root.Bokeh.embed.embed_items_notebook(docs_json, render_items);\n",
       "\n",
       "  }\n",
       "  if (root.Bokeh !== undefined) {\n",
       "    embed_document(root);\n",
       "  } else {\n",
       "    var attempts = 0;\n",
       "    var timer = setInterval(function(root) {\n",
       "      if (root.Bokeh !== undefined) {\n",
       "        embed_document(root);\n",
       "        clearInterval(timer);\n",
       "      }\n",
       "      attempts++;\n",
       "      if (attempts > 100) {\n",
       "        console.log(\"Bokeh: ERROR: Unable to run BokehJS code because BokehJS library is missing\")\n",
       "        clearInterval(timer);\n",
       "      }\n",
       "    }, 10, root)\n",
       "  }\n",
       "})(window);"
      ],
      "application/vnd.bokehjs_exec.v0+json": ""
     },
     "metadata": {
      "application/vnd.bokehjs_exec.v0+json": {
       "id": "0a5c17dc-5a77-4113-ae5b-8b79684961b8"
      }
     },
     "output_type": "display_data"
    }
   ],
   "source": [
    "#add regression line\n",
    "p2 = figure(plot_width=400, plot_height=400, x_axis_label='Elevation', y_axis_label='PM2.5 Level')\n",
    "p2.circle(x='Elevation', y='PM25_MAR_8', \n",
    "         size=20, alpha=0.6, color='purple', source=bpm25)\n",
    "\n",
    "show(p2)"
   ]
  },
  {
   "cell_type": "markdown",
   "metadata": {},
   "source": [
    "### Can we build a model that uses *both* ``Elevation`` and ``Income`` to predict pollution levels?"
   ]
  },
  {
   "cell_type": "code",
   "execution_count": 24,
   "metadata": {
    "scrolled": false
   },
   "outputs": [
    {
     "data": {
      "text/html": [
       "<table class=\"simpletable\">\n",
       "<caption>OLS Regression Results</caption>\n",
       "<tr>\n",
       "  <th>Dep. Variable:</th>       <td>PM25_MAR_8</td>    <th>  R-squared:         </th> <td>   0.580</td>\n",
       "</tr>\n",
       "<tr>\n",
       "  <th>Model:</th>                   <td>OLS</td>       <th>  Adj. R-squared:    </th> <td>   0.559</td>\n",
       "</tr>\n",
       "<tr>\n",
       "  <th>Method:</th>             <td>Least Squares</td>  <th>  F-statistic:       </th> <td>   27.61</td>\n",
       "</tr>\n",
       "<tr>\n",
       "  <th>Date:</th>             <td>Fri, 08 Jun 2018</td> <th>  Prob (F-statistic):</th> <td>2.42e-11</td>\n",
       "</tr>\n",
       "<tr>\n",
       "  <th>Time:</th>                 <td>15:51:26</td>     <th>  Log-Likelihood:    </th> <td> -69.505</td>\n",
       "</tr>\n",
       "<tr>\n",
       "  <th>No. Observations:</th>      <td>    64</td>      <th>  AIC:               </th> <td>   147.0</td>\n",
       "</tr>\n",
       "<tr>\n",
       "  <th>Df Residuals:</th>          <td>    60</td>      <th>  BIC:               </th> <td>   155.6</td>\n",
       "</tr>\n",
       "<tr>\n",
       "  <th>Df Model:</th>              <td>     3</td>      <th>                     </th>     <td> </td>   \n",
       "</tr>\n",
       "<tr>\n",
       "  <th>Covariance Type:</th>      <td>nonrobust</td>    <th>                     </th>     <td> </td>   \n",
       "</tr>\n",
       "</table>\n",
       "<table class=\"simpletable\">\n",
       "<tr>\n",
       "          <td></td>            <th>coef</th>     <th>std err</th>      <th>t</th>      <th>P>|t|</th>  <th>[0.025</th>    <th>0.975]</th>  \n",
       "</tr>\n",
       "<tr>\n",
       "  <th>Intercept</th>        <td>   22.4080</td> <td>    6.418</td> <td>    3.492</td> <td> 0.001</td> <td>    9.571</td> <td>   35.245</td>\n",
       "</tr>\n",
       "<tr>\n",
       "  <th>Elevation</th>        <td>   -0.0135</td> <td>    0.005</td> <td>   -2.811</td> <td> 0.007</td> <td>   -0.023</td> <td>   -0.004</td>\n",
       "</tr>\n",
       "<tr>\n",
       "  <th>Income</th>           <td>   -0.0002</td> <td>    0.000</td> <td>   -1.624</td> <td> 0.110</td> <td>   -0.000</td> <td> 3.82e-05</td>\n",
       "</tr>\n",
       "<tr>\n",
       "  <th>Elevation:Income</th> <td> 1.034e-07</td> <td> 7.42e-08</td> <td>    1.393</td> <td> 0.169</td> <td> -4.5e-08</td> <td> 2.52e-07</td>\n",
       "</tr>\n",
       "</table>\n",
       "<table class=\"simpletable\">\n",
       "<tr>\n",
       "  <th>Omnibus:</th>       <td> 3.191</td> <th>  Durbin-Watson:     </th> <td>   1.242</td>\n",
       "</tr>\n",
       "<tr>\n",
       "  <th>Prob(Omnibus):</th> <td> 0.203</td> <th>  Jarque-Bera (JB):  </th> <td>   2.305</td>\n",
       "</tr>\n",
       "<tr>\n",
       "  <th>Skew:</th>          <td> 0.386</td> <th>  Prob(JB):          </th> <td>   0.316</td>\n",
       "</tr>\n",
       "<tr>\n",
       "  <th>Kurtosis:</th>      <td> 3.517</td> <th>  Cond. No.          </th> <td>4.74e+09</td>\n",
       "</tr>\n",
       "</table>"
      ],
      "text/plain": [
       "<class 'statsmodels.iolib.summary.Summary'>\n",
       "\"\"\"\n",
       "                            OLS Regression Results                            \n",
       "==============================================================================\n",
       "Dep. Variable:             PM25_MAR_8   R-squared:                       0.580\n",
       "Model:                            OLS   Adj. R-squared:                  0.559\n",
       "Method:                 Least Squares   F-statistic:                     27.61\n",
       "Date:                Fri, 08 Jun 2018   Prob (F-statistic):           2.42e-11\n",
       "Time:                        15:51:26   Log-Likelihood:                -69.505\n",
       "No. Observations:                  64   AIC:                             147.0\n",
       "Df Residuals:                      60   BIC:                             155.6\n",
       "Df Model:                           3                                         \n",
       "Covariance Type:            nonrobust                                         \n",
       "====================================================================================\n",
       "                       coef    std err          t      P>|t|      [0.025      0.975]\n",
       "------------------------------------------------------------------------------------\n",
       "Intercept           22.4080      6.418      3.492      0.001       9.571      35.245\n",
       "Elevation           -0.0135      0.005     -2.811      0.007      -0.023      -0.004\n",
       "Income              -0.0002      0.000     -1.624      0.110      -0.000    3.82e-05\n",
       "Elevation:Income  1.034e-07   7.42e-08      1.393      0.169    -4.5e-08    2.52e-07\n",
       "==============================================================================\n",
       "Omnibus:                        3.191   Durbin-Watson:                   1.242\n",
       "Prob(Omnibus):                  0.203   Jarque-Bera (JB):                2.305\n",
       "Skew:                           0.386   Prob(JB):                        0.316\n",
       "Kurtosis:                       3.517   Cond. No.                     4.74e+09\n",
       "==============================================================================\n",
       "\n",
       "Warnings:\n",
       "[1] Standard Errors assume that the covariance matrix of the errors is correctly specified.\n",
       "[2] The condition number is large, 4.74e+09. This might indicate that there are\n",
       "strong multicollinearity or other numerical problems.\n",
       "\"\"\""
      ]
     },
     "execution_count": 24,
     "metadata": {},
     "output_type": "execute_result"
    }
   ],
   "source": [
    "mod = smf.ols(formula='PM25_MAR_8 ~ Elevation + Income + Elevation:Income', data=pm25)\n",
    "res = mod.fit()\n",
    "res.summary()"
   ]
  },
  {
   "cell_type": "markdown",
   "metadata": {},
   "source": [
    "### What happens when we include both predictors?"
   ]
  },
  {
   "cell_type": "markdown",
   "metadata": {},
   "source": [
    "# Now let's look at ozone\n",
    "\n",
    "[Ozone](https://www.epa.gov/ozone-pollution) is another air quality concern. It is created by chemical reactions between oxides of nitrogen (NOx) and volatile organic compounds (VOC) in the presence of sunlight. Emissions from industrial facilities and electric utilities, vehicle exhaust, gasoline vapors, and chemical solvents are some of the major sources of NOx and VOC. Ground level ozone can cause breathing problems in sensitive populations and may also harm delicate ecosystems."
   ]
  },
  {
   "cell_type": "markdown",
   "metadata": {},
   "source": [
    "### We have ozone measurements at two times: 10:00 AM and 3:00 PM (15:00). Let's start by plotting both together to see how the timepoints differ."
   ]
  },
  {
   "cell_type": "code",
   "execution_count": 54,
   "metadata": {},
   "outputs": [
    {
     "data": {
      "text/html": [
       "\n",
       "<div class=\"bk-root\">\n",
       "    <div class=\"bk-plotdiv\" id=\"1de0c446-a403-405d-a62d-c982599abe2e\"></div>\n",
       "</div>"
      ]
     },
     "metadata": {},
     "output_type": "display_data"
    },
    {
     "data": {
      "application/javascript": [
       "(function(root) {\n",
       "  function embed_document(root) {\n",
       "    \n",
       "  var docs_json = {\"23ab1047-8cd4-49d2-afc7-eaff09f72bfc\":{\"roots\":{\"references\":[{\"attributes\":{\"fill_alpha\":{\"value\":0.1},\"fill_color\":{\"value\":\"#1f77b4\"},\"line_alpha\":{\"value\":0.1},\"line_color\":{\"value\":\"#1f77b4\"},\"size\":{\"units\":\"screen\",\"value\":20},\"x\":{\"field\":\"Elevation\"},\"y\":{\"field\":\"Ozone_AUG_10\"}},\"id\":\"e0af0fb7-3876-4636-a49c-93fd85b09ca8\",\"type\":\"Circle\"},{\"attributes\":{\"data_source\":{\"id\":\"2413294a-53c9-40c7-a2cf-4be7205df908\",\"type\":\"ColumnDataSource\"},\"glyph\":{\"id\":\"70358466-77d2-403a-914f-d038ae861102\",\"type\":\"Circle\"},\"hover_glyph\":null,\"muted_glyph\":null,\"nonselection_glyph\":{\"id\":\"fffa3b52-3203-418f-8180-f3c558db8611\",\"type\":\"Circle\"},\"selection_glyph\":null,\"view\":{\"id\":\"a5b92581-5ca1-4401-aa97-3ac4546c85d0\",\"type\":\"CDSView\"}},\"id\":\"44d459a7-9634-4161-9b8d-b004280cd7fd\",\"type\":\"GlyphRenderer\"},{\"attributes\":{\"fill_alpha\":{\"value\":0.1},\"fill_color\":{\"value\":\"#1f77b4\"},\"line_alpha\":{\"value\":0.1},\"line_color\":{\"value\":\"#1f77b4\"},\"size\":{\"units\":\"screen\",\"value\":20},\"x\":{\"field\":\"Income\"},\"y\":{\"field\":\"Ozone_AUG_10\"}},\"id\":\"dd669baf-2f30-4b72-b38d-293a224de19e\",\"type\":\"Circle\"},{\"attributes\":{},\"id\":\"a59afdf6-a439-43f0-b01e-3d971abe2236\",\"type\":\"LinearScale\"},{\"attributes\":{\"callback\":null},\"id\":\"7d98b1d0-bef3-465c-b11d-d11a7eb73f1c\",\"type\":\"DataRange1d\"},{\"attributes\":{\"fill_alpha\":{\"value\":0.1},\"fill_color\":{\"value\":\"#1f77b4\"},\"line_alpha\":{\"value\":0.1},\"line_color\":{\"value\":\"#1f77b4\"},\"size\":{\"units\":\"screen\",\"value\":20},\"x\":{\"field\":\"Elevation\"},\"y\":{\"field\":\"Ozone_AUG_15\"}},\"id\":\"fffa3b52-3203-418f-8180-f3c558db8611\",\"type\":\"Circle\"},{\"attributes\":{\"callback\":null},\"id\":\"88bd801d-436f-4fda-848a-1033a5ac2ff9\",\"type\":\"DataRange1d\"},{\"attributes\":{\"active_drag\":\"auto\",\"active_inspect\":\"auto\",\"active_scroll\":\"auto\",\"active_tap\":\"auto\",\"tools\":[{\"id\":\"20faf80d-8e06-4914-80ae-7f5078effd18\",\"type\":\"BoxSelectTool\"},{\"id\":\"2596f8b8-ddc6-441b-8ff3-510b7c0e872d\",\"type\":\"LassoSelectTool\"},{\"id\":\"0081d47b-b362-4891-b8bc-ab41eada7a67\",\"type\":\"HelpTool\"},{\"id\":\"10ed926a-4b76-4280-8606-3cb2784b5e70\",\"type\":\"ResetTool\"}]},\"id\":\"abbe22cc-980c-49e4-bc2e-e1d2413ce291\",\"type\":\"Toolbar\"},{\"attributes\":{\"below\":[{\"id\":\"a34f94c2-69f7-4f80-a261-658e8bb64b77\",\"type\":\"LinearAxis\"}],\"left\":[{\"id\":\"2593fef2-729b-4323-bf98-f3f09f7145c3\",\"type\":\"LinearAxis\"}],\"plot_height\":400,\"plot_width\":400,\"renderers\":[{\"id\":\"a34f94c2-69f7-4f80-a261-658e8bb64b77\",\"type\":\"LinearAxis\"},{\"id\":\"4559b574-8753-4222-aebf-0aea29e9e79d\",\"type\":\"Grid\"},{\"id\":\"2593fef2-729b-4323-bf98-f3f09f7145c3\",\"type\":\"LinearAxis\"},{\"id\":\"c2a11993-23b3-4634-a8fe-0193d6b0ae6e\",\"type\":\"Grid\"},{\"id\":\"4902bf5b-ce53-4db5-a13f-1c1f21bf0a4b\",\"type\":\"BoxAnnotation\"},{\"id\":\"47759301-163b-4175-b4ed-f580da91912c\",\"type\":\"PolyAnnotation\"},{\"id\":\"5a267f84-dbf7-412f-b830-372d814e3d07\",\"type\":\"GlyphRenderer\"},{\"id\":\"4103bff2-3f30-406a-bd6c-2bd13b4c0343\",\"type\":\"GlyphRenderer\"}],\"title\":{\"id\":\"eaf5dac3-4e5d-4bb2-a844-8cec931b45ef\",\"type\":\"Title\"},\"toolbar\":{\"id\":\"abbe22cc-980c-49e4-bc2e-e1d2413ce291\",\"type\":\"Toolbar\"},\"toolbar_location\":null,\"x_range\":{\"id\":\"88bd801d-436f-4fda-848a-1033a5ac2ff9\",\"type\":\"DataRange1d\"},\"x_scale\":{\"id\":\"a59afdf6-a439-43f0-b01e-3d971abe2236\",\"type\":\"LinearScale\"},\"y_range\":{\"id\":\"7d98b1d0-bef3-465c-b11d-d11a7eb73f1c\",\"type\":\"DataRange1d\"},\"y_scale\":{\"id\":\"32f251a2-a1c4-4457-9455-50a0dbe48b69\",\"type\":\"LinearScale\"}},\"id\":\"41b8ae5d-a863-4a2f-8316-583a4abf0541\",\"subtype\":\"Figure\",\"type\":\"Plot\"},{\"attributes\":{},\"id\":\"32f251a2-a1c4-4457-9455-50a0dbe48b69\",\"type\":\"LinearScale\"},{\"attributes\":{\"plot\":{\"id\":\"41b8ae5d-a863-4a2f-8316-583a4abf0541\",\"subtype\":\"Figure\",\"type\":\"Plot\"},\"ticker\":{\"id\":\"3124e06b-12cd-402c-bd11-83d0b78d3be7\",\"type\":\"BasicTicker\"}},\"id\":\"4559b574-8753-4222-aebf-0aea29e9e79d\",\"type\":\"Grid\"},{\"attributes\":{\"axis_label\":\"Income\",\"formatter\":{\"id\":\"f40637db-23c8-497c-a707-b421304f8218\",\"type\":\"BasicTickFormatter\"},\"plot\":{\"id\":\"41b8ae5d-a863-4a2f-8316-583a4abf0541\",\"subtype\":\"Figure\",\"type\":\"Plot\"},\"ticker\":{\"id\":\"3124e06b-12cd-402c-bd11-83d0b78d3be7\",\"type\":\"BasicTicker\"}},\"id\":\"a34f94c2-69f7-4f80-a261-658e8bb64b77\",\"type\":\"LinearAxis\"},{\"attributes\":{},\"id\":\"3124e06b-12cd-402c-bd11-83d0b78d3be7\",\"type\":\"BasicTicker\"},{\"attributes\":{\"axis_label\":\"Ozone Level\",\"formatter\":{\"id\":\"24276eb8-92d4-442b-b46d-973086d3e8bc\",\"type\":\"BasicTickFormatter\"},\"plot\":{\"id\":\"41b8ae5d-a863-4a2f-8316-583a4abf0541\",\"subtype\":\"Figure\",\"type\":\"Plot\"},\"ticker\":{\"id\":\"5a0eaa15-430d-47cc-a297-a1740c3d2ccf\",\"type\":\"BasicTicker\"}},\"id\":\"2593fef2-729b-4323-bf98-f3f09f7145c3\",\"type\":\"LinearAxis\"},{\"attributes\":{\"tools\":[{\"id\":\"20faf80d-8e06-4914-80ae-7f5078effd18\",\"type\":\"BoxSelectTool\"},{\"id\":\"2596f8b8-ddc6-441b-8ff3-510b7c0e872d\",\"type\":\"LassoSelectTool\"},{\"id\":\"0081d47b-b362-4891-b8bc-ab41eada7a67\",\"type\":\"HelpTool\"},{\"id\":\"10ed926a-4b76-4280-8606-3cb2784b5e70\",\"type\":\"ResetTool\"},{\"id\":\"61d9528d-bd60-47ae-9d6d-e73f29f019ed\",\"type\":\"BoxSelectTool\"},{\"id\":\"8af743aa-90f5-43c5-bd39-6399613d61ab\",\"type\":\"LassoSelectTool\"},{\"id\":\"b5057fe5-1bd8-4773-adb1-d53de81c58b0\",\"type\":\"HelpTool\"},{\"id\":\"3373b52b-2339-42a6-8fd0-272170c32c4e\",\"type\":\"ResetTool\"}]},\"id\":\"19b916be-caee-4027-bd39-92371d7c1643\",\"type\":\"ProxyToolbar\"},{\"attributes\":{},\"id\":\"5a0eaa15-430d-47cc-a297-a1740c3d2ccf\",\"type\":\"BasicTicker\"},{\"attributes\":{\"dimension\":1,\"plot\":{\"id\":\"41b8ae5d-a863-4a2f-8316-583a4abf0541\",\"subtype\":\"Figure\",\"type\":\"Plot\"},\"ticker\":{\"id\":\"5a0eaa15-430d-47cc-a297-a1740c3d2ccf\",\"type\":\"BasicTicker\"}},\"id\":\"c2a11993-23b3-4634-a8fe-0193d6b0ae6e\",\"type\":\"Grid\"},{\"attributes\":{\"fill_alpha\":{\"value\":0.6},\"fill_color\":{\"value\":\"navy\"},\"line_alpha\":{\"value\":0.6},\"line_color\":{\"value\":\"navy\"},\"size\":{\"units\":\"screen\",\"value\":20},\"x\":{\"field\":\"Income\"},\"y\":{\"field\":\"Ozone_AUG_10\"}},\"id\":\"fbb33f0a-5ab1-4ebf-97ab-f8455533c2c3\",\"type\":\"Circle\"},{\"attributes\":{\"source\":{\"id\":\"2413294a-53c9-40c7-a2cf-4be7205df908\",\"type\":\"ColumnDataSource\"}},\"id\":\"3dbcdefa-d6b7-4471-984b-c1e42a4d43aa\",\"type\":\"CDSView\"},{\"attributes\":{\"callback\":null,\"overlay\":{\"id\":\"4902bf5b-ce53-4db5-a13f-1c1f21bf0a4b\",\"type\":\"BoxAnnotation\"}},\"id\":\"20faf80d-8e06-4914-80ae-7f5078effd18\",\"type\":\"BoxSelectTool\"},{\"attributes\":{\"below\":[{\"id\":\"341c3219-8650-4d11-b845-715e477782c0\",\"type\":\"LinearAxis\"}],\"left\":[{\"id\":\"315b71f7-53d2-426e-9f60-de1cbeae7e50\",\"type\":\"LinearAxis\"}],\"plot_height\":400,\"plot_width\":400,\"renderers\":[{\"id\":\"341c3219-8650-4d11-b845-715e477782c0\",\"type\":\"LinearAxis\"},{\"id\":\"24b4f22f-c2db-4710-9803-001a7dabfd81\",\"type\":\"Grid\"},{\"id\":\"315b71f7-53d2-426e-9f60-de1cbeae7e50\",\"type\":\"LinearAxis\"},{\"id\":\"9f3473ae-2d8f-4ca3-b943-686b7505bb86\",\"type\":\"Grid\"},{\"id\":\"bca6f390-acd1-4222-8d19-a14a85a74617\",\"type\":\"BoxAnnotation\"},{\"id\":\"b1564fa3-5237-487e-90ee-b7dd6d8cf752\",\"type\":\"PolyAnnotation\"},{\"id\":\"850763d2-04a2-4587-91aa-dc051f477906\",\"type\":\"GlyphRenderer\"},{\"id\":\"44d459a7-9634-4161-9b8d-b004280cd7fd\",\"type\":\"GlyphRenderer\"}],\"title\":{\"id\":\"7d19c2d1-3f4b-4231-a5b1-580a9131a53f\",\"type\":\"Title\"},\"toolbar\":{\"id\":\"29cdd7db-4550-4271-b0c0-c415b95db329\",\"type\":\"Toolbar\"},\"toolbar_location\":null,\"x_range\":{\"id\":\"03d90e99-e2f5-4e6b-ac08-c42ffe5c5221\",\"type\":\"DataRange1d\"},\"x_scale\":{\"id\":\"8e820290-1bdc-4be8-aa23-3351fb8749f3\",\"type\":\"LinearScale\"},\"y_range\":{\"id\":\"e35d5d00-be83-49ac-8146-68bdb8c8882e\",\"type\":\"DataRange1d\"},\"y_scale\":{\"id\":\"31e72b45-f687-4213-abe2-78af5c62ab54\",\"type\":\"LinearScale\"}},\"id\":\"98e74862-154f-491d-808e-8342a6488a95\",\"subtype\":\"Figure\",\"type\":\"Plot\"},{\"attributes\":{\"callback\":null,\"overlay\":{\"id\":\"47759301-163b-4175-b4ed-f580da91912c\",\"type\":\"PolyAnnotation\"}},\"id\":\"2596f8b8-ddc6-441b-8ff3-510b7c0e872d\",\"type\":\"LassoSelectTool\"},{\"attributes\":{},\"id\":\"0081d47b-b362-4891-b8bc-ab41eada7a67\",\"type\":\"HelpTool\"},{\"attributes\":{},\"id\":\"10ed926a-4b76-4280-8606-3cb2784b5e70\",\"type\":\"ResetTool\"},{\"attributes\":{\"bottom_units\":\"screen\",\"fill_alpha\":{\"value\":0.5},\"fill_color\":{\"value\":\"lightgrey\"},\"left_units\":\"screen\",\"level\":\"overlay\",\"line_alpha\":{\"value\":1.0},\"line_color\":{\"value\":\"black\"},\"line_dash\":[4,4],\"line_width\":{\"value\":2},\"plot\":null,\"render_mode\":\"css\",\"right_units\":\"screen\",\"top_units\":\"screen\"},\"id\":\"4902bf5b-ce53-4db5-a13f-1c1f21bf0a4b\",\"type\":\"BoxAnnotation\"},{\"attributes\":{\"data_source\":{\"id\":\"2413294a-53c9-40c7-a2cf-4be7205df908\",\"type\":\"ColumnDataSource\"},\"glyph\":{\"id\":\"fbb33f0a-5ab1-4ebf-97ab-f8455533c2c3\",\"type\":\"Circle\"},\"hover_glyph\":null,\"muted_glyph\":null,\"nonselection_glyph\":{\"id\":\"dd669baf-2f30-4b72-b38d-293a224de19e\",\"type\":\"Circle\"},\"selection_glyph\":null,\"view\":{\"id\":\"3dbcdefa-d6b7-4471-984b-c1e42a4d43aa\",\"type\":\"CDSView\"}},\"id\":\"5a267f84-dbf7-412f-b830-372d814e3d07\",\"type\":\"GlyphRenderer\"},{\"attributes\":{\"fill_alpha\":{\"value\":0.5},\"fill_color\":{\"value\":\"lightgrey\"},\"level\":\"overlay\",\"line_alpha\":{\"value\":1.0},\"line_color\":{\"value\":\"black\"},\"line_dash\":[4,4],\"line_width\":{\"value\":2},\"plot\":null,\"xs_units\":\"screen\",\"ys_units\":\"screen\"},\"id\":\"47759301-163b-4175-b4ed-f580da91912c\",\"type\":\"PolyAnnotation\"},{\"attributes\":{\"fill_alpha\":{\"value\":0.6},\"fill_color\":{\"value\":\"green\"},\"line_alpha\":{\"value\":0.6},\"line_color\":{\"value\":\"green\"},\"size\":{\"units\":\"screen\",\"value\":20},\"x\":{\"field\":\"Income\"},\"y\":{\"field\":\"Ozone_AUG_15\"}},\"id\":\"41ef765e-d5ff-476c-9b2a-d228166020c1\",\"type\":\"Circle\"},{\"attributes\":{\"source\":{\"id\":\"2413294a-53c9-40c7-a2cf-4be7205df908\",\"type\":\"ColumnDataSource\"}},\"id\":\"a5b92581-5ca1-4401-aa97-3ac4546c85d0\",\"type\":\"CDSView\"},{\"attributes\":{\"active_drag\":\"auto\",\"active_inspect\":\"auto\",\"active_scroll\":\"auto\",\"active_tap\":\"auto\",\"tools\":[{\"id\":\"61d9528d-bd60-47ae-9d6d-e73f29f019ed\",\"type\":\"BoxSelectTool\"},{\"id\":\"8af743aa-90f5-43c5-bd39-6399613d61ab\",\"type\":\"LassoSelectTool\"},{\"id\":\"b5057fe5-1bd8-4773-adb1-d53de81c58b0\",\"type\":\"HelpTool\"},{\"id\":\"3373b52b-2339-42a6-8fd0-272170c32c4e\",\"type\":\"ResetTool\"}]},\"id\":\"29cdd7db-4550-4271-b0c0-c415b95db329\",\"type\":\"Toolbar\"},{\"attributes\":{\"fill_alpha\":{\"value\":0.1},\"fill_color\":{\"value\":\"#1f77b4\"},\"line_alpha\":{\"value\":0.1},\"line_color\":{\"value\":\"#1f77b4\"},\"size\":{\"units\":\"screen\",\"value\":20},\"x\":{\"field\":\"Income\"},\"y\":{\"field\":\"Ozone_AUG_15\"}},\"id\":\"898c4983-5a0e-4e04-b4bb-c71e9fc71426\",\"type\":\"Circle\"},{\"attributes\":{\"data_source\":{\"id\":\"2413294a-53c9-40c7-a2cf-4be7205df908\",\"type\":\"ColumnDataSource\"},\"glyph\":{\"id\":\"41ef765e-d5ff-476c-9b2a-d228166020c1\",\"type\":\"Circle\"},\"hover_glyph\":null,\"muted_glyph\":null,\"nonselection_glyph\":{\"id\":\"898c4983-5a0e-4e04-b4bb-c71e9fc71426\",\"type\":\"Circle\"},\"selection_glyph\":null,\"view\":{\"id\":\"a3c1b5a8-7d47-485d-843c-f19f58abf709\",\"type\":\"CDSView\"}},\"id\":\"4103bff2-3f30-406a-bd6c-2bd13b4c0343\",\"type\":\"GlyphRenderer\"},{\"attributes\":{\"source\":{\"id\":\"2413294a-53c9-40c7-a2cf-4be7205df908\",\"type\":\"ColumnDataSource\"}},\"id\":\"a3c1b5a8-7d47-485d-843c-f19f58abf709\",\"type\":\"CDSView\"},{\"attributes\":{\"fill_alpha\":{\"value\":0.6},\"fill_color\":{\"value\":\"green\"},\"line_alpha\":{\"value\":0.6},\"line_color\":{\"value\":\"green\"},\"size\":{\"units\":\"screen\",\"value\":20},\"x\":{\"field\":\"Elevation\"},\"y\":{\"field\":\"Ozone_AUG_15\"}},\"id\":\"70358466-77d2-403a-914f-d038ae861102\",\"type\":\"Circle\"},{\"attributes\":{\"callback\":null},\"id\":\"03d90e99-e2f5-4e6b-ac08-c42ffe5c5221\",\"type\":\"DataRange1d\"},{\"attributes\":{\"callback\":null},\"id\":\"e35d5d00-be83-49ac-8146-68bdb8c8882e\",\"type\":\"DataRange1d\"},{\"attributes\":{},\"id\":\"8e820290-1bdc-4be8-aa23-3351fb8749f3\",\"type\":\"LinearScale\"},{\"attributes\":{},\"id\":\"31e72b45-f687-4213-abe2-78af5c62ab54\",\"type\":\"LinearScale\"},{\"attributes\":{\"plot\":{\"id\":\"98e74862-154f-491d-808e-8342a6488a95\",\"subtype\":\"Figure\",\"type\":\"Plot\"},\"ticker\":{\"id\":\"ecb4b359-2677-4eca-a7c5-2382b3aeaf19\",\"type\":\"BasicTicker\"}},\"id\":\"24b4f22f-c2db-4710-9803-001a7dabfd81\",\"type\":\"Grid\"},{\"attributes\":{\"axis_label\":\"Elevation\",\"formatter\":{\"id\":\"819939ef-218a-4150-996e-930287ea1dbd\",\"type\":\"BasicTickFormatter\"},\"plot\":{\"id\":\"98e74862-154f-491d-808e-8342a6488a95\",\"subtype\":\"Figure\",\"type\":\"Plot\"},\"ticker\":{\"id\":\"ecb4b359-2677-4eca-a7c5-2382b3aeaf19\",\"type\":\"BasicTicker\"}},\"id\":\"341c3219-8650-4d11-b845-715e477782c0\",\"type\":\"LinearAxis\"},{\"attributes\":{},\"id\":\"ecb4b359-2677-4eca-a7c5-2382b3aeaf19\",\"type\":\"BasicTicker\"},{\"attributes\":{\"formatter\":{\"id\":\"1e6cf05d-50b8-4ac8-8c41-341b919dadc0\",\"type\":\"BasicTickFormatter\"},\"plot\":{\"id\":\"98e74862-154f-491d-808e-8342a6488a95\",\"subtype\":\"Figure\",\"type\":\"Plot\"},\"ticker\":{\"id\":\"3e363c47-8771-4ceb-94b5-590fb78209de\",\"type\":\"BasicTicker\"}},\"id\":\"315b71f7-53d2-426e-9f60-de1cbeae7e50\",\"type\":\"LinearAxis\"},{\"attributes\":{},\"id\":\"3e363c47-8771-4ceb-94b5-590fb78209de\",\"type\":\"BasicTicker\"},{\"attributes\":{\"dimension\":1,\"plot\":{\"id\":\"98e74862-154f-491d-808e-8342a6488a95\",\"subtype\":\"Figure\",\"type\":\"Plot\"},\"ticker\":{\"id\":\"3e363c47-8771-4ceb-94b5-590fb78209de\",\"type\":\"BasicTicker\"}},\"id\":\"9f3473ae-2d8f-4ca3-b943-686b7505bb86\",\"type\":\"Grid\"},{\"attributes\":{\"fill_alpha\":{\"value\":0.6},\"fill_color\":{\"value\":\"navy\"},\"line_alpha\":{\"value\":0.6},\"line_color\":{\"value\":\"navy\"},\"size\":{\"units\":\"screen\",\"value\":20},\"x\":{\"field\":\"Elevation\"},\"y\":{\"field\":\"Ozone_AUG_10\"}},\"id\":\"e92fee6f-57d6-4a70-b7a5-afd9dcf37927\",\"type\":\"Circle\"},{\"attributes\":{\"source\":{\"id\":\"2413294a-53c9-40c7-a2cf-4be7205df908\",\"type\":\"ColumnDataSource\"}},\"id\":\"7efe9d86-773d-433f-b5e7-9e88137adcdf\",\"type\":\"CDSView\"},{\"attributes\":{\"callback\":null,\"overlay\":{\"id\":\"bca6f390-acd1-4222-8d19-a14a85a74617\",\"type\":\"BoxAnnotation\"}},\"id\":\"61d9528d-bd60-47ae-9d6d-e73f29f019ed\",\"type\":\"BoxSelectTool\"},{\"attributes\":{\"callback\":null,\"overlay\":{\"id\":\"b1564fa3-5237-487e-90ee-b7dd6d8cf752\",\"type\":\"PolyAnnotation\"}},\"id\":\"8af743aa-90f5-43c5-bd39-6399613d61ab\",\"type\":\"LassoSelectTool\"},{\"attributes\":{},\"id\":\"b5057fe5-1bd8-4773-adb1-d53de81c58b0\",\"type\":\"HelpTool\"},{\"attributes\":{},\"id\":\"3373b52b-2339-42a6-8fd0-272170c32c4e\",\"type\":\"ResetTool\"},{\"attributes\":{\"bottom_units\":\"screen\",\"fill_alpha\":{\"value\":0.5},\"fill_color\":{\"value\":\"lightgrey\"},\"left_units\":\"screen\",\"level\":\"overlay\",\"line_alpha\":{\"value\":1.0},\"line_color\":{\"value\":\"black\"},\"line_dash\":[4,4],\"line_width\":{\"value\":2},\"plot\":null,\"render_mode\":\"css\",\"right_units\":\"screen\",\"top_units\":\"screen\"},\"id\":\"bca6f390-acd1-4222-8d19-a14a85a74617\",\"type\":\"BoxAnnotation\"},{\"attributes\":{\"data_source\":{\"id\":\"2413294a-53c9-40c7-a2cf-4be7205df908\",\"type\":\"ColumnDataSource\"},\"glyph\":{\"id\":\"e92fee6f-57d6-4a70-b7a5-afd9dcf37927\",\"type\":\"Circle\"},\"hover_glyph\":null,\"muted_glyph\":null,\"nonselection_glyph\":{\"id\":\"e0af0fb7-3876-4636-a49c-93fd85b09ca8\",\"type\":\"Circle\"},\"selection_glyph\":null,\"view\":{\"id\":\"7efe9d86-773d-433f-b5e7-9e88137adcdf\",\"type\":\"CDSView\"}},\"id\":\"850763d2-04a2-4587-91aa-dc051f477906\",\"type\":\"GlyphRenderer\"},{\"attributes\":{\"fill_alpha\":{\"value\":0.5},\"fill_color\":{\"value\":\"lightgrey\"},\"level\":\"overlay\",\"line_alpha\":{\"value\":1.0},\"line_color\":{\"value\":\"black\"},\"line_dash\":[4,4],\"line_width\":{\"value\":2},\"plot\":null,\"xs_units\":\"screen\",\"ys_units\":\"screen\"},\"id\":\"b1564fa3-5237-487e-90ee-b7dd6d8cf752\",\"type\":\"PolyAnnotation\"},{\"attributes\":{\"children\":[{\"id\":\"41b8ae5d-a863-4a2f-8316-583a4abf0541\",\"subtype\":\"Figure\",\"type\":\"Plot\"},{\"id\":\"98e74862-154f-491d-808e-8342a6488a95\",\"subtype\":\"Figure\",\"type\":\"Plot\"}]},\"id\":\"4f60d962-bc01-4fbc-84a9-c9092a0c0a4a\",\"type\":\"Row\"},{\"attributes\":{},\"id\":\"1e6cf05d-50b8-4ac8-8c41-341b919dadc0\",\"type\":\"BasicTickFormatter\"},{\"attributes\":{\"toolbar\":{\"id\":\"19b916be-caee-4027-bd39-92371d7c1643\",\"type\":\"ProxyToolbar\"},\"toolbar_location\":\"above\"},\"id\":\"011e7fe0-ddda-4d81-afe2-66ddd3da1f51\",\"type\":\"ToolbarBox\"},{\"attributes\":{\"plot\":null,\"text\":\"\"},\"id\":\"eaf5dac3-4e5d-4bb2-a844-8cec931b45ef\",\"type\":\"Title\"},{\"attributes\":{},\"id\":\"24276eb8-92d4-442b-b46d-973086d3e8bc\",\"type\":\"BasicTickFormatter\"},{\"attributes\":{},\"id\":\"f40637db-23c8-497c-a707-b421304f8218\",\"type\":\"BasicTickFormatter\"},{\"attributes\":{},\"id\":\"cb2d6aa7-e46e-46ec-b3b5-98e63a9f575e\",\"type\":\"Selection\"},{\"attributes\":{},\"id\":\"8cb4de18-d40f-4588-b3bc-a75253d76d54\",\"type\":\"UnionRenderers\"},{\"attributes\":{},\"id\":\"819939ef-218a-4150-996e-930287ea1dbd\",\"type\":\"BasicTickFormatter\"},{\"attributes\":{\"plot\":null,\"text\":\"\"},\"id\":\"7d19c2d1-3f4b-4231-a5b1-580a9131a53f\",\"type\":\"Title\"},{\"attributes\":{\"children\":[{\"id\":\"011e7fe0-ddda-4d81-afe2-66ddd3da1f51\",\"type\":\"ToolbarBox\"},{\"id\":\"dabd81b8-81bd-4ebb-b2d8-b2daa95384cb\",\"type\":\"Column\"}]},\"id\":\"83b1937d-d63a-4e8a-b4a4-96b16723656d\",\"type\":\"Column\"},{\"attributes\":{\"callback\":null,\"data\":{\"Block_Group_ID\":[490351001002,490351003061,490351003062,490351006003,490351006004,490351006005,490351008001,490351008002,490351008003,490351014001,490351014002,490351014003,490351015003,490351016001,490351016002,490351017002,490351017003,490351018001,490351019002,490351021001,490351025001,490351026001,490351027021,490351028021,490351029001,490351029002,490351029003,490351115001,490351116001,490351116002,490351121002,490351122013,490351122021,490351122022,490351122023,490351124031,490351124041,490351129161,490351129162,490351129163,490351129171,490351129172,490351129182,490351129202,490351129213,490351130071,490351130201,490351131012,490351131013,490351131014,490351131021,490351131022,490351133051,490351133052,490351133053,490351133071,490351133081,490351133101,490351133102,490351140001,490351142001,490351142002,490351152091,490351152092],\"Elevation\":{\"__ndarray__\":\"1t8SgL9ulEAZrg6AaEOUQG8MAcDhJpRAOpUMALVXlEAZrg6AaEOUQGXEBaBxV5RA51Hxf0eklEDnUfF/R6SUQOdR8X9HpJRAYabtX9kJlkDKiAtAgyGVQGGm7V/ZCZZAHcnlP4RNlUAdyeU/hE2VQB3J5T+ETZVASgfr/8yylEBKB+v/zLKUQEoH6//MspRASgfr/8yylEDW3xKAj3mUQGXEBaBxV5RAZcQFoHFXlEDV0AZgwz+UQMqIC0CTJ5RAMVwdAPFYlEBMFvcfOVCUQFde8j+5OZRA51Hxf1colECM1eb/pS+UQIzV5v+lL5RAI/YJoEg7lEAUkPY/IHSUQHxjCADeTZRAFJD2PxBplEDhJw6gf5GUQAQeGEA4YJRAeEXwv7VelEAXnwJgTOuVQBefAmBM65VAF58CYEzrlUDCTxxAPyCVQPzh57/3jJVAjNXm/wW3lEB2NuSfOTCVQCHn/X8cm5VA7G8JwH/NlkAQdR+AFLmWQCHn/X8sqpZAF58CYEzrlUBp4h3gOTuWQCHn/X8sqpZAaeId4Dk7lkCfWRKgRiWUQC0+BcAoLJRAq7AZ4DI4lECrsBngMjiUQKuwGeAyOJRA4ScOoB9UlEBMFvcfiT2UQJHz/j8eZJRAjNXm/4WmlEAlBRbAdICUQGniHeBpV5hAdCoZAKpCmEA=\",\"dtype\":\"float64\",\"shape\":[64]},\"Income\":{\"__ndarray__\":\"AAAAAMBP5UAAAAAA4HfhQAAAAAAgseJAAAAAAGBL70AAAAAAYBviQAAAAAAA/9RAAAAAAEAY5EAAAAAAgH3gQAAAAADAV+JAAAAAAMBT4EAAAAAAgHjXQAAAAAAABb9AAAAAAAAl3UAAAAAAQGrRQAAAAABgWORAAAAAAACx30AAAAAA4OLgQAAAAAAAvd9AAAAAAMAK2kAAAAAAwK/SQAAAAAAAr99AAAAAAICd3UAAAAAAwD7aQAAAAADAad9AAAAAAAAV10AAAAAAAD/XQAAAAAAAtdlAAAAAAEAw4kAAAAAA4EHgQAAAAAAAF9FAAAAAAACa4EAAAAAAIMHsQAAAAAAg8OpAAAAAACC15EAAAAAAAOHhQAAAAABg7OdAAAAAAIBc4kAAAAAAgG3rQAAAAACwGfFAAAAAABAp8EAAAAAAsIXxQAAAAAAATetAAAAAAEBK7kAAAAAAUNvxQAAAAAAATOZAAAAAABDp9kAAAAAA4Nv0QAAAAABA2/FAAAAAAIAx50AAAAAAwB3zQAAAAACQWPNAAAAAAEBq80AAAAAAIJvkQAAAAADATeNAAAAAAMAT1kAAAAAAgLPlQAAAAADAKutAAAAAAEAW6UAAAAAAAMfXQAAAAADgReFAAAAAAEDk8EAAAAAAUPfwQAAAAABwmPZAAAAAACCy7UA=\",\"dtype\":\"float64\",\"shape\":[64]},\"Ozone_AUG_10\":{\"__ndarray__\":\"c7RPbKqOO0DtA/t1yEg6QGmOauBgrztAHmc/94qZO0A+fT6pes08QPzkKEAUxjpA4qWKmMgLO0Cd1ztQZbY5QBS7z1T83jpA6C7s3d2dOkBynQyvoEg5QDUtDOyMtjlAsqYN4l60NkDIQwDss003QOKQkdwvpDZAVWq0JFmANUB8HWHmdW01QClcj8L1KDVAmPbN/dUZM0CK1kCprPYyQLMxhqTcEjVAYTPABdk0O0Cm43uQr/s6QMjtNCWbxDVASgYlcfsjOUAyCllIhrM5QLln4duJHThAr5z33mNBNkCTNlX3yIo3QLmkMBCADTVAjhsCcIHnOkDvJjJSc4s6QFB4ZAfwiDlAmhYGdkabOUCV7Bollm81QIR0Rs6hsjxA3fD1lCDPNUAotqO0jiJCQHzFx+VH6kFAwJHEu/GUQkCPhtcei2ZCQKhp/jWsikJAxF9RGZj6QEAEEXcv1pdBQBsPlcoExEJAZmZmZmbmOUAcgMtrvodBQOUmzZMpvkJA4X+noA0JQkDXDaFrW/tCQL8z0jncAUNAeAC0e6w4QkBVDD5qH7VAQDBsSR66cEBA8eN5ugRRP0BOYxgDLVs+QLcWXjBV0DtA8ZT+827sO0DPUJrVVONCQNWc1WWljzZAexNkgBtSPkB84xiHAq0/QFwKQIrXKUJAvuh+kF0XQkA=\",\"dtype\":\"float64\",\"shape\":[64]},\"Ozone_AUG_15\":{\"__ndarray__\":\"s1JSca1FSkAmJn9iKl1LQKV3v0QbW0pAb2MWThCJSkAWVTuaVYxLQG4vq6gom0tA1GSEv3gNSkChwPncIiFKQLCh5YqcfUhAAAAAAACwSkC5fSRfaMVHQGh+0tzMnUdAy1nI8f3XRUBp9Zuqd49HQKs3UehI7UZASe4TtAchRkBP29DeKjJGQEKuWOzEbkZAQQRmz687RUCpvcrStZdFQJDthLD990lA15ZL9EPtSkAvIfZ0u0dJQLAoHZPifUdAc93OnWTFR0BQuIkgb5hIQAptMSaadkdAF9H6hAGDRkC10rVATENGQKJqy+vOoUdA8Z8LdoVRSkDtNn9+pV5JQBZ8gfb25klA4pBwzkawSkBqjge2JThLQKJ3zyas4UpAzqzfK77CS0Av7lBedZ5LQGXg48DpoUtAnUgPx2MHTECVWWvFiidNQPKxHmsEGk1A0FKJHVOeS0DHnZClqPNMQNSRbSocz0xA2n1cVVU1TkDgL+ISsk5LQDmGW5nLBU1AcMUP31PpTECzuxfKT5NNQJAvX2bxLU1A5FKNRXA5TEDk4TWWTWhNQDl6Pvt4RE1AT/L6/pNrSkAh+Gv04rlIQB6USXAXVklA16MuITiISECGnv/kEEtRQCG7oPiQA0hAoS9a0/7OTECwo1gLv5pNQFVK8AJ8GU1AUetH1FXgTEA=\",\"dtype\":\"float64\",\"shape\":[64]},\"index\":[0,1,2,3,4,5,6,7,8,9,10,11,12,13,14,15,16,17,18,19,20,21,22,23,24,25,26,27,28,29,30,31,32,33,34,35,36,37,38,39,40,41,42,43,44,45,46,47,48,49,50,51,52,53,54,55,56,57,58,59,60,61,62,63]},\"selected\":{\"id\":\"cb2d6aa7-e46e-46ec-b3b5-98e63a9f575e\",\"type\":\"Selection\"},\"selection_policy\":{\"id\":\"8cb4de18-d40f-4588-b3bc-a75253d76d54\",\"type\":\"UnionRenderers\"}},\"id\":\"2413294a-53c9-40c7-a2cf-4be7205df908\",\"type\":\"ColumnDataSource\"},{\"attributes\":{\"children\":[{\"id\":\"4f60d962-bc01-4fbc-84a9-c9092a0c0a4a\",\"type\":\"Row\"}]},\"id\":\"dabd81b8-81bd-4ebb-b2d8-b2daa95384cb\",\"type\":\"Column\"}],\"root_ids\":[\"83b1937d-d63a-4e8a-b4a4-96b16723656d\"]},\"title\":\"Bokeh Application\",\"version\":\"0.12.16\"}};\n",
       "  var render_items = [{\"docid\":\"23ab1047-8cd4-49d2-afc7-eaff09f72bfc\",\"elementid\":\"1de0c446-a403-405d-a62d-c982599abe2e\",\"modelid\":\"83b1937d-d63a-4e8a-b4a4-96b16723656d\"}];\n",
       "  root.Bokeh.embed.embed_items_notebook(docs_json, render_items);\n",
       "\n",
       "  }\n",
       "  if (root.Bokeh !== undefined) {\n",
       "    embed_document(root);\n",
       "  } else {\n",
       "    var attempts = 0;\n",
       "    var timer = setInterval(function(root) {\n",
       "      if (root.Bokeh !== undefined) {\n",
       "        embed_document(root);\n",
       "        clearInterval(timer);\n",
       "      }\n",
       "      attempts++;\n",
       "      if (attempts > 100) {\n",
       "        console.log(\"Bokeh: ERROR: Unable to run BokehJS code because BokehJS library is missing\")\n",
       "        clearInterval(timer);\n",
       "      }\n",
       "    }, 10, root)\n",
       "  }\n",
       "})(window);"
      ],
      "application/vnd.bokehjs_exec.v0+json": ""
     },
     "metadata": {
      "application/vnd.bokehjs_exec.v0+json": {
       "id": "83b1937d-d63a-4e8a-b4a4-96b16723656d"
      }
     },
     "output_type": "display_data"
    }
   ],
   "source": [
    "boz = ColumnDataSource(ozone)\n",
    "\n",
    "TOOLS = \"box_select,lasso_select,help,reset\"\n",
    "\n",
    "left = figure(tools=TOOLS, plot_width=400, plot_height=400, x_axis_label='Income',\n",
    "           y_axis_label='Ozone Level')\n",
    "left.circle(x='Income', y='Ozone_AUG_10', size=20, alpha=0.6, color='navy', source=boz)\n",
    "left.circle(x='Income', y='Ozone_AUG_15', size=20, alpha=0.6, color='green', source=boz)\n",
    "\n",
    "right = figure(tools=TOOLS, plot_width=400, plot_height=400, x_axis_label='Elevation')\n",
    "right.circle(x='Elevation', y='Ozone_AUG_10', size=20, alpha=0.6, color='navy', source=boz)\n",
    "right.circle(x='Elevation', y='Ozone_AUG_15', size=20, alpha=0.6, color='green', source=boz)\n",
    "\n",
    "p = gridplot([[left, right]])\n",
    "\n",
    "show(p)"
   ]
  },
  {
   "cell_type": "markdown",
   "metadata": {},
   "source": [
    "What might account for the difference in ozone levels between the two timepoints? (Click one of the options below.)"
   ]
  },
  {
   "cell_type": "code",
   "execution_count": 12,
   "metadata": {
    "scrolled": true
   },
   "outputs": [
    {
     "data": {
      "application/vnd.jupyter.widget-view+json": {
       "model_id": "1c9f128164c74b18800eb2f0e7d10fb5",
       "version_major": 2,
       "version_minor": 0
      },
      "text/html": [
       "<p>Failed to display Jupyter Widget of type <code>Button</code>.</p>\n",
       "<p>\n",
       "  If you're reading this message in the Jupyter Notebook or JupyterLab Notebook, it may mean\n",
       "  that the widgets JavaScript is still loading. If this message persists, it\n",
       "  likely means that the widgets JavaScript library is either not installed or\n",
       "  not enabled. See the <a href=\"https://ipywidgets.readthedocs.io/en/stable/user_install.html\">Jupyter\n",
       "  Widgets Documentation</a> for setup instructions.\n",
       "</p>\n",
       "<p>\n",
       "  If you're reading this message in another frontend (for example, a static\n",
       "  rendering on GitHub or <a href=\"https://nbviewer.jupyter.org/\">NBViewer</a>),\n",
       "  it may mean that your frontend doesn't currently support widgets.\n",
       "</p>\n"
      ],
      "text/plain": [
       "Button(description='a. Ozone levels decrease with elevation', layout=Layout(height='40px', width='40%'), style=ButtonStyle())"
      ]
     },
     "metadata": {},
     "output_type": "display_data"
    },
    {
     "data": {
      "application/vnd.jupyter.widget-view+json": {
       "model_id": "77618bfbd7514af08cdbfb2d65e61725",
       "version_major": 2,
       "version_minor": 0
      },
      "text/html": [
       "<p>Failed to display Jupyter Widget of type <code>Button</code>.</p>\n",
       "<p>\n",
       "  If you're reading this message in the Jupyter Notebook or JupyterLab Notebook, it may mean\n",
       "  that the widgets JavaScript is still loading. If this message persists, it\n",
       "  likely means that the widgets JavaScript library is either not installed or\n",
       "  not enabled. See the <a href=\"https://ipywidgets.readthedocs.io/en/stable/user_install.html\">Jupyter\n",
       "  Widgets Documentation</a> for setup instructions.\n",
       "</p>\n",
       "<p>\n",
       "  If you're reading this message in another frontend (for example, a static\n",
       "  rendering on GitHub or <a href=\"https://nbviewer.jupyter.org/\">NBViewer</a>),\n",
       "  it may mean that your frontend doesn't currently support widgets.\n",
       "</p>\n"
      ],
      "text/plain": [
       "Button(description='b. Wealthy people spend more time outdoors', layout=Layout(height='40px', width='40%'), style=ButtonStyle())"
      ]
     },
     "metadata": {},
     "output_type": "display_data"
    },
    {
     "data": {
      "application/vnd.jupyter.widget-view+json": {
       "model_id": "88733792e5724b829165678ef47c65b5",
       "version_major": 2,
       "version_minor": 0
      },
      "text/html": [
       "<p>Failed to display Jupyter Widget of type <code>Button</code>.</p>\n",
       "<p>\n",
       "  If you're reading this message in the Jupyter Notebook or JupyterLab Notebook, it may mean\n",
       "  that the widgets JavaScript is still loading. If this message persists, it\n",
       "  likely means that the widgets JavaScript library is either not installed or\n",
       "  not enabled. See the <a href=\"https://ipywidgets.readthedocs.io/en/stable/user_install.html\">Jupyter\n",
       "  Widgets Documentation</a> for setup instructions.\n",
       "</p>\n",
       "<p>\n",
       "  If you're reading this message in another frontend (for example, a static\n",
       "  rendering on GitHub or <a href=\"https://nbviewer.jupyter.org/\">NBViewer</a>),\n",
       "  it may mean that your frontend doesn't currently support widgets.\n",
       "</p>\n"
      ],
      "text/plain": [
       "Button(description='c. Ozone levels increase with elevation, as does income', layout=Layout(height='40px', width='40%'), style=ButtonStyle())"
      ]
     },
     "metadata": {},
     "output_type": "display_data"
    },
    {
     "data": {
      "application/vnd.jupyter.widget-view+json": {
       "model_id": "d8419038ca7f465e944c4abb421e446e",
       "version_major": 2,
       "version_minor": 0
      },
      "text/html": [
       "<p>Failed to display Jupyter Widget of type <code>Button</code>.</p>\n",
       "<p>\n",
       "  If you're reading this message in the Jupyter Notebook or JupyterLab Notebook, it may mean\n",
       "  that the widgets JavaScript is still loading. If this message persists, it\n",
       "  likely means that the widgets JavaScript library is either not installed or\n",
       "  not enabled. See the <a href=\"https://ipywidgets.readthedocs.io/en/stable/user_install.html\">Jupyter\n",
       "  Widgets Documentation</a> for setup instructions.\n",
       "</p>\n",
       "<p>\n",
       "  If you're reading this message in another frontend (for example, a static\n",
       "  rendering on GitHub or <a href=\"https://nbviewer.jupyter.org/\">NBViewer</a>),\n",
       "  it may mean that your frontend doesn't currently support widgets.\n",
       "</p>\n"
      ],
      "text/plain": [
       "Button(description='d. Too much noise; relationship is not obvious', layout=Layout(height='40px', width='40%'), style=ButtonStyle())"
      ]
     },
     "metadata": {},
     "output_type": "display_data"
    },
    {
     "name": "stdout",
     "output_type": "stream",
     "text": [
      "Not quite. Please try again.\n",
      "Not quite. Please try again.\n"
     ]
    }
   ],
   "source": [
    "button1 = widgets.Button(description='a. Ozone levels decrease with elevation',layout=widgets.Layout(width='40%', height='40px'))\n",
    "button2 = widgets.Button(description='b. Wealthy people spend more time outdoors',layout=widgets.Layout(width='40%', height='40px'))\n",
    "button3 = widgets.Button(description='c. Ozone levels increase throughout the day',layout=widgets.Layout(width='40%', height='40px'))\n",
    "button4 = widgets.Button(description='d. Too much noise; relationship is not obvious',layout=widgets.Layout(width='40%', height='40px'))\n",
    "display(button1,button2,button3, button4)\n",
    "\n",
    "button1.on_click(quiz.incorrect)\n",
    "button2.on_click(quiz.incorrect)\n",
    "button3.on_click(quiz.correct)\n",
    "button4.on_click(quiz.incorrect)"
   ]
  },
  {
   "cell_type": "markdown",
   "metadata": {},
   "source": [
    "### Let's use the same statistical functions we used above to explore the relationship between ozone, income, and elevation."
   ]
  },
  {
   "cell_type": "code",
   "execution_count": 26,
   "metadata": {},
   "outputs": [
    {
     "data": {
      "text/html": [
       "<table class=\"simpletable\">\n",
       "<caption>OLS Regression Results</caption>\n",
       "<tr>\n",
       "  <th>Dep. Variable:</th>      <td>Ozone_AUG_10</td>   <th>  R-squared:         </th> <td>   0.430</td>\n",
       "</tr>\n",
       "<tr>\n",
       "  <th>Model:</th>                   <td>OLS</td>       <th>  Adj. R-squared:    </th> <td>   0.421</td>\n",
       "</tr>\n",
       "<tr>\n",
       "  <th>Method:</th>             <td>Least Squares</td>  <th>  F-statistic:       </th> <td>   46.81</td>\n",
       "</tr>\n",
       "<tr>\n",
       "  <th>Date:</th>             <td>Fri, 08 Jun 2018</td> <th>  Prob (F-statistic):</th> <td>4.04e-09</td>\n",
       "</tr>\n",
       "<tr>\n",
       "  <th>Time:</th>                 <td>15:51:38</td>     <th>  Log-Likelihood:    </th> <td> -184.23</td>\n",
       "</tr>\n",
       "<tr>\n",
       "  <th>No. Observations:</th>      <td>    64</td>      <th>  AIC:               </th> <td>   372.5</td>\n",
       "</tr>\n",
       "<tr>\n",
       "  <th>Df Residuals:</th>          <td>    62</td>      <th>  BIC:               </th> <td>   376.8</td>\n",
       "</tr>\n",
       "<tr>\n",
       "  <th>Df Model:</th>              <td>     1</td>      <th>                     </th>     <td> </td>   \n",
       "</tr>\n",
       "<tr>\n",
       "  <th>Covariance Type:</th>      <td>nonrobust</td>    <th>                     </th>     <td> </td>   \n",
       "</tr>\n",
       "</table>\n",
       "<table class=\"simpletable\">\n",
       "<tr>\n",
       "      <td></td>         <th>coef</th>     <th>std err</th>      <th>t</th>      <th>P>|t|</th>  <th>[0.025</th>    <th>0.975]</th>  \n",
       "</tr>\n",
       "<tr>\n",
       "  <th>Intercept</th> <td>   20.0326</td> <td>    1.352</td> <td>   14.819</td> <td> 0.000</td> <td>   17.330</td> <td>   22.735</td>\n",
       "</tr>\n",
       "<tr>\n",
       "  <th>Income</th>    <td>    0.0002</td> <td> 2.73e-05</td> <td>    6.841</td> <td> 0.000</td> <td>    0.000</td> <td>    0.000</td>\n",
       "</tr>\n",
       "</table>\n",
       "<table class=\"simpletable\">\n",
       "<tr>\n",
       "  <th>Omnibus:</th>       <td> 2.472</td> <th>  Durbin-Watson:     </th> <td>   1.552</td>\n",
       "</tr>\n",
       "<tr>\n",
       "  <th>Prob(Omnibus):</th> <td> 0.291</td> <th>  Jarque-Bera (JB):  </th> <td>   1.655</td>\n",
       "</tr>\n",
       "<tr>\n",
       "  <th>Skew:</th>          <td> 0.313</td> <th>  Prob(JB):          </th> <td>   0.437</td>\n",
       "</tr>\n",
       "<tr>\n",
       "  <th>Kurtosis:</th>      <td> 3.478</td> <th>  Cond. No.          </th> <td>1.22e+05</td>\n",
       "</tr>\n",
       "</table>"
      ],
      "text/plain": [
       "<class 'statsmodels.iolib.summary.Summary'>\n",
       "\"\"\"\n",
       "                            OLS Regression Results                            \n",
       "==============================================================================\n",
       "Dep. Variable:           Ozone_AUG_10   R-squared:                       0.430\n",
       "Model:                            OLS   Adj. R-squared:                  0.421\n",
       "Method:                 Least Squares   F-statistic:                     46.81\n",
       "Date:                Fri, 08 Jun 2018   Prob (F-statistic):           4.04e-09\n",
       "Time:                        15:51:38   Log-Likelihood:                -184.23\n",
       "No. Observations:                  64   AIC:                             372.5\n",
       "Df Residuals:                      62   BIC:                             376.8\n",
       "Df Model:                           1                                         \n",
       "Covariance Type:            nonrobust                                         \n",
       "==============================================================================\n",
       "                 coef    std err          t      P>|t|      [0.025      0.975]\n",
       "------------------------------------------------------------------------------\n",
       "Intercept     20.0326      1.352     14.819      0.000      17.330      22.735\n",
       "Income         0.0002   2.73e-05      6.841      0.000       0.000       0.000\n",
       "==============================================================================\n",
       "Omnibus:                        2.472   Durbin-Watson:                   1.552\n",
       "Prob(Omnibus):                  0.291   Jarque-Bera (JB):                1.655\n",
       "Skew:                           0.313   Prob(JB):                        0.437\n",
       "Kurtosis:                       3.478   Cond. No.                     1.22e+05\n",
       "==============================================================================\n",
       "\n",
       "Warnings:\n",
       "[1] Standard Errors assume that the covariance matrix of the errors is correctly specified.\n",
       "[2] The condition number is large, 1.22e+05. This might indicate that there are\n",
       "strong multicollinearity or other numerical problems.\n",
       "\"\"\""
      ]
     },
     "execution_count": 26,
     "metadata": {},
     "output_type": "execute_result"
    }
   ],
   "source": [
    "mod = smf.ols(formula='Ozone_AUG_10 ~ Income', data=ozone)\n",
    "res = mod.fit()\n",
    "res.summary()"
   ]
  },
  {
   "cell_type": "code",
   "execution_count": null,
   "metadata": {},
   "outputs": [],
   "source": [
    "#scatter with regression line"
   ]
  },
  {
   "cell_type": "code",
   "execution_count": 27,
   "metadata": {},
   "outputs": [
    {
     "data": {
      "text/html": [
       "<table class=\"simpletable\">\n",
       "<caption>OLS Regression Results</caption>\n",
       "<tr>\n",
       "  <th>Dep. Variable:</th>      <td>Ozone_AUG_10</td>   <th>  R-squared:         </th> <td>   0.294</td>\n",
       "</tr>\n",
       "<tr>\n",
       "  <th>Model:</th>                   <td>OLS</td>       <th>  Adj. R-squared:    </th> <td>   0.283</td>\n",
       "</tr>\n",
       "<tr>\n",
       "  <th>Method:</th>             <td>Least Squares</td>  <th>  F-statistic:       </th> <td>   25.86</td>\n",
       "</tr>\n",
       "<tr>\n",
       "  <th>Date:</th>             <td>Fri, 08 Jun 2018</td> <th>  Prob (F-statistic):</th> <td>3.64e-06</td>\n",
       "</tr>\n",
       "<tr>\n",
       "  <th>Time:</th>                 <td>15:51:42</td>     <th>  Log-Likelihood:    </th> <td> -191.07</td>\n",
       "</tr>\n",
       "<tr>\n",
       "  <th>No. Observations:</th>      <td>    64</td>      <th>  AIC:               </th> <td>   386.1</td>\n",
       "</tr>\n",
       "<tr>\n",
       "  <th>Df Residuals:</th>          <td>    62</td>      <th>  BIC:               </th> <td>   390.5</td>\n",
       "</tr>\n",
       "<tr>\n",
       "  <th>Df Model:</th>              <td>     1</td>      <th>                     </th>     <td> </td>   \n",
       "</tr>\n",
       "<tr>\n",
       "  <th>Covariance Type:</th>      <td>nonrobust</td>    <th>                     </th>     <td> </td>   \n",
       "</tr>\n",
       "</table>\n",
       "<table class=\"simpletable\">\n",
       "<tr>\n",
       "      <td></td>         <th>coef</th>     <th>std err</th>      <th>t</th>      <th>P>|t|</th>  <th>[0.025</th>    <th>0.975]</th>  \n",
       "</tr>\n",
       "<tr>\n",
       "  <th>Intercept</th> <td>  -38.2037</td> <td>   13.128</td> <td>   -2.910</td> <td> 0.005</td> <td>  -64.447</td> <td>  -11.960</td>\n",
       "</tr>\n",
       "<tr>\n",
       "  <th>Elevation</th> <td>    0.0497</td> <td>    0.010</td> <td>    5.086</td> <td> 0.000</td> <td>    0.030</td> <td>    0.069</td>\n",
       "</tr>\n",
       "</table>\n",
       "<table class=\"simpletable\">\n",
       "<tr>\n",
       "  <th>Omnibus:</th>       <td> 4.418</td> <th>  Durbin-Watson:     </th> <td>   0.834</td>\n",
       "</tr>\n",
       "<tr>\n",
       "  <th>Prob(Omnibus):</th> <td> 0.110</td> <th>  Jarque-Bera (JB):  </th> <td>   2.072</td>\n",
       "</tr>\n",
       "<tr>\n",
       "  <th>Skew:</th>          <td> 0.071</td> <th>  Prob(JB):          </th> <td>   0.355</td>\n",
       "</tr>\n",
       "<tr>\n",
       "  <th>Kurtosis:</th>      <td> 2.130</td> <th>  Cond. No.          </th> <td>2.90e+04</td>\n",
       "</tr>\n",
       "</table>"
      ],
      "text/plain": [
       "<class 'statsmodels.iolib.summary.Summary'>\n",
       "\"\"\"\n",
       "                            OLS Regression Results                            \n",
       "==============================================================================\n",
       "Dep. Variable:           Ozone_AUG_10   R-squared:                       0.294\n",
       "Model:                            OLS   Adj. R-squared:                  0.283\n",
       "Method:                 Least Squares   F-statistic:                     25.86\n",
       "Date:                Fri, 08 Jun 2018   Prob (F-statistic):           3.64e-06\n",
       "Time:                        15:51:42   Log-Likelihood:                -191.07\n",
       "No. Observations:                  64   AIC:                             386.1\n",
       "Df Residuals:                      62   BIC:                             390.5\n",
       "Df Model:                           1                                         \n",
       "Covariance Type:            nonrobust                                         \n",
       "==============================================================================\n",
       "                 coef    std err          t      P>|t|      [0.025      0.975]\n",
       "------------------------------------------------------------------------------\n",
       "Intercept    -38.2037     13.128     -2.910      0.005     -64.447     -11.960\n",
       "Elevation      0.0497      0.010      5.086      0.000       0.030       0.069\n",
       "==============================================================================\n",
       "Omnibus:                        4.418   Durbin-Watson:                   0.834\n",
       "Prob(Omnibus):                  0.110   Jarque-Bera (JB):                2.072\n",
       "Skew:                           0.071   Prob(JB):                        0.355\n",
       "Kurtosis:                       2.130   Cond. No.                     2.90e+04\n",
       "==============================================================================\n",
       "\n",
       "Warnings:\n",
       "[1] Standard Errors assume that the covariance matrix of the errors is correctly specified.\n",
       "[2] The condition number is large, 2.9e+04. This might indicate that there are\n",
       "strong multicollinearity or other numerical problems.\n",
       "\"\"\""
      ]
     },
     "execution_count": 27,
     "metadata": {},
     "output_type": "execute_result"
    }
   ],
   "source": [
    "mod = smf.ols(formula='Ozone_AUG_10 ~ Elevation', data=ozone)\n",
    "res = mod.fit()\n",
    "res.summary()"
   ]
  },
  {
   "cell_type": "code",
   "execution_count": null,
   "metadata": {},
   "outputs": [],
   "source": [
    "#scatter with regression line"
   ]
  },
  {
   "cell_type": "markdown",
   "metadata": {
    "collapsed": true
   },
   "source": [
    "### Based on these regression summaries, what would you say about the relationship between ozone and income, and ozone and elevation? Are they strong or weak relationships? \n",
    "   Try running the regression using the other timepoint (change *Ozone_AUG_10* to *Ozone_AUG_15*). How do the summaries change?\n",
    "\n",
    "### Coming back to our original question, based on these analyses, do you think the air pollution is equally distributed across different socio-economic groups?"
   ]
  },
  {
   "cell_type": "code",
   "execution_count": null,
   "metadata": {
    "collapsed": true
   },
   "outputs": [],
   "source": []
  }
 ],
 "metadata": {
  "anaconda-cloud": {},
  "kernelspec": {
   "display_name": "Python 3",
   "language": "python",
   "name": "python3"
  },
  "language_info": {
   "codemirror_mode": {
    "name": "ipython",
    "version": 3
   },
   "file_extension": ".py",
   "mimetype": "text/x-python",
   "name": "python",
   "nbconvert_exporter": "python",
   "pygments_lexer": "ipython3",
   "version": "3.6.5"
  }
 },
 "nbformat": 4,
 "nbformat_minor": 1
}
