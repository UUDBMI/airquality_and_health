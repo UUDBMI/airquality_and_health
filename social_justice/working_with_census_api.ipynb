{
 "cells": [
  {
   "cell_type": "code",
   "execution_count": null,
   "metadata": {},
   "outputs": [],
   "source": [
    "from census import Census\n",
    "from us import states\n",
    "import os\n",
    "import geopandas as gpd\n"
   ]
  },
  {
   "cell_type": "code",
   "execution_count": null,
   "metadata": {},
   "outputs": [],
   "source": [
    "with open(os.path.join(os.path.expanduser(\"~\"),\".census\",\"key.txt\")) as f:\n",
    "    key = f.read().strip()"
   ]
  },
  {
   "cell_type": "code",
   "execution_count": null,
   "metadata": {},
   "outputs": [],
   "source": [
    "c = Census(key, 2010)\n",
    "c.acs5.get(('NAME', 'B25034_010E'),\n",
    "          {'for': 'state:%s'%states.UT.fips})"
   ]
  },
  {
   "cell_type": "markdown",
   "metadata": {},
   "source": [
    "### [ACS5 Variables](https://api.census.gov/data/2015/acs5/variables.html)\n",
    "* [B19013C_001E: Median Income Asian?](https://api.census.gov/data/2015/acs5/variables/B19013C_001E.json)\n",
    "* [B19013_001E: Median Income all households](https://api.census.gov/data/2015/acs5/variables/B19013_001E.json)"
   ]
  },
  {
   "cell_type": "code",
   "execution_count": null,
   "metadata": {},
   "outputs": [],
   "source": [
    "gpd."
   ]
  },
  {
   "cell_type": "code",
   "execution_count": null,
   "metadata": {},
   "outputs": [],
   "source": [
    "c = Census(key, 2010)\n",
    "sl_county_var = c.acs5.get(('NAME', 'B19013_001E'),\n",
    "          {'for': \"block group:*\", 'in': \"state:49 county:35\"})\n",
    "sl_county_var"
   ]
  },
  {
   "cell_type": "code",
   "execution_count": null,
   "metadata": {},
   "outputs": [],
   "source": []
  },
  {
   "cell_type": "code",
   "execution_count": null,
   "metadata": {},
   "outputs": [],
   "source": [
    "salt_lake_census_blocks = \\\n",
    "c.sf1.get(('NAME',), geo={'for': 'block:*',\n",
    "                       'in': 'state:{} county:035'.format(states.UT.fips)})"
   ]
  },
  {
   "cell_type": "code",
   "execution_count": null,
   "metadata": {},
   "outputs": [],
   "source": [
    "salt_lake_census_blocks"
   ]
  },
  {
   "cell_type": "code",
   "execution_count": null,
   "metadata": {},
   "outputs": [],
   "source": [
    "salt_lake_census_blocks = \\\n",
    "c.acs5.get(('NAME',), geo={'for': 'block:*',\n",
    "                       'in': 'state:{} county:035'.format(states.UT.fips)})"
   ]
  },
  {
   "cell_type": "code",
   "execution_count": null,
   "metadata": {},
   "outputs": [],
   "source": []
  }
 ],
 "metadata": {
  "kernelspec": {
   "display_name": "Python 3",
   "language": "python",
   "name": "python3"
  },
  "language_info": {
   "codemirror_mode": {
    "name": "ipython",
    "version": 3
   },
   "file_extension": ".py",
   "mimetype": "text/x-python",
   "name": "python",
   "nbconvert_exporter": "python",
   "pygments_lexer": "ipython3",
   "version": "3.6.5"
  }
 },
 "nbformat": 4,
 "nbformat_minor": 2
}
