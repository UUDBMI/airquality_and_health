{
 "cells": [
  {
   "cell_type": "code",
   "execution_count": 1,
   "metadata": {},
   "outputs": [],
   "source": [
    "%matplotlib inline"
   ]
  },
  {
   "cell_type": "code",
   "execution_count": 2,
   "metadata": {},
   "outputs": [],
   "source": [
    "import os\n",
    "import pandas as pd\n",
    "import datetime\n",
    "import numpy as np\n",
    "import seaborn as sns\n",
    "import statsmodels.api as sm\n",
    "from patsy import dmatrices\n",
    "import matplotlib.pyplot as plt"
   ]
  },
  {
   "cell_type": "code",
   "execution_count": 3,
   "metadata": {},
   "outputs": [
    {
     "data": {
      "text/plain": [
       "True"
      ]
     },
     "execution_count": 3,
     "metadata": {},
     "output_type": "execute_result"
    }
   ],
   "source": [
    "DATADIR = os.path.join(\"..\", \"DATA\")\n",
    "os.path.exists(DATADIR)"
   ]
  },
  {
   "cell_type": "code",
   "execution_count": 4,
   "metadata": {},
   "outputs": [
    {
     "data": {
      "text/plain": [
       "['ACT_Demo_May4.xlsx', 'Salt_Lake_2016_PM25.xlsx', 'SLC_Weather_2016.xlsx']"
      ]
     },
     "execution_count": 4,
     "metadata": {},
     "output_type": "execute_result"
    }
   ],
   "source": [
    "files = os.listdir(DATADIR)\n",
    "files"
   ]
  },
  {
   "cell_type": "markdown",
   "metadata": {},
   "source": [
    "## Read the air quality data"
   ]
  },
  {
   "cell_type": "code",
   "execution_count": 5,
   "metadata": {},
   "outputs": [
    {
     "data": {
      "text/html": [
       "<div>\n",
       "<style scoped>\n",
       "    .dataframe tbody tr th:only-of-type {\n",
       "        vertical-align: middle;\n",
       "    }\n",
       "\n",
       "    .dataframe tbody tr th {\n",
       "        vertical-align: top;\n",
       "    }\n",
       "\n",
       "    .dataframe thead th {\n",
       "        text-align: right;\n",
       "    }\n",
       "</style>\n",
       "<table border=\"1\" class=\"dataframe\">\n",
       "  <thead>\n",
       "    <tr style=\"text-align: right;\">\n",
       "      <th></th>\n",
       "      <th>State Code</th>\n",
       "      <th>County Code</th>\n",
       "      <th>Site Num</th>\n",
       "      <th>Parameter Code</th>\n",
       "      <th>POC</th>\n",
       "      <th>Latitude</th>\n",
       "      <th>Longitude</th>\n",
       "      <th>Datum</th>\n",
       "      <th>Parameter Name</th>\n",
       "      <th>Date Local</th>\n",
       "      <th>...</th>\n",
       "      <th>Units of Measure</th>\n",
       "      <th>MDL</th>\n",
       "      <th>Uncertainty</th>\n",
       "      <th>Qualifier</th>\n",
       "      <th>Method Type</th>\n",
       "      <th>Method Code</th>\n",
       "      <th>Method Name</th>\n",
       "      <th>State Name</th>\n",
       "      <th>County Name</th>\n",
       "      <th>Date of Last Change</th>\n",
       "    </tr>\n",
       "  </thead>\n",
       "  <tbody>\n",
       "    <tr>\n",
       "      <th>0</th>\n",
       "      <td>49</td>\n",
       "      <td>35</td>\n",
       "      <td>3006</td>\n",
       "      <td>88101</td>\n",
       "      <td>4</td>\n",
       "      <td>40.736389</td>\n",
       "      <td>-111.872222</td>\n",
       "      <td>NAD83</td>\n",
       "      <td>PM2.5 - Local Conditions</td>\n",
       "      <td>2016-01-07</td>\n",
       "      <td>...</td>\n",
       "      <td>Micrograms/cubic meter (LC)</td>\n",
       "      <td>2</td>\n",
       "      <td>NaN</td>\n",
       "      <td>QX</td>\n",
       "      <td>FEM</td>\n",
       "      <td>184</td>\n",
       "      <td>Thermo Scientific Model 5030 SHARP w/VSCC - Be...</td>\n",
       "      <td>Utah</td>\n",
       "      <td>Salt Lake</td>\n",
       "      <td>2016-04-22</td>\n",
       "    </tr>\n",
       "    <tr>\n",
       "      <th>1</th>\n",
       "      <td>49</td>\n",
       "      <td>35</td>\n",
       "      <td>3006</td>\n",
       "      <td>88101</td>\n",
       "      <td>4</td>\n",
       "      <td>40.736389</td>\n",
       "      <td>-111.872222</td>\n",
       "      <td>NAD83</td>\n",
       "      <td>PM2.5 - Local Conditions</td>\n",
       "      <td>2016-01-07</td>\n",
       "      <td>...</td>\n",
       "      <td>Micrograms/cubic meter (LC)</td>\n",
       "      <td>2</td>\n",
       "      <td>NaN</td>\n",
       "      <td>QX</td>\n",
       "      <td>FEM</td>\n",
       "      <td>184</td>\n",
       "      <td>Thermo Scientific Model 5030 SHARP w/VSCC - Be...</td>\n",
       "      <td>Utah</td>\n",
       "      <td>Salt Lake</td>\n",
       "      <td>2016-04-22</td>\n",
       "    </tr>\n",
       "    <tr>\n",
       "      <th>2</th>\n",
       "      <td>49</td>\n",
       "      <td>35</td>\n",
       "      <td>3006</td>\n",
       "      <td>88101</td>\n",
       "      <td>4</td>\n",
       "      <td>40.736389</td>\n",
       "      <td>-111.872222</td>\n",
       "      <td>NAD83</td>\n",
       "      <td>PM2.5 - Local Conditions</td>\n",
       "      <td>2016-01-07</td>\n",
       "      <td>...</td>\n",
       "      <td>Micrograms/cubic meter (LC)</td>\n",
       "      <td>2</td>\n",
       "      <td>NaN</td>\n",
       "      <td>QX</td>\n",
       "      <td>FEM</td>\n",
       "      <td>184</td>\n",
       "      <td>Thermo Scientific Model 5030 SHARP w/VSCC - Be...</td>\n",
       "      <td>Utah</td>\n",
       "      <td>Salt Lake</td>\n",
       "      <td>2016-04-22</td>\n",
       "    </tr>\n",
       "    <tr>\n",
       "      <th>3</th>\n",
       "      <td>49</td>\n",
       "      <td>35</td>\n",
       "      <td>3006</td>\n",
       "      <td>88101</td>\n",
       "      <td>4</td>\n",
       "      <td>40.736389</td>\n",
       "      <td>-111.872222</td>\n",
       "      <td>NAD83</td>\n",
       "      <td>PM2.5 - Local Conditions</td>\n",
       "      <td>2016-01-07</td>\n",
       "      <td>...</td>\n",
       "      <td>Micrograms/cubic meter (LC)</td>\n",
       "      <td>2</td>\n",
       "      <td>NaN</td>\n",
       "      <td>QX</td>\n",
       "      <td>FEM</td>\n",
       "      <td>184</td>\n",
       "      <td>Thermo Scientific Model 5030 SHARP w/VSCC - Be...</td>\n",
       "      <td>Utah</td>\n",
       "      <td>Salt Lake</td>\n",
       "      <td>2016-04-22</td>\n",
       "    </tr>\n",
       "    <tr>\n",
       "      <th>4</th>\n",
       "      <td>49</td>\n",
       "      <td>35</td>\n",
       "      <td>3006</td>\n",
       "      <td>88101</td>\n",
       "      <td>4</td>\n",
       "      <td>40.736389</td>\n",
       "      <td>-111.872222</td>\n",
       "      <td>NAD83</td>\n",
       "      <td>PM2.5 - Local Conditions</td>\n",
       "      <td>2016-01-07</td>\n",
       "      <td>...</td>\n",
       "      <td>Micrograms/cubic meter (LC)</td>\n",
       "      <td>2</td>\n",
       "      <td>NaN</td>\n",
       "      <td>QX</td>\n",
       "      <td>FEM</td>\n",
       "      <td>184</td>\n",
       "      <td>Thermo Scientific Model 5030 SHARP w/VSCC - Be...</td>\n",
       "      <td>Utah</td>\n",
       "      <td>Salt Lake</td>\n",
       "      <td>2016-04-22</td>\n",
       "    </tr>\n",
       "  </tbody>\n",
       "</table>\n",
       "<p>5 rows × 24 columns</p>\n",
       "</div>"
      ],
      "text/plain": [
       "   State Code  County Code  Site Num  Parameter Code  POC   Latitude  \\\n",
       "0          49           35      3006           88101    4  40.736389   \n",
       "1          49           35      3006           88101    4  40.736389   \n",
       "2          49           35      3006           88101    4  40.736389   \n",
       "3          49           35      3006           88101    4  40.736389   \n",
       "4          49           35      3006           88101    4  40.736389   \n",
       "\n",
       "    Longitude  Datum            Parameter Name Date Local  \\\n",
       "0 -111.872222  NAD83  PM2.5 - Local Conditions 2016-01-07   \n",
       "1 -111.872222  NAD83  PM2.5 - Local Conditions 2016-01-07   \n",
       "2 -111.872222  NAD83  PM2.5 - Local Conditions 2016-01-07   \n",
       "3 -111.872222  NAD83  PM2.5 - Local Conditions 2016-01-07   \n",
       "4 -111.872222  NAD83  PM2.5 - Local Conditions 2016-01-07   \n",
       "\n",
       "          ...                      Units of Measure MDL Uncertainty  \\\n",
       "0         ...           Micrograms/cubic meter (LC)   2         NaN   \n",
       "1         ...           Micrograms/cubic meter (LC)   2         NaN   \n",
       "2         ...           Micrograms/cubic meter (LC)   2         NaN   \n",
       "3         ...           Micrograms/cubic meter (LC)   2         NaN   \n",
       "4         ...           Micrograms/cubic meter (LC)   2         NaN   \n",
       "\n",
       "   Qualifier Method Type  Method Code  \\\n",
       "0         QX         FEM          184   \n",
       "1         QX         FEM          184   \n",
       "2         QX         FEM          184   \n",
       "3         QX         FEM          184   \n",
       "4         QX         FEM          184   \n",
       "\n",
       "                                         Method Name State Name County Name  \\\n",
       "0  Thermo Scientific Model 5030 SHARP w/VSCC - Be...       Utah   Salt Lake   \n",
       "1  Thermo Scientific Model 5030 SHARP w/VSCC - Be...       Utah   Salt Lake   \n",
       "2  Thermo Scientific Model 5030 SHARP w/VSCC - Be...       Utah   Salt Lake   \n",
       "3  Thermo Scientific Model 5030 SHARP w/VSCC - Be...       Utah   Salt Lake   \n",
       "4  Thermo Scientific Model 5030 SHARP w/VSCC - Be...       Utah   Salt Lake   \n",
       "\n",
       "   Date of Last Change  \n",
       "0           2016-04-22  \n",
       "1           2016-04-22  \n",
       "2           2016-04-22  \n",
       "3           2016-04-22  \n",
       "4           2016-04-22  \n",
       "\n",
       "[5 rows x 24 columns]"
      ]
     },
     "execution_count": 5,
     "metadata": {},
     "output_type": "execute_result"
    }
   ],
   "source": [
    "slc = pd.read_excel(os.path.join(DATADIR, 'Salt_Lake_2016_PM25.xlsx'))\n",
    "slc.head()"
   ]
  },
  {
   "cell_type": "markdown",
   "metadata": {},
   "source": [
    "### Comments:\n",
    "\n",
    "* Dates and times are split into separate columns\n",
    "* We have both local time and UTC time "
   ]
  },
  {
   "cell_type": "markdown",
   "metadata": {},
   "source": [
    "## Merging Dates and Time\n",
    "* After we have read in the data we could combine the dates and times\n",
    "    * Convert pandas Timestamp to datetime\n",
    "    * Use ``datetime.combine`` to merge with ``datetime.time``\n",
    "* We can also merge these when reading the data by specifying the ``parse_dates`` keyword"
   ]
  },
  {
   "cell_type": "markdown",
   "metadata": {},
   "source": [
    "#### Using ``datetime.combine``"
   ]
  },
  {
   "cell_type": "code",
   "execution_count": 8,
   "metadata": {},
   "outputs": [
    {
     "data": {
      "text/plain": [
       "0   2016-01-07 13:00:00\n",
       "1   2016-01-07 14:00:00\n",
       "2   2016-01-07 15:00:00\n",
       "3   2016-01-07 16:00:00\n",
       "4   2016-01-07 17:00:00\n",
       "dtype: datetime64[ns]"
      ]
     },
     "execution_count": 8,
     "metadata": {},
     "output_type": "execute_result"
    }
   ],
   "source": [
    "slc.apply(lambda x: datetime.datetime.combine(x[\"Date Local\"],x[\"Time Local\"]), axis=1).head()"
   ]
  },
  {
   "cell_type": "markdown",
   "metadata": {},
   "source": [
    "#### using ``parse_dates``"
   ]
  },
  {
   "cell_type": "code",
   "execution_count": 9,
   "metadata": {},
   "outputs": [
    {
     "data": {
      "text/html": [
       "<div>\n",
       "<style scoped>\n",
       "    .dataframe tbody tr th:only-of-type {\n",
       "        vertical-align: middle;\n",
       "    }\n",
       "\n",
       "    .dataframe tbody tr th {\n",
       "        vertical-align: top;\n",
       "    }\n",
       "\n",
       "    .dataframe thead th {\n",
       "        text-align: right;\n",
       "    }\n",
       "</style>\n",
       "<table border=\"1\" class=\"dataframe\">\n",
       "  <thead>\n",
       "    <tr style=\"text-align: right;\">\n",
       "      <th></th>\n",
       "      <th>Time Local_Date Local</th>\n",
       "      <th>Date GMT_Time GMT</th>\n",
       "      <th>State Code</th>\n",
       "      <th>County Code</th>\n",
       "      <th>Site Num</th>\n",
       "      <th>Parameter Code</th>\n",
       "      <th>POC</th>\n",
       "      <th>Latitude</th>\n",
       "      <th>Longitude</th>\n",
       "      <th>Datum</th>\n",
       "      <th>...</th>\n",
       "      <th>Units of Measure</th>\n",
       "      <th>MDL</th>\n",
       "      <th>Uncertainty</th>\n",
       "      <th>Qualifier</th>\n",
       "      <th>Method Type</th>\n",
       "      <th>Method Code</th>\n",
       "      <th>Method Name</th>\n",
       "      <th>State Name</th>\n",
       "      <th>County Name</th>\n",
       "      <th>Date of Last Change</th>\n",
       "    </tr>\n",
       "  </thead>\n",
       "  <tbody>\n",
       "    <tr>\n",
       "      <th>0</th>\n",
       "      <td>2016-01-07</td>\n",
       "      <td>2016-01-07 20:00:00</td>\n",
       "      <td>49</td>\n",
       "      <td>35</td>\n",
       "      <td>3006</td>\n",
       "      <td>88101</td>\n",
       "      <td>4</td>\n",
       "      <td>40.736389</td>\n",
       "      <td>-111.872222</td>\n",
       "      <td>NAD83</td>\n",
       "      <td>...</td>\n",
       "      <td>Micrograms/cubic meter (LC)</td>\n",
       "      <td>2</td>\n",
       "      <td>NaN</td>\n",
       "      <td>QX</td>\n",
       "      <td>FEM</td>\n",
       "      <td>184</td>\n",
       "      <td>Thermo Scientific Model 5030 SHARP w/VSCC - Be...</td>\n",
       "      <td>Utah</td>\n",
       "      <td>Salt Lake</td>\n",
       "      <td>2016-04-22</td>\n",
       "    </tr>\n",
       "    <tr>\n",
       "      <th>1</th>\n",
       "      <td>2016-01-07</td>\n",
       "      <td>2016-01-07 21:00:00</td>\n",
       "      <td>49</td>\n",
       "      <td>35</td>\n",
       "      <td>3006</td>\n",
       "      <td>88101</td>\n",
       "      <td>4</td>\n",
       "      <td>40.736389</td>\n",
       "      <td>-111.872222</td>\n",
       "      <td>NAD83</td>\n",
       "      <td>...</td>\n",
       "      <td>Micrograms/cubic meter (LC)</td>\n",
       "      <td>2</td>\n",
       "      <td>NaN</td>\n",
       "      <td>QX</td>\n",
       "      <td>FEM</td>\n",
       "      <td>184</td>\n",
       "      <td>Thermo Scientific Model 5030 SHARP w/VSCC - Be...</td>\n",
       "      <td>Utah</td>\n",
       "      <td>Salt Lake</td>\n",
       "      <td>2016-04-22</td>\n",
       "    </tr>\n",
       "    <tr>\n",
       "      <th>2</th>\n",
       "      <td>2016-01-07</td>\n",
       "      <td>2016-01-07 22:00:00</td>\n",
       "      <td>49</td>\n",
       "      <td>35</td>\n",
       "      <td>3006</td>\n",
       "      <td>88101</td>\n",
       "      <td>4</td>\n",
       "      <td>40.736389</td>\n",
       "      <td>-111.872222</td>\n",
       "      <td>NAD83</td>\n",
       "      <td>...</td>\n",
       "      <td>Micrograms/cubic meter (LC)</td>\n",
       "      <td>2</td>\n",
       "      <td>NaN</td>\n",
       "      <td>QX</td>\n",
       "      <td>FEM</td>\n",
       "      <td>184</td>\n",
       "      <td>Thermo Scientific Model 5030 SHARP w/VSCC - Be...</td>\n",
       "      <td>Utah</td>\n",
       "      <td>Salt Lake</td>\n",
       "      <td>2016-04-22</td>\n",
       "    </tr>\n",
       "    <tr>\n",
       "      <th>3</th>\n",
       "      <td>2016-01-07</td>\n",
       "      <td>2016-01-07 23:00:00</td>\n",
       "      <td>49</td>\n",
       "      <td>35</td>\n",
       "      <td>3006</td>\n",
       "      <td>88101</td>\n",
       "      <td>4</td>\n",
       "      <td>40.736389</td>\n",
       "      <td>-111.872222</td>\n",
       "      <td>NAD83</td>\n",
       "      <td>...</td>\n",
       "      <td>Micrograms/cubic meter (LC)</td>\n",
       "      <td>2</td>\n",
       "      <td>NaN</td>\n",
       "      <td>QX</td>\n",
       "      <td>FEM</td>\n",
       "      <td>184</td>\n",
       "      <td>Thermo Scientific Model 5030 SHARP w/VSCC - Be...</td>\n",
       "      <td>Utah</td>\n",
       "      <td>Salt Lake</td>\n",
       "      <td>2016-04-22</td>\n",
       "    </tr>\n",
       "    <tr>\n",
       "      <th>4</th>\n",
       "      <td>2016-01-07</td>\n",
       "      <td>2016-01-08 00:00:00</td>\n",
       "      <td>49</td>\n",
       "      <td>35</td>\n",
       "      <td>3006</td>\n",
       "      <td>88101</td>\n",
       "      <td>4</td>\n",
       "      <td>40.736389</td>\n",
       "      <td>-111.872222</td>\n",
       "      <td>NAD83</td>\n",
       "      <td>...</td>\n",
       "      <td>Micrograms/cubic meter (LC)</td>\n",
       "      <td>2</td>\n",
       "      <td>NaN</td>\n",
       "      <td>QX</td>\n",
       "      <td>FEM</td>\n",
       "      <td>184</td>\n",
       "      <td>Thermo Scientific Model 5030 SHARP w/VSCC - Be...</td>\n",
       "      <td>Utah</td>\n",
       "      <td>Salt Lake</td>\n",
       "      <td>2016-04-22</td>\n",
       "    </tr>\n",
       "  </tbody>\n",
       "</table>\n",
       "<p>5 rows × 22 columns</p>\n",
       "</div>"
      ],
      "text/plain": [
       "  Time Local_Date Local   Date GMT_Time GMT  State Code  County Code  \\\n",
       "0            2016-01-07 2016-01-07 20:00:00          49           35   \n",
       "1            2016-01-07 2016-01-07 21:00:00          49           35   \n",
       "2            2016-01-07 2016-01-07 22:00:00          49           35   \n",
       "3            2016-01-07 2016-01-07 23:00:00          49           35   \n",
       "4            2016-01-07 2016-01-08 00:00:00          49           35   \n",
       "\n",
       "   Site Num  Parameter Code  POC   Latitude   Longitude  Datum  \\\n",
       "0      3006           88101    4  40.736389 -111.872222  NAD83   \n",
       "1      3006           88101    4  40.736389 -111.872222  NAD83   \n",
       "2      3006           88101    4  40.736389 -111.872222  NAD83   \n",
       "3      3006           88101    4  40.736389 -111.872222  NAD83   \n",
       "4      3006           88101    4  40.736389 -111.872222  NAD83   \n",
       "\n",
       "          ...                     Units of Measure  MDL Uncertainty  \\\n",
       "0         ...          Micrograms/cubic meter (LC)    2         NaN   \n",
       "1         ...          Micrograms/cubic meter (LC)    2         NaN   \n",
       "2         ...          Micrograms/cubic meter (LC)    2         NaN   \n",
       "3         ...          Micrograms/cubic meter (LC)    2         NaN   \n",
       "4         ...          Micrograms/cubic meter (LC)    2         NaN   \n",
       "\n",
       "   Qualifier  Method Type Method Code  \\\n",
       "0         QX          FEM         184   \n",
       "1         QX          FEM         184   \n",
       "2         QX          FEM         184   \n",
       "3         QX          FEM         184   \n",
       "4         QX          FEM         184   \n",
       "\n",
       "                                         Method Name  State Name County Name  \\\n",
       "0  Thermo Scientific Model 5030 SHARP w/VSCC - Be...        Utah   Salt Lake   \n",
       "1  Thermo Scientific Model 5030 SHARP w/VSCC - Be...        Utah   Salt Lake   \n",
       "2  Thermo Scientific Model 5030 SHARP w/VSCC - Be...        Utah   Salt Lake   \n",
       "3  Thermo Scientific Model 5030 SHARP w/VSCC - Be...        Utah   Salt Lake   \n",
       "4  Thermo Scientific Model 5030 SHARP w/VSCC - Be...        Utah   Salt Lake   \n",
       "\n",
       "  Date of Last Change  \n",
       "0          2016-04-22  \n",
       "1          2016-04-22  \n",
       "2          2016-04-22  \n",
       "3          2016-04-22  \n",
       "4          2016-04-22  \n",
       "\n",
       "[5 rows x 22 columns]"
      ]
     },
     "execution_count": 9,
     "metadata": {},
     "output_type": "execute_result"
    }
   ],
   "source": [
    "pd.read_excel(os.path.join(DATADIR, 'Salt_Lake_2016_PM25.xlsx'), \n",
    "              parse_dates=[[\"Time Local\", \"Date Local\"],\n",
    "                           ['Date GMT', 'Time GMT']]).head()\n"
   ]
  },
  {
   "cell_type": "markdown",
   "metadata": {},
   "source": [
    "## Read in asthma data\n"
   ]
  },
  {
   "cell_type": "code",
   "execution_count": 11,
   "metadata": {},
   "outputs": [
    {
     "data": {
      "text/html": [
       "<div>\n",
       "<style scoped>\n",
       "    .dataframe tbody tr th:only-of-type {\n",
       "        vertical-align: middle;\n",
       "    }\n",
       "\n",
       "    .dataframe tbody tr th {\n",
       "        vertical-align: top;\n",
       "    }\n",
       "\n",
       "    .dataframe thead th {\n",
       "        text-align: right;\n",
       "    }\n",
       "</style>\n",
       "<table border=\"1\" class=\"dataframe\">\n",
       "  <thead>\n",
       "    <tr style=\"text-align: right;\">\n",
       "      <th></th>\n",
       "      <th>ID</th>\n",
       "      <th>timestamp</th>\n",
       "      <th>answer_1</th>\n",
       "      <th>answer_2</th>\n",
       "      <th>answer_3</th>\n",
       "      <th>answer_4</th>\n",
       "      <th>answer_5</th>\n",
       "      <th>relationship</th>\n",
       "      <th>relationship_other</th>\n",
       "      <th>days_controller_medication</th>\n",
       "      <th>additional_prescriptions</th>\n",
       "      <th>additional_prescription_other</th>\n",
       "      <th>doctor_visit</th>\n",
       "      <th>hospital_visit</th>\n",
       "      <th>comments</th>\n",
       "      <th>use_controller_medication</th>\n",
       "      <th>oral_steroids</th>\n",
       "      <th>school_days_interrupted</th>\n",
       "      <th>parent_days_interrupted</th>\n",
       "    </tr>\n",
       "  </thead>\n",
       "  <tbody>\n",
       "    <tr>\n",
       "      <th>0</th>\n",
       "      <td>1</td>\n",
       "      <td>2016-01-04 09:33:07</td>\n",
       "      <td>3</td>\n",
       "      <td>3</td>\n",
       "      <td>2</td>\n",
       "      <td>3</td>\n",
       "      <td>1</td>\n",
       "      <td>parent</td>\n",
       "      <td>NaN</td>\n",
       "      <td>NaN</td>\n",
       "      <td>1</td>\n",
       "      <td>essential oils, deep breathing teq.</td>\n",
       "      <td>0</td>\n",
       "      <td>0</td>\n",
       "      <td>Mom filled out 1/4/21016 since xxxx was with m...</td>\n",
       "      <td>0</td>\n",
       "      <td>0</td>\n",
       "      <td>0</td>\n",
       "      <td>0</td>\n",
       "    </tr>\n",
       "    <tr>\n",
       "      <th>1</th>\n",
       "      <td>1</td>\n",
       "      <td>2016-01-11 22:02:34</td>\n",
       "      <td>5</td>\n",
       "      <td>5</td>\n",
       "      <td>5</td>\n",
       "      <td>5</td>\n",
       "      <td>5</td>\n",
       "      <td>parent</td>\n",
       "      <td>NaN</td>\n",
       "      <td>NaN</td>\n",
       "      <td>0</td>\n",
       "      <td>NaN</td>\n",
       "      <td>0</td>\n",
       "      <td>0</td>\n",
       "      <td>No coughing in home, downtown or town visited</td>\n",
       "      <td>0</td>\n",
       "      <td>0</td>\n",
       "      <td>0</td>\n",
       "      <td>0</td>\n",
       "    </tr>\n",
       "    <tr>\n",
       "      <th>2</th>\n",
       "      <td>1</td>\n",
       "      <td>2016-01-18 20:04:00</td>\n",
       "      <td>4</td>\n",
       "      <td>3</td>\n",
       "      <td>4</td>\n",
       "      <td>5</td>\n",
       "      <td>2</td>\n",
       "      <td>parent</td>\n",
       "      <td>NaN</td>\n",
       "      <td>NaN</td>\n",
       "      <td>0</td>\n",
       "      <td>NaN</td>\n",
       "      <td>0</td>\n",
       "      <td>0</td>\n",
       "      <td>Mom filled out,  had xxxx for the majority of ...</td>\n",
       "      <td>0</td>\n",
       "      <td>0</td>\n",
       "      <td>0</td>\n",
       "      <td>0</td>\n",
       "    </tr>\n",
       "    <tr>\n",
       "      <th>3</th>\n",
       "      <td>1</td>\n",
       "      <td>2016-01-25 22:59:14</td>\n",
       "      <td>5</td>\n",
       "      <td>5</td>\n",
       "      <td>5</td>\n",
       "      <td>5</td>\n",
       "      <td>5</td>\n",
       "      <td>parent</td>\n",
       "      <td>NaN</td>\n",
       "      <td>NaN</td>\n",
       "      <td>0</td>\n",
       "      <td>NaN</td>\n",
       "      <td>0</td>\n",
       "      <td>0</td>\n",
       "      <td>No coughing or shortness of breath , at all</td>\n",
       "      <td>0</td>\n",
       "      <td>0</td>\n",
       "      <td>0</td>\n",
       "      <td>0</td>\n",
       "    </tr>\n",
       "    <tr>\n",
       "      <th>4</th>\n",
       "      <td>1</td>\n",
       "      <td>2016-01-25 22:59:21</td>\n",
       "      <td>5</td>\n",
       "      <td>5</td>\n",
       "      <td>5</td>\n",
       "      <td>5</td>\n",
       "      <td>5</td>\n",
       "      <td>parent</td>\n",
       "      <td>NaN</td>\n",
       "      <td>NaN</td>\n",
       "      <td>0</td>\n",
       "      <td>NaN</td>\n",
       "      <td>0</td>\n",
       "      <td>0</td>\n",
       "      <td>No coughing or shortness of breath , at all</td>\n",
       "      <td>0</td>\n",
       "      <td>0</td>\n",
       "      <td>0</td>\n",
       "      <td>0</td>\n",
       "    </tr>\n",
       "  </tbody>\n",
       "</table>\n",
       "</div>"
      ],
      "text/plain": [
       "   ID           timestamp  answer_1  answer_2  answer_3  answer_4  answer_5  \\\n",
       "0   1 2016-01-04 09:33:07         3         3         2         3         1   \n",
       "1   1 2016-01-11 22:02:34         5         5         5         5         5   \n",
       "2   1 2016-01-18 20:04:00         4         3         4         5         2   \n",
       "3   1 2016-01-25 22:59:14         5         5         5         5         5   \n",
       "4   1 2016-01-25 22:59:21         5         5         5         5         5   \n",
       "\n",
       "  relationship relationship_other  days_controller_medication  \\\n",
       "0       parent                NaN                         NaN   \n",
       "1       parent                NaN                         NaN   \n",
       "2       parent                NaN                         NaN   \n",
       "3       parent                NaN                         NaN   \n",
       "4       parent                NaN                         NaN   \n",
       "\n",
       "   additional_prescriptions         additional_prescription_other  \\\n",
       "0                         1  essential oils, deep breathing teq.    \n",
       "1                         0                                   NaN   \n",
       "2                         0                                   NaN   \n",
       "3                         0                                   NaN   \n",
       "4                         0                                   NaN   \n",
       "\n",
       "   doctor_visit  hospital_visit  \\\n",
       "0             0               0   \n",
       "1             0               0   \n",
       "2             0               0   \n",
       "3             0               0   \n",
       "4             0               0   \n",
       "\n",
       "                                            comments  \\\n",
       "0  Mom filled out 1/4/21016 since xxxx was with m...   \n",
       "1      No coughing in home, downtown or town visited   \n",
       "2  Mom filled out,  had xxxx for the majority of ...   \n",
       "3        No coughing or shortness of breath , at all   \n",
       "4        No coughing or shortness of breath , at all   \n",
       "\n",
       "   use_controller_medication  oral_steroids  school_days_interrupted  \\\n",
       "0                          0              0                        0   \n",
       "1                          0              0                        0   \n",
       "2                          0              0                        0   \n",
       "3                          0              0                        0   \n",
       "4                          0              0                        0   \n",
       "\n",
       "   parent_days_interrupted  \n",
       "0                        0  \n",
       "1                        0  \n",
       "2                        0  \n",
       "3                        0  \n",
       "4                        0  "
      ]
     },
     "execution_count": 11,
     "metadata": {},
     "output_type": "execute_result"
    }
   ],
   "source": [
    "slc_asthma = pd.read_excel(os.path.join(DATADIR, 'ACT_Demo_May4.xlsx'))\n",
    "slc_asthma.head()"
   ]
  },
  {
   "cell_type": "code",
   "execution_count": 10,
   "metadata": {},
   "outputs": [
    {
     "name": "stdout",
     "output_type": "stream",
     "text": [
      "/home/jovyan/work/DBMI/airquality_and_health/inversions\r\n"
     ]
    }
   ],
   "source": [
    "!pwd"
   ]
  },
  {
   "cell_type": "markdown",
   "metadata": {},
   "source": [
    "## Read in weather data"
   ]
  },
  {
   "cell_type": "code",
   "execution_count": null,
   "metadata": {},
   "outputs": [],
   "source": [
    "slc_weather = pd.read_excel(os.path.join(DATADIR, 'SLC_Weather_2016.xlsx'))\n",
    "slc_weather.head()"
   ]
  },
  {
   "cell_type": "code",
   "execution_count": null,
   "metadata": {},
   "outputs": [],
   "source": [
    "slc_weather = pd.read_excel(os.path.join(DATADIR, 'SLC_Weather_2016.xlsx'), skiprows=[1])\n",
    "slc_weather.head()"
   ]
  },
  {
   "cell_type": "code",
   "execution_count": null,
   "metadata": {},
   "outputs": [],
   "source": [
    "slc_weather.columns"
   ]
  },
  {
   "cell_type": "code",
   "execution_count": null,
   "metadata": {},
   "outputs": [],
   "source": [
    "slc_weather['Day'][0]"
   ]
  },
  {
   "cell_type": "markdown",
   "metadata": {},
   "source": [
    "## Our Weather and Asthma Data Have Resolution of Days\n",
    "## Our pollutant data has resolution of hours\n",
    "## Group and take mean?"
   ]
  },
  {
   "cell_type": "code",
   "execution_count": null,
   "metadata": {},
   "outputs": [],
   "source": [
    "slc.groupby(\"Date Local\", as_index=False).aggregate(np.mean)"
   ]
  },
  {
   "cell_type": "markdown",
   "metadata": {},
   "source": [
    "### Group and take sum?"
   ]
  },
  {
   "cell_type": "code",
   "execution_count": null,
   "metadata": {},
   "outputs": [],
   "source": [
    "slc.groupby(\"Date Local\", as_index=False).aggregate(np.sum)"
   ]
  },
  {
   "cell_type": "markdown",
   "metadata": {},
   "source": [
    "### Applying different functions to different columns"
   ]
  },
  {
   "cell_type": "code",
   "execution_count": null,
   "metadata": {},
   "outputs": [],
   "source": [
    "slc_day = slc.groupby([\"Date Local\", \"Site Num\"], as_index=False).aggregate({'Sample Measurement' : np.mean,\n",
    "                                                                   'MDL': np.median})\n",
    "slc_day.head()"
   ]
  },
  {
   "cell_type": "code",
   "execution_count": null,
   "metadata": {},
   "outputs": [],
   "source": [
    "slc_day_all = slc_day.merge(slc_asthma, \n",
    "              left_on=\"Date Local\", \n",
    "              right_on=\"Day\").merge(slc_weather, left_on=\"Date Local\", right_on=\"Day\")\n",
    "slc_day_all.head()"
   ]
  },
  {
   "cell_type": "code",
   "execution_count": null,
   "metadata": {},
   "outputs": [],
   "source": [
    "f, ax1 = plt.subplots(1)\n",
    "slc_day_all[slc_day_all[\"Site Num\"]==3006].plot(x=\"Date Local\", \n",
    "                                                y=\"Number of Asthma Diagnosis\", ax=ax1)\n",
    "slc_day_all[slc_day_all[\"Site Num\"]==3006].plot(secondary_y=True, x=\"Date Local\", \n",
    "                                                y=\"Sample Measurement\", ax=ax1)"
   ]
  },
  {
   "cell_type": "code",
   "execution_count": null,
   "metadata": {},
   "outputs": [],
   "source": [
    "f, ax1 = plt.subplots(1)\n",
    "slc_day_all[slc_day_all[\"Site Num\"]!=3006].plot(x=\"Date Local\", \n",
    "                                                y=\"Number of Asthma Diagnosis\", ax=ax1)\n",
    "slc_day_all[slc_day_all[\"Site Num\"]!=3006].plot(secondary_y=True, x=\"Date Local\", \n",
    "                                                y=\"Sample Measurement\", ax=ax1)"
   ]
  },
  {
   "cell_type": "code",
   "execution_count": null,
   "metadata": {},
   "outputs": [],
   "source": [
    "slc_day_all[slc_day_all[\"Site Num\"]==3006].plot.scatter(x=\"Sample Measurement\", y=\"Number of Asthma Diagnosis\")"
   ]
  },
  {
   "cell_type": "markdown",
   "metadata": {},
   "source": [
    "### Rename columns to eliminate spaces"
   ]
  },
  {
   "cell_type": "code",
   "execution_count": null,
   "metadata": {},
   "outputs": [],
   "source": [
    "{c:c.replace(\" \", \"_\") for c in slc_day_all.columns}"
   ]
  },
  {
   "cell_type": "code",
   "execution_count": null,
   "metadata": {},
   "outputs": [],
   "source": [
    "slc_final = slc_day_all.rename(columns={c:c.replace(\" \", \"_\") for c in slc_day_all.columns})"
   ]
  },
  {
   "cell_type": "markdown",
   "metadata": {},
   "source": [
    "## Creating a Regression Model"
   ]
  },
  {
   "cell_type": "code",
   "execution_count": null,
   "metadata": {},
   "outputs": [],
   "source": [
    "sns.regplot(data=slc_final, x=\"Sample_Measurement\", y=\"Number_of_Asthma_Diagnosis\")"
   ]
  },
  {
   "cell_type": "code",
   "execution_count": null,
   "metadata": {},
   "outputs": [],
   "source": [
    "y, X = dmatrices('Number_of_Asthma_Diagnosis ~ Sample_Measurement + High', data=slc_final, return_type='dataframe')"
   ]
  },
  {
   "cell_type": "code",
   "execution_count": null,
   "metadata": {},
   "outputs": [],
   "source": [
    "mod = sm.OLS(y, X)\n",
    "res = mod.fit()\n",
    "print(res.summary())"
   ]
  },
  {
   "cell_type": "code",
   "execution_count": null,
   "metadata": {},
   "outputs": [],
   "source": [
    "sm.stats.linear_rainbow(res)"
   ]
  },
  {
   "cell_type": "code",
   "execution_count": null,
   "metadata": {},
   "outputs": [],
   "source": [
    "sm.graphics.plot_partregress('Number_of_Asthma_Diagnosis', 'Sample_Measurement', ['High', \"Low\"],\n",
    "                              data=slc_final, obs_labels=False)"
   ]
  },
  {
   "cell_type": "code",
   "execution_count": null,
   "metadata": {
    "collapsed": true
   },
   "outputs": [],
   "source": []
  }
 ],
 "metadata": {
  "kernelspec": {
   "display_name": "Python [default]",
   "language": "python",
   "name": "python3"
  },
  "language_info": {
   "codemirror_mode": {
    "name": "ipython",
    "version": 3
   },
   "file_extension": ".py",
   "mimetype": "text/x-python",
   "name": "python",
   "nbconvert_exporter": "python",
   "pygments_lexer": "ipython3",
   "version": "3.6.4"
  },
  "widgets": {
   "state": {},
   "version": "1.1.2"
  }
 },
 "nbformat": 4,
 "nbformat_minor": 1
}
