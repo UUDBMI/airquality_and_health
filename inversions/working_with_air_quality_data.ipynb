{
 "cells": [
  {
   "cell_type": "code",
   "execution_count": null,
   "metadata": {
    "collapsed": true
   },
   "outputs": [],
   "source": [
    "%matplotlib inline"
   ]
  },
  {
   "cell_type": "code",
   "execution_count": null,
   "metadata": {
    "collapsed": true
   },
   "outputs": [],
   "source": [
    "import os\n",
    "import pandas as pd\n",
    "import datetime\n",
    "import numpy as np\n",
    "import seaborn as sns\n",
    "import statsmodels.api as sm\n",
    "from patsy import dmatrices\n",
    "import matplotlib.pyplot as plt"
   ]
  },
  {
   "cell_type": "code",
   "execution_count": null,
   "metadata": {
    "collapsed": false
   },
   "outputs": [],
   "source": [
    "!pip install xlrd"
   ]
  },
  {
   "cell_type": "code",
   "execution_count": null,
   "metadata": {
    "collapsed": false
   },
   "outputs": [],
   "source": [
    "DATADIR = os.path.join(os.path.expanduser(\"~\"), \"DATA\", \"TimeSeries\", \"EPA\")\n",
    "os.path.exists(DATADIR)"
   ]
  },
  {
   "cell_type": "code",
   "execution_count": null,
   "metadata": {
    "collapsed": false
   },
   "outputs": [],
   "source": [
    "files = os.listdir(DATADIR)\n",
    "files"
   ]
  },
  {
   "cell_type": "markdown",
   "metadata": {},
   "source": [
    "## Read the air quality data"
   ]
  },
  {
   "cell_type": "code",
   "execution_count": null,
   "metadata": {
    "collapsed": false
   },
   "outputs": [],
   "source": [
    "slc = pd.read_excel(os.path.join(DATADIR, 'Salt_Lake_2016_PM25.xlsx'))\n",
    "print(slc.columns)\n",
    "slc.head()"
   ]
  },
  {
   "cell_type": "code",
   "execution_count": null,
   "metadata": {
    "collapsed": false
   },
   "outputs": [],
   "source": [
    "d1 = slc[\"Date Local\"][0]\n",
    "t1 = slc[\"Time Local\"][0]\n",
    "print(\"Date Local type\",type(d1),\"Time Local type\",type(t1))\n",
    "datetime.datetime.combine(d1.to_datetime(), t1)\n"
   ]
  },
  {
   "cell_type": "markdown",
   "metadata": {},
   "source": [
    "### Comments:\n",
    "\n",
    "* Dates and times are split into separate columns\n",
    "* We have both local time and UTC time "
   ]
  },
  {
   "cell_type": "markdown",
   "metadata": {},
   "source": [
    "## Merging Dates and Time\n",
    "* After we have read in the data we could combine the dates and times\n",
    "    * Convert pandas Timestamp to datetime\n",
    "    * Use ``datetime.combine`` to merge with ``datetime.time``\n",
    "* We can also merge these when reading the data by specifying the ``parse_dates`` keyword"
   ]
  },
  {
   "cell_type": "markdown",
   "metadata": {},
   "source": [
    "#### Using ``datetime.combine``"
   ]
  },
  {
   "cell_type": "code",
   "execution_count": null,
   "metadata": {
    "collapsed": false
   },
   "outputs": [],
   "source": [
    "slc.apply(lambda x: datetime.datetime.combine(x[\"Date Local\"],x[\"Time Local\"]), axis=1).head()"
   ]
  },
  {
   "cell_type": "markdown",
   "metadata": {},
   "source": [
    "#### using ``parse_dates``"
   ]
  },
  {
   "cell_type": "code",
   "execution_count": null,
   "metadata": {
    "collapsed": false
   },
   "outputs": [],
   "source": [
    "pd.read_excel(os.path.join(DATADIR, 'Salt_Lake_2016_PM25.xlsx'), \n",
    "              parse_dates=[[\"Time Local\", \"Date Local\"],\n",
    "                           ['Date GMT', 'Time GMT']]).head()\n"
   ]
  },
  {
   "cell_type": "code",
   "execution_count": null,
   "metadata": {
    "collapsed": false
   },
   "outputs": [],
   "source": [
    "sd = pd.read_excel(os.path.join(DATADIR, \"San_Diego_2016_PM25.xlsx\"),\n",
    "                   parse_dates=[[\"Time Local\", \"Date Local\"],\n",
    "                           ['Date GMT', 'Time GMT']])\n",
    "sd.head()"
   ]
  },
  {
   "cell_type": "markdown",
   "metadata": {},
   "source": [
    "## Read in asthma data\n"
   ]
  },
  {
   "cell_type": "code",
   "execution_count": null,
   "metadata": {
    "collapsed": false
   },
   "outputs": [],
   "source": [
    "slc_asthma = pd.read_excel(os.path.join(DATADIR, 'Asthma_SLC.xlsx'))\n",
    "print(type(slc_asthma[\"Day\"][0]))\n",
    "slc_asthma.head()"
   ]
  },
  {
   "cell_type": "markdown",
   "metadata": {},
   "source": [
    "## Read in weather data"
   ]
  },
  {
   "cell_type": "code",
   "execution_count": null,
   "metadata": {
    "collapsed": false
   },
   "outputs": [],
   "source": [
    "slc_weather = pd.read_excel(os.path.join(DATADIR, 'SLC_Weather_2016.xlsx'))\n",
    "slc_weather.head()"
   ]
  },
  {
   "cell_type": "code",
   "execution_count": null,
   "metadata": {
    "collapsed": false
   },
   "outputs": [],
   "source": [
    "slc_weather = pd.read_excel(os.path.join(DATADIR, 'SLC_Weather_2016.xlsx'), skiprows=[1])\n",
    "slc_weather.head()"
   ]
  },
  {
   "cell_type": "code",
   "execution_count": null,
   "metadata": {
    "collapsed": false
   },
   "outputs": [],
   "source": [
    "slc_weather.columns"
   ]
  },
  {
   "cell_type": "code",
   "execution_count": null,
   "metadata": {
    "collapsed": false
   },
   "outputs": [],
   "source": [
    "slc_weather['Day'][0]"
   ]
  },
  {
   "cell_type": "markdown",
   "metadata": {},
   "source": [
    "## Our Weather and Asthma Data Have Resolution of Days\n",
    "## Our pollutant data has resolution of hours\n",
    "## Group and take mean?"
   ]
  },
  {
   "cell_type": "code",
   "execution_count": null,
   "metadata": {
    "collapsed": false
   },
   "outputs": [],
   "source": [
    "slc.groupby(\"Date Local\", as_index=False).aggregate(np.mean)"
   ]
  },
  {
   "cell_type": "markdown",
   "metadata": {},
   "source": [
    "### Group and take sum?"
   ]
  },
  {
   "cell_type": "code",
   "execution_count": null,
   "metadata": {
    "collapsed": false
   },
   "outputs": [],
   "source": [
    "slc.groupby(\"Date Local\", as_index=False).aggregate(np.sum)"
   ]
  },
  {
   "cell_type": "markdown",
   "metadata": {},
   "source": [
    "### Applying different functions to different columns"
   ]
  },
  {
   "cell_type": "code",
   "execution_count": null,
   "metadata": {
    "collapsed": false
   },
   "outputs": [],
   "source": [
    "slc_day = slc.groupby([\"Date Local\", \"Site Num\"], as_index=False).aggregate({'Sample Measurement' : np.mean,\n",
    "                                                                   'MDL': np.median})\n",
    "slc_day.head()"
   ]
  },
  {
   "cell_type": "code",
   "execution_count": null,
   "metadata": {
    "collapsed": false
   },
   "outputs": [],
   "source": [
    "slc_day_all = slc_day.merge(slc_asthma, \n",
    "              left_on=\"Date Local\", \n",
    "              right_on=\"Day\").merge(slc_weather, left_on=\"Date Local\", right_on=\"Day\")\n",
    "slc_day_all.head()"
   ]
  },
  {
   "cell_type": "code",
   "execution_count": null,
   "metadata": {
    "collapsed": false
   },
   "outputs": [],
   "source": [
    "f, ax1 = plt.subplots(1)\n",
    "slc_day_all[slc_day_all[\"Site Num\"]==3006].plot(x=\"Date Local\", \n",
    "                                                y=\"Number of Asthma Diagnosis\", ax=ax1)\n",
    "slc_day_all[slc_day_all[\"Site Num\"]==3006].plot(secondary_y=True, x=\"Date Local\", \n",
    "                                                y=\"Sample Measurement\", ax=ax1)"
   ]
  },
  {
   "cell_type": "code",
   "execution_count": null,
   "metadata": {
    "collapsed": false
   },
   "outputs": [],
   "source": [
    "f, ax1 = plt.subplots(1)\n",
    "slc_day_all[slc_day_all[\"Site Num\"]!=3006].plot(x=\"Date Local\", \n",
    "                                                y=\"Number of Asthma Diagnosis\", ax=ax1)\n",
    "slc_day_all[slc_day_all[\"Site Num\"]!=3006].plot(secondary_y=True, x=\"Date Local\", \n",
    "                                                y=\"Sample Measurement\", ax=ax1)"
   ]
  },
  {
   "cell_type": "code",
   "execution_count": null,
   "metadata": {
    "collapsed": false
   },
   "outputs": [],
   "source": [
    "slc_day_all[slc_day_all[\"Site Num\"]==3006].plot.scatter(x=\"Sample Measurement\", y=\"Number of Asthma Diagnosis\")"
   ]
  },
  {
   "cell_type": "markdown",
   "metadata": {},
   "source": [
    "### Rename columns to eliminate spaces"
   ]
  },
  {
   "cell_type": "code",
   "execution_count": null,
   "metadata": {
    "collapsed": false
   },
   "outputs": [],
   "source": [
    "{c:c.replace(\" \", \"_\") for c in slc_day_all.columns}"
   ]
  },
  {
   "cell_type": "code",
   "execution_count": null,
   "metadata": {
    "collapsed": false
   },
   "outputs": [],
   "source": [
    "slc_final = slc_day_all.rename(columns={c:c.replace(\" \", \"_\") for c in slc_day_all.columns})"
   ]
  },
  {
   "cell_type": "markdown",
   "metadata": {},
   "source": [
    "## Creating a Regression Model"
   ]
  },
  {
   "cell_type": "code",
   "execution_count": null,
   "metadata": {
    "collapsed": false
   },
   "outputs": [],
   "source": [
    "sns.regplot(data=slc_final, x=\"Sample_Measurement\", y=\"Number_of_Asthma_Diagnosis\")"
   ]
  },
  {
   "cell_type": "code",
   "execution_count": null,
   "metadata": {
    "collapsed": false
   },
   "outputs": [],
   "source": [
    "y, X = dmatrices('Number_of_Asthma_Diagnosis ~ Sample_Measurement + High', data=slc_final, return_type='dataframe')"
   ]
  },
  {
   "cell_type": "code",
   "execution_count": null,
   "metadata": {
    "collapsed": false
   },
   "outputs": [],
   "source": [
    "mod = sm.OLS(y, X)\n",
    "res = mod.fit()\n",
    "print(res.summary())"
   ]
  },
  {
   "cell_type": "code",
   "execution_count": null,
   "metadata": {
    "collapsed": false
   },
   "outputs": [],
   "source": [
    "sm.stats.linear_rainbow(res)"
   ]
  },
  {
   "cell_type": "code",
   "execution_count": null,
   "metadata": {
    "collapsed": false
   },
   "outputs": [],
   "source": [
    "sm.graphics.plot_partregress('Number_of_Asthma_Diagnosis', 'Sample_Measurement', ['High', \"Low\"],\n",
    "                              data=slc_final, obs_labels=False)"
   ]
  },
  {
   "cell_type": "code",
   "execution_count": null,
   "metadata": {
    "collapsed": true
   },
   "outputs": [],
   "source": []
  }
 ],
 "metadata": {
  "kernelspec": {
   "display_name": "Python 3",
   "language": "python",
   "name": "python3"
  },
  "language_info": {
   "codemirror_mode": {
    "name": "ipython",
    "version": 3
   },
   "file_extension": ".py",
   "mimetype": "text/x-python",
   "name": "python",
   "nbconvert_exporter": "python",
   "pygments_lexer": "ipython3",
   "version": "3.5.2"
  },
  "widgets": {
   "state": {},
   "version": "1.1.2"
  }
 },
 "nbformat": 4,
 "nbformat_minor": 0
}
